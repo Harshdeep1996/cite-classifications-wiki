{
 "cells": [
  {
   "cell_type": "markdown",
   "metadata": {},
   "source": [
    "## Loading the curated citations dataset and do processing"
   ]
  },
  {
   "cell_type": "code",
   "execution_count": 12,
   "metadata": {},
   "outputs": [],
   "source": [
    "# All imports\n",
    "import glob\n",
    "import json\n",
    "import numpy as np\n",
    "import pandas as pd\n",
    "import matplotlib.pyplot as plt\n",
    "from matplotlib.pyplot import figure\n",
    "from scripts.const import CITATION_TEMPLATES\n",
    "from pyspark.sql.functions import when, isnan, col, count\n",
    "\n",
    "import findspark\n",
    "findspark.init('/Users/harshdeep/Downloads/spark-2.4.3-bin-hadoop2.7/')\n",
    "from pyspark import SparkContext, SQLContext\n",
    "\n",
    "\n",
    "import warnings\n",
    "warnings.filterwarnings(\"ignore\")"
   ]
  },
  {
   "cell_type": "markdown",
   "metadata": {},
   "source": [
    "### Load the citations (extracted) parquet file with 21 million citations"
   ]
  },
  {
   "cell_type": "code",
   "execution_count": 13,
   "metadata": {},
   "outputs": [],
   "source": [
    "sc = SparkContext()\n",
    "sqlContext = SQLContext(sc)"
   ]
  },
  {
   "cell_type": "code",
   "execution_count": 14,
   "metadata": {},
   "outputs": [],
   "source": [
    "all_citations = sqlContext.read.parquet('data/citations_separated.parquet/')"
   ]
  },
  {
   "cell_type": "code",
   "execution_count": 15,
   "metadata": {},
   "outputs": [],
   "source": [
    "# Get citation count for all the 25 citations which can be parsed\n",
    "citation_count = all_citations.groupby('type_of_citation').count().toPandas()"
   ]
  },
  {
   "cell_type": "code",
   "execution_count": 17,
   "metadata": {},
   "outputs": [
    {
     "data": {
      "text/plain": [
       "35"
      ]
     },
     "execution_count": 17,
     "metadata": {},
     "output_type": "execute_result"
    }
   ],
   "source": [
    "len(citation_count['type_of_citation'].unique())"
   ]
  },
  {
   "cell_type": "code",
   "execution_count": 40,
   "metadata": {},
   "outputs": [],
   "source": [
    "# Count the number of values which are null for each column\n",
    "number_of_values_with_null = all_citations.select([\n",
    "    count(when(isnan(c) | col(c).isNull(), c)).alias(c) for c in all_citations.columns]).toPandas()"
   ]
  },
  {
   "cell_type": "code",
   "execution_count": 84,
   "metadata": {},
   "outputs": [
    {
     "data": {
      "text/plain": [
       "AccessDate          True\n",
       "Chapter             True\n",
       "Chron               True\n",
       "City                True\n",
       "Degree              True\n",
       "Edition             True\n",
       "Encyclopedia        True\n",
       "Format              True\n",
       "ID_list             True\n",
       "Issue               True\n",
       "Pages               True\n",
       "PublicationPlace    True\n",
       "Series              True\n",
       "TitleType           True\n",
       "Volume              True\n",
       "Name: 0, dtype: bool"
      ]
     },
     "execution_count": 84,
     "metadata": {},
     "output_type": "execute_result"
    }
   ],
   "source": [
    "null_over_sixty_percent = ((number_of_values_with_null / citation_count['count'].sum()) * 100).iloc[0] > 60\n",
    "null_over_sixty_percent[null_over_sixty_percent == True]"
   ]
  },
  {
   "cell_type": "markdown",
   "metadata": {},
   "source": [
    "### Get the top 300 templates (according to DLAB) and compare it with the number of citations we have got"
   ]
  },
  {
   "cell_type": "code",
   "execution_count": 19,
   "metadata": {},
   "outputs": [],
   "source": [
    "top300_templates = pd.read_csv('top300_templates.csv')"
   ]
  },
  {
   "cell_type": "code",
   "execution_count": 20,
   "metadata": {},
   "outputs": [],
   "source": [
    "# Only consider the templates which can be parsed by mwparserfromhell\n",
    "parseable_template_count = top300_templates.loc[top300_templates['template'].isin(CITATION_TEMPLATES)]"
   ]
  },
  {
   "cell_type": "code",
   "execution_count": 21,
   "metadata": {},
   "outputs": [],
   "source": [
    "merged_counts = pd.merge(\n",
    "    parseable_template_count, citation_count,\n",
    "    left_on='template', right_on='type_of_citation', how='inner'\n",
    ").drop('template', axis=1)\n",
    "\n",
    "merged_counts.columns = ['dlab_count', 'type_of_citation', 'curated_count']"
   ]
  },
  {
   "cell_type": "code",
   "execution_count": 24,
   "metadata": {},
   "outputs": [
    {
     "data": {
      "text/plain": [
       "23170445"
      ]
     },
     "execution_count": 24,
     "metadata": {},
     "output_type": "execute_result"
    }
   ],
   "source": [
    "merged_counts['curated_count'].sum()"
   ]
  },
  {
   "cell_type": "code",
   "execution_count": 22,
   "metadata": {},
   "outputs": [
    {
     "data": {
      "text/html": [
       "<div>\n",
       "<style scoped>\n",
       "    .dataframe tbody tr th:only-of-type {\n",
       "        vertical-align: middle;\n",
       "    }\n",
       "\n",
       "    .dataframe tbody tr th {\n",
       "        vertical-align: top;\n",
       "    }\n",
       "\n",
       "    .dataframe thead th {\n",
       "        text-align: right;\n",
       "    }\n",
       "</style>\n",
       "<table border=\"1\" class=\"dataframe\">\n",
       "  <thead>\n",
       "    <tr style=\"text-align: right;\">\n",
       "      <th></th>\n",
       "      <th>dlab_count</th>\n",
       "      <th>type_of_citation</th>\n",
       "      <th>curated_count</th>\n",
       "      <th>bigger_than</th>\n",
       "    </tr>\n",
       "  </thead>\n",
       "  <tbody>\n",
       "    <tr>\n",
       "      <th>0</th>\n",
       "      <td>13340076</td>\n",
       "      <td>cite web</td>\n",
       "      <td>13971631</td>\n",
       "      <td>631555</td>\n",
       "    </tr>\n",
       "    <tr>\n",
       "      <th>1</th>\n",
       "      <td>4003325</td>\n",
       "      <td>cite news</td>\n",
       "      <td>4099397</td>\n",
       "      <td>96072</td>\n",
       "    </tr>\n",
       "    <tr>\n",
       "      <th>2</th>\n",
       "      <td>1765330</td>\n",
       "      <td>cite book</td>\n",
       "      <td>2573371</td>\n",
       "      <td>808041</td>\n",
       "    </tr>\n",
       "    <tr>\n",
       "      <th>3</th>\n",
       "      <td>1413205</td>\n",
       "      <td>cite journal</td>\n",
       "      <td>1747097</td>\n",
       "      <td>333892</td>\n",
       "    </tr>\n",
       "    <tr>\n",
       "      <th>4</th>\n",
       "      <td>304742</td>\n",
       "      <td>citation</td>\n",
       "      <td>484974</td>\n",
       "      <td>180232</td>\n",
       "    </tr>\n",
       "    <tr>\n",
       "      <th>5</th>\n",
       "      <td>62177</td>\n",
       "      <td>cite press release</td>\n",
       "      <td>61998</td>\n",
       "      <td>-179</td>\n",
       "    </tr>\n",
       "    <tr>\n",
       "      <th>6</th>\n",
       "      <td>39439</td>\n",
       "      <td>cite episode</td>\n",
       "      <td>40203</td>\n",
       "      <td>764</td>\n",
       "    </tr>\n",
       "    <tr>\n",
       "      <th>7</th>\n",
       "      <td>34989</td>\n",
       "      <td>cite map</td>\n",
       "      <td>35402</td>\n",
       "      <td>413</td>\n",
       "    </tr>\n",
       "    <tr>\n",
       "      <th>8</th>\n",
       "      <td>33637</td>\n",
       "      <td>cite encyclopedia</td>\n",
       "      <td>43864</td>\n",
       "      <td>10227</td>\n",
       "    </tr>\n",
       "    <tr>\n",
       "      <th>9</th>\n",
       "      <td>32269</td>\n",
       "      <td>cite report</td>\n",
       "      <td>35374</td>\n",
       "      <td>3105</td>\n",
       "    </tr>\n",
       "    <tr>\n",
       "      <th>10</th>\n",
       "      <td>23970</td>\n",
       "      <td>cite av media notes</td>\n",
       "      <td>25340</td>\n",
       "      <td>1370</td>\n",
       "    </tr>\n",
       "    <tr>\n",
       "      <th>11</th>\n",
       "      <td>17349</td>\n",
       "      <td>cite av media</td>\n",
       "      <td>19010</td>\n",
       "      <td>1661</td>\n",
       "    </tr>\n",
       "    <tr>\n",
       "      <th>12</th>\n",
       "      <td>8861</td>\n",
       "      <td>cite conference</td>\n",
       "      <td>9187</td>\n",
       "      <td>326</td>\n",
       "    </tr>\n",
       "    <tr>\n",
       "      <th>13</th>\n",
       "      <td>5728</td>\n",
       "      <td>cite thesis</td>\n",
       "      <td>8958</td>\n",
       "      <td>3230</td>\n",
       "    </tr>\n",
       "    <tr>\n",
       "      <th>14</th>\n",
       "      <td>4387</td>\n",
       "      <td>cite interview</td>\n",
       "      <td>5011</td>\n",
       "      <td>624</td>\n",
       "    </tr>\n",
       "    <tr>\n",
       "      <th>15</th>\n",
       "      <td>2370</td>\n",
       "      <td>cite arxiv</td>\n",
       "      <td>2951</td>\n",
       "      <td>581</td>\n",
       "    </tr>\n",
       "    <tr>\n",
       "      <th>16</th>\n",
       "      <td>1290</td>\n",
       "      <td>cite podcast</td>\n",
       "      <td>1334</td>\n",
       "      <td>44</td>\n",
       "    </tr>\n",
       "    <tr>\n",
       "      <th>17</th>\n",
       "      <td>1024</td>\n",
       "      <td>cite mailing list</td>\n",
       "      <td>955</td>\n",
       "      <td>-69</td>\n",
       "    </tr>\n",
       "    <tr>\n",
       "      <th>18</th>\n",
       "      <td>971</td>\n",
       "      <td>cite techreport</td>\n",
       "      <td>1082</td>\n",
       "      <td>111</td>\n",
       "    </tr>\n",
       "    <tr>\n",
       "      <th>19</th>\n",
       "      <td>819</td>\n",
       "      <td>cite serial</td>\n",
       "      <td>819</td>\n",
       "      <td>0</td>\n",
       "    </tr>\n",
       "    <tr>\n",
       "      <th>20</th>\n",
       "      <td>687</td>\n",
       "      <td>cite sign</td>\n",
       "      <td>710</td>\n",
       "      <td>23</td>\n",
       "    </tr>\n",
       "    <tr>\n",
       "      <th>21</th>\n",
       "      <td>639</td>\n",
       "      <td>cite speech</td>\n",
       "      <td>758</td>\n",
       "      <td>119</td>\n",
       "    </tr>\n",
       "    <tr>\n",
       "      <th>22</th>\n",
       "      <td>616</td>\n",
       "      <td>cite newsgroup</td>\n",
       "      <td>526</td>\n",
       "      <td>-90</td>\n",
       "    </tr>\n",
       "    <tr>\n",
       "      <th>23</th>\n",
       "      <td>489</td>\n",
       "      <td>cite dvd notes</td>\n",
       "      <td>493</td>\n",
       "      <td>4</td>\n",
       "    </tr>\n",
       "  </tbody>\n",
       "</table>\n",
       "</div>"
      ],
      "text/plain": [
       "    dlab_count     type_of_citation  curated_count  bigger_than\n",
       "0     13340076             cite web       13971631       631555\n",
       "1      4003325            cite news        4099397        96072\n",
       "2      1765330            cite book        2573371       808041\n",
       "3      1413205         cite journal        1747097       333892\n",
       "4       304742             citation         484974       180232\n",
       "5        62177   cite press release          61998         -179\n",
       "6        39439         cite episode          40203          764\n",
       "7        34989             cite map          35402          413\n",
       "8        33637    cite encyclopedia          43864        10227\n",
       "9        32269          cite report          35374         3105\n",
       "10       23970  cite av media notes          25340         1370\n",
       "11       17349        cite av media          19010         1661\n",
       "12        8861      cite conference           9187          326\n",
       "13        5728          cite thesis           8958         3230\n",
       "14        4387       cite interview           5011          624\n",
       "15        2370           cite arxiv           2951          581\n",
       "16        1290         cite podcast           1334           44\n",
       "17        1024    cite mailing list            955          -69\n",
       "18         971      cite techreport           1082          111\n",
       "19         819          cite serial            819            0\n",
       "20         687            cite sign            710           23\n",
       "21         639          cite speech            758          119\n",
       "22         616       cite newsgroup            526          -90\n",
       "23         489       cite dvd notes            493            4"
      ]
     },
     "execution_count": 22,
     "metadata": {},
     "output_type": "execute_result"
    }
   ],
   "source": [
    "merged_counts['bigger_than'] = merged_counts['curated_count'] - merged_counts['dlab_count']\n",
    "merged_counts"
   ]
  },
  {
   "cell_type": "code",
   "execution_count": 10,
   "metadata": {},
   "outputs": [],
   "source": [
    "# Load all csv files and add them into one dataframe\n",
    "files = glob.glob('data/citations_ids.csv/part-*')\n",
    "citation_dataframes = [pd.read_csv(f, header=None, sep=',') for f in files]\n",
    "citation_with_ids = pd.concat(citation_dataframes, ignore_index=True)"
   ]
  },
  {
   "cell_type": "code",
   "execution_count": 11,
   "metadata": {},
   "outputs": [
    {
     "name": "stdout",
     "output_type": "stream",
     "text": [
      "(3147372, 9)\n"
     ]
    }
   ],
   "source": [
    "print(citation_with_ids.shape)\n",
    "total_citations = citation_with_ids.shape[0]"
   ]
  },
  {
   "cell_type": "code",
   "execution_count": 12,
   "metadata": {},
   "outputs": [
    {
     "data": {
      "text/html": [
       "<div>\n",
       "<style scoped>\n",
       "    .dataframe tbody tr th:only-of-type {\n",
       "        vertical-align: middle;\n",
       "    }\n",
       "\n",
       "    .dataframe tbody tr th {\n",
       "        vertical-align: top;\n",
       "    }\n",
       "\n",
       "    .dataframe thead th {\n",
       "        text-align: right;\n",
       "    }\n",
       "</style>\n",
       "<table border=\"1\" class=\"dataframe\">\n",
       "  <thead>\n",
       "    <tr style=\"text-align: right;\">\n",
       "      <th></th>\n",
       "      <th>0</th>\n",
       "      <th>1</th>\n",
       "      <th>2</th>\n",
       "      <th>3</th>\n",
       "      <th>4</th>\n",
       "      <th>5</th>\n",
       "      <th>6</th>\n",
       "      <th>7</th>\n",
       "      <th>8</th>\n",
       "    </tr>\n",
       "  </thead>\n",
       "  <tbody>\n",
       "    <tr>\n",
       "      <th>0</th>\n",
       "      <td>1831197</td>\n",
       "      <td>Ray Sharkey</td>\n",
       "      <td>u'{{cite journal|last=Gliatto|first=Tom|date=J...</td>\n",
       "      <td>{ISSN=0093-7673}</td>\n",
       "      <td>[{last=Gliatto, first=Tom}]</td>\n",
       "      <td>Fatal Deceit</td>\n",
       "      <td>cite journal</td>\n",
       "      <td>NaN</td>\n",
       "      <td>Initial Section</td>\n",
       "    </tr>\n",
       "    <tr>\n",
       "      <th>1</th>\n",
       "      <td>1831220</td>\n",
       "      <td>Protamine sulfate</td>\n",
       "      <td>u'{{cite book|title=WHO Model Formulary 2008|d...</td>\n",
       "      <td>{ISBN=9789241547659}</td>\n",
       "      <td>NaN</td>\n",
       "      <td>WHO Model Formulary 2008</td>\n",
       "      <td>cite book</td>\n",
       "      <td>World Health Organization</td>\n",
       "      <td>Initial Section</td>\n",
       "    </tr>\n",
       "    <tr>\n",
       "      <th>2</th>\n",
       "      <td>1831220</td>\n",
       "      <td>Protamine sulfate</td>\n",
       "      <td>u'{{cite journal | author= Kenneth Cornetta | ...</td>\n",
       "      <td>{PMID=2786000, DOI=10.1016/0166-0934(89)90132-8}</td>\n",
       "      <td>[{last=Kenneth Cornetta}, {last=W.French Ander...</td>\n",
       "      <td>Protamine sulfate as an effective alternative ...</td>\n",
       "      <td>cite journal</td>\n",
       "      <td>NaN</td>\n",
       "      <td>Initial Section</td>\n",
       "    </tr>\n",
       "    <tr>\n",
       "      <th>3</th>\n",
       "      <td>1831220</td>\n",
       "      <td>Protamine sulfate</td>\n",
       "      <td>u'{{cite journal|last=Sorgi|first=FL|author2=B...</td>\n",
       "      <td>{PMID=9349433, DOI=10.1038/sj.gt.3300484}</td>\n",
       "      <td>[{last=Sorgi, first=FL}, {last=Bhattacharya, S...</td>\n",
       "      <td>Protamine sulfate enhances lipid-mediated gene...</td>\n",
       "      <td>cite journal</td>\n",
       "      <td>NaN</td>\n",
       "      <td>Initial Section</td>\n",
       "    </tr>\n",
       "    <tr>\n",
       "      <th>4</th>\n",
       "      <td>1831220</td>\n",
       "      <td>Protamine sulfate</td>\n",
       "      <td>u'{{cite journal|last=Walker|first=WS|author2=...</td>\n",
       "      <td>{PMID=6743419, PMC=481594, DOI=10.1136/hrt.52....</td>\n",
       "      <td>[{last=Walker, first=WS}, {last=Reid, KG}, {la...</td>\n",
       "      <td>Successful cardiopulmonary bypass in diabetics...</td>\n",
       "      <td>cite journal</td>\n",
       "      <td>NaN</td>\n",
       "      <td>Initial Section</td>\n",
       "    </tr>\n",
       "  </tbody>\n",
       "</table>\n",
       "</div>"
      ],
      "text/plain": [
       "         0                  1  \\\n",
       "0  1831197        Ray Sharkey   \n",
       "1  1831220  Protamine sulfate   \n",
       "2  1831220  Protamine sulfate   \n",
       "3  1831220  Protamine sulfate   \n",
       "4  1831220  Protamine sulfate   \n",
       "\n",
       "                                                   2  \\\n",
       "0  u'{{cite journal|last=Gliatto|first=Tom|date=J...   \n",
       "1  u'{{cite book|title=WHO Model Formulary 2008|d...   \n",
       "2  u'{{cite journal | author= Kenneth Cornetta | ...   \n",
       "3  u'{{cite journal|last=Sorgi|first=FL|author2=B...   \n",
       "4  u'{{cite journal|last=Walker|first=WS|author2=...   \n",
       "\n",
       "                                                   3  \\\n",
       "0                                   {ISSN=0093-7673}   \n",
       "1                               {ISBN=9789241547659}   \n",
       "2   {PMID=2786000, DOI=10.1016/0166-0934(89)90132-8}   \n",
       "3          {PMID=9349433, DOI=10.1038/sj.gt.3300484}   \n",
       "4  {PMID=6743419, PMC=481594, DOI=10.1136/hrt.52....   \n",
       "\n",
       "                                                   4  \\\n",
       "0                        [{last=Gliatto, first=Tom}]   \n",
       "1                                                NaN   \n",
       "2  [{last=Kenneth Cornetta}, {last=W.French Ander...   \n",
       "3  [{last=Sorgi, first=FL}, {last=Bhattacharya, S...   \n",
       "4  [{last=Walker, first=WS}, {last=Reid, KG}, {la...   \n",
       "\n",
       "                                                   5             6  \\\n",
       "0                                       Fatal Deceit  cite journal   \n",
       "1                           WHO Model Formulary 2008     cite book   \n",
       "2  Protamine sulfate as an effective alternative ...  cite journal   \n",
       "3  Protamine sulfate enhances lipid-mediated gene...  cite journal   \n",
       "4  Successful cardiopulmonary bypass in diabetics...  cite journal   \n",
       "\n",
       "                           7                8  \n",
       "0                        NaN  Initial Section  \n",
       "1  World Health Organization  Initial Section  \n",
       "2                        NaN  Initial Section  \n",
       "3                        NaN  Initial Section  \n",
       "4                        NaN  Initial Section  "
      ]
     },
     "execution_count": 12,
     "metadata": {},
     "output_type": "execute_result"
    }
   ],
   "source": [
    "citation_with_ids.head()"
   ]
  },
  {
   "cell_type": "code",
   "execution_count": 14,
   "metadata": {},
   "outputs": [],
   "source": [
    "citation_with_ids.columns = [\n",
    "    'id', 'page_title', 'citation', 'id_list', 'authors',\n",
    "    'citation_title', 'citation_type', 'publisher_name', 'sections'\n",
    "]"
   ]
  },
  {
   "cell_type": "code",
   "execution_count": 15,
   "metadata": {},
   "outputs": [
    {
     "data": {
      "text/plain": [
       "id                100.000000\n",
       "page_title         99.999936\n",
       "citation          100.000000\n",
       "id_list           100.000000\n",
       "authors            92.977157\n",
       "citation_title     99.881234\n",
       "citation_type     100.000000\n",
       "publisher_name     59.421066\n",
       "sections           99.999936\n",
       "dtype: float64"
      ]
     },
     "execution_count": 15,
     "metadata": {},
     "output_type": "execute_result"
    }
   ],
   "source": [
    "# Percentage of values present for title of page, title of citation and authors\n",
    "(citation_with_ids.count() * 100) / total_citations"
   ]
  },
  {
   "cell_type": "code",
   "execution_count": 16,
   "metadata": {},
   "outputs": [
    {
     "data": {
      "text/plain": [
       "citation_type\n",
       "citation                145170\n",
       "cite arxiv                1626\n",
       "cite av media              878\n",
       "cite av media notes        125\n",
       "cite book              1698507\n",
       "cite conference           2475\n",
       "cite dvd notes              10\n",
       "cite encyclopedia        12449\n",
       "cite episode                18\n",
       "cite interview              33\n",
       "cite journal           1212066\n",
       "cite mailing list            1\n",
       "cite map                  3518\n",
       "cite news                51927\n",
       "cite newsgroup             267\n",
       "cite press release          13\n",
       "cite report                694\n",
       "cite serial                  7\n",
       "cite sign                    2\n",
       "cite speech                 12\n",
       "cite techreport             49\n",
       "cite thesis               2292\n",
       "cite web                 15228\n",
       "harvnb                       5\n",
       "dtype: int64"
      ]
     },
     "execution_count": 16,
     "metadata": {},
     "output_type": "execute_result"
    }
   ],
   "source": [
    "citation_with_ids.groupby('citation_type').size()"
   ]
  },
  {
   "cell_type": "code",
   "execution_count": 17,
   "metadata": {},
   "outputs": [],
   "source": [
    "# Formulate a structure for the ID_List in which we can do something meaningful\n",
    "citation_with_ids['id_list'] = citation_with_ids['id_list'].apply(\n",
    "    lambda x: list(item.split('=') for item in x.replace('{','').replace('}','').replace(' ', '').split(','))\n",
    ")"
   ]
  },
  {
   "cell_type": "code",
   "execution_count": 18,
   "metadata": {},
   "outputs": [],
   "source": [
    "# Get the kinds of ids associated with each tuple\n",
    "kinds_of_ids = set()\n",
    "def update_ids(x):\n",
    "    for item in x:\n",
    "        kinds_of_ids.add(item[0])\n",
    "\n",
    "_ = citation_with_ids['id_list'].apply(lambda x: update_ids(x))\n",
    "\n",
    "# Add the columns with NoneType in the previous DF\n",
    "for id_ in kinds_of_ids:\n",
    "    citation_with_ids[id_] = None"
   ]
  },
  {
   "cell_type": "code",
   "execution_count": 19,
   "metadata": {},
   "outputs": [
    {
     "name": "stdout",
     "output_type": "stream",
     "text": [
      "Total kind of Citation IDs: 51\n"
     ]
    }
   ],
   "source": [
    "print('Total kind of Citation IDs: {}'.format(len(kinds_of_ids)))"
   ]
  },
  {
   "cell_type": "code",
   "execution_count": 20,
   "metadata": {},
   "outputs": [],
   "source": [
    "# Set the value of identifiers for each column, for e.g. DOI, ISBN etc.\n",
    "def set_citation_val(x):\n",
    "    for item in x['id_list']:\n",
    "        citation_with_ids.at[x.name, item[0]] = item[1] if len(item) >= 2 else None\n",
    "\n",
    "_ = citation_with_ids.apply(lambda x: set_citation_val(x), axis=1)"
   ]
  },
  {
   "cell_type": "code",
   "execution_count": 21,
   "metadata": {},
   "outputs": [
    {
     "data": {
      "text/html": [
       "<div>\n",
       "<style scoped>\n",
       "    .dataframe tbody tr th:only-of-type {\n",
       "        vertical-align: middle;\n",
       "    }\n",
       "\n",
       "    .dataframe tbody tr th {\n",
       "        vertical-align: top;\n",
       "    }\n",
       "\n",
       "    .dataframe thead th {\n",
       "        text-align: right;\n",
       "    }\n",
       "</style>\n",
       "<table border=\"1\" class=\"dataframe\">\n",
       "  <thead>\n",
       "    <tr style=\"text-align: right;\">\n",
       "      <th></th>\n",
       "      <th>id</th>\n",
       "      <th>page_title</th>\n",
       "      <th>citation</th>\n",
       "      <th>id_list</th>\n",
       "      <th>authors</th>\n",
       "      <th>citation_title</th>\n",
       "      <th>citation_type</th>\n",
       "      <th>publisher_name</th>\n",
       "      <th>sections</th>\n",
       "      <th>+bronwen+w.&amp;site</th>\n",
       "      <th>...</th>\n",
       "      <th>Vol.59</th>\n",
       "      <th>PMID</th>\n",
       "      <th>+lin</th>\n",
       "      <th>No.3(Summer</th>\n",
       "      <th>+david+w.</th>\n",
       "      <th>NewMexico</th>\n",
       "      <th>ISMN</th>\n",
       "      <th>9780896082755</th>\n",
       "      <th>ZBL</th>\n",
       "      <th>DOI</th>\n",
       "    </tr>\n",
       "  </thead>\n",
       "  <tbody>\n",
       "    <tr>\n",
       "      <th>0</th>\n",
       "      <td>1831197</td>\n",
       "      <td>Ray Sharkey</td>\n",
       "      <td>u'{{cite journal|last=Gliatto|first=Tom|date=J...</td>\n",
       "      <td>[[ISSN, 0093-7673]]</td>\n",
       "      <td>[{last=Gliatto, first=Tom}]</td>\n",
       "      <td>Fatal Deceit</td>\n",
       "      <td>cite journal</td>\n",
       "      <td>NaN</td>\n",
       "      <td>Initial Section</td>\n",
       "      <td>None</td>\n",
       "      <td>...</td>\n",
       "      <td>None</td>\n",
       "      <td>None</td>\n",
       "      <td>None</td>\n",
       "      <td>None</td>\n",
       "      <td>None</td>\n",
       "      <td>None</td>\n",
       "      <td>None</td>\n",
       "      <td>None</td>\n",
       "      <td>None</td>\n",
       "      <td>None</td>\n",
       "    </tr>\n",
       "    <tr>\n",
       "      <th>1</th>\n",
       "      <td>1831220</td>\n",
       "      <td>Protamine sulfate</td>\n",
       "      <td>u'{{cite book|title=WHO Model Formulary 2008|d...</td>\n",
       "      <td>[[ISBN, 9789241547659]]</td>\n",
       "      <td>NaN</td>\n",
       "      <td>WHO Model Formulary 2008</td>\n",
       "      <td>cite book</td>\n",
       "      <td>World Health Organization</td>\n",
       "      <td>Initial Section</td>\n",
       "      <td>None</td>\n",
       "      <td>...</td>\n",
       "      <td>None</td>\n",
       "      <td>None</td>\n",
       "      <td>None</td>\n",
       "      <td>None</td>\n",
       "      <td>None</td>\n",
       "      <td>None</td>\n",
       "      <td>None</td>\n",
       "      <td>None</td>\n",
       "      <td>None</td>\n",
       "      <td>None</td>\n",
       "    </tr>\n",
       "    <tr>\n",
       "      <th>2</th>\n",
       "      <td>1831220</td>\n",
       "      <td>Protamine sulfate</td>\n",
       "      <td>u'{{cite journal | author= Kenneth Cornetta | ...</td>\n",
       "      <td>[[PMID, 2786000], [DOI, 10.1016/0166-0934(89)9...</td>\n",
       "      <td>[{last=Kenneth Cornetta}, {last=W.French Ander...</td>\n",
       "      <td>Protamine sulfate as an effective alternative ...</td>\n",
       "      <td>cite journal</td>\n",
       "      <td>NaN</td>\n",
       "      <td>Initial Section</td>\n",
       "      <td>None</td>\n",
       "      <td>...</td>\n",
       "      <td>None</td>\n",
       "      <td>2786000</td>\n",
       "      <td>None</td>\n",
       "      <td>None</td>\n",
       "      <td>None</td>\n",
       "      <td>None</td>\n",
       "      <td>None</td>\n",
       "      <td>None</td>\n",
       "      <td>None</td>\n",
       "      <td>10.1016/0166-0934(89)90132-8</td>\n",
       "    </tr>\n",
       "    <tr>\n",
       "      <th>3</th>\n",
       "      <td>1831220</td>\n",
       "      <td>Protamine sulfate</td>\n",
       "      <td>u'{{cite journal|last=Sorgi|first=FL|author2=B...</td>\n",
       "      <td>[[PMID, 9349433], [DOI, 10.1038/sj.gt.3300484]]</td>\n",
       "      <td>[{last=Sorgi, first=FL}, {last=Bhattacharya, S...</td>\n",
       "      <td>Protamine sulfate enhances lipid-mediated gene...</td>\n",
       "      <td>cite journal</td>\n",
       "      <td>NaN</td>\n",
       "      <td>Initial Section</td>\n",
       "      <td>None</td>\n",
       "      <td>...</td>\n",
       "      <td>None</td>\n",
       "      <td>9349433</td>\n",
       "      <td>None</td>\n",
       "      <td>None</td>\n",
       "      <td>None</td>\n",
       "      <td>None</td>\n",
       "      <td>None</td>\n",
       "      <td>None</td>\n",
       "      <td>None</td>\n",
       "      <td>10.1038/sj.gt.3300484</td>\n",
       "    </tr>\n",
       "    <tr>\n",
       "      <th>4</th>\n",
       "      <td>1831220</td>\n",
       "      <td>Protamine sulfate</td>\n",
       "      <td>u'{{cite journal|last=Walker|first=WS|author2=...</td>\n",
       "      <td>[[PMID, 6743419], [PMC, 481594], [DOI, 10.1136...</td>\n",
       "      <td>[{last=Walker, first=WS}, {last=Reid, KG}, {la...</td>\n",
       "      <td>Successful cardiopulmonary bypass in diabetics...</td>\n",
       "      <td>cite journal</td>\n",
       "      <td>NaN</td>\n",
       "      <td>Initial Section</td>\n",
       "      <td>None</td>\n",
       "      <td>...</td>\n",
       "      <td>None</td>\n",
       "      <td>6743419</td>\n",
       "      <td>None</td>\n",
       "      <td>None</td>\n",
       "      <td>None</td>\n",
       "      <td>None</td>\n",
       "      <td>None</td>\n",
       "      <td>None</td>\n",
       "      <td>None</td>\n",
       "      <td>10.1136/hrt.52.1.112</td>\n",
       "    </tr>\n",
       "  </tbody>\n",
       "</table>\n",
       "<p>5 rows × 60 columns</p>\n",
       "</div>"
      ],
      "text/plain": [
       "        id         page_title  \\\n",
       "0  1831197        Ray Sharkey   \n",
       "1  1831220  Protamine sulfate   \n",
       "2  1831220  Protamine sulfate   \n",
       "3  1831220  Protamine sulfate   \n",
       "4  1831220  Protamine sulfate   \n",
       "\n",
       "                                            citation  \\\n",
       "0  u'{{cite journal|last=Gliatto|first=Tom|date=J...   \n",
       "1  u'{{cite book|title=WHO Model Formulary 2008|d...   \n",
       "2  u'{{cite journal | author= Kenneth Cornetta | ...   \n",
       "3  u'{{cite journal|last=Sorgi|first=FL|author2=B...   \n",
       "4  u'{{cite journal|last=Walker|first=WS|author2=...   \n",
       "\n",
       "                                             id_list  \\\n",
       "0                                [[ISSN, 0093-7673]]   \n",
       "1                            [[ISBN, 9789241547659]]   \n",
       "2  [[PMID, 2786000], [DOI, 10.1016/0166-0934(89)9...   \n",
       "3    [[PMID, 9349433], [DOI, 10.1038/sj.gt.3300484]]   \n",
       "4  [[PMID, 6743419], [PMC, 481594], [DOI, 10.1136...   \n",
       "\n",
       "                                             authors  \\\n",
       "0                        [{last=Gliatto, first=Tom}]   \n",
       "1                                                NaN   \n",
       "2  [{last=Kenneth Cornetta}, {last=W.French Ander...   \n",
       "3  [{last=Sorgi, first=FL}, {last=Bhattacharya, S...   \n",
       "4  [{last=Walker, first=WS}, {last=Reid, KG}, {la...   \n",
       "\n",
       "                                      citation_title citation_type  \\\n",
       "0                                       Fatal Deceit  cite journal   \n",
       "1                           WHO Model Formulary 2008     cite book   \n",
       "2  Protamine sulfate as an effective alternative ...  cite journal   \n",
       "3  Protamine sulfate enhances lipid-mediated gene...  cite journal   \n",
       "4  Successful cardiopulmonary bypass in diabetics...  cite journal   \n",
       "\n",
       "              publisher_name         sections +bronwen+w.&site  ... Vol.59  \\\n",
       "0                        NaN  Initial Section             None  ...   None   \n",
       "1  World Health Organization  Initial Section             None  ...   None   \n",
       "2                        NaN  Initial Section             None  ...   None   \n",
       "3                        NaN  Initial Section             None  ...   None   \n",
       "4                        NaN  Initial Section             None  ...   None   \n",
       "\n",
       "      PMID  +lin No.3(Summer +david+w. NewMexico  ISMN 9780896082755   ZBL  \\\n",
       "0     None  None        None      None      None  None          None  None   \n",
       "1     None  None        None      None      None  None          None  None   \n",
       "2  2786000  None        None      None      None  None          None  None   \n",
       "3  9349433  None        None      None      None  None          None  None   \n",
       "4  6743419  None        None      None      None  None          None  None   \n",
       "\n",
       "                            DOI  \n",
       "0                          None  \n",
       "1                          None  \n",
       "2  10.1016/0166-0934(89)90132-8  \n",
       "3         10.1038/sj.gt.3300484  \n",
       "4          10.1136/hrt.52.1.112  \n",
       "\n",
       "[5 rows x 60 columns]"
      ]
     },
     "execution_count": 21,
     "metadata": {},
     "output_type": "execute_result"
    }
   ],
   "source": [
    "citation_with_ids.head()"
   ]
  },
  {
   "cell_type": "code",
   "execution_count": 22,
   "metadata": {},
   "outputs": [],
   "source": [
    "# Save the file in the Pandas format\n",
    "# citation_with_ids.to_csv('citations_with_ids.csv')"
   ]
  },
  {
   "cell_type": "markdown",
   "metadata": {},
   "source": [
    "# How robust are the `Crossref` and the `Google Books API`?"
   ]
  },
  {
   "cell_type": "code",
   "execution_count": 23,
   "metadata": {},
   "outputs": [],
   "source": [
    "# Importing the methods written in the script to access google books and cross ref apis\n",
    "from scripts.run_apis import run_google_book_get_info, run_crossref_get_info"
   ]
  },
  {
   "cell_type": "markdown",
   "metadata": {},
   "source": [
    "Let's take a few samples and query the crossref and Google books API for DOI and ISBN respectively."
   ]
  },
  {
   "cell_type": "code",
   "execution_count": 25,
   "metadata": {},
   "outputs": [],
   "source": [
    "mask_isbn_or_doi = citation_with_ids['DOI'].notnull() | citation_with_ids['ISBN'].notnull()\n",
    "\n",
    "citation_with_isbn_or_doi = citation_with_ids[mask_isbn_or_doi][['id', 'citation_title', 'ISBN', 'DOI', 'authors']]"
   ]
  },
  {
   "cell_type": "code",
   "execution_count": 26,
   "metadata": {},
   "outputs": [],
   "source": [
    "citation_with_isbn_or_doi = citation_with_isbn_or_doi.sample(n=100)"
   ]
  },
  {
   "cell_type": "code",
   "execution_count": 27,
   "metadata": {},
   "outputs": [
    {
     "data": {
      "text/html": [
       "<div>\n",
       "<style scoped>\n",
       "    .dataframe tbody tr th:only-of-type {\n",
       "        vertical-align: middle;\n",
       "    }\n",
       "\n",
       "    .dataframe tbody tr th {\n",
       "        vertical-align: top;\n",
       "    }\n",
       "\n",
       "    .dataframe thead th {\n",
       "        text-align: right;\n",
       "    }\n",
       "</style>\n",
       "<table border=\"1\" class=\"dataframe\">\n",
       "  <thead>\n",
       "    <tr style=\"text-align: right;\">\n",
       "      <th></th>\n",
       "      <th>id</th>\n",
       "      <th>citation_title</th>\n",
       "      <th>ISBN</th>\n",
       "      <th>DOI</th>\n",
       "      <th>authors</th>\n",
       "    </tr>\n",
       "  </thead>\n",
       "  <tbody>\n",
       "    <tr>\n",
       "      <th>1210830</th>\n",
       "      <td>40007181</td>\n",
       "      <td>Voices from the Odeyak</td>\n",
       "      <td>155021070X</td>\n",
       "      <td>None</td>\n",
       "      <td>[{last=Posluns, first=Michael}]</td>\n",
       "    </tr>\n",
       "    <tr>\n",
       "      <th>2265188</th>\n",
       "      <td>51501138</td>\n",
       "      <td>Brief Companions</td>\n",
       "      <td>0930841018</td>\n",
       "      <td>None</td>\n",
       "      <td>[{last=Ufema, first=Joy}]</td>\n",
       "    </tr>\n",
       "    <tr>\n",
       "      <th>1967556</th>\n",
       "      <td>31872124</td>\n",
       "      <td>Landlord power and rural indebtedness in colon...</td>\n",
       "      <td>978-0-7007-0470-5</td>\n",
       "      <td>None</td>\n",
       "      <td>[{last=Cheesman, first=David}]</td>\n",
       "    </tr>\n",
       "    <tr>\n",
       "      <th>2505191</th>\n",
       "      <td>33662</td>\n",
       "      <td>Functional analysis</td>\n",
       "      <td>978-0-07-054236-5</td>\n",
       "      <td>None</td>\n",
       "      <td>[{link=Walter Rudin, last=Rudin, first=Walter}]</td>\n",
       "    </tr>\n",
       "    <tr>\n",
       "      <th>2857153</th>\n",
       "      <td>5617</td>\n",
       "      <td>Cells infected with scrapie and Creutzfeldt\\u2...</td>\n",
       "      <td>None</td>\n",
       "      <td>10.1073/pnas.0610999104</td>\n",
       "      <td>[{last=Manuelidis, first=L}, {last=Yu, first=Z...</td>\n",
       "    </tr>\n",
       "  </tbody>\n",
       "</table>\n",
       "</div>"
      ],
      "text/plain": [
       "               id                                     citation_title  \\\n",
       "1210830  40007181                             Voices from the Odeyak   \n",
       "2265188  51501138                                   Brief Companions   \n",
       "1967556  31872124  Landlord power and rural indebtedness in colon...   \n",
       "2505191     33662                                Functional analysis   \n",
       "2857153      5617  Cells infected with scrapie and Creutzfeldt\\u2...   \n",
       "\n",
       "                      ISBN                      DOI  \\\n",
       "1210830         155021070X                     None   \n",
       "2265188         0930841018                     None   \n",
       "1967556  978-0-7007-0470-5                     None   \n",
       "2505191  978-0-07-054236-5                     None   \n",
       "2857153               None  10.1073/pnas.0610999104   \n",
       "\n",
       "                                                   authors  \n",
       "1210830                    [{last=Posluns, first=Michael}]  \n",
       "2265188                          [{last=Ufema, first=Joy}]  \n",
       "1967556                     [{last=Cheesman, first=David}]  \n",
       "2505191    [{link=Walter Rudin, last=Rudin, first=Walter}]  \n",
       "2857153  [{last=Manuelidis, first=L}, {last=Yu, first=Z...  "
      ]
     },
     "execution_count": 27,
     "metadata": {},
     "output_type": "execute_result"
    }
   ],
   "source": [
    "citation_with_isbn_or_doi.head()"
   ]
  },
  {
   "cell_type": "code",
   "execution_count": 28,
   "metadata": {},
   "outputs": [],
   "source": [
    "citation_with_isbn_or_doi['retrieved_title'] = [[] for i in citation_with_isbn_or_doi.index]\n",
    "citation_with_isbn_or_doi['retrieved_author'] = [[] for i in citation_with_isbn_or_doi.index]\n",
    "citation_with_isbn_or_doi['api_type'] = ['' for i in citation_with_isbn_or_doi.index]"
   ]
  },
  {
   "cell_type": "markdown",
   "metadata": {},
   "source": [
    "Crossref is great for DOI, but does not return a lot of information for ISBN. Google books is better for ISBN but it limits the amount of requests one could send so thats why we are testing it on a smaller sample case."
   ]
  },
  {
   "cell_type": "code",
   "execution_count": 29,
   "metadata": {},
   "outputs": [
    {
     "name": "stdout",
     "output_type": "stream",
     "text": [
      "Done with 51 citations\n"
     ]
    }
   ],
   "source": [
    "for i in range(len(citation_with_isbn_or_doi)):\n",
    "    title = []\n",
    "    author = []\n",
    "    row = citation_with_isbn_or_doi.iloc[i] # Get the particular row\n",
    "    if row['DOI']:\n",
    "        result_crossref = run_crossref_get_info(doi=row['DOI'])\n",
    "        citation_with_isbn_or_doi.iloc[i, 7] = 'Crossref'\n",
    "\n",
    "        if result_crossref.status_code != 200:\n",
    "            title.append('No title mentioned')\n",
    "            author.append('No authors mentioned')\n",
    "            continue\n",
    "\n",
    "        crossref_message = result_crossref.json()['message']\n",
    "        \n",
    "        if 'title' in crossref_message:\n",
    "            title.extend(crossref_message['title'])\n",
    "        else:\n",
    "            title.append('No title mentioned')\n",
    "        \n",
    "        if 'author' in crossref_message:\n",
    "            author.extend([\n",
    "                a.get('given', '') + ' ' + a.get('family', '')\n",
    "                for a in crossref_message['author']\n",
    "            ])\n",
    "        else:\n",
    "            author.append('No authors mentioned')\n",
    "\n",
    "    if not row['DOI'] and row['ISBN']:\n",
    "        isbn = row['ISBN'].replace('-', '')\n",
    "        result_google = run_google_book_get_info(isbn=isbn).json()\n",
    "        citation_with_isbn_or_doi.iloc[i, 7] = 'Google'\n",
    "        \n",
    "        if 'items' not in result_google:\n",
    "            row['retrieved_title'] = 'No title mentioned'\n",
    "            row['retrieved_author'] = 'No authors mentioned'\n",
    "            continue\n",
    "        \n",
    "        for item in result_google['items']:\n",
    "            title.append(item['volumeInfo'].get('title', 'No title mentioned'))\n",
    "            author.extend(item['volumeInfo'].get('authors', ['No authors mentioned']))\n",
    "    \n",
    "    if i % 50 == 0:\n",
    "        print('Done with {} citations'.format(i + 1))\n",
    "    \n",
    "    citation_with_isbn_or_doi.iloc[i]['retrieved_title'].extend(title)\n",
    "    citation_with_isbn_or_doi.iloc[i]['retrieved_author'].extend(author)"
   ]
  },
  {
   "cell_type": "code",
   "execution_count": 30,
   "metadata": {},
   "outputs": [
    {
     "data": {
      "text/html": [
       "<div>\n",
       "<style scoped>\n",
       "    .dataframe tbody tr th:only-of-type {\n",
       "        vertical-align: middle;\n",
       "    }\n",
       "\n",
       "    .dataframe tbody tr th {\n",
       "        vertical-align: top;\n",
       "    }\n",
       "\n",
       "    .dataframe thead th {\n",
       "        text-align: right;\n",
       "    }\n",
       "</style>\n",
       "<table border=\"1\" class=\"dataframe\">\n",
       "  <thead>\n",
       "    <tr style=\"text-align: right;\">\n",
       "      <th></th>\n",
       "      <th>id</th>\n",
       "      <th>citation_title</th>\n",
       "      <th>ISBN</th>\n",
       "      <th>DOI</th>\n",
       "      <th>authors</th>\n",
       "      <th>retrieved_title</th>\n",
       "      <th>retrieved_author</th>\n",
       "      <th>api_type</th>\n",
       "    </tr>\n",
       "  </thead>\n",
       "  <tbody>\n",
       "    <tr>\n",
       "      <th>1210830</th>\n",
       "      <td>40007181</td>\n",
       "      <td>Voices from the Odeyak</td>\n",
       "      <td>155021070X</td>\n",
       "      <td>None</td>\n",
       "      <td>[{last=Posluns, first=Michael}]</td>\n",
       "      <td>[]</td>\n",
       "      <td>[]</td>\n",
       "      <td>Google</td>\n",
       "    </tr>\n",
       "    <tr>\n",
       "      <th>2265188</th>\n",
       "      <td>51501138</td>\n",
       "      <td>Brief Companions</td>\n",
       "      <td>0930841018</td>\n",
       "      <td>None</td>\n",
       "      <td>[{last=Ufema, first=Joy}]</td>\n",
       "      <td>[Brief Companions]</td>\n",
       "      <td>[Joy Ufema]</td>\n",
       "      <td>Google</td>\n",
       "    </tr>\n",
       "    <tr>\n",
       "      <th>1967556</th>\n",
       "      <td>31872124</td>\n",
       "      <td>Landlord power and rural indebtedness in colon...</td>\n",
       "      <td>978-0-7007-0470-5</td>\n",
       "      <td>None</td>\n",
       "      <td>[{last=Cheesman, first=David}]</td>\n",
       "      <td>[Landlord Power and Rural Indebtedness in Colo...</td>\n",
       "      <td>[David Cheesman]</td>\n",
       "      <td>Google</td>\n",
       "    </tr>\n",
       "    <tr>\n",
       "      <th>2505191</th>\n",
       "      <td>33662</td>\n",
       "      <td>Functional analysis</td>\n",
       "      <td>978-0-07-054236-5</td>\n",
       "      <td>None</td>\n",
       "      <td>[{link=Walter Rudin, last=Rudin, first=Walter}]</td>\n",
       "      <td>[Functional Analysis]</td>\n",
       "      <td>[Walter Rudin]</td>\n",
       "      <td>Google</td>\n",
       "    </tr>\n",
       "    <tr>\n",
       "      <th>2857153</th>\n",
       "      <td>5617</td>\n",
       "      <td>Cells infected with scrapie and Creutzfeldt\\u2...</td>\n",
       "      <td>None</td>\n",
       "      <td>10.1073/pnas.0610999104</td>\n",
       "      <td>[{last=Manuelidis, first=L}, {last=Yu, first=Z...</td>\n",
       "      <td>[Cells infected with scrapie and Creutzfeldt-J...</td>\n",
       "      <td>[L. Manuelidis, Z.-X. Yu, N. Barquero, B. Mull...</td>\n",
       "      <td>Crossref</td>\n",
       "    </tr>\n",
       "    <tr>\n",
       "      <th>224874</th>\n",
       "      <td>34149970</td>\n",
       "      <td>Emotion, Identity and Death: Mortality Across ...</td>\n",
       "      <td>978-1-4094-8179-9</td>\n",
       "      <td>None</td>\n",
       "      <td>[{last=Douglas J. Davies}, {last=Chang-Won Park}]</td>\n",
       "      <td>[Emotion, Identity and Death]</td>\n",
       "      <td>[Mr Chang-Won Park, Professor Douglas J. Davies]</td>\n",
       "      <td>Google</td>\n",
       "    </tr>\n",
       "    <tr>\n",
       "      <th>1055154</th>\n",
       "      <td>216353</td>\n",
       "      <td>Microeconomics and Behavior</td>\n",
       "      <td>978-0-07-126349-8</td>\n",
       "      <td>None</td>\n",
       "      <td>[{last=Frank, first=Robert}]</td>\n",
       "      <td>[]</td>\n",
       "      <td>[]</td>\n",
       "      <td>Google</td>\n",
       "    </tr>\n",
       "    <tr>\n",
       "      <th>2066158</th>\n",
       "      <td>1473494</td>\n",
       "      <td>Filibusters and expansionists: Jeffersonian ma...</td>\n",
       "      <td>978-0-8173-0880-3</td>\n",
       "      <td>None</td>\n",
       "      <td>[{last=Frank L. Owsley, Jr.}]</td>\n",
       "      <td>[Filibusters and Expansionists]</td>\n",
       "      <td>[Frank L. Owsley, Gene A. Smith]</td>\n",
       "      <td>Google</td>\n",
       "    </tr>\n",
       "    <tr>\n",
       "      <th>1751046</th>\n",
       "      <td>1404433</td>\n",
       "      <td>Episodic massive mud eruptions from submarine ...</td>\n",
       "      <td>None</td>\n",
       "      <td>10.1002/2015GL065713</td>\n",
       "      <td>[{last=Kioka, first=Arata}, {last=Ashi, first=...</td>\n",
       "      <td>[Episodic massive mud eruptions from submarine...</td>\n",
       "      <td>[Arata Kioka, Juichiro Ashi]</td>\n",
       "      <td>Crossref</td>\n",
       "    </tr>\n",
       "    <tr>\n",
       "      <th>535920</th>\n",
       "      <td>38814337</td>\n",
       "      <td>Congo. Een geschiedenis.</td>\n",
       "      <td>9789023456636</td>\n",
       "      <td>None</td>\n",
       "      <td>[{last=Van Reybrouck, first=David}]</td>\n",
       "      <td>[]</td>\n",
       "      <td>[]</td>\n",
       "      <td>Google</td>\n",
       "    </tr>\n",
       "    <tr>\n",
       "      <th>795336</th>\n",
       "      <td>53151252</td>\n",
       "      <td>Merkel Cell Polyomavirus: Molecular Insights i...</td>\n",
       "      <td>None</td>\n",
       "      <td>10.3390/cancers6031267</td>\n",
       "      <td>[{last=Stakaityt\\u0117, first=Gabriel\\u0117}, ...</td>\n",
       "      <td>[Merkel Cell Polyomavirus: Molecular Insights ...</td>\n",
       "      <td>[Gabrielė Stakaitytė, Jennifer Wood, Laura Kni...</td>\n",
       "      <td>Crossref</td>\n",
       "    </tr>\n",
       "    <tr>\n",
       "      <th>2216147</th>\n",
       "      <td>47199015</td>\n",
       "      <td>En Abstracto</td>\n",
       "      <td>978-958-753-194-7</td>\n",
       "      <td>None</td>\n",
       "      <td>[{last=Christian, first=Padilla Pe\\xf1uela}, {...</td>\n",
       "      <td>[]</td>\n",
       "      <td>[]</td>\n",
       "      <td>Google</td>\n",
       "    </tr>\n",
       "    <tr>\n",
       "      <th>112358</th>\n",
       "      <td>4312070</td>\n",
       "      <td>Crystal structure of human ZAG, a fat-depletin...</td>\n",
       "      <td>None</td>\n",
       "      <td>10.1126/science.283.5409.1914</td>\n",
       "      <td>[{last=S\\xe1nchez, first=LM}, {last=Chirino, f...</td>\n",
       "      <td>[Crystal Structure of Human ZAG, a Fat-Depleti...</td>\n",
       "      <td>[L. M. S&amp;aacute;nchez]</td>\n",
       "      <td>Crossref</td>\n",
       "    </tr>\n",
       "    <tr>\n",
       "      <th>197274</th>\n",
       "      <td>30767114</td>\n",
       "      <td>Detention of asylum seekers: The Canadian Pers...</td>\n",
       "      <td>978-90-411-0546-2</td>\n",
       "      <td>None</td>\n",
       "      <td>[{last=Ron Poulton}, {last=Barbara Jackman}]</td>\n",
       "      <td>[Detention of Asylum Seekers in Europe]</td>\n",
       "      <td>[Jane Hughes, Fabrice Liebaut]</td>\n",
       "      <td>Google</td>\n",
       "    </tr>\n",
       "    <tr>\n",
       "      <th>268339</th>\n",
       "      <td>12904383</td>\n",
       "      <td>Paranephelium hainanensis</td>\n",
       "      <td>None</td>\n",
       "      <td>10.2305/IUCN.UK.1998.RLTS.T32471A9709130.en</td>\n",
       "      <td>[{last=World Conservation Monitoring Centre}]</td>\n",
       "      <td>[Paranephelium hainanensis: World Conservation...</td>\n",
       "      <td>[ ]</td>\n",
       "      <td>Crossref</td>\n",
       "    </tr>\n",
       "    <tr>\n",
       "      <th>1863443</th>\n",
       "      <td>14190206</td>\n",
       "      <td>Movies for the Masses: Popular Cinema and Sovi...</td>\n",
       "      <td>978-0-521-46632-5</td>\n",
       "      <td>None</td>\n",
       "      <td>[{last=Youngblood, first=Denise J.}]</td>\n",
       "      <td>[Movies for the Masses]</td>\n",
       "      <td>[Denise J. Youngblood]</td>\n",
       "      <td>Google</td>\n",
       "    </tr>\n",
       "    <tr>\n",
       "      <th>1097136</th>\n",
       "      <td>267444</td>\n",
       "      <td>Depth, Crossings and Conflicts in Discrete Geo...</td>\n",
       "      <td>9783832531195</td>\n",
       "      <td>None</td>\n",
       "      <td>[{last=Sulovsk\\xfd, first=Marek}]</td>\n",
       "      <td>[Depth, Crossings and Conflicts in Discrete Ge...</td>\n",
       "      <td>[Marek Sulovský]</td>\n",
       "      <td>Google</td>\n",
       "    </tr>\n",
       "    <tr>\n",
       "      <th>2359972</th>\n",
       "      <td>57527111</td>\n",
       "      <td>Sense of Grace and Mission</td>\n",
       "      <td>9789988152284</td>\n",
       "      <td>None</td>\n",
       "      <td>[{last=Pobee, first=John S.}]</td>\n",
       "      <td>[Sense of Grace and Mission]</td>\n",
       "      <td>[John S. Pobee]</td>\n",
       "      <td>Google</td>\n",
       "    </tr>\n",
       "    <tr>\n",
       "      <th>2382090</th>\n",
       "      <td>5838705</td>\n",
       "      <td>Project Psychology: Using Psychological Models...</td>\n",
       "      <td>9781317075011</td>\n",
       "      <td>None</td>\n",
       "      <td>[{last=De Mascia, S.}]</td>\n",
       "      <td>[]</td>\n",
       "      <td>[]</td>\n",
       "      <td>Google</td>\n",
       "    </tr>\n",
       "    <tr>\n",
       "      <th>2190051</th>\n",
       "      <td>47516951</td>\n",
       "      <td>Advanced study in the history of modern India ...</td>\n",
       "      <td>978-1-932705-54-6</td>\n",
       "      <td>None</td>\n",
       "      <td>[{last=Mehta, first=J. L.}]</td>\n",
       "      <td>[Advanced Study in the History of Modern India...</td>\n",
       "      <td>[Jaswant Lal Mehta]</td>\n",
       "      <td>Google</td>\n",
       "    </tr>\n",
       "    <tr>\n",
       "      <th>2173194</th>\n",
       "      <td>48311224</td>\n",
       "      <td>I registi: dal 1930 ai giorni nostri</td>\n",
       "      <td>8884401712</td>\n",
       "      <td>None</td>\n",
       "      <td>[{last=Roberto Poppi}]</td>\n",
       "      <td>[I registi]</td>\n",
       "      <td>[Roberto Poppi]</td>\n",
       "      <td>Google</td>\n",
       "    </tr>\n",
       "    <tr>\n",
       "      <th>783841</th>\n",
       "      <td>54021749</td>\n",
       "      <td>Historical Background of Dougherty County 1836...</td>\n",
       "      <td>0-87797-057-2</td>\n",
       "      <td>None</td>\n",
       "      <td>NaN</td>\n",
       "      <td>[]</td>\n",
       "      <td>[]</td>\n",
       "      <td>Google</td>\n",
       "    </tr>\n",
       "    <tr>\n",
       "      <th>2355811</th>\n",
       "      <td>57418849</td>\n",
       "      <td>Preparation and characterization of electroche...</td>\n",
       "      <td>None</td>\n",
       "      <td>10.1088/0957-0233/10/1/006</td>\n",
       "      <td>[{last=Ekvall, first=Inger}, {last=Wahlstr\\xf6...</td>\n",
       "      <td>[Preparation and characterization of electroch...</td>\n",
       "      <td>[Inger Ekvall, Erik Wahlström, Dan Claesson, H...</td>\n",
       "      <td>Crossref</td>\n",
       "    </tr>\n",
       "    <tr>\n",
       "      <th>3060188</th>\n",
       "      <td>23216525</td>\n",
       "      <td>Revision of the Extended Hantzsch\\u2013Widman ...</td>\n",
       "      <td>None</td>\n",
       "      <td>10.1351/pac198855020409</td>\n",
       "      <td>[{last=International Union of Pure and Applied...</td>\n",
       "      <td>[Revision of the extended Hantzsch-Widman syst...</td>\n",
       "      <td>[W. H. Powell]</td>\n",
       "      <td>Crossref</td>\n",
       "    </tr>\n",
       "    <tr>\n",
       "      <th>1260535</th>\n",
       "      <td>21857752</td>\n",
       "      <td>Global Distribution of Neutrons from Mars: Res...</td>\n",
       "      <td>None</td>\n",
       "      <td>10.1126/science.1073541</td>\n",
       "      <td>[{last=Feldman, first=W. C.}, {last=Boynton, f...</td>\n",
       "      <td>[Global Distribution of Neutrons from Mars: Re...</td>\n",
       "      <td>[W. C. Feldman]</td>\n",
       "      <td>Crossref</td>\n",
       "    </tr>\n",
       "    <tr>\n",
       "      <th>535403</th>\n",
       "      <td>38802947</td>\n",
       "      <td>Fascism: What It Is And How To Fight It</td>\n",
       "      <td>81-87879-44-0</td>\n",
       "      <td>None</td>\n",
       "      <td>[{link=Leon Trotsky, last=Trotsky, first=Leon}]</td>\n",
       "      <td>[Fascism]</td>\n",
       "      <td>[Leon Trotsky]</td>\n",
       "      <td>Google</td>\n",
       "    </tr>\n",
       "    <tr>\n",
       "      <th>2210249</th>\n",
       "      <td>47000281</td>\n",
       "      <td>Brief History of Herpetology in the Museum of ...</td>\n",
       "      <td>978-0-520-93000-1</td>\n",
       "      <td>None</td>\n",
       "      <td>[{last=Rodriguez-Robles, first=Javier A.}, {la...</td>\n",
       "      <td>[Brief History of Herpetology in the Museum of...</td>\n",
       "      <td>[Javier A. Rodriguez-Robles, David A. Good, Da...</td>\n",
       "      <td>Google</td>\n",
       "    </tr>\n",
       "    <tr>\n",
       "      <th>1428939</th>\n",
       "      <td>6677413</td>\n",
       "      <td>Racing for innocence whiteness: gender, and th...</td>\n",
       "      <td>9780804783194</td>\n",
       "      <td>None</td>\n",
       "      <td>[{last=Pierce, first=Jennifer L.}]</td>\n",
       "      <td>[Racing for Innocence]</td>\n",
       "      <td>[Jennifer Pierce]</td>\n",
       "      <td>Google</td>\n",
       "    </tr>\n",
       "    <tr>\n",
       "      <th>529569</th>\n",
       "      <td>38606153</td>\n",
       "      <td>Michigan Place Names: The History of the Found...</td>\n",
       "      <td>0-8143-1838-X</td>\n",
       "      <td>None</td>\n",
       "      <td>[{last=Walter Romig}]</td>\n",
       "      <td>[Michigan Place Names]</td>\n",
       "      <td>[Walter Romig]</td>\n",
       "      <td>Google</td>\n",
       "    </tr>\n",
       "    <tr>\n",
       "      <th>1924333</th>\n",
       "      <td>15219920</td>\n",
       "      <td>5-HT1A receptors, gene repression, and depress...</td>\n",
       "      <td>None</td>\n",
       "      <td>10.1177/1073858404267382</td>\n",
       "      <td>[{last=Albert, first=PR}, {last=Lemonde, first...</td>\n",
       "      <td>[5-HT1A Receptors, Gene Repression, and Depres...</td>\n",
       "      <td>[Paul R. Albert, Sylvie Lemonde]</td>\n",
       "      <td>Crossref</td>\n",
       "    </tr>\n",
       "    <tr>\n",
       "      <th>...</th>\n",
       "      <td>...</td>\n",
       "      <td>...</td>\n",
       "      <td>...</td>\n",
       "      <td>...</td>\n",
       "      <td>...</td>\n",
       "      <td>...</td>\n",
       "      <td>...</td>\n",
       "      <td>...</td>\n",
       "    </tr>\n",
       "    <tr>\n",
       "      <th>1715779</th>\n",
       "      <td>1231986</td>\n",
       "      <td>Is functional dyspepsia of particular concern ...</td>\n",
       "      <td>None</td>\n",
       "      <td>10.1111/j.1572-0241.2006.01015.x</td>\n",
       "      <td>[{last=Flier, first=SN}, {last=S, first=Rose}]</td>\n",
       "      <td>[Is Functional Dyspepsia of Particular Concern...</td>\n",
       "      <td>[Sarah N. Flier, Suzanne Rose]</td>\n",
       "      <td>Crossref</td>\n",
       "    </tr>\n",
       "    <tr>\n",
       "      <th>1107691</th>\n",
       "      <td>52616</td>\n",
       "      <td>Better in the Poconos: The Story of Pennsylvan...</td>\n",
       "      <td>0271021578</td>\n",
       "      <td>None</td>\n",
       "      <td>[{last=Squeri, first=Lawrence}]</td>\n",
       "      <td>[Better in the Poconos]</td>\n",
       "      <td>[Lawrence Louis Squeri]</td>\n",
       "      <td>Google</td>\n",
       "    </tr>\n",
       "    <tr>\n",
       "      <th>574552</th>\n",
       "      <td>13710845</td>\n",
       "      <td>Mormonism in Transition</td>\n",
       "      <td>0-252-06578-6</td>\n",
       "      <td>None</td>\n",
       "      <td>[{last=Thomas G. Alexander}]</td>\n",
       "      <td>[Mormonism in Transition]</td>\n",
       "      <td>[Thomas G. Alexander]</td>\n",
       "      <td>Google</td>\n",
       "    </tr>\n",
       "    <tr>\n",
       "      <th>2795673</th>\n",
       "      <td>382941</td>\n",
       "      <td>The Gliders: The story of Britain's fighting g...</td>\n",
       "      <td>0-552-12167-3</td>\n",
       "      <td>None</td>\n",
       "      <td>[{last=Lloyd, first=Alan}]</td>\n",
       "      <td>[]</td>\n",
       "      <td>[]</td>\n",
       "      <td>Google</td>\n",
       "    </tr>\n",
       "    <tr>\n",
       "      <th>3029061</th>\n",
       "      <td>39623837</td>\n",
       "      <td>The Twentieth Century\\n</td>\n",
       "      <td>978-0-8195-6680-5</td>\n",
       "      <td>None</td>\n",
       "      <td>[{last=Robida, first=Albert}, {last=Willems, f...</td>\n",
       "      <td>[The Twentieth Century]</td>\n",
       "      <td>[Albert Robida]</td>\n",
       "      <td>Google</td>\n",
       "    </tr>\n",
       "    <tr>\n",
       "      <th>97396</th>\n",
       "      <td>790968</td>\n",
       "      <td>Unpacking Queer Politics: A Lesbian Feminist P...</td>\n",
       "      <td>978-0745628370</td>\n",
       "      <td>None</td>\n",
       "      <td>[{last=Jeffreys, first=Sheila}]</td>\n",
       "      <td>[Unpacking Queer Politics]</td>\n",
       "      <td>[Sheila Jeffreys]</td>\n",
       "      <td>Google</td>\n",
       "    </tr>\n",
       "    <tr>\n",
       "      <th>3101641</th>\n",
       "      <td>18780840</td>\n",
       "      <td>The Kent &amp; Sussex Weald</td>\n",
       "      <td>1-86077-241-2</td>\n",
       "      <td>None</td>\n",
       "      <td>[{last=Brandon, first=Peter}]</td>\n",
       "      <td>[The Kent &amp; Sussex Weald]</td>\n",
       "      <td>[Peter Brandon]</td>\n",
       "      <td>Google</td>\n",
       "    </tr>\n",
       "    <tr>\n",
       "      <th>2039565</th>\n",
       "      <td>3302770</td>\n",
       "      <td>HubMed: a web-based biomedical literature sear...</td>\n",
       "      <td>None</td>\n",
       "      <td>10.1093/nar/gkl037</td>\n",
       "      <td>[{last=Eaton AD}]</td>\n",
       "      <td>[HubMed: a web-based biomedical literature sea...</td>\n",
       "      <td>[A. D. Eaton]</td>\n",
       "      <td>Crossref</td>\n",
       "    </tr>\n",
       "    <tr>\n",
       "      <th>1104969</th>\n",
       "      <td>284044</td>\n",
       "      <td>Malignant cervical teratoma: report of a case ...</td>\n",
       "      <td>None</td>\n",
       "      <td>10.1007/s00405-005-0917-2</td>\n",
       "      <td>[{last=Muscatello, first=L}, {last=Giudice, fi...</td>\n",
       "      <td>[Malignant cervical teratoma: report of a case...</td>\n",
       "      <td>[Luca Muscatello, Marco Giudice, Maddalena Fel...</td>\n",
       "      <td>Crossref</td>\n",
       "    </tr>\n",
       "    <tr>\n",
       "      <th>2594968</th>\n",
       "      <td>314841</td>\n",
       "      <td>English reformations : religion, politics, and...</td>\n",
       "      <td>0198221622</td>\n",
       "      <td>None</td>\n",
       "      <td>[{last=Haigh, first=Christopher}]</td>\n",
       "      <td>[English Reformations]</td>\n",
       "      <td>[Christopher Haigh]</td>\n",
       "      <td>Google</td>\n",
       "    </tr>\n",
       "    <tr>\n",
       "      <th>2251999</th>\n",
       "      <td>51081342</td>\n",
       "      <td>Allahabad: Where the Rivers Meet</td>\n",
       "      <td>9788185026947</td>\n",
       "      <td>None</td>\n",
       "      <td>NaN</td>\n",
       "      <td>[Allahabad]</td>\n",
       "      <td>[Neelum Saran Gour]</td>\n",
       "      <td>Google</td>\n",
       "    </tr>\n",
       "    <tr>\n",
       "      <th>191270</th>\n",
       "      <td>30549483</td>\n",
       "      <td>Checklists of Insects of the British Isles (Ne...</td>\n",
       "      <td>0-901546-82-8</td>\n",
       "      <td>None</td>\n",
       "      <td>[{last=Chandler, first=Peter J.}]</td>\n",
       "      <td>[Checklists of Insects of the British Isles]</td>\n",
       "      <td>[Peter Chandler]</td>\n",
       "      <td>Google</td>\n",
       "    </tr>\n",
       "    <tr>\n",
       "      <th>1775125</th>\n",
       "      <td>3104018</td>\n",
       "      <td>Crystalline order on a sphere and the generali...</td>\n",
       "      <td>None</td>\n",
       "      <td>10.1103/PhysRevLett.89.185502</td>\n",
       "      <td>[{last=Bowick, first=M.}, {last=Cacciuto, firs...</td>\n",
       "      <td>[Crystalline Order on a Sphere and the General...</td>\n",
       "      <td>[M. Bowick, A. Cacciuto, D. R. Nelson, A. Trav...</td>\n",
       "      <td>Crossref</td>\n",
       "    </tr>\n",
       "    <tr>\n",
       "      <th>1936581</th>\n",
       "      <td>15354886</td>\n",
       "      <td>A review of breast tomosynthesis. Part II. Ima...</td>\n",
       "      <td>None</td>\n",
       "      <td>10.1118/1.4770281</td>\n",
       "      <td>[{last=Sechopoulos, first=Ioannis}]</td>\n",
       "      <td>[A review of breast tomosynthesis. Part II. Im...</td>\n",
       "      <td>[Ioannis Sechopoulos]</td>\n",
       "      <td>Crossref</td>\n",
       "    </tr>\n",
       "    <tr>\n",
       "      <th>165328</th>\n",
       "      <td>2771227</td>\n",
       "      <td>Christianity Today: An Introduction</td>\n",
       "      <td>9781441101068</td>\n",
       "      <td>None</td>\n",
       "      <td>[{last=Chryssides, first=George D.}]</td>\n",
       "      <td>[Christianity Today]</td>\n",
       "      <td>[George D. Chryssides]</td>\n",
       "      <td>Google</td>\n",
       "    </tr>\n",
       "    <tr>\n",
       "      <th>603403</th>\n",
       "      <td>37431814</td>\n",
       "      <td>Jane's All the World's Aircraft  : development...</td>\n",
       "      <td>978-0-7106-3177-0</td>\n",
       "      <td>None</td>\n",
       "      <td>[{last=Gunston, first=Bill}]</td>\n",
       "      <td>[Jane's All the World's Aircraft: Development ...</td>\n",
       "      <td>[Bill Gunston]</td>\n",
       "      <td>Google</td>\n",
       "    </tr>\n",
       "    <tr>\n",
       "      <th>2484944</th>\n",
       "      <td>28195</td>\n",
       "      <td>The Symbolics Genera Programming Environment</td>\n",
       "      <td>None</td>\n",
       "      <td>10.1109/MS.1987.232087</td>\n",
       "      <td>[{last=J. H. Walker}, {last=D. A. Moon}, {last...</td>\n",
       "      <td>[The Symbolics Genera Programming Environment]</td>\n",
       "      <td>[J.H. Walker, D.A. Moon, D.L. Weinreb, M. McMa...</td>\n",
       "      <td>Crossref</td>\n",
       "    </tr>\n",
       "    <tr>\n",
       "      <th>2889546</th>\n",
       "      <td>12962</td>\n",
       "      <td>Cloning and characterization of a rat brain re...</td>\n",
       "      <td>None</td>\n",
       "      <td>10.1096/fj.02-0846fje</td>\n",
       "      <td>[{last=Andriamampandry, first=C}, {last=Taleb,...</td>\n",
       "      <td>[Cloning and characterization of a rat brain r...</td>\n",
       "      <td>[CHRISTIAN ANDRIAMAMPANDRY, OMAR TALEB, SANDRI...</td>\n",
       "      <td>Crossref</td>\n",
       "    </tr>\n",
       "    <tr>\n",
       "      <th>2789454</th>\n",
       "      <td>372962</td>\n",
       "      <td>Bisexuality: A contemporary paradox for women</td>\n",
       "      <td>None</td>\n",
       "      <td>10.1111/0022-4537.00161</td>\n",
       "      <td>[{last=Rust, first=P. C.}]</td>\n",
       "      <td>[Bisexuality: A Contemporary Paradox for Women]</td>\n",
       "      <td>[Paula C. Rodriguez Rust]</td>\n",
       "      <td>Crossref</td>\n",
       "    </tr>\n",
       "    <tr>\n",
       "      <th>1963368</th>\n",
       "      <td>31733423</td>\n",
       "      <td>Great Houses of London</td>\n",
       "      <td>978-0-711-23366-9</td>\n",
       "      <td>None</td>\n",
       "      <td>[{last=Stourton, first=James}]</td>\n",
       "      <td>[Great Houses of London]</td>\n",
       "      <td>[James Stourton]</td>\n",
       "      <td>Google</td>\n",
       "    </tr>\n",
       "    <tr>\n",
       "      <th>639009</th>\n",
       "      <td>30271079</td>\n",
       "      <td>Rhodocybella: A new genus in the Entolomataceae</td>\n",
       "      <td>None</td>\n",
       "      <td>10.2307/3807456</td>\n",
       "      <td>[{last=Timothy J. Baroni &amp; Ronald H. Petersen}]</td>\n",
       "      <td>[Rhodocybella: A New Genus in the Entolomataceae]</td>\n",
       "      <td>[Timothy J. Baroni, Ronald H. Petersen]</td>\n",
       "      <td>Crossref</td>\n",
       "    </tr>\n",
       "    <tr>\n",
       "      <th>985902</th>\n",
       "      <td>22001036</td>\n",
       "      <td>Port Vale Personalities</td>\n",
       "      <td>0-9529152-0-0</td>\n",
       "      <td>None</td>\n",
       "      <td>[{last=Kent, first=Jeff}]</td>\n",
       "      <td>[Port Vale Personalities]</td>\n",
       "      <td>[Jeff Kent]</td>\n",
       "      <td>Google</td>\n",
       "    </tr>\n",
       "    <tr>\n",
       "      <th>814295</th>\n",
       "      <td>52481640</td>\n",
       "      <td>Preliminary Report on the Early History of the...</td>\n",
       "      <td>None</td>\n",
       "      <td>10.2307/1536147</td>\n",
       "      <td>[{last=Beckwith, first=Cora Jipson}]</td>\n",
       "      <td>[PRELIMINARY REPORT ON THE EARLY HISTORY OF TH...</td>\n",
       "      <td>[CORA JIPSON BECKWITH]</td>\n",
       "      <td>Crossref</td>\n",
       "    </tr>\n",
       "    <tr>\n",
       "      <th>3139858</th>\n",
       "      <td>43617260</td>\n",
       "      <td>Palestinian nationalism has left the field: a ...</td>\n",
       "      <td>None</td>\n",
       "      <td>10.1017/s0020743803000175</td>\n",
       "      <td>[{last=Sorek, first=Tamir}]</td>\n",
       "      <td>[PALESTINIAN NATIONALISM HAS LEFT THE FIELD: A...</td>\n",
       "      <td>[Tamir Sorek]</td>\n",
       "      <td>Crossref</td>\n",
       "    </tr>\n",
       "    <tr>\n",
       "      <th>167165</th>\n",
       "      <td>2790525</td>\n",
       "      <td>Ancient North America</td>\n",
       "      <td>978-0-5002-8532-9</td>\n",
       "      <td>None</td>\n",
       "      <td>[{last=Fagan, first=Brian M.}]</td>\n",
       "      <td>[Ancient North America]</td>\n",
       "      <td>[Brian M. Fagan]</td>\n",
       "      <td>Google</td>\n",
       "    </tr>\n",
       "    <tr>\n",
       "      <th>2473596</th>\n",
       "      <td>25507</td>\n",
       "      <td>The World of Roman Song: From Ritualized Speec...</td>\n",
       "      <td>978-0-8018-8105-3</td>\n",
       "      <td>None</td>\n",
       "      <td>[{last=Habinek, Thomas N.}]</td>\n",
       "      <td>[The World of Roman Song]</td>\n",
       "      <td>[Thomas Habinek, Thomas N. Habinek]</td>\n",
       "      <td>Google</td>\n",
       "    </tr>\n",
       "    <tr>\n",
       "      <th>1634624</th>\n",
       "      <td>14769164</td>\n",
       "      <td>Interaction of 11-cis-retinol dehydrogenase wi...</td>\n",
       "      <td>None</td>\n",
       "      <td>10.1074/jbc.M010441200</td>\n",
       "      <td>[{last=Chen, first=P}, {last=Lee, first=TD}, {...</td>\n",
       "      <td>[Interaction of 11-cis-Retinol Dehydrogenase w...</td>\n",
       "      <td>[Pu Chen, Terry D. Lee, Henry K. W. Fong]</td>\n",
       "      <td>Crossref</td>\n",
       "    </tr>\n",
       "    <tr>\n",
       "      <th>2961733</th>\n",
       "      <td>620905</td>\n",
       "      <td>Screened Out: Playing Gay in Hollywood from Ed...</td>\n",
       "      <td>978-0-415-92328-6</td>\n",
       "      <td>None</td>\n",
       "      <td>[{last=Barrios, first=Richard}]</td>\n",
       "      <td>[Screened Out]</td>\n",
       "      <td>[Richard Barrios]</td>\n",
       "      <td>Google</td>\n",
       "    </tr>\n",
       "    <tr>\n",
       "      <th>1296842</th>\n",
       "      <td>20826153</td>\n",
       "      <td>Pelagic Snails: The Biology of Holoplanktonic ...</td>\n",
       "      <td>978-0-8047-1490-7</td>\n",
       "      <td>None</td>\n",
       "      <td>[{last=Lalli, first=Carol M.}, {last=Ronald W....</td>\n",
       "      <td>[Pelagic Snails]</td>\n",
       "      <td>[Carol M. Lalli, Ronald W. Gilmer]</td>\n",
       "      <td>Google</td>\n",
       "    </tr>\n",
       "    <tr>\n",
       "      <th>2391094</th>\n",
       "      <td>5985421</td>\n",
       "      <td>Servants of the Gospel: Witnesses in the Foots...</td>\n",
       "      <td>9966-08-822-9</td>\n",
       "      <td>None</td>\n",
       "      <td>[{last=Sisters, Brothers and Fathers, first=Co...</td>\n",
       "      <td>[]</td>\n",
       "      <td>[]</td>\n",
       "      <td>Google</td>\n",
       "    </tr>\n",
       "  </tbody>\n",
       "</table>\n",
       "<p>100 rows × 8 columns</p>\n",
       "</div>"
      ],
      "text/plain": [
       "               id                                     citation_title  \\\n",
       "1210830  40007181                             Voices from the Odeyak   \n",
       "2265188  51501138                                   Brief Companions   \n",
       "1967556  31872124  Landlord power and rural indebtedness in colon...   \n",
       "2505191     33662                                Functional analysis   \n",
       "2857153      5617  Cells infected with scrapie and Creutzfeldt\\u2...   \n",
       "224874   34149970  Emotion, Identity and Death: Mortality Across ...   \n",
       "1055154    216353                        Microeconomics and Behavior   \n",
       "2066158   1473494  Filibusters and expansionists: Jeffersonian ma...   \n",
       "1751046   1404433  Episodic massive mud eruptions from submarine ...   \n",
       "535920   38814337                           Congo. Een geschiedenis.   \n",
       "795336   53151252  Merkel Cell Polyomavirus: Molecular Insights i...   \n",
       "2216147  47199015                                       En Abstracto   \n",
       "112358    4312070  Crystal structure of human ZAG, a fat-depletin...   \n",
       "197274   30767114  Detention of asylum seekers: The Canadian Pers...   \n",
       "268339   12904383                          Paranephelium hainanensis   \n",
       "1863443  14190206  Movies for the Masses: Popular Cinema and Sovi...   \n",
       "1097136    267444  Depth, Crossings and Conflicts in Discrete Geo...   \n",
       "2359972  57527111                         Sense of Grace and Mission   \n",
       "2382090   5838705  Project Psychology: Using Psychological Models...   \n",
       "2190051  47516951  Advanced study in the history of modern India ...   \n",
       "2173194  48311224               I registi: dal 1930 ai giorni nostri   \n",
       "783841   54021749  Historical Background of Dougherty County 1836...   \n",
       "2355811  57418849  Preparation and characterization of electroche...   \n",
       "3060188  23216525  Revision of the Extended Hantzsch\\u2013Widman ...   \n",
       "1260535  21857752  Global Distribution of Neutrons from Mars: Res...   \n",
       "535403   38802947            Fascism: What It Is And How To Fight It   \n",
       "2210249  47000281  Brief History of Herpetology in the Museum of ...   \n",
       "1428939   6677413  Racing for innocence whiteness: gender, and th...   \n",
       "529569   38606153  Michigan Place Names: The History of the Found...   \n",
       "1924333  15219920  5-HT1A receptors, gene repression, and depress...   \n",
       "...           ...                                                ...   \n",
       "1715779   1231986  Is functional dyspepsia of particular concern ...   \n",
       "1107691     52616  Better in the Poconos: The Story of Pennsylvan...   \n",
       "574552   13710845                            Mormonism in Transition   \n",
       "2795673    382941  The Gliders: The story of Britain's fighting g...   \n",
       "3029061  39623837                            The Twentieth Century\\n   \n",
       "97396      790968  Unpacking Queer Politics: A Lesbian Feminist P...   \n",
       "3101641  18780840                            The Kent & Sussex Weald   \n",
       "2039565   3302770  HubMed: a web-based biomedical literature sear...   \n",
       "1104969    284044  Malignant cervical teratoma: report of a case ...   \n",
       "2594968    314841  English reformations : religion, politics, and...   \n",
       "2251999  51081342                   Allahabad: Where the Rivers Meet   \n",
       "191270   30549483  Checklists of Insects of the British Isles (Ne...   \n",
       "1775125   3104018  Crystalline order on a sphere and the generali...   \n",
       "1936581  15354886  A review of breast tomosynthesis. Part II. Ima...   \n",
       "165328    2771227                Christianity Today: An Introduction   \n",
       "603403   37431814  Jane's All the World's Aircraft  : development...   \n",
       "2484944     28195       The Symbolics Genera Programming Environment   \n",
       "2889546     12962  Cloning and characterization of a rat brain re...   \n",
       "2789454    372962      Bisexuality: A contemporary paradox for women   \n",
       "1963368  31733423                             Great Houses of London   \n",
       "639009   30271079    Rhodocybella: A new genus in the Entolomataceae   \n",
       "985902   22001036                            Port Vale Personalities   \n",
       "814295   52481640  Preliminary Report on the Early History of the...   \n",
       "3139858  43617260  Palestinian nationalism has left the field: a ...   \n",
       "167165    2790525                              Ancient North America   \n",
       "2473596     25507  The World of Roman Song: From Ritualized Speec...   \n",
       "1634624  14769164  Interaction of 11-cis-retinol dehydrogenase wi...   \n",
       "2961733    620905  Screened Out: Playing Gay in Hollywood from Ed...   \n",
       "1296842  20826153  Pelagic Snails: The Biology of Holoplanktonic ...   \n",
       "2391094   5985421  Servants of the Gospel: Witnesses in the Foots...   \n",
       "\n",
       "                      ISBN                                          DOI  \\\n",
       "1210830         155021070X                                         None   \n",
       "2265188         0930841018                                         None   \n",
       "1967556  978-0-7007-0470-5                                         None   \n",
       "2505191  978-0-07-054236-5                                         None   \n",
       "2857153               None                      10.1073/pnas.0610999104   \n",
       "224874   978-1-4094-8179-9                                         None   \n",
       "1055154  978-0-07-126349-8                                         None   \n",
       "2066158  978-0-8173-0880-3                                         None   \n",
       "1751046               None                         10.1002/2015GL065713   \n",
       "535920       9789023456636                                         None   \n",
       "795336                None                       10.3390/cancers6031267   \n",
       "2216147  978-958-753-194-7                                         None   \n",
       "112358                None                10.1126/science.283.5409.1914   \n",
       "197274   978-90-411-0546-2                                         None   \n",
       "268339                None  10.2305/IUCN.UK.1998.RLTS.T32471A9709130.en   \n",
       "1863443  978-0-521-46632-5                                         None   \n",
       "1097136      9783832531195                                         None   \n",
       "2359972      9789988152284                                         None   \n",
       "2382090      9781317075011                                         None   \n",
       "2190051  978-1-932705-54-6                                         None   \n",
       "2173194         8884401712                                         None   \n",
       "783841       0-87797-057-2                                         None   \n",
       "2355811               None                   10.1088/0957-0233/10/1/006   \n",
       "3060188               None                      10.1351/pac198855020409   \n",
       "1260535               None                      10.1126/science.1073541   \n",
       "535403       81-87879-44-0                                         None   \n",
       "2210249  978-0-520-93000-1                                         None   \n",
       "1428939      9780804783194                                         None   \n",
       "529569       0-8143-1838-X                                         None   \n",
       "1924333               None                     10.1177/1073858404267382   \n",
       "...                    ...                                          ...   \n",
       "1715779               None             10.1111/j.1572-0241.2006.01015.x   \n",
       "1107691         0271021578                                         None   \n",
       "574552       0-252-06578-6                                         None   \n",
       "2795673      0-552-12167-3                                         None   \n",
       "3029061  978-0-8195-6680-5                                         None   \n",
       "97396       978-0745628370                                         None   \n",
       "3101641      1-86077-241-2                                         None   \n",
       "2039565               None                           10.1093/nar/gkl037   \n",
       "1104969               None                    10.1007/s00405-005-0917-2   \n",
       "2594968         0198221622                                         None   \n",
       "2251999      9788185026947                                         None   \n",
       "191270       0-901546-82-8                                         None   \n",
       "1775125               None                10.1103/PhysRevLett.89.185502   \n",
       "1936581               None                            10.1118/1.4770281   \n",
       "165328       9781441101068                                         None   \n",
       "603403   978-0-7106-3177-0                                         None   \n",
       "2484944               None                       10.1109/MS.1987.232087   \n",
       "2889546               None                        10.1096/fj.02-0846fje   \n",
       "2789454               None                      10.1111/0022-4537.00161   \n",
       "1963368  978-0-711-23366-9                                         None   \n",
       "639009                None                              10.2307/3807456   \n",
       "985902       0-9529152-0-0                                         None   \n",
       "814295                None                              10.2307/1536147   \n",
       "3139858               None                    10.1017/s0020743803000175   \n",
       "167165   978-0-5002-8532-9                                         None   \n",
       "2473596  978-0-8018-8105-3                                         None   \n",
       "1634624               None                       10.1074/jbc.M010441200   \n",
       "2961733  978-0-415-92328-6                                         None   \n",
       "1296842  978-0-8047-1490-7                                         None   \n",
       "2391094      9966-08-822-9                                         None   \n",
       "\n",
       "                                                   authors  \\\n",
       "1210830                    [{last=Posluns, first=Michael}]   \n",
       "2265188                          [{last=Ufema, first=Joy}]   \n",
       "1967556                     [{last=Cheesman, first=David}]   \n",
       "2505191    [{link=Walter Rudin, last=Rudin, first=Walter}]   \n",
       "2857153  [{last=Manuelidis, first=L}, {last=Yu, first=Z...   \n",
       "224874   [{last=Douglas J. Davies}, {last=Chang-Won Park}]   \n",
       "1055154                       [{last=Frank, first=Robert}]   \n",
       "2066158                      [{last=Frank L. Owsley, Jr.}]   \n",
       "1751046  [{last=Kioka, first=Arata}, {last=Ashi, first=...   \n",
       "535920                 [{last=Van Reybrouck, first=David}]   \n",
       "795336   [{last=Stakaityt\\u0117, first=Gabriel\\u0117}, ...   \n",
       "2216147  [{last=Christian, first=Padilla Pe\\xf1uela}, {...   \n",
       "112358   [{last=S\\xe1nchez, first=LM}, {last=Chirino, f...   \n",
       "197274        [{last=Ron Poulton}, {last=Barbara Jackman}]   \n",
       "268339       [{last=World Conservation Monitoring Centre}]   \n",
       "1863443               [{last=Youngblood, first=Denise J.}]   \n",
       "1097136                  [{last=Sulovsk\\xfd, first=Marek}]   \n",
       "2359972                      [{last=Pobee, first=John S.}]   \n",
       "2382090                             [{last=De Mascia, S.}]   \n",
       "2190051                        [{last=Mehta, first=J. L.}]   \n",
       "2173194                             [{last=Roberto Poppi}]   \n",
       "783841                                                 NaN   \n",
       "2355811  [{last=Ekvall, first=Inger}, {last=Wahlstr\\xf6...   \n",
       "3060188  [{last=International Union of Pure and Applied...   \n",
       "1260535  [{last=Feldman, first=W. C.}, {last=Boynton, f...   \n",
       "535403     [{link=Leon Trotsky, last=Trotsky, first=Leon}]   \n",
       "2210249  [{last=Rodriguez-Robles, first=Javier A.}, {la...   \n",
       "1428939                 [{last=Pierce, first=Jennifer L.}]   \n",
       "529569                               [{last=Walter Romig}]   \n",
       "1924333  [{last=Albert, first=PR}, {last=Lemonde, first...   \n",
       "...                                                    ...   \n",
       "1715779     [{last=Flier, first=SN}, {last=S, first=Rose}]   \n",
       "1107691                    [{last=Squeri, first=Lawrence}]   \n",
       "574552                        [{last=Thomas G. Alexander}]   \n",
       "2795673                         [{last=Lloyd, first=Alan}]   \n",
       "3029061  [{last=Robida, first=Albert}, {last=Willems, f...   \n",
       "97396                      [{last=Jeffreys, first=Sheila}]   \n",
       "3101641                      [{last=Brandon, first=Peter}]   \n",
       "2039565                                  [{last=Eaton AD}]   \n",
       "1104969  [{last=Muscatello, first=L}, {last=Giudice, fi...   \n",
       "2594968                  [{last=Haigh, first=Christopher}]   \n",
       "2251999                                                NaN   \n",
       "191270                   [{last=Chandler, first=Peter J.}]   \n",
       "1775125  [{last=Bowick, first=M.}, {last=Cacciuto, firs...   \n",
       "1936581                [{last=Sechopoulos, first=Ioannis}]   \n",
       "165328                [{last=Chryssides, first=George D.}]   \n",
       "603403                        [{last=Gunston, first=Bill}]   \n",
       "2484944  [{last=J. H. Walker}, {last=D. A. Moon}, {last...   \n",
       "2889546  [{last=Andriamampandry, first=C}, {last=Taleb,...   \n",
       "2789454                         [{last=Rust, first=P. C.}]   \n",
       "1963368                     [{last=Stourton, first=James}]   \n",
       "639009     [{last=Timothy J. Baroni & Ronald H. Petersen}]   \n",
       "985902                           [{last=Kent, first=Jeff}]   \n",
       "814295                [{last=Beckwith, first=Cora Jipson}]   \n",
       "3139858                        [{last=Sorek, first=Tamir}]   \n",
       "167165                      [{last=Fagan, first=Brian M.}]   \n",
       "2473596                        [{last=Habinek, Thomas N.}]   \n",
       "1634624  [{last=Chen, first=P}, {last=Lee, first=TD}, {...   \n",
       "2961733                    [{last=Barrios, first=Richard}]   \n",
       "1296842  [{last=Lalli, first=Carol M.}, {last=Ronald W....   \n",
       "2391094  [{last=Sisters, Brothers and Fathers, first=Co...   \n",
       "\n",
       "                                           retrieved_title  \\\n",
       "1210830                                                 []   \n",
       "2265188                                 [Brief Companions]   \n",
       "1967556  [Landlord Power and Rural Indebtedness in Colo...   \n",
       "2505191                              [Functional Analysis]   \n",
       "2857153  [Cells infected with scrapie and Creutzfeldt-J...   \n",
       "224874                       [Emotion, Identity and Death]   \n",
       "1055154                                                 []   \n",
       "2066158                    [Filibusters and Expansionists]   \n",
       "1751046  [Episodic massive mud eruptions from submarine...   \n",
       "535920                                                  []   \n",
       "795336   [Merkel Cell Polyomavirus: Molecular Insights ...   \n",
       "2216147                                                 []   \n",
       "112358   [Crystal Structure of Human ZAG, a Fat-Depleti...   \n",
       "197274             [Detention of Asylum Seekers in Europe]   \n",
       "268339   [Paranephelium hainanensis: World Conservation...   \n",
       "1863443                            [Movies for the Masses]   \n",
       "1097136  [Depth, Crossings and Conflicts in Discrete Ge...   \n",
       "2359972                       [Sense of Grace and Mission]   \n",
       "2382090                                                 []   \n",
       "2190051  [Advanced Study in the History of Modern India...   \n",
       "2173194                                        [I registi]   \n",
       "783841                                                  []   \n",
       "2355811  [Preparation and characterization of electroch...   \n",
       "3060188  [Revision of the extended Hantzsch-Widman syst...   \n",
       "1260535  [Global Distribution of Neutrons from Mars: Re...   \n",
       "535403                                           [Fascism]   \n",
       "2210249  [Brief History of Herpetology in the Museum of...   \n",
       "1428939                             [Racing for Innocence]   \n",
       "529569                              [Michigan Place Names]   \n",
       "1924333  [5-HT1A Receptors, Gene Repression, and Depres...   \n",
       "...                                                    ...   \n",
       "1715779  [Is Functional Dyspepsia of Particular Concern...   \n",
       "1107691                            [Better in the Poconos]   \n",
       "574552                           [Mormonism in Transition]   \n",
       "2795673                                                 []   \n",
       "3029061                            [The Twentieth Century]   \n",
       "97396                           [Unpacking Queer Politics]   \n",
       "3101641                          [The Kent & Sussex Weald]   \n",
       "2039565  [HubMed: a web-based biomedical literature sea...   \n",
       "1104969  [Malignant cervical teratoma: report of a case...   \n",
       "2594968                             [English Reformations]   \n",
       "2251999                                        [Allahabad]   \n",
       "191270        [Checklists of Insects of the British Isles]   \n",
       "1775125  [Crystalline Order on a Sphere and the General...   \n",
       "1936581  [A review of breast tomosynthesis. Part II. Im...   \n",
       "165328                                [Christianity Today]   \n",
       "603403   [Jane's All the World's Aircraft: Development ...   \n",
       "2484944     [The Symbolics Genera Programming Environment]   \n",
       "2889546  [Cloning and characterization of a rat brain r...   \n",
       "2789454    [Bisexuality: A Contemporary Paradox for Women]   \n",
       "1963368                           [Great Houses of London]   \n",
       "639009   [Rhodocybella: A New Genus in the Entolomataceae]   \n",
       "985902                           [Port Vale Personalities]   \n",
       "814295   [PRELIMINARY REPORT ON THE EARLY HISTORY OF TH...   \n",
       "3139858  [PALESTINIAN NATIONALISM HAS LEFT THE FIELD: A...   \n",
       "167165                             [Ancient North America]   \n",
       "2473596                          [The World of Roman Song]   \n",
       "1634624  [Interaction of 11-cis-Retinol Dehydrogenase w...   \n",
       "2961733                                     [Screened Out]   \n",
       "1296842                                   [Pelagic Snails]   \n",
       "2391094                                                 []   \n",
       "\n",
       "                                          retrieved_author  api_type  \n",
       "1210830                                                 []    Google  \n",
       "2265188                                        [Joy Ufema]    Google  \n",
       "1967556                                   [David Cheesman]    Google  \n",
       "2505191                                     [Walter Rudin]    Google  \n",
       "2857153  [L. Manuelidis, Z.-X. Yu, N. Barquero, B. Mull...  Crossref  \n",
       "224874    [Mr Chang-Won Park, Professor Douglas J. Davies]    Google  \n",
       "1055154                                                 []    Google  \n",
       "2066158                   [Frank L. Owsley, Gene A. Smith]    Google  \n",
       "1751046                       [Arata Kioka, Juichiro Ashi]  Crossref  \n",
       "535920                                                  []    Google  \n",
       "795336   [Gabrielė Stakaitytė, Jennifer Wood, Laura Kni...  Crossref  \n",
       "2216147                                                 []    Google  \n",
       "112358                              [L. M. S&aacute;nchez]  Crossref  \n",
       "197274                      [Jane Hughes, Fabrice Liebaut]    Google  \n",
       "268339                                                 [ ]  Crossref  \n",
       "1863443                             [Denise J. Youngblood]    Google  \n",
       "1097136                                   [Marek Sulovský]    Google  \n",
       "2359972                                    [John S. Pobee]    Google  \n",
       "2382090                                                 []    Google  \n",
       "2190051                                [Jaswant Lal Mehta]    Google  \n",
       "2173194                                    [Roberto Poppi]    Google  \n",
       "783841                                                  []    Google  \n",
       "2355811  [Inger Ekvall, Erik Wahlström, Dan Claesson, H...  Crossref  \n",
       "3060188                                     [W. H. Powell]  Crossref  \n",
       "1260535                                    [W. C. Feldman]  Crossref  \n",
       "535403                                      [Leon Trotsky]    Google  \n",
       "2210249  [Javier A. Rodriguez-Robles, David A. Good, Da...    Google  \n",
       "1428939                                  [Jennifer Pierce]    Google  \n",
       "529569                                      [Walter Romig]    Google  \n",
       "1924333                   [Paul R. Albert, Sylvie Lemonde]  Crossref  \n",
       "...                                                    ...       ...  \n",
       "1715779                     [Sarah N. Flier, Suzanne Rose]  Crossref  \n",
       "1107691                            [Lawrence Louis Squeri]    Google  \n",
       "574552                               [Thomas G. Alexander]    Google  \n",
       "2795673                                                 []    Google  \n",
       "3029061                                    [Albert Robida]    Google  \n",
       "97396                                    [Sheila Jeffreys]    Google  \n",
       "3101641                                    [Peter Brandon]    Google  \n",
       "2039565                                      [A. D. Eaton]  Crossref  \n",
       "1104969  [Luca Muscatello, Marco Giudice, Maddalena Fel...  Crossref  \n",
       "2594968                                [Christopher Haigh]    Google  \n",
       "2251999                                [Neelum Saran Gour]    Google  \n",
       "191270                                    [Peter Chandler]    Google  \n",
       "1775125  [M. Bowick, A. Cacciuto, D. R. Nelson, A. Trav...  Crossref  \n",
       "1936581                              [Ioannis Sechopoulos]  Crossref  \n",
       "165328                              [George D. Chryssides]    Google  \n",
       "603403                                      [Bill Gunston]    Google  \n",
       "2484944  [J.H. Walker, D.A. Moon, D.L. Weinreb, M. McMa...  Crossref  \n",
       "2889546  [CHRISTIAN ANDRIAMAMPANDRY, OMAR TALEB, SANDRI...  Crossref  \n",
       "2789454                          [Paula C. Rodriguez Rust]  Crossref  \n",
       "1963368                                   [James Stourton]    Google  \n",
       "639009             [Timothy J. Baroni, Ronald H. Petersen]  Crossref  \n",
       "985902                                         [Jeff Kent]    Google  \n",
       "814295                              [CORA JIPSON BECKWITH]  Crossref  \n",
       "3139858                                      [Tamir Sorek]  Crossref  \n",
       "167165                                    [Brian M. Fagan]    Google  \n",
       "2473596                [Thomas Habinek, Thomas N. Habinek]    Google  \n",
       "1634624          [Pu Chen, Terry D. Lee, Henry K. W. Fong]  Crossref  \n",
       "2961733                                  [Richard Barrios]    Google  \n",
       "1296842                 [Carol M. Lalli, Ronald W. Gilmer]    Google  \n",
       "2391094                                                 []    Google  \n",
       "\n",
       "[100 rows x 8 columns]"
      ]
     },
     "execution_count": 30,
     "metadata": {},
     "output_type": "execute_result"
    }
   ],
   "source": [
    "citation_with_isbn_or_doi"
   ]
  },
  {
   "cell_type": "markdown",
   "metadata": {},
   "source": [
    "Doing analysis of the Google and Crossref API - as to how many authors and title are equal?"
   ]
  },
  {
   "cell_type": "code",
   "execution_count": 31,
   "metadata": {},
   "outputs": [],
   "source": [
    "total_google_samples = len(citation_with_isbn_or_doi[citation_with_isbn_or_doi['api_type'] == 'Google'])\n",
    "total_crossref_samples = len(citation_with_isbn_or_doi[citation_with_isbn_or_doi['api_type'] == 'Crossref'])"
   ]
  },
  {
   "cell_type": "code",
   "execution_count": 32,
   "metadata": {},
   "outputs": [
    {
     "name": "stdout",
     "output_type": "stream",
     "text": [
      "Google Samples: 60\n",
      "Crossref Samples: 40\n"
     ]
    }
   ],
   "source": [
    "print('Google Samples: {}\\nCrossref Samples: {}'.format(total_google_samples, total_crossref_samples))"
   ]
  },
  {
   "cell_type": "markdown",
   "metadata": {},
   "source": [
    "Lets perform some API robustness test on titles.."
   ]
  },
  {
   "cell_type": "code",
   "execution_count": 35,
   "metadata": {},
   "outputs": [],
   "source": [
    "# Using Fuzzy String Matching to get an approximate matching of string instead of actual one\n",
    "from fuzzywuzzy import fuzz\n",
    "\n",
    "def get_ratio(row, col1, col2):\n",
    "    actual_ = row[col1] if row[col1] else 'No title'\n",
    "    retrieved_ = row[col2][0] if len(row[col2]) >= 1 else 'No retrieved title'\n",
    "    return fuzz.token_set_ratio(actual_, retrieved_)"
   ]
  },
  {
   "cell_type": "markdown",
   "metadata": {},
   "source": [
    "As you can see Crossref is more precise with its results and its API is more robust than Google Books since Google Books is more like a search engine for books and returns more broader results. Also, Crossref is a specialist API and hence results are more specific.\n",
    "\n",
    "Some of the edge cases which are not addressed is sometimes the title retrieved are in another language, but these cases are far and less."
   ]
  },
  {
   "cell_type": "code",
   "execution_count": 37,
   "metadata": {},
   "outputs": [
    {
     "data": {
      "text/html": [
       "<div>\n",
       "<style scoped>\n",
       "    .dataframe tbody tr th:only-of-type {\n",
       "        vertical-align: middle;\n",
       "    }\n",
       "\n",
       "    .dataframe tbody tr th {\n",
       "        vertical-align: top;\n",
       "    }\n",
       "\n",
       "    .dataframe thead th {\n",
       "        text-align: right;\n",
       "    }\n",
       "</style>\n",
       "<table border=\"1\" class=\"dataframe\">\n",
       "  <thead>\n",
       "    <tr style=\"text-align: right;\">\n",
       "      <th></th>\n",
       "      <th>title_percent_match</th>\n",
       "    </tr>\n",
       "    <tr>\n",
       "      <th>api_type</th>\n",
       "      <th></th>\n",
       "    </tr>\n",
       "  </thead>\n",
       "  <tbody>\n",
       "    <tr>\n",
       "      <th>Crossref</th>\n",
       "      <td>97.475000</td>\n",
       "    </tr>\n",
       "    <tr>\n",
       "      <th>Google</th>\n",
       "      <td>83.616667</td>\n",
       "    </tr>\n",
       "  </tbody>\n",
       "</table>\n",
       "</div>"
      ],
      "text/plain": [
       "          title_percent_match\n",
       "api_type                     \n",
       "Crossref            97.475000\n",
       "Google              83.616667"
      ]
     },
     "execution_count": 37,
     "metadata": {},
     "output_type": "execute_result"
    }
   ],
   "source": [
    "citation_with_isbn_or_doi['title_percent_match'] = citation_with_isbn_or_doi.apply(\n",
    "    get_ratio, args=('citation_title', 'retrieved_title'), axis=1)\n",
    "citation_with_isbn_or_doi[['api_type', 'title_percent_match']].groupby('api_type').mean()"
   ]
  },
  {
   "cell_type": "markdown",
   "metadata": {},
   "source": [
    "Lets now apply the robustness test on authors.."
   ]
  },
  {
   "cell_type": "code",
   "execution_count": 38,
   "metadata": {},
   "outputs": [],
   "source": [
    "# Preprocess authors so that we disappear the 'last=' and 'first=' phrase and convert them into list\n",
    "def preprocess_authors(row):\n",
    "    authors = ''\n",
    "    authors = (\n",
    "        'No authors' if isinstance(row['authors'], float) or not row['authors']\n",
    "        else row['authors'].split('}, {')\n",
    "    )\n",
    "    for ch in [']', '[', '{', '}', 'first=', 'last=', ',', 'link=']:\n",
    "        authors = [i.replace(ch, '') for i in authors]\n",
    "    return len(authors), ', '.join(authors)"
   ]
  },
  {
   "cell_type": "code",
   "execution_count": 39,
   "metadata": {},
   "outputs": [],
   "source": [
    "citation_temp_authors = citation_with_isbn_or_doi[['authors', 'retrieved_author', 'api_type']]\n",
    "\n",
    "# Get the length of the number of author and the length of the number of retrieved authors\n",
    "citation_temp_authors['len_authors'], citation_temp_authors['joined_authors'] = zip(*citation_temp_authors.apply(preprocess_authors, axis=1))\n",
    "citation_temp_authors['len_retrieved_author'] = citation_temp_authors['retrieved_author'].apply(lambda x: len(x))\n",
    "citation_temp_authors['retrieved_author'] = citation_temp_authors['retrieved_author'].apply(lambda x: ', '.join(x))"
   ]
  },
  {
   "cell_type": "markdown",
   "metadata": {},
   "source": [
    "86 times the number of authors were equal or more when retrieved which means both the APIs were quite robust when in comes to term of retreiving the number of authors for a publication."
   ]
  },
  {
   "cell_type": "code",
   "execution_count": 40,
   "metadata": {},
   "outputs": [
    {
     "data": {
      "text/plain": [
       "True     80\n",
       "False    20\n",
       "dtype: int64"
      ]
     },
     "execution_count": 40,
     "metadata": {},
     "output_type": "execute_result"
    }
   ],
   "source": [
    "(citation_temp_authors['len_authors'] <= citation_temp_authors['len_retrieved_author']).value_counts()"
   ]
  },
  {
   "cell_type": "markdown",
   "metadata": {},
   "source": [
    "As you can see the percentages are low but this is partially because of the different annotations in the way which the authors were written in, but again we see that Crossref API is more specific and precise than Google Books."
   ]
  },
  {
   "cell_type": "code",
   "execution_count": 41,
   "metadata": {},
   "outputs": [
    {
     "data": {
      "text/html": [
       "<div>\n",
       "<style scoped>\n",
       "    .dataframe tbody tr th:only-of-type {\n",
       "        vertical-align: middle;\n",
       "    }\n",
       "\n",
       "    .dataframe tbody tr th {\n",
       "        vertical-align: top;\n",
       "    }\n",
       "\n",
       "    .dataframe thead th {\n",
       "        text-align: right;\n",
       "    }\n",
       "</style>\n",
       "<table border=\"1\" class=\"dataframe\">\n",
       "  <thead>\n",
       "    <tr style=\"text-align: right;\">\n",
       "      <th></th>\n",
       "      <th>author_percent_match</th>\n",
       "    </tr>\n",
       "    <tr>\n",
       "      <th>api_type</th>\n",
       "      <th></th>\n",
       "    </tr>\n",
       "  </thead>\n",
       "  <tbody>\n",
       "    <tr>\n",
       "      <th>Crossref</th>\n",
       "      <td>53.45</td>\n",
       "    </tr>\n",
       "    <tr>\n",
       "      <th>Google</th>\n",
       "      <td>22.80</td>\n",
       "    </tr>\n",
       "  </tbody>\n",
       "</table>\n",
       "</div>"
      ],
      "text/plain": [
       "          author_percent_match\n",
       "api_type                      \n",
       "Crossref                 53.45\n",
       "Google                   22.80"
      ]
     },
     "execution_count": 41,
     "metadata": {},
     "output_type": "execute_result"
    }
   ],
   "source": [
    "citation_temp_authors['author_percent_match'] = citation_temp_authors.apply(\n",
    "    get_ratio, args=('joined_authors', 'retrieved_author'), axis=1)\n",
    "citation_temp_authors[['api_type', 'author_percent_match']].groupby('api_type').mean()"
   ]
  },
  {
   "cell_type": "markdown",
   "metadata": {},
   "source": [
    "### How do the identifiers appear with each other?\n",
    "\n",
    "* Do we have citations with a lot of two identifiers?"
   ]
  },
  {
   "cell_type": "code",
   "execution_count": 42,
   "metadata": {},
   "outputs": [],
   "source": [
    "identifiers_existing = citation_with_ids[['DOI', 'ISBN', 'ISSN', 'PMC', 'PMID']].notnull()"
   ]
  },
  {
   "cell_type": "code",
   "execution_count": 43,
   "metadata": {},
   "outputs": [
    {
     "data": {
      "text/html": [
       "<div>\n",
       "<style scoped>\n",
       "    .dataframe tbody tr th:only-of-type {\n",
       "        vertical-align: middle;\n",
       "    }\n",
       "\n",
       "    .dataframe tbody tr th {\n",
       "        vertical-align: top;\n",
       "    }\n",
       "\n",
       "    .dataframe thead th {\n",
       "        text-align: right;\n",
       "    }\n",
       "</style>\n",
       "<table border=\"1\" class=\"dataframe\">\n",
       "  <thead>\n",
       "    <tr style=\"text-align: right;\">\n",
       "      <th></th>\n",
       "      <th>DOI</th>\n",
       "      <th>ISBN</th>\n",
       "      <th>ISSN</th>\n",
       "      <th>PMC</th>\n",
       "      <th>PMID</th>\n",
       "    </tr>\n",
       "  </thead>\n",
       "  <tbody>\n",
       "    <tr>\n",
       "      <th>0</th>\n",
       "      <td>False</td>\n",
       "      <td>False</td>\n",
       "      <td>True</td>\n",
       "      <td>False</td>\n",
       "      <td>False</td>\n",
       "    </tr>\n",
       "    <tr>\n",
       "      <th>1</th>\n",
       "      <td>False</td>\n",
       "      <td>True</td>\n",
       "      <td>False</td>\n",
       "      <td>False</td>\n",
       "      <td>False</td>\n",
       "    </tr>\n",
       "    <tr>\n",
       "      <th>2</th>\n",
       "      <td>True</td>\n",
       "      <td>False</td>\n",
       "      <td>False</td>\n",
       "      <td>False</td>\n",
       "      <td>True</td>\n",
       "    </tr>\n",
       "    <tr>\n",
       "      <th>3</th>\n",
       "      <td>True</td>\n",
       "      <td>False</td>\n",
       "      <td>False</td>\n",
       "      <td>False</td>\n",
       "      <td>True</td>\n",
       "    </tr>\n",
       "    <tr>\n",
       "      <th>4</th>\n",
       "      <td>True</td>\n",
       "      <td>False</td>\n",
       "      <td>False</td>\n",
       "      <td>True</td>\n",
       "      <td>True</td>\n",
       "    </tr>\n",
       "  </tbody>\n",
       "</table>\n",
       "</div>"
      ],
      "text/plain": [
       "     DOI   ISBN   ISSN    PMC   PMID\n",
       "0  False  False   True  False  False\n",
       "1  False   True  False  False  False\n",
       "2   True  False  False  False   True\n",
       "3   True  False  False  False   True\n",
       "4   True  False  False   True   True"
      ]
     },
     "execution_count": 43,
     "metadata": {},
     "output_type": "execute_result"
    }
   ],
   "source": [
    "identifiers_existing.head()"
   ]
  },
  {
   "cell_type": "code",
   "execution_count": 44,
   "metadata": {},
   "outputs": [],
   "source": [
    "all_columns = identifiers_existing.columns\n",
    "frequency_citation = dict()\n",
    "\n",
    "def get_frequency_of_identifiers_appearing(x):\n",
    "    available_citation_types = tuple([column for column in all_columns if x[column]])\n",
    "    frequency_citation.setdefault(available_citation_types, 0)\n",
    "    frequency_citation[available_citation_types] += 1\n",
    "\n",
    "_ = identifiers_existing.apply(lambda x: get_frequency_of_identifiers_appearing(x), axis=1)"
   ]
  },
  {
   "cell_type": "code",
   "execution_count": 45,
   "metadata": {},
   "outputs": [
    {
     "data": {
      "image/png": "[encoded data removed]",
      "text/plain": [
       "<Figure size 864x360 with 1 Axes>"
      ]
     },
     "metadata": {
      "needs_background": "light"
     },
     "output_type": "display_data"
    }
   ],
   "source": [
    "# Make a graph of the frequency distribution calculated above\n",
    "names = list(frequency_citation.keys())\n",
    "values = list(frequency_citation.values())\n",
    "\n",
    "plt.rcParams[\"figure.figsize\"] = (12,5)\n",
    "plt.xticks(rotation=90)\n",
    "plt.bar(range(len(frequency_citation)),values,tick_label=names)\n",
    "plt.show()"
   ]
  },
  {
   "cell_type": "markdown",
   "metadata": {},
   "source": [
    "## Loading the wikipedia dataset with identifiers"
   ]
  },
  {
   "cell_type": "code",
   "execution_count": 4,
   "metadata": {},
   "outputs": [],
   "source": [
    "CITATION_WITH_IDENTIFIERS = '../Citations_with_Identifiers/enwiki.tsv.tar.gz'\n",
    "\n",
    "wiki_en_identifiers = pd.read_csv(CITATION_WITH_IDENTIFIERS, compression='gzip', sep='\\t')"
   ]
  },
  {
   "cell_type": "code",
   "execution_count": 5,
   "metadata": {},
   "outputs": [
    {
     "data": {
      "text/html": [
       "<div>\n",
       "<style scoped>\n",
       "    .dataframe tbody tr th:only-of-type {\n",
       "        vertical-align: middle;\n",
       "    }\n",
       "\n",
       "    .dataframe tbody tr th {\n",
       "        vertical-align: top;\n",
       "    }\n",
       "\n",
       "    .dataframe thead th {\n",
       "        text-align: right;\n",
       "    }\n",
       "</style>\n",
       "<table border=\"1\" class=\"dataframe\">\n",
       "  <thead>\n",
       "    <tr style=\"text-align: right;\">\n",
       "      <th></th>\n",
       "      <th>enwiki.tsv</th>\n",
       "      <th>page_title</th>\n",
       "      <th>rev_id</th>\n",
       "      <th>timestamp</th>\n",
       "      <th>type</th>\n",
       "      <th>id</th>\n",
       "    </tr>\n",
       "  </thead>\n",
       "  <tbody>\n",
       "    <tr>\n",
       "      <th>0</th>\n",
       "      <td>2867096.0</td>\n",
       "      <td>Mu Aquilae</td>\n",
       "      <td>503137751.0</td>\n",
       "      <td>2012-07-19T16:08:41Z</td>\n",
       "      <td>doi</td>\n",
       "      <td>10.1051/0004-6361:20078357</td>\n",
       "    </tr>\n",
       "    <tr>\n",
       "      <th>1</th>\n",
       "      <td>2867096.0</td>\n",
       "      <td>Mu Aquilae</td>\n",
       "      <td>508363722.0</td>\n",
       "      <td>2012-08-20T22:56:21Z</td>\n",
       "      <td>arxiv</td>\n",
       "      <td>astro-ph/0604502</td>\n",
       "    </tr>\n",
       "    <tr>\n",
       "      <th>2</th>\n",
       "      <td>2867096.0</td>\n",
       "      <td>Mu Aquilae</td>\n",
       "      <td>508363722.0</td>\n",
       "      <td>2012-08-20T22:56:21Z</td>\n",
       "      <td>arxiv</td>\n",
       "      <td>astro-ph/0003329</td>\n",
       "    </tr>\n",
       "    <tr>\n",
       "      <th>3</th>\n",
       "      <td>2867096.0</td>\n",
       "      <td>Mu Aquilae</td>\n",
       "      <td>508363722.0</td>\n",
       "      <td>2012-08-20T22:56:21Z</td>\n",
       "      <td>arxiv</td>\n",
       "      <td>0708.1752</td>\n",
       "    </tr>\n",
       "    <tr>\n",
       "      <th>4</th>\n",
       "      <td>2867096.0</td>\n",
       "      <td>Mu Aquilae</td>\n",
       "      <td>503137751.0</td>\n",
       "      <td>2012-07-19T16:08:41Z</td>\n",
       "      <td>doi</td>\n",
       "      <td>10.1051/0004-6361:20064946</td>\n",
       "    </tr>\n",
       "  </tbody>\n",
       "</table>\n",
       "</div>"
      ],
      "text/plain": [
       "   enwiki.tsv  page_title       rev_id             timestamp   type  \\\n",
       "0   2867096.0  Mu Aquilae  503137751.0  2012-07-19T16:08:41Z    doi   \n",
       "1   2867096.0  Mu Aquilae  508363722.0  2012-08-20T22:56:21Z  arxiv   \n",
       "2   2867096.0  Mu Aquilae  508363722.0  2012-08-20T22:56:21Z  arxiv   \n",
       "3   2867096.0  Mu Aquilae  508363722.0  2012-08-20T22:56:21Z  arxiv   \n",
       "4   2867096.0  Mu Aquilae  503137751.0  2012-07-19T16:08:41Z    doi   \n",
       "\n",
       "                           id  \n",
       "0  10.1051/0004-6361:20078357  \n",
       "1            astro-ph/0604502  \n",
       "2            astro-ph/0003329  \n",
       "3                   0708.1752  \n",
       "4  10.1051/0004-6361:20064946  "
      ]
     },
     "execution_count": 5,
     "metadata": {},
     "output_type": "execute_result"
    }
   ],
   "source": [
    "wiki_en_identifiers.head(5)"
   ]
  },
  {
   "cell_type": "code",
   "execution_count": 6,
   "metadata": {},
   "outputs": [
    {
     "name": "stdout",
     "output_type": "stream",
     "text": [
      "Total citation identifiers for English Wikipedia: 3794696\n"
     ]
    }
   ],
   "source": [
    "print('Total citation identifiers for English Wikipedia: {}'.format(wiki_en_identifiers.shape[0]))"
   ]
  },
  {
   "cell_type": "code",
   "execution_count": 7,
   "metadata": {},
   "outputs": [
    {
     "data": {
      "text/plain": [
       "array(['doi', 'arxiv', 'isbn', 'pmid', 'pmc', nan], dtype=object)"
      ]
     },
     "execution_count": 7,
     "metadata": {},
     "output_type": "execute_result"
    }
   ],
   "source": [
    "wiki_en_identifiers['type'].unique() # Labels which have unique IDSs"
   ]
  },
  {
   "cell_type": "code",
   "execution_count": 8,
   "metadata": {},
   "outputs": [],
   "source": [
    "# Remove the one with the NaN value\n",
    "wiki_en_identifiers = wiki_en_identifiers[wiki_en_identifiers['type'].notnull()]"
   ]
  },
  {
   "cell_type": "code",
   "execution_count": 9,
   "metadata": {},
   "outputs": [],
   "source": [
    "# Adding a boolean to check if the citation is in other dataset - to \n",
    "wiki_en_identifiers['is_in_other_dataset'] = False"
   ]
  },
  {
   "cell_type": "code",
   "execution_count": 11,
   "metadata": {},
   "outputs": [
    {
     "data": {
      "text/plain": [
       "857764"
      ]
     },
     "execution_count": 11,
     "metadata": {},
     "output_type": "execute_result"
    }
   ],
   "source": [
    "wiki_en_identifiers['page_title'].nunique()"
   ]
  },
  {
   "cell_type": "code",
   "execution_count": 37,
   "metadata": {},
   "outputs": [
    {
     "data": {
      "text/plain": [
       "2190762"
      ]
     },
     "execution_count": 37,
     "metadata": {},
     "output_type": "execute_result"
    }
   ],
   "source": [
    "wiki_en_identifiers['id'].nunique()"
   ]
  },
  {
   "cell_type": "markdown",
   "metadata": {},
   "source": [
    "## Revision Analysis"
   ]
  },
  {
   "cell_type": "code",
   "execution_count": 52,
   "metadata": {},
   "outputs": [],
   "source": [
    "# curated_title_id = citation_with_ids[['page_', 'r_id', 'r_parentid']]\n",
    "# curated_title_id.head()"
   ]
  },
  {
   "cell_type": "markdown",
   "metadata": {},
   "source": [
    "As we can see that many parent ids in our dataset are not present in the citation with identifiers dataset which should be kept in mind for further analysis and can be classified as a reason that we might get less citations."
   ]
  },
  {
   "cell_type": "code",
   "execution_count": 53,
   "metadata": {},
   "outputs": [],
   "source": [
    "# r_parentid_which_are_present = curated_title_id['r_parentid'].isin(wiki_en_identifiers['rev_id'])\n",
    "# total_number_of_r_parentid_in_wiki = np.sum(r_parentid_which_are_present)\n",
    "# print(curated_title_id.shape[0], wiki_en_identifiers['rev_id'].shape[0], total_number_of_r_parentid_in_wiki)"
   ]
  },
  {
   "cell_type": "markdown",
   "metadata": {},
   "source": [
    "## Comparing the two datasets"
   ]
  },
  {
   "cell_type": "markdown",
   "metadata": {},
   "source": [
    "The gap exists between the two datasets (3.74 mil, 3.14 mil) of about 600,000  because we are looking only at certain citation formats which can be parsed by the `mwparserfromhell`. But still we have got 90% of the citation data by looking at just mere numbers. The 10% deficit is because of the dataset used by wiki identifiers is for revision where we are using a dataset relating to a particular date."
   ]
  },
  {
   "cell_type": "code",
   "execution_count": 54,
   "metadata": {},
   "outputs": [
    {
     "name": "stdout",
     "output_type": "stream",
     "text": [
      "The total gap between between total number of wikipedias citations and our citations: 647323\n"
     ]
    }
   ],
   "source": [
    "gap = wiki_en_identifiers.shape[0] - total_citations\n",
    "\n",
    "print('The total gap between between total number of wikipedias citations and our citations: {}'.format(gap))"
   ]
  },
  {
   "cell_type": "code",
   "execution_count": 55,
   "metadata": {},
   "outputs": [],
   "source": [
    "def get_citations_specific_to_type(wiki_type, curated_type):\n",
    "    type_wiki_identifiers = wiki_en_identifiers[wiki_en_identifiers['type'] == wiki_type]\n",
    "    type_citations_curated = citation_with_ids[citation_with_ids[curated_type].notnull()]\n",
    "    \n",
    "    # Just considering the unique ones since they are a lot of duplicated DOIs\n",
    "    # Maybe one citation is cited in many different pages\n",
    "    number_of_identifiers_wiki = type_wiki_identifiers['id'].shape[0]\n",
    "    number_of_identifiers_curated = type_citations_curated['DOI'].shape[0]\n",
    "    print('The total number of unique {} wiki identifiers: {}'.format(wiki_type, number_of_identifiers_wiki))\n",
    "    print('The total number of unique {} curated identifiers: {}'.format(curated_type, number_of_identifiers_curated))\n",
    "    \n",
    "    print('\\nThe difference between wiki and curated is: {}'.format(\n",
    "        number_of_identifiers_wiki - number_of_identifiers_curated)\n",
    "    )\n",
    "    \n",
    "    return type_wiki_identifiers, type_citations_curated"
   ]
  },
  {
   "cell_type": "markdown",
   "metadata": {},
   "source": [
    "### How many DOI identifiers are common?"
   ]
  },
  {
   "cell_type": "code",
   "execution_count": 56,
   "metadata": {},
   "outputs": [
    {
     "name": "stdout",
     "output_type": "stream",
     "text": [
      "The total number of unique doi wiki identifiers: 1211807\n",
      "The total number of unique DOI curated identifiers: 1112084\n",
      "\n",
      "The difference between wiki and curated is: 99723\n"
     ]
    }
   ],
   "source": [
    "doi_wiki_identifiers, doi_citations_curated = get_citations_specific_to_type('doi', 'DOI')"
   ]
  },
  {
   "cell_type": "code",
   "execution_count": 57,
   "metadata": {},
   "outputs": [],
   "source": [
    "# Check if curated DOIs are contained in the already obtained dataset from Wikipedia\n",
    "doi_which_are_present = doi_wiki_identifiers['id'].isin(doi_citations_curated['DOI'])\n",
    "total_number_of_doi_identifiers_in_wiki = np.sum(doi_which_are_present)\n",
    "wiki_en_identifiers['is_in_other_dataset'].loc[doi_which_are_present.index] = doi_which_are_present.values"
   ]
  },
  {
   "cell_type": "code",
   "execution_count": 58,
   "metadata": {},
   "outputs": [
    {
     "name": "stdout",
     "output_type": "stream",
     "text": [
      "Stats:\n",
      "Total Curated: 1112084 \n",
      "Total Wiki:1211807 \n",
      "Curated which are in Wiki: 1051578 \n",
      "Gap: 60506 -> Wiki which are not identified: 160229\n"
     ]
    }
   ],
   "source": [
    "print(\n",
    "    'Stats:\\nTotal Curated: {} \\nTotal Wiki:{} \\nCurated which are in Wiki: {} \\nGap: {} -> Wiki which are not identified: {}'.format(\n",
    "        doi_citations_curated.shape[0],\n",
    "        doi_wiki_identifiers.shape[0],\n",
    "        total_number_of_doi_identifiers_in_wiki,\n",
    "        doi_citations_curated.shape[0] - total_number_of_doi_identifiers_in_wiki,\n",
    "        doi_which_are_present[~doi_which_are_present].shape[0]\n",
    "    )\n",
    ")"
   ]
  },
  {
   "cell_type": "markdown",
   "metadata": {},
   "source": [
    "### How many ISBN (also ISSN) identifiers are common?\n",
    "\n",
    "* ISBNs are International Standard Book Numbers. They can be assigned to monographic publications, such as books, e-books and audiobooks.\n",
    "* ISMNs are International Standard Music Numbers. They can be assigned to notated music (scores and sheet music) whether published in print, online or in other media.\n",
    "* ISSNs are International Standard Serial Numbers. They can be assigned to periodical publications, such as magazines and journals."
   ]
  },
  {
   "cell_type": "code",
   "execution_count": 59,
   "metadata": {},
   "outputs": [
    {
     "name": "stdout",
     "output_type": "stream",
     "text": [
      "The total number of unique isbn wiki identifiers: 1740812\n",
      "The total number of unique ISBN curated identifiers: 1763305\n",
      "\n",
      "The difference between wiki and curated is: -22493\n"
     ]
    }
   ],
   "source": [
    "isbn_wiki_identifiers, isbn_citations_curated = get_citations_specific_to_type('isbn', 'ISBN')"
   ]
  },
  {
   "cell_type": "markdown",
   "metadata": {},
   "source": [
    "### Trying to normalize all the ISBN (also need to do for ISSN)\n",
    "\n",
    "* So if '00-11-223344' it becomes '0011223344'"
   ]
  },
  {
   "cell_type": "code",
   "execution_count": 60,
   "metadata": {},
   "outputs": [
    {
     "data": {
      "text/plain": [
       "0"
      ]
     },
     "execution_count": 60,
     "metadata": {},
     "output_type": "execute_result"
    }
   ],
   "source": [
    "# Check if the wikipedia citation identifiers does not have hyphens\n",
    "np.sum(isbn_wiki_identifiers['id'].apply(lambda x: '-' in x))"
   ]
  },
  {
   "cell_type": "code",
   "execution_count": 61,
   "metadata": {},
   "outputs": [],
   "source": [
    "isbn_citations_curated['ISBN'] = isbn_citations_curated['ISBN'].apply(lambda x: x.replace('-', ''))"
   ]
  },
  {
   "cell_type": "code",
   "execution_count": 62,
   "metadata": {},
   "outputs": [],
   "source": [
    "# Check if curated DOIs are contained in the already obtained dataset from Wikipedia\n",
    "\n",
    "isbn_which_are_present = isbn_wiki_identifiers['id'].isin(isbn_citations_curated['ISBN'])\n",
    "total_number_of_isbn_identifiers_in_wiki = np.sum(isbn_which_are_present)\n",
    "wiki_en_identifiers['is_in_other_dataset'].loc[isbn_which_are_present.index] = isbn_which_are_present.values"
   ]
  },
  {
   "cell_type": "code",
   "execution_count": 63,
   "metadata": {},
   "outputs": [
    {
     "name": "stdout",
     "output_type": "stream",
     "text": [
      "Stats:\n",
      "Total Curated: 1763305 \n",
      "Total Wiki:1740812 \n",
      "Curated which are in Wiki: 1637545 \n",
      "Gap: 125760 -> Wiki which are not identified: 103267\n"
     ]
    }
   ],
   "source": [
    "print(\n",
    "    'Stats:\\nTotal Curated: {} \\nTotal Wiki:{} \\nCurated which are in Wiki: {} \\nGap: {} -> Wiki which are not identified: {}'.format(\n",
    "        isbn_citations_curated.shape[0],\n",
    "        isbn_wiki_identifiers.shape[0],\n",
    "        total_number_of_isbn_identifiers_in_wiki,\n",
    "        isbn_citations_curated.shape[0] - total_number_of_isbn_identifiers_in_wiki,\n",
    "        isbn_which_are_present[~isbn_which_are_present].shape[0]\n",
    "    )\n",
    ")"
   ]
  },
  {
   "cell_type": "markdown",
   "metadata": {},
   "source": [
    "### Now time for ISSN..."
   ]
  },
  {
   "cell_type": "code",
   "execution_count": 64,
   "metadata": {},
   "outputs": [
    {
     "name": "stdout",
     "output_type": "stream",
     "text": [
      "The total number of unique isbn wiki identifiers: 1740812\n",
      "The total number of unique ISSN curated identifiers: 207315\n",
      "\n",
      "The difference between wiki and curated is: 1533497\n"
     ]
    }
   ],
   "source": [
    "# But the stats for this does not matter!!!\n",
    "# because the hypothesis is that ISSN is contained inside ISBN - but only some of them do!\n",
    "isbn_wiki_identifiers, issn_citations_curated = get_citations_specific_to_type('isbn', 'ISSN')"
   ]
  },
  {
   "cell_type": "code",
   "execution_count": 65,
   "metadata": {},
   "outputs": [],
   "source": [
    "# Normalizing it again like ISBN\n",
    "issn_citations_curated['ISSN'] = issn_citations_curated['ISSN'].apply(lambda x: x.replace('-', ''))"
   ]
  },
  {
   "cell_type": "code",
   "execution_count": 66,
   "metadata": {},
   "outputs": [],
   "source": [
    "issn_which_are_present = issn_citations_curated['ISSN'].isin(isbn_wiki_identifiers['id'])\n",
    "total_number_of_issn_identifiers_in_wiki = np.sum(issn_which_are_present)\n",
    "wiki_en_identifiers['is_in_other_dataset'].loc[issn_which_are_present.index] = issn_which_are_present.values"
   ]
  },
  {
   "cell_type": "code",
   "execution_count": 67,
   "metadata": {},
   "outputs": [
    {
     "name": "stdout",
     "output_type": "stream",
     "text": [
      "Stats:\n",
      "Total Curated: 207315 \n",
      "Curated which are in Wiki: 8053 \n",
      "Gap: 199262 -> Wiki which are not identified: 199262\n"
     ]
    }
   ],
   "source": [
    "print(\n",
    "    'Stats:\\nTotal Curated: {} \\nCurated which are in Wiki: {} \\nGap: {} -> Wiki which are not identified: {}'.format(\n",
    "        issn_citations_curated.shape[0],\n",
    "        total_number_of_issn_identifiers_in_wiki,\n",
    "        issn_citations_curated.shape[0] - total_number_of_issn_identifiers_in_wiki,\n",
    "        issn_which_are_present[~issn_which_are_present].shape[0]\n",
    "    )\n",
    ")"
   ]
  },
  {
   "cell_type": "markdown",
   "metadata": {},
   "source": [
    "What we can see is that ISSN exists in our `curated` dataset and only some of them of these are contained in the existing `wikipedia dataset`. Most of them do not exist and hence the hypothesis is potentially not correct. Also, some of these can be counter examples since they are magazines and music volumes which are not scientific in nature."
   ]
  },
  {
   "cell_type": "markdown",
   "metadata": {},
   "source": [
    "### How many PMID identifiers are common?"
   ]
  },
  {
   "cell_type": "code",
   "execution_count": 68,
   "metadata": {},
   "outputs": [
    {
     "name": "stdout",
     "output_type": "stream",
     "text": [
      "The total number of unique pmid wiki identifiers: 609848\n",
      "The total number of unique PMID curated identifiers: 629434\n",
      "\n",
      "The difference between wiki and curated is: -19586\n"
     ]
    }
   ],
   "source": [
    "pmid_wiki_identifiers, pmid_citations_curated = get_citations_specific_to_type('pmid', 'PMID')"
   ]
  },
  {
   "cell_type": "code",
   "execution_count": 69,
   "metadata": {},
   "outputs": [],
   "source": [
    "# Check if curated PMIDs are contained in the already obtained dataset from Wikipedia\n",
    "pmid_which_are_present = pmid_citations_curated['PMID'].isin(pmid_wiki_identifiers['id'])\n",
    "total_number_of_pmid_identifiers_in_wiki = np.sum(pmid_which_are_present)\n",
    "wiki_en_identifiers['is_in_other_dataset'].loc[pmid_which_are_present.index] = pmid_which_are_present.values"
   ]
  },
  {
   "cell_type": "code",
   "execution_count": 70,
   "metadata": {},
   "outputs": [
    {
     "name": "stdout",
     "output_type": "stream",
     "text": [
      "Stats:\n",
      "Total Curated: 629434 \n",
      "Total Wiki:609848 \n",
      "Curated which are in Wiki: 594216 \n",
      "Gap: 35218 -> Wiki which are not identified: 35218\n"
     ]
    }
   ],
   "source": [
    "print(\n",
    "    'Stats:\\nTotal Curated: {} \\nTotal Wiki:{} \\nCurated which are in Wiki: {} \\nGap: {} -> Wiki which are not identified: {}'.format(\n",
    "        pmid_citations_curated.shape[0],\n",
    "        pmid_wiki_identifiers.shape[0],\n",
    "        total_number_of_pmid_identifiers_in_wiki,\n",
    "        pmid_citations_curated.shape[0] - total_number_of_pmid_identifiers_in_wiki,\n",
    "        pmid_which_are_present[~pmid_which_are_present].shape[0]\n",
    "    )\n",
    ")"
   ]
  },
  {
   "cell_type": "markdown",
   "metadata": {},
   "source": [
    "### How many PMC identifiers are common?"
   ]
  },
  {
   "cell_type": "code",
   "execution_count": 71,
   "metadata": {},
   "outputs": [
    {
     "name": "stdout",
     "output_type": "stream",
     "text": [
      "The total number of unique pmc wiki identifiers: 181240\n",
      "The total number of unique PMC curated identifiers: 203502\n",
      "\n",
      "The difference between wiki and curated is: -22262\n"
     ]
    }
   ],
   "source": [
    "pmc_wiki_identifiers, pmc_citations_curated = get_citations_specific_to_type('pmc', 'PMC')"
   ]
  },
  {
   "cell_type": "code",
   "execution_count": 72,
   "metadata": {},
   "outputs": [],
   "source": [
    "# Check if curated PMCs are contained in the already obtained dataset from Wikipedia\n",
    "pmc_which_are_present = pmc_citations_curated['PMC'].isin(pmc_wiki_identifiers['id'])\n",
    "total_number_of_pmc_identifiers_in_wiki = np.sum(pmc_which_are_present)\n",
    "wiki_en_identifiers['is_in_other_dataset'].loc[pmc_which_are_present.index] = pmc_which_are_present.values"
   ]
  },
  {
   "cell_type": "code",
   "execution_count": 73,
   "metadata": {},
   "outputs": [
    {
     "name": "stdout",
     "output_type": "stream",
     "text": [
      "Stats:\n",
      "Total Curated: 203502 \n",
      "Total Wiki:181240 \n",
      "Curated which are in Wiki: 179173 \n",
      "Gap: 24329 -> Wiki which are not identified: 24329\n"
     ]
    }
   ],
   "source": [
    "print(\n",
    "    'Stats:\\nTotal Curated: {} \\nTotal Wiki:{} \\nCurated which are in Wiki: {} \\nGap: {} -> Wiki which are not identified: {}'.format(\n",
    "        pmc_citations_curated.shape[0],\n",
    "        pmc_wiki_identifiers.shape[0],\n",
    "        total_number_of_pmc_identifiers_in_wiki,\n",
    "        pmc_citations_curated.shape[0] - total_number_of_pmc_identifiers_in_wiki,\n",
    "        pmc_which_are_present[~pmc_which_are_present].shape[0]\n",
    "    )\n",
    ")"
   ]
  },
  {
   "cell_type": "markdown",
   "metadata": {},
   "source": [
    "### How many ArXiV identifiers are common?"
   ]
  },
  {
   "cell_type": "code",
   "execution_count": 74,
   "metadata": {},
   "outputs": [
    {
     "name": "stdout",
     "output_type": "stream",
     "text": [
      "The total number of unique arxiv wiki identifiers: 50988\n",
      "The total number of unique ARXIV curated identifiers: 36490\n",
      "\n",
      "The difference between wiki and curated is: 14498\n"
     ]
    }
   ],
   "source": [
    "arxiv_wiki_identifiers, arxiv_citations_curated = get_citations_specific_to_type('arxiv', 'ARXIV')"
   ]
  },
  {
   "cell_type": "code",
   "execution_count": 75,
   "metadata": {},
   "outputs": [],
   "source": [
    "# Check if curated PMCs are contained in the already obtained dataset from Wikipedia\n",
    "arxiv_which_are_present = arxiv_citations_curated['ARXIV'].isin(arxiv_wiki_identifiers['id'])\n",
    "total_number_of_arxiv_identifiers_in_wiki = np.sum(arxiv_which_are_present)\n",
    "wiki_en_identifiers['is_in_other_dataset'].loc[arxiv_which_are_present.index] = arxiv_which_are_present.values"
   ]
  },
  {
   "cell_type": "code",
   "execution_count": 76,
   "metadata": {},
   "outputs": [
    {
     "name": "stdout",
     "output_type": "stream",
     "text": [
      "Stats:\n",
      "Total Curated: 36490 \n",
      "Total Wiki:50988 \n",
      "Curated which are in Wiki: 30008 \n",
      "Gap: 6482 -> Wiki which are not identified: 6482\n"
     ]
    }
   ],
   "source": [
    "print(\n",
    "    'Stats:\\nTotal Curated: {} \\nTotal Wiki:{} \\nCurated which are in Wiki: {} \\nGap: {} -> Wiki which are not identified: {}'.format(\n",
    "        arxiv_citations_curated.shape[0],\n",
    "        arxiv_wiki_identifiers.shape[0],\n",
    "        total_number_of_arxiv_identifiers_in_wiki,\n",
    "        arxiv_citations_curated.shape[0] - total_number_of_arxiv_identifiers_in_wiki,\n",
    "        arxiv_which_are_present[~arxiv_which_are_present].shape[0]\n",
    "    )\n",
    ")"
   ]
  }
 ],
 "metadata": {
  "kernelspec": {
   "display_name": "Python 3",
   "language": "python",
   "name": "python3"
  },
  "language_info": {
   "codemirror_mode": {
    "name": "ipython",
    "version": 3
   },
   "file_extension": ".py",
   "mimetype": "text/x-python",
   "name": "python",
   "nbconvert_exporter": "python",
   "pygments_lexer": "ipython3",
   "version": "3.7.3"
  }
 },
 "nbformat": 4,
 "nbformat_minor": 2
}
