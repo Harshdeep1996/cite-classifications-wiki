{
 "cells": [
  {
   "cell_type": "markdown",
   "metadata": {},
   "source": [
    "## Loading the curated citations dataset and do processing"
   ]
  },
  {
   "cell_type": "code",
   "execution_count": 1,
   "metadata": {},
   "outputs": [],
   "source": [
    "# All imports\n",
    "import glob\n",
    "import json\n",
    "import numpy as np\n",
    "import pandas as pd\n",
    "import matplotlib.pyplot as plt\n",
    "from matplotlib.pyplot import figure\n",
    "from scripts.const import CITATION_TEMPLATES\n",
    "\n",
    "import findspark\n",
    "findspark.init('/Users/harshdeep/Downloads/spark-1.6.0-bin-hadoop2.6/')\n",
    "from pyspark import SparkContext, SQLContext\n",
    "\n",
    "\n",
    "import warnings\n",
    "warnings.filterwarnings(\"ignore\")"
   ]
  },
  {
   "cell_type": "markdown",
   "metadata": {},
   "source": [
    "### Load the citations (extracted) parquet file with 21 million citations"
   ]
  },
  {
   "cell_type": "code",
   "execution_count": 2,
   "metadata": {},
   "outputs": [],
   "source": [
    "sc = SparkContext()\n",
    "sqlContext = SQLContext(sc)"
   ]
  },
  {
   "cell_type": "code",
   "execution_count": 3,
   "metadata": {},
   "outputs": [],
   "source": [
    "all_citations = sqlContext.read.parquet('./citations_separated.parquet/')"
   ]
  },
  {
   "cell_type": "code",
   "execution_count": 4,
   "metadata": {},
   "outputs": [],
   "source": [
    "# Get citation count for all the 25 citations which can be parsed\n",
    "citation_count = all_citations.groupby('type_of_citation').count().toPandas()"
   ]
  },
  {
   "cell_type": "code",
   "execution_count": 5,
   "metadata": {},
   "outputs": [
    {
     "data": {
      "text/plain": [
       "array([u'cite journal', u'cite dvd notes', u'cite thesis',\n",
       "       u'cite episode', u'cite encyclopedia', u'cite newsgroup',\n",
       "       u'cite arxiv', u'cite web', u'cite mailing list', u'cite av media',\n",
       "       u'citation', u'cite conference', u'cite news', u'cite report',\n",
       "       u'cite av media notes', u'cite press release', u'cite serial',\n",
       "       u'cite map', u'cite techreport', u'cite podcast', u'cite book',\n",
       "       u'cite interview', u'cite speech', u'cite sign'], dtype=object)"
      ]
     },
     "execution_count": 5,
     "metadata": {},
     "output_type": "execute_result"
    }
   ],
   "source": [
    "citation_count['type_of_citation'].unique()"
   ]
  },
  {
   "cell_type": "markdown",
   "metadata": {},
   "source": [
    "### Get the top 300 templates (according to DLAB) and compare it with the number of citations we have got"
   ]
  },
  {
   "cell_type": "code",
   "execution_count": 6,
   "metadata": {},
   "outputs": [],
   "source": [
    "top300_templates = pd.read_csv('top300_templates.csv')"
   ]
  },
  {
   "cell_type": "code",
   "execution_count": 7,
   "metadata": {},
   "outputs": [],
   "source": [
    "# Only consider the templates which can be parsed by mwparserfromhell\n",
    "parseable_template_count = top300_templates.loc[top300_templates['template'].isin(CITATION_TEMPLATES)]"
   ]
  },
  {
   "cell_type": "code",
   "execution_count": 8,
   "metadata": {},
   "outputs": [],
   "source": [
    "merged_counts = pd.merge(\n",
    "    parseable_template_count, citation_count,\n",
    "    left_on='template', right_on='type_of_citation', how='inner'\n",
    ").drop('template', axis=1)\n",
    "\n",
    "merged_counts.columns = ['dlab_count', 'type_of_citation', 'curated_count']"
   ]
  },
  {
   "cell_type": "code",
   "execution_count": 9,
   "metadata": {},
   "outputs": [
    {
     "data": {
      "text/html": [
       "<div>\n",
       "<style scoped>\n",
       "    .dataframe tbody tr th:only-of-type {\n",
       "        vertical-align: middle;\n",
       "    }\n",
       "\n",
       "    .dataframe tbody tr th {\n",
       "        vertical-align: top;\n",
       "    }\n",
       "\n",
       "    .dataframe thead th {\n",
       "        text-align: right;\n",
       "    }\n",
       "</style>\n",
       "<table border=\"1\" class=\"dataframe\">\n",
       "  <thead>\n",
       "    <tr style=\"text-align: right;\">\n",
       "      <th></th>\n",
       "      <th>dlab_count</th>\n",
       "      <th>type_of_citation</th>\n",
       "      <th>curated_count</th>\n",
       "      <th>bigger_than</th>\n",
       "    </tr>\n",
       "  </thead>\n",
       "  <tbody>\n",
       "    <tr>\n",
       "      <th>0</th>\n",
       "      <td>13340076</td>\n",
       "      <td>cite web</td>\n",
       "      <td>15471265</td>\n",
       "      <td>2131189</td>\n",
       "    </tr>\n",
       "    <tr>\n",
       "      <th>1</th>\n",
       "      <td>4003325</td>\n",
       "      <td>cite news</td>\n",
       "      <td>4322391</td>\n",
       "      <td>319066</td>\n",
       "    </tr>\n",
       "    <tr>\n",
       "      <th>2</th>\n",
       "      <td>1765330</td>\n",
       "      <td>cite book</td>\n",
       "      <td>2696638</td>\n",
       "      <td>931308</td>\n",
       "    </tr>\n",
       "    <tr>\n",
       "      <th>3</th>\n",
       "      <td>1413205</td>\n",
       "      <td>cite journal</td>\n",
       "      <td>1948740</td>\n",
       "      <td>535535</td>\n",
       "    </tr>\n",
       "    <tr>\n",
       "      <th>4</th>\n",
       "      <td>304742</td>\n",
       "      <td>citation</td>\n",
       "      <td>522202</td>\n",
       "      <td>217460</td>\n",
       "    </tr>\n",
       "    <tr>\n",
       "      <th>5</th>\n",
       "      <td>62177</td>\n",
       "      <td>cite press release</td>\n",
       "      <td>66128</td>\n",
       "      <td>3951</td>\n",
       "    </tr>\n",
       "    <tr>\n",
       "      <th>6</th>\n",
       "      <td>39439</td>\n",
       "      <td>cite episode</td>\n",
       "      <td>43985</td>\n",
       "      <td>4546</td>\n",
       "    </tr>\n",
       "    <tr>\n",
       "      <th>7</th>\n",
       "      <td>34989</td>\n",
       "      <td>cite map</td>\n",
       "      <td>38495</td>\n",
       "      <td>3506</td>\n",
       "    </tr>\n",
       "    <tr>\n",
       "      <th>8</th>\n",
       "      <td>33637</td>\n",
       "      <td>cite encyclopedia</td>\n",
       "      <td>45954</td>\n",
       "      <td>12317</td>\n",
       "    </tr>\n",
       "    <tr>\n",
       "      <th>9</th>\n",
       "      <td>32269</td>\n",
       "      <td>cite report</td>\n",
       "      <td>37653</td>\n",
       "      <td>5384</td>\n",
       "    </tr>\n",
       "    <tr>\n",
       "      <th>10</th>\n",
       "      <td>23970</td>\n",
       "      <td>cite av media notes</td>\n",
       "      <td>27565</td>\n",
       "      <td>3595</td>\n",
       "    </tr>\n",
       "    <tr>\n",
       "      <th>11</th>\n",
       "      <td>17349</td>\n",
       "      <td>cite av media</td>\n",
       "      <td>20928</td>\n",
       "      <td>3579</td>\n",
       "    </tr>\n",
       "    <tr>\n",
       "      <th>12</th>\n",
       "      <td>8861</td>\n",
       "      <td>cite conference</td>\n",
       "      <td>9886</td>\n",
       "      <td>1025</td>\n",
       "    </tr>\n",
       "    <tr>\n",
       "      <th>13</th>\n",
       "      <td>5728</td>\n",
       "      <td>cite thesis</td>\n",
       "      <td>10191</td>\n",
       "      <td>4463</td>\n",
       "    </tr>\n",
       "    <tr>\n",
       "      <th>14</th>\n",
       "      <td>4387</td>\n",
       "      <td>cite interview</td>\n",
       "      <td>5386</td>\n",
       "      <td>999</td>\n",
       "    </tr>\n",
       "    <tr>\n",
       "      <th>15</th>\n",
       "      <td>2370</td>\n",
       "      <td>cite arxiv</td>\n",
       "      <td>3099</td>\n",
       "      <td>729</td>\n",
       "    </tr>\n",
       "    <tr>\n",
       "      <th>16</th>\n",
       "      <td>1290</td>\n",
       "      <td>cite podcast</td>\n",
       "      <td>1469</td>\n",
       "      <td>179</td>\n",
       "    </tr>\n",
       "    <tr>\n",
       "      <th>17</th>\n",
       "      <td>1024</td>\n",
       "      <td>cite mailing list</td>\n",
       "      <td>1099</td>\n",
       "      <td>75</td>\n",
       "    </tr>\n",
       "    <tr>\n",
       "      <th>18</th>\n",
       "      <td>971</td>\n",
       "      <td>cite techreport</td>\n",
       "      <td>1436</td>\n",
       "      <td>465</td>\n",
       "    </tr>\n",
       "    <tr>\n",
       "      <th>19</th>\n",
       "      <td>819</td>\n",
       "      <td>cite serial</td>\n",
       "      <td>867</td>\n",
       "      <td>48</td>\n",
       "    </tr>\n",
       "    <tr>\n",
       "      <th>20</th>\n",
       "      <td>687</td>\n",
       "      <td>cite sign</td>\n",
       "      <td>774</td>\n",
       "      <td>87</td>\n",
       "    </tr>\n",
       "    <tr>\n",
       "      <th>21</th>\n",
       "      <td>639</td>\n",
       "      <td>cite speech</td>\n",
       "      <td>796</td>\n",
       "      <td>157</td>\n",
       "    </tr>\n",
       "    <tr>\n",
       "      <th>22</th>\n",
       "      <td>616</td>\n",
       "      <td>cite newsgroup</td>\n",
       "      <td>565</td>\n",
       "      <td>-51</td>\n",
       "    </tr>\n",
       "    <tr>\n",
       "      <th>23</th>\n",
       "      <td>489</td>\n",
       "      <td>cite dvd notes</td>\n",
       "      <td>522</td>\n",
       "      <td>33</td>\n",
       "    </tr>\n",
       "  </tbody>\n",
       "</table>\n",
       "</div>"
      ],
      "text/plain": [
       "    dlab_count     type_of_citation  curated_count  bigger_than\n",
       "0     13340076             cite web       15471265      2131189\n",
       "1      4003325            cite news        4322391       319066\n",
       "2      1765330            cite book        2696638       931308\n",
       "3      1413205         cite journal        1948740       535535\n",
       "4       304742             citation         522202       217460\n",
       "5        62177   cite press release          66128         3951\n",
       "6        39439         cite episode          43985         4546\n",
       "7        34989             cite map          38495         3506\n",
       "8        33637    cite encyclopedia          45954        12317\n",
       "9        32269          cite report          37653         5384\n",
       "10       23970  cite av media notes          27565         3595\n",
       "11       17349        cite av media          20928         3579\n",
       "12        8861      cite conference           9886         1025\n",
       "13        5728          cite thesis          10191         4463\n",
       "14        4387       cite interview           5386          999\n",
       "15        2370           cite arxiv           3099          729\n",
       "16        1290         cite podcast           1469          179\n",
       "17        1024    cite mailing list           1099           75\n",
       "18         971      cite techreport           1436          465\n",
       "19         819          cite serial            867           48\n",
       "20         687            cite sign            774           87\n",
       "21         639          cite speech            796          157\n",
       "22         616       cite newsgroup            565          -51\n",
       "23         489       cite dvd notes            522           33"
      ]
     },
     "execution_count": 9,
     "metadata": {},
     "output_type": "execute_result"
    }
   ],
   "source": [
    "merged_counts['bigger_than'] = merged_counts['curated_count'] - merged_counts['dlab_count']\n",
    "merged_counts"
   ]
  },
  {
   "cell_type": "code",
   "execution_count": 10,
   "metadata": {},
   "outputs": [],
   "source": [
    "# Load all csv files and add them into one dataframe\n",
    "files = glob.glob('citations_ids.csv/part-*')\n",
    "citation_dataframes = [pd.read_csv(f, header=None, sep=',') for f in files]\n",
    "citation_with_ids = pd.concat(citation_dataframes, ignore_index=True)"
   ]
  },
  {
   "cell_type": "code",
   "execution_count": 11,
   "metadata": {},
   "outputs": [
    {
     "name": "stdout",
     "output_type": "stream",
     "text": [
      "(3355479, 5)\n"
     ]
    }
   ],
   "source": [
    "print(citation_with_ids.shape)\n",
    "total_citations = citation_with_ids.shape[0]"
   ]
  },
  {
   "cell_type": "code",
   "execution_count": 12,
   "metadata": {},
   "outputs": [
    {
     "data": {
      "text/html": [
       "<div>\n",
       "<style scoped>\n",
       "    .dataframe tbody tr th:only-of-type {\n",
       "        vertical-align: middle;\n",
       "    }\n",
       "\n",
       "    .dataframe tbody tr th {\n",
       "        vertical-align: top;\n",
       "    }\n",
       "\n",
       "    .dataframe thead th {\n",
       "        text-align: right;\n",
       "    }\n",
       "</style>\n",
       "<table border=\"1\" class=\"dataframe\">\n",
       "  <thead>\n",
       "    <tr style=\"text-align: right;\">\n",
       "      <th></th>\n",
       "      <th>0</th>\n",
       "      <th>1</th>\n",
       "      <th>2</th>\n",
       "      <th>3</th>\n",
       "      <th>4</th>\n",
       "    </tr>\n",
       "  </thead>\n",
       "  <tbody>\n",
       "    <tr>\n",
       "      <th>0</th>\n",
       "      <td>1831197</td>\n",
       "      <td>Ray Sharkey</td>\n",
       "      <td>Fatal Deceit</td>\n",
       "      <td>{ISSN=0093-7673}</td>\n",
       "      <td>[{last=Gliatto, first=Tom}]</td>\n",
       "    </tr>\n",
       "    <tr>\n",
       "      <th>1</th>\n",
       "      <td>1831220</td>\n",
       "      <td>Protamine sulfate</td>\n",
       "      <td>WHO Model Formulary 2008</td>\n",
       "      <td>{ISBN=9789241547659}</td>\n",
       "      <td>NaN</td>\n",
       "    </tr>\n",
       "    <tr>\n",
       "      <th>2</th>\n",
       "      <td>1831220</td>\n",
       "      <td>Protamine sulfate</td>\n",
       "      <td>Protamine sulfate as an effective alternative ...</td>\n",
       "      <td>{PMID=2786000, DOI=10.1016/0166-0934(89)90132-8}</td>\n",
       "      <td>[{last=Kenneth Cornetta}, {last=W.French Ander...</td>\n",
       "    </tr>\n",
       "    <tr>\n",
       "      <th>3</th>\n",
       "      <td>1831220</td>\n",
       "      <td>Protamine sulfate</td>\n",
       "      <td>Protamine sulfate enhances lipid-mediated gene...</td>\n",
       "      <td>{PMID=9349433, DOI=10.1038/sj.gt.3300484}</td>\n",
       "      <td>[{last=Sorgi, first=FL}, {last=Bhattacharya, S...</td>\n",
       "    </tr>\n",
       "    <tr>\n",
       "      <th>4</th>\n",
       "      <td>1831220</td>\n",
       "      <td>Protamine sulfate</td>\n",
       "      <td>Successful cardiopulmonary bypass in diabetics...</td>\n",
       "      <td>{PMID=6743419, PMC=481594, DOI=10.1136/hrt.52....</td>\n",
       "      <td>[{last=Walker, first=WS}, {last=Reid, KG}, {la...</td>\n",
       "    </tr>\n",
       "  </tbody>\n",
       "</table>\n",
       "</div>"
      ],
      "text/plain": [
       "         0                  1  \\\n",
       "0  1831197        Ray Sharkey   \n",
       "1  1831220  Protamine sulfate   \n",
       "2  1831220  Protamine sulfate   \n",
       "3  1831220  Protamine sulfate   \n",
       "4  1831220  Protamine sulfate   \n",
       "\n",
       "                                                   2  \\\n",
       "0                                       Fatal Deceit   \n",
       "1                           WHO Model Formulary 2008   \n",
       "2  Protamine sulfate as an effective alternative ...   \n",
       "3  Protamine sulfate enhances lipid-mediated gene...   \n",
       "4  Successful cardiopulmonary bypass in diabetics...   \n",
       "\n",
       "                                                   3  \\\n",
       "0                                   {ISSN=0093-7673}   \n",
       "1                               {ISBN=9789241547659}   \n",
       "2   {PMID=2786000, DOI=10.1016/0166-0934(89)90132-8}   \n",
       "3          {PMID=9349433, DOI=10.1038/sj.gt.3300484}   \n",
       "4  {PMID=6743419, PMC=481594, DOI=10.1136/hrt.52....   \n",
       "\n",
       "                                                   4  \n",
       "0                        [{last=Gliatto, first=Tom}]  \n",
       "1                                                NaN  \n",
       "2  [{last=Kenneth Cornetta}, {last=W.French Ander...  \n",
       "3  [{last=Sorgi, first=FL}, {last=Bhattacharya, S...  \n",
       "4  [{last=Walker, first=WS}, {last=Reid, KG}, {la...  "
      ]
     },
     "execution_count": 12,
     "metadata": {},
     "output_type": "execute_result"
    }
   ],
   "source": [
    "citation_with_ids.head()"
   ]
  },
  {
   "cell_type": "code",
   "execution_count": 13,
   "metadata": {},
   "outputs": [],
   "source": [
    "citation_with_ids.columns = [\n",
    "    'id', 'title_of_page', 'title_of_citation', 'id_list', 'authors',\n",
    "    # 'publisher_place', 'type_of_citation', 'publisher_name'\n",
    "]"
   ]
  },
  {
   "cell_type": "code",
   "execution_count": 14,
   "metadata": {},
   "outputs": [
    {
     "data": {
      "text/plain": [
       "id                   100.000000\n",
       "title_of_page         99.999940\n",
       "title_of_citation     99.898465\n",
       "id_list              100.000000\n",
       "authors               92.911891\n",
       "dtype: float64"
      ]
     },
     "execution_count": 14,
     "metadata": {},
     "output_type": "execute_result"
    }
   ],
   "source": [
    "# Percentage of values present for title of page, title of citation and authors\n",
    "(citation_with_ids.count() * 100) / total_citations"
   ]
  },
  {
   "cell_type": "code",
   "execution_count": 15,
   "metadata": {},
   "outputs": [],
   "source": [
    "# citation_with_ids.groupby('type_of_citation').size()"
   ]
  },
  {
   "cell_type": "code",
   "execution_count": 16,
   "metadata": {},
   "outputs": [],
   "source": [
    "# Formulate a structure for the ID_List in which we can do something meaningful\n",
    "citation_with_ids['id_list'] = citation_with_ids['id_list'].apply(\n",
    "    lambda x: list(item.split('=') for item in x.replace('{','').replace('}','').replace(' ', '').split(','))\n",
    ")"
   ]
  },
  {
   "cell_type": "code",
   "execution_count": 17,
   "metadata": {},
   "outputs": [],
   "source": [
    "# Get the kinds of ids associated with each tuple\n",
    "kinds_of_ids = set()\n",
    "def update_ids(x):\n",
    "    for item in x:\n",
    "        kinds_of_ids.add(item[0])\n",
    "\n",
    "_ = citation_with_ids['id_list'].apply(lambda x: update_ids(x))\n",
    "\n",
    "# Add the columns with NoneType in the previous DF\n",
    "for id_ in kinds_of_ids:\n",
    "    citation_with_ids[id_] = None"
   ]
  },
  {
   "cell_type": "code",
   "execution_count": 18,
   "metadata": {},
   "outputs": [
    {
     "name": "stdout",
     "output_type": "stream",
     "text": [
      "Total kind of Citation IDs: 52\n"
     ]
    }
   ],
   "source": [
    "print('Total kind of Citation IDs: {}'.format(len(kinds_of_ids)))"
   ]
  },
  {
   "cell_type": "code",
   "execution_count": 19,
   "metadata": {},
   "outputs": [],
   "source": [
    "# Set the value of identifiers for each column, for e.g. DOI, ISBN etc.\n",
    "def set_citation_val(x):\n",
    "    for item in x['id_list']:\n",
    "        citation_with_ids.at[x.name, item[0]] = item[1] if len(item) >= 2 else None\n",
    "\n",
    "_ = citation_with_ids.apply(lambda x: set_citation_val(x), axis=1)"
   ]
  },
  {
   "cell_type": "code",
   "execution_count": 20,
   "metadata": {},
   "outputs": [
    {
     "data": {
      "text/html": [
       "<div>\n",
       "<style scoped>\n",
       "    .dataframe tbody tr th:only-of-type {\n",
       "        vertical-align: middle;\n",
       "    }\n",
       "\n",
       "    .dataframe tbody tr th {\n",
       "        vertical-align: top;\n",
       "    }\n",
       "\n",
       "    .dataframe thead th {\n",
       "        text-align: right;\n",
       "    }\n",
       "</style>\n",
       "<table border=\"1\" class=\"dataframe\">\n",
       "  <thead>\n",
       "    <tr style=\"text-align: right;\">\n",
       "      <th></th>\n",
       "      <th>id</th>\n",
       "      <th>title_of_page</th>\n",
       "      <th>title_of_citation</th>\n",
       "      <th>id_list</th>\n",
       "      <th>authors</th>\n",
       "      <th>DOI</th>\n",
       "      <th>ISBN</th>\n",
       "      <th>JFM</th>\n",
       "      <th>1997)</th>\n",
       "      <th>ARXIV</th>\n",
       "      <th>...</th>\n",
       "      <th>+david+w.</th>\n",
       "      <th>5-79-051006-X</th>\n",
       "      <th>5-7905-1008-6</th>\n",
       "      <th>info:pmid/25772496&amp;rft.eissn</th>\n",
       "      <th>+xin</th>\n",
       "      <th>cribb</th>\n",
       "      <th>No.3(Summer</th>\n",
       "      <th>MR</th>\n",
       "      <th>ZBL</th>\n",
       "      <th>PMID</th>\n",
       "    </tr>\n",
       "  </thead>\n",
       "  <tbody>\n",
       "    <tr>\n",
       "      <th>0</th>\n",
       "      <td>1831197</td>\n",
       "      <td>Ray Sharkey</td>\n",
       "      <td>Fatal Deceit</td>\n",
       "      <td>[[ISSN, 0093-7673]]</td>\n",
       "      <td>[{last=Gliatto, first=Tom}]</td>\n",
       "      <td>None</td>\n",
       "      <td>None</td>\n",
       "      <td>None</td>\n",
       "      <td>None</td>\n",
       "      <td>None</td>\n",
       "      <td>...</td>\n",
       "      <td>None</td>\n",
       "      <td>None</td>\n",
       "      <td>None</td>\n",
       "      <td>None</td>\n",
       "      <td>None</td>\n",
       "      <td>None</td>\n",
       "      <td>None</td>\n",
       "      <td>None</td>\n",
       "      <td>None</td>\n",
       "      <td>None</td>\n",
       "    </tr>\n",
       "    <tr>\n",
       "      <th>1</th>\n",
       "      <td>1831220</td>\n",
       "      <td>Protamine sulfate</td>\n",
       "      <td>WHO Model Formulary 2008</td>\n",
       "      <td>[[ISBN, 9789241547659]]</td>\n",
       "      <td>NaN</td>\n",
       "      <td>None</td>\n",
       "      <td>9789241547659</td>\n",
       "      <td>None</td>\n",
       "      <td>None</td>\n",
       "      <td>None</td>\n",
       "      <td>...</td>\n",
       "      <td>None</td>\n",
       "      <td>None</td>\n",
       "      <td>None</td>\n",
       "      <td>None</td>\n",
       "      <td>None</td>\n",
       "      <td>None</td>\n",
       "      <td>None</td>\n",
       "      <td>None</td>\n",
       "      <td>None</td>\n",
       "      <td>None</td>\n",
       "    </tr>\n",
       "    <tr>\n",
       "      <th>2</th>\n",
       "      <td>1831220</td>\n",
       "      <td>Protamine sulfate</td>\n",
       "      <td>Protamine sulfate as an effective alternative ...</td>\n",
       "      <td>[[PMID, 2786000], [DOI, 10.1016/0166-0934(89)9...</td>\n",
       "      <td>[{last=Kenneth Cornetta}, {last=W.French Ander...</td>\n",
       "      <td>10.1016/0166-0934(89)90132-8</td>\n",
       "      <td>None</td>\n",
       "      <td>None</td>\n",
       "      <td>None</td>\n",
       "      <td>None</td>\n",
       "      <td>...</td>\n",
       "      <td>None</td>\n",
       "      <td>None</td>\n",
       "      <td>None</td>\n",
       "      <td>None</td>\n",
       "      <td>None</td>\n",
       "      <td>None</td>\n",
       "      <td>None</td>\n",
       "      <td>None</td>\n",
       "      <td>None</td>\n",
       "      <td>2786000</td>\n",
       "    </tr>\n",
       "    <tr>\n",
       "      <th>3</th>\n",
       "      <td>1831220</td>\n",
       "      <td>Protamine sulfate</td>\n",
       "      <td>Protamine sulfate enhances lipid-mediated gene...</td>\n",
       "      <td>[[PMID, 9349433], [DOI, 10.1038/sj.gt.3300484]]</td>\n",
       "      <td>[{last=Sorgi, first=FL}, {last=Bhattacharya, S...</td>\n",
       "      <td>10.1038/sj.gt.3300484</td>\n",
       "      <td>None</td>\n",
       "      <td>None</td>\n",
       "      <td>None</td>\n",
       "      <td>None</td>\n",
       "      <td>...</td>\n",
       "      <td>None</td>\n",
       "      <td>None</td>\n",
       "      <td>None</td>\n",
       "      <td>None</td>\n",
       "      <td>None</td>\n",
       "      <td>None</td>\n",
       "      <td>None</td>\n",
       "      <td>None</td>\n",
       "      <td>None</td>\n",
       "      <td>9349433</td>\n",
       "    </tr>\n",
       "    <tr>\n",
       "      <th>4</th>\n",
       "      <td>1831220</td>\n",
       "      <td>Protamine sulfate</td>\n",
       "      <td>Successful cardiopulmonary bypass in diabetics...</td>\n",
       "      <td>[[PMID, 6743419], [PMC, 481594], [DOI, 10.1136...</td>\n",
       "      <td>[{last=Walker, first=WS}, {last=Reid, KG}, {la...</td>\n",
       "      <td>10.1136/hrt.52.1.112</td>\n",
       "      <td>None</td>\n",
       "      <td>None</td>\n",
       "      <td>None</td>\n",
       "      <td>None</td>\n",
       "      <td>...</td>\n",
       "      <td>None</td>\n",
       "      <td>None</td>\n",
       "      <td>None</td>\n",
       "      <td>None</td>\n",
       "      <td>None</td>\n",
       "      <td>None</td>\n",
       "      <td>None</td>\n",
       "      <td>None</td>\n",
       "      <td>None</td>\n",
       "      <td>6743419</td>\n",
       "    </tr>\n",
       "  </tbody>\n",
       "</table>\n",
       "<p>5 rows × 57 columns</p>\n",
       "</div>"
      ],
      "text/plain": [
       "        id      title_of_page  \\\n",
       "0  1831197        Ray Sharkey   \n",
       "1  1831220  Protamine sulfate   \n",
       "2  1831220  Protamine sulfate   \n",
       "3  1831220  Protamine sulfate   \n",
       "4  1831220  Protamine sulfate   \n",
       "\n",
       "                                   title_of_citation  \\\n",
       "0                                       Fatal Deceit   \n",
       "1                           WHO Model Formulary 2008   \n",
       "2  Protamine sulfate as an effective alternative ...   \n",
       "3  Protamine sulfate enhances lipid-mediated gene...   \n",
       "4  Successful cardiopulmonary bypass in diabetics...   \n",
       "\n",
       "                                             id_list  \\\n",
       "0                                [[ISSN, 0093-7673]]   \n",
       "1                            [[ISBN, 9789241547659]]   \n",
       "2  [[PMID, 2786000], [DOI, 10.1016/0166-0934(89)9...   \n",
       "3    [[PMID, 9349433], [DOI, 10.1038/sj.gt.3300484]]   \n",
       "4  [[PMID, 6743419], [PMC, 481594], [DOI, 10.1136...   \n",
       "\n",
       "                                             authors  \\\n",
       "0                        [{last=Gliatto, first=Tom}]   \n",
       "1                                                NaN   \n",
       "2  [{last=Kenneth Cornetta}, {last=W.French Ander...   \n",
       "3  [{last=Sorgi, first=FL}, {last=Bhattacharya, S...   \n",
       "4  [{last=Walker, first=WS}, {last=Reid, KG}, {la...   \n",
       "\n",
       "                            DOI           ISBN   JFM 1997) ARXIV   ...     \\\n",
       "0                          None           None  None  None  None   ...      \n",
       "1                          None  9789241547659  None  None  None   ...      \n",
       "2  10.1016/0166-0934(89)90132-8           None  None  None  None   ...      \n",
       "3         10.1038/sj.gt.3300484           None  None  None  None   ...      \n",
       "4          10.1136/hrt.52.1.112           None  None  None  None   ...      \n",
       "\n",
       "  +david+w. 5-79-051006-X 5-7905-1008-6 info:pmid/25772496&rft.eissn  +xin  \\\n",
       "0      None          None          None                         None  None   \n",
       "1      None          None          None                         None  None   \n",
       "2      None          None          None                         None  None   \n",
       "3      None          None          None                         None  None   \n",
       "4      None          None          None                         None  None   \n",
       "\n",
       "  cribb No.3(Summer    MR   ZBL     PMID  \n",
       "0  None        None  None  None     None  \n",
       "1  None        None  None  None     None  \n",
       "2  None        None  None  None  2786000  \n",
       "3  None        None  None  None  9349433  \n",
       "4  None        None  None  None  6743419  \n",
       "\n",
       "[5 rows x 57 columns]"
      ]
     },
     "execution_count": 20,
     "metadata": {},
     "output_type": "execute_result"
    }
   ],
   "source": [
    "citation_with_ids.head()"
   ]
  },
  {
   "cell_type": "markdown",
   "metadata": {},
   "source": [
    "### How do the identifiers appear with each other?\n",
    "\n",
    "* Do we have citations with a lot of two identifiers?"
   ]
  },
  {
   "cell_type": "code",
   "execution_count": 21,
   "metadata": {},
   "outputs": [],
   "source": [
    "identifiers_existing = citation_with_ids[['DOI', 'ISBN', 'ISSN', 'PMC', 'PMID']].notnull()"
   ]
  },
  {
   "cell_type": "code",
   "execution_count": 22,
   "metadata": {},
   "outputs": [
    {
     "data": {
      "text/html": [
       "<div>\n",
       "<style scoped>\n",
       "    .dataframe tbody tr th:only-of-type {\n",
       "        vertical-align: middle;\n",
       "    }\n",
       "\n",
       "    .dataframe tbody tr th {\n",
       "        vertical-align: top;\n",
       "    }\n",
       "\n",
       "    .dataframe thead th {\n",
       "        text-align: right;\n",
       "    }\n",
       "</style>\n",
       "<table border=\"1\" class=\"dataframe\">\n",
       "  <thead>\n",
       "    <tr style=\"text-align: right;\">\n",
       "      <th></th>\n",
       "      <th>DOI</th>\n",
       "      <th>ISBN</th>\n",
       "      <th>ISSN</th>\n",
       "      <th>PMC</th>\n",
       "      <th>PMID</th>\n",
       "    </tr>\n",
       "  </thead>\n",
       "  <tbody>\n",
       "    <tr>\n",
       "      <th>0</th>\n",
       "      <td>False</td>\n",
       "      <td>False</td>\n",
       "      <td>True</td>\n",
       "      <td>False</td>\n",
       "      <td>False</td>\n",
       "    </tr>\n",
       "    <tr>\n",
       "      <th>1</th>\n",
       "      <td>False</td>\n",
       "      <td>True</td>\n",
       "      <td>False</td>\n",
       "      <td>False</td>\n",
       "      <td>False</td>\n",
       "    </tr>\n",
       "    <tr>\n",
       "      <th>2</th>\n",
       "      <td>True</td>\n",
       "      <td>False</td>\n",
       "      <td>False</td>\n",
       "      <td>False</td>\n",
       "      <td>True</td>\n",
       "    </tr>\n",
       "    <tr>\n",
       "      <th>3</th>\n",
       "      <td>True</td>\n",
       "      <td>False</td>\n",
       "      <td>False</td>\n",
       "      <td>False</td>\n",
       "      <td>True</td>\n",
       "    </tr>\n",
       "    <tr>\n",
       "      <th>4</th>\n",
       "      <td>True</td>\n",
       "      <td>False</td>\n",
       "      <td>False</td>\n",
       "      <td>True</td>\n",
       "      <td>True</td>\n",
       "    </tr>\n",
       "  </tbody>\n",
       "</table>\n",
       "</div>"
      ],
      "text/plain": [
       "     DOI   ISBN   ISSN    PMC   PMID\n",
       "0  False  False   True  False  False\n",
       "1  False   True  False  False  False\n",
       "2   True  False  False  False   True\n",
       "3   True  False  False  False   True\n",
       "4   True  False  False   True   True"
      ]
     },
     "execution_count": 22,
     "metadata": {},
     "output_type": "execute_result"
    }
   ],
   "source": [
    "identifiers_existing.head()"
   ]
  },
  {
   "cell_type": "code",
   "execution_count": 23,
   "metadata": {},
   "outputs": [],
   "source": [
    "all_columns = identifiers_existing.columns\n",
    "frequency_citation = dict()\n",
    "\n",
    "def get_frequency_of_identifiers_appearing(x):\n",
    "    available_citation_types = tuple([column for column in all_columns if x[column]])\n",
    "    frequency_citation.setdefault(available_citation_types, 0)\n",
    "    frequency_citation[available_citation_types] += 1\n",
    "\n",
    "_ = identifiers_existing.apply(lambda x: get_frequency_of_identifiers_appearing(x), axis=1)"
   ]
  },
  {
   "cell_type": "code",
   "execution_count": 24,
   "metadata": {},
   "outputs": [
    {
     "data": {
      "image/png": "[encoded data removed]",
      "text/plain": [
       "<matplotlib.figure.Figure at 0x110463e90>"
      ]
     },
     "metadata": {},
     "output_type": "display_data"
    }
   ],
   "source": [
    "# Make a graph of the frequency distribution calculated above\n",
    "names = list(frequency_citation.keys())\n",
    "values = list(frequency_citation.values())\n",
    "\n",
    "plt.rcParams[\"figure.figsize\"] = (12,5)\n",
    "plt.xticks(rotation=90)\n",
    "plt.bar(range(len(frequency_citation)),values,tick_label=names)\n",
    "plt.show()"
   ]
  },
  {
   "cell_type": "markdown",
   "metadata": {},
   "source": [
    "## Loading the wikipedia dataset with identifiers"
   ]
  },
  {
   "cell_type": "code",
   "execution_count": 25,
   "metadata": {},
   "outputs": [],
   "source": [
    "CITATION_WITH_IDENTIFIERS = '../Citations_with_Identifiers/enwiki.tsv.tar.gz'\n",
    "\n",
    "wiki_en_identifiers = pd.read_csv(CITATION_WITH_IDENTIFIERS, compression='gzip', sep='\\t')"
   ]
  },
  {
   "cell_type": "code",
   "execution_count": 26,
   "metadata": {},
   "outputs": [
    {
     "data": {
      "text/html": [
       "<div>\n",
       "<style scoped>\n",
       "    .dataframe tbody tr th:only-of-type {\n",
       "        vertical-align: middle;\n",
       "    }\n",
       "\n",
       "    .dataframe tbody tr th {\n",
       "        vertical-align: top;\n",
       "    }\n",
       "\n",
       "    .dataframe thead th {\n",
       "        text-align: right;\n",
       "    }\n",
       "</style>\n",
       "<table border=\"1\" class=\"dataframe\">\n",
       "  <thead>\n",
       "    <tr style=\"text-align: right;\">\n",
       "      <th></th>\n",
       "      <th>enwiki.tsv</th>\n",
       "      <th>page_title</th>\n",
       "      <th>rev_id</th>\n",
       "      <th>timestamp</th>\n",
       "      <th>type</th>\n",
       "      <th>id</th>\n",
       "    </tr>\n",
       "  </thead>\n",
       "  <tbody>\n",
       "    <tr>\n",
       "      <th>0</th>\n",
       "      <td>2867096.0</td>\n",
       "      <td>Mu Aquilae</td>\n",
       "      <td>503137751.0</td>\n",
       "      <td>2012-07-19T16:08:41Z</td>\n",
       "      <td>doi</td>\n",
       "      <td>10.1051/0004-6361:20078357</td>\n",
       "    </tr>\n",
       "    <tr>\n",
       "      <th>1</th>\n",
       "      <td>2867096.0</td>\n",
       "      <td>Mu Aquilae</td>\n",
       "      <td>508363722.0</td>\n",
       "      <td>2012-08-20T22:56:21Z</td>\n",
       "      <td>arxiv</td>\n",
       "      <td>astro-ph/0604502</td>\n",
       "    </tr>\n",
       "    <tr>\n",
       "      <th>2</th>\n",
       "      <td>2867096.0</td>\n",
       "      <td>Mu Aquilae</td>\n",
       "      <td>508363722.0</td>\n",
       "      <td>2012-08-20T22:56:21Z</td>\n",
       "      <td>arxiv</td>\n",
       "      <td>astro-ph/0003329</td>\n",
       "    </tr>\n",
       "    <tr>\n",
       "      <th>3</th>\n",
       "      <td>2867096.0</td>\n",
       "      <td>Mu Aquilae</td>\n",
       "      <td>508363722.0</td>\n",
       "      <td>2012-08-20T22:56:21Z</td>\n",
       "      <td>arxiv</td>\n",
       "      <td>0708.1752</td>\n",
       "    </tr>\n",
       "    <tr>\n",
       "      <th>4</th>\n",
       "      <td>2867096.0</td>\n",
       "      <td>Mu Aquilae</td>\n",
       "      <td>503137751.0</td>\n",
       "      <td>2012-07-19T16:08:41Z</td>\n",
       "      <td>doi</td>\n",
       "      <td>10.1051/0004-6361:20064946</td>\n",
       "    </tr>\n",
       "  </tbody>\n",
       "</table>\n",
       "</div>"
      ],
      "text/plain": [
       "   enwiki.tsv  page_title       rev_id             timestamp   type  \\\n",
       "0   2867096.0  Mu Aquilae  503137751.0  2012-07-19T16:08:41Z    doi   \n",
       "1   2867096.0  Mu Aquilae  508363722.0  2012-08-20T22:56:21Z  arxiv   \n",
       "2   2867096.0  Mu Aquilae  508363722.0  2012-08-20T22:56:21Z  arxiv   \n",
       "3   2867096.0  Mu Aquilae  508363722.0  2012-08-20T22:56:21Z  arxiv   \n",
       "4   2867096.0  Mu Aquilae  503137751.0  2012-07-19T16:08:41Z    doi   \n",
       "\n",
       "                           id  \n",
       "0  10.1051/0004-6361:20078357  \n",
       "1            astro-ph/0604502  \n",
       "2            astro-ph/0003329  \n",
       "3                   0708.1752  \n",
       "4  10.1051/0004-6361:20064946  "
      ]
     },
     "execution_count": 26,
     "metadata": {},
     "output_type": "execute_result"
    }
   ],
   "source": [
    "wiki_en_identifiers.head(5)"
   ]
  },
  {
   "cell_type": "code",
   "execution_count": 27,
   "metadata": {},
   "outputs": [
    {
     "name": "stdout",
     "output_type": "stream",
     "text": [
      "Total citation identifiers for English Wikipedia: 3794696\n"
     ]
    }
   ],
   "source": [
    "print('Total citation identifiers for English Wikipedia: {}'.format(wiki_en_identifiers.shape[0]))"
   ]
  },
  {
   "cell_type": "code",
   "execution_count": 28,
   "metadata": {},
   "outputs": [
    {
     "data": {
      "text/plain": [
       "array(['doi', 'arxiv', 'isbn', 'pmid', 'pmc', nan], dtype=object)"
      ]
     },
     "execution_count": 28,
     "metadata": {},
     "output_type": "execute_result"
    }
   ],
   "source": [
    "wiki_en_identifiers['type'].unique() # Labels which have unique IDSs"
   ]
  },
  {
   "cell_type": "code",
   "execution_count": 29,
   "metadata": {},
   "outputs": [],
   "source": [
    "# Remove the one with the NaN value\n",
    "wiki_en_identifiers = wiki_en_identifiers[wiki_en_identifiers['type'].notnull()]"
   ]
  },
  {
   "cell_type": "code",
   "execution_count": 30,
   "metadata": {},
   "outputs": [],
   "source": [
    "# Adding a boolean to check if the citation is in other dataset - to \n",
    "wiki_en_identifiers['is_in_other_dataset'] = False"
   ]
  },
  {
   "cell_type": "markdown",
   "metadata": {},
   "source": [
    "## Comparing the two datasets"
   ]
  },
  {
   "cell_type": "markdown",
   "metadata": {},
   "source": [
    "The gap exists between the two datasets (3.8 mil, 3.4 mil) of about 400,000  because we are looking only at certain citation formats which can be parsed by the `mwparserfromhell`. But still we have got 95% of the citation data by looking at just mere numbers. The 5% deficit is because of the dataset used by wiki identifiers is for revision where we are using a dataset relating to a particular date."
   ]
  },
  {
   "cell_type": "code",
   "execution_count": 31,
   "metadata": {},
   "outputs": [
    {
     "name": "stdout",
     "output_type": "stream",
     "text": [
      "The total gap between between total number of wikipedias citations and our citations: 439216\n"
     ]
    }
   ],
   "source": [
    "gap = wiki_en_identifiers.shape[0] - total_citations\n",
    "\n",
    "print('The total gap between between total number of wikipedias citations and our citations: {}'.format(gap))"
   ]
  },
  {
   "cell_type": "code",
   "execution_count": 32,
   "metadata": {},
   "outputs": [],
   "source": [
    "def get_citations_specific_to_type(wiki_type, curated_type):\n",
    "    type_wiki_identifiers = wiki_en_identifiers[wiki_en_identifiers['type'] == wiki_type]\n",
    "    type_citations_curated = citation_with_ids[citation_with_ids[curated_type].notnull()]\n",
    "    \n",
    "    # Just considering the unique ones since they are a lot of duplicated DOIs\n",
    "    # Maybe one citation is cited in many different pages\n",
    "    number_of_identifiers_wiki = type_wiki_identifiers['id'].shape[0]\n",
    "    number_of_identifiers_curated = type_citations_curated['DOI'].shape[0]\n",
    "    print('The total number of unique {} wiki identifiers: {}'.format(wiki_type, number_of_identifiers_wiki))\n",
    "    print('The total number of unique {} curated identifiers: {}'.format(curated_type, number_of_identifiers_curated))\n",
    "    \n",
    "    print('\\nThe difference between wiki and curated is: {}'.format(\n",
    "        number_of_identifiers_wiki - number_of_identifiers_curated)\n",
    "    )\n",
    "    \n",
    "    return type_wiki_identifiers, type_citations_curated"
   ]
  },
  {
   "cell_type": "markdown",
   "metadata": {},
   "source": [
    "### How many DOI identifiers are common?"
   ]
  },
  {
   "cell_type": "code",
   "execution_count": 33,
   "metadata": {},
   "outputs": [
    {
     "name": "stdout",
     "output_type": "stream",
     "text": [
      "The total number of unique doi wiki identifiers: 1211807\n",
      "The total number of unique DOI curated identifiers: 1231233\n",
      "\n",
      "The difference between wiki and curated is: -19426\n"
     ]
    }
   ],
   "source": [
    "doi_wiki_identifiers, doi_citations_curated = get_citations_specific_to_type('doi', 'DOI')"
   ]
  },
  {
   "cell_type": "code",
   "execution_count": 34,
   "metadata": {},
   "outputs": [],
   "source": [
    "# Check if curated DOIs are contained in the already obtained dataset from Wikipedia\n",
    "doi_which_are_present = doi_wiki_identifiers['id'].isin(doi_citations_curated['DOI'])\n",
    "total_number_of_doi_identifiers_in_wiki = np.sum(doi_which_are_present)\n",
    "wiki_en_identifiers['is_in_other_dataset'].loc[doi_which_are_present.index] = doi_which_are_present.values"
   ]
  },
  {
   "cell_type": "code",
   "execution_count": 35,
   "metadata": {},
   "outputs": [
    {
     "name": "stdout",
     "output_type": "stream",
     "text": [
      "Stats:\n",
      "Total Curated: 1231233 \n",
      "Total Wiki:1211807 \n",
      "Curated which are in Wiki: 1049892 \n",
      "Gap: 181341 -> Wiki which are not identified: 161915\n"
     ]
    }
   ],
   "source": [
    "print(\n",
    "    'Stats:\\nTotal Curated: {} \\nTotal Wiki:{} \\nCurated which are in Wiki: {} \\nGap: {} -> Wiki which are not identified: {}'.format(\n",
    "        doi_citations_curated.shape[0],\n",
    "        doi_wiki_identifiers.shape[0],\n",
    "        total_number_of_doi_identifiers_in_wiki,\n",
    "        doi_citations_curated.shape[0] - total_number_of_doi_identifiers_in_wiki,\n",
    "        doi_which_are_present[~doi_which_are_present].shape[0]\n",
    "    )\n",
    ")"
   ]
  },
  {
   "cell_type": "markdown",
   "metadata": {},
   "source": [
    "### How many ISBN (also ISSN) identifiers are common?\n",
    "\n",
    "* ISBNs are International Standard Book Numbers. They can be assigned to monographic publications, such as books, e-books and audiobooks.\n",
    "* ISMNs are International Standard Music Numbers. They can be assigned to notated music (scores and sheet music) whether published in print, online or in other media.\n",
    "* ISSNs are International Standard Serial Numbers. They can be assigned to periodical publications, such as magazines and journals."
   ]
  },
  {
   "cell_type": "code",
   "execution_count": 36,
   "metadata": {},
   "outputs": [
    {
     "name": "stdout",
     "output_type": "stream",
     "text": [
      "The total number of unique isbn wiki identifiers: 1740812\n",
      "The total number of unique ISBN curated identifiers: 1834431\n",
      "\n",
      "The difference between wiki and curated is: -93619\n"
     ]
    }
   ],
   "source": [
    "isbn_wiki_identifiers, isbn_citations_curated = get_citations_specific_to_type('isbn', 'ISBN')"
   ]
  },
  {
   "cell_type": "markdown",
   "metadata": {},
   "source": [
    "### Trying to normalize all the ISBN (also need to do for ISSN)\n",
    "\n",
    "* So if '00-11-223344' it becomes '0011223344'"
   ]
  },
  {
   "cell_type": "code",
   "execution_count": 37,
   "metadata": {},
   "outputs": [
    {
     "data": {
      "text/plain": [
       "0"
      ]
     },
     "execution_count": 37,
     "metadata": {},
     "output_type": "execute_result"
    }
   ],
   "source": [
    "# Check if the wikipedia citation identifiers does not have hyphens\n",
    "np.sum(isbn_wiki_identifiers['id'].apply(lambda x: '-' in x))"
   ]
  },
  {
   "cell_type": "code",
   "execution_count": 38,
   "metadata": {},
   "outputs": [],
   "source": [
    "isbn_citations_curated['ISBN'] = isbn_citations_curated['ISBN'].apply(lambda x: x.replace('-', ''))"
   ]
  },
  {
   "cell_type": "code",
   "execution_count": 39,
   "metadata": {},
   "outputs": [],
   "source": [
    "# Check if curated DOIs are contained in the already obtained dataset from Wikipedia\n",
    "\n",
    "isbn_which_are_present = isbn_wiki_identifiers['id'].isin(isbn_citations_curated['ISBN'])\n",
    "total_number_of_isbn_identifiers_in_wiki = np.sum(isbn_which_are_present)\n",
    "wiki_en_identifiers['is_in_other_dataset'].loc[isbn_which_are_present.index] = isbn_which_are_present.values"
   ]
  },
  {
   "cell_type": "code",
   "execution_count": 40,
   "metadata": {},
   "outputs": [
    {
     "name": "stdout",
     "output_type": "stream",
     "text": [
      "Stats:\n",
      "Total Curated: 1834431 \n",
      "Total Wiki:1740812 \n",
      "Curated which are in Wiki: 1633175 \n",
      "Gap: 201256 -> Wiki which are not identified: 107637\n"
     ]
    }
   ],
   "source": [
    "print(\n",
    "    'Stats:\\nTotal Curated: {} \\nTotal Wiki:{} \\nCurated which are in Wiki: {} \\nGap: {} -> Wiki which are not identified: {}'.format(\n",
    "        isbn_citations_curated.shape[0],\n",
    "        isbn_wiki_identifiers.shape[0],\n",
    "        total_number_of_isbn_identifiers_in_wiki,\n",
    "        isbn_citations_curated.shape[0] - total_number_of_isbn_identifiers_in_wiki,\n",
    "        isbn_which_are_present[~isbn_which_are_present].shape[0]\n",
    "    )\n",
    ")"
   ]
  },
  {
   "cell_type": "markdown",
   "metadata": {},
   "source": [
    "### Now time for ISSN..."
   ]
  },
  {
   "cell_type": "code",
   "execution_count": 41,
   "metadata": {},
   "outputs": [
    {
     "name": "stdout",
     "output_type": "stream",
     "text": [
      "The total number of unique isbn wiki identifiers: 1740812\n",
      "The total number of unique ISSN curated identifiers: 215823\n",
      "\n",
      "The difference between wiki and curated is: 1524989\n"
     ]
    }
   ],
   "source": [
    "# But the stats for this does not matter!!!\n",
    "# because the hypothesis is that ISSN is contained inside ISBN - but only some of them do!\n",
    "isbn_wiki_identifiers, issn_citations_curated = get_citations_specific_to_type('isbn', 'ISSN')"
   ]
  },
  {
   "cell_type": "code",
   "execution_count": 42,
   "metadata": {},
   "outputs": [],
   "source": [
    "# Normalizing it again like ISBN\n",
    "issn_citations_curated['ISSN'] = issn_citations_curated['ISSN'].apply(lambda x: x.replace('-', ''))"
   ]
  },
  {
   "cell_type": "code",
   "execution_count": 43,
   "metadata": {},
   "outputs": [],
   "source": [
    "issn_which_are_present = issn_citations_curated['ISSN'].isin(isbn_wiki_identifiers['id'])\n",
    "total_number_of_issn_identifiers_in_wiki = np.sum(issn_which_are_present)\n",
    "wiki_en_identifiers['is_in_other_dataset'].loc[issn_which_are_present.index] = issn_which_are_present.values"
   ]
  },
  {
   "cell_type": "code",
   "execution_count": 44,
   "metadata": {},
   "outputs": [
    {
     "name": "stdout",
     "output_type": "stream",
     "text": [
      "Stats:\n",
      "Total Curated: 215823 \n",
      "Curated which are in Wiki: 8408 \n",
      "Gap: 207415 -> Wiki which are not identified: 207415\n"
     ]
    }
   ],
   "source": [
    "print(\n",
    "    'Stats:\\nTotal Curated: {} \\nCurated which are in Wiki: {} \\nGap: {} -> Wiki which are not identified: {}'.format(\n",
    "        issn_citations_curated.shape[0],\n",
    "        total_number_of_issn_identifiers_in_wiki,\n",
    "        issn_citations_curated.shape[0] - total_number_of_issn_identifiers_in_wiki,\n",
    "        issn_which_are_present[~issn_which_are_present].shape[0]\n",
    "    )\n",
    ")"
   ]
  },
  {
   "cell_type": "markdown",
   "metadata": {},
   "source": [
    "What we can see is that ISSN exists in our `curated` dataset and only some of them of these are contained in the existing `wikipedia dataset`. Most of them do not exist and hence the hypothesis is potentially not correct. Also, some of these can be counter examples since they are magazines and music volumes which are not scientific in nature."
   ]
  },
  {
   "cell_type": "markdown",
   "metadata": {},
   "source": [
    "### How many PMID identifiers are common?"
   ]
  },
  {
   "cell_type": "code",
   "execution_count": 45,
   "metadata": {},
   "outputs": [
    {
     "name": "stdout",
     "output_type": "stream",
     "text": [
      "The total number of unique pmid wiki identifiers: 609848\n",
      "The total number of unique PMID curated identifiers: 698628\n",
      "\n",
      "The difference between wiki and curated is: -88780\n"
     ]
    }
   ],
   "source": [
    "pmid_wiki_identifiers, pmid_citations_curated = get_citations_specific_to_type('pmid', 'PMID')"
   ]
  },
  {
   "cell_type": "code",
   "execution_count": 46,
   "metadata": {},
   "outputs": [],
   "source": [
    "# Check if curated PMIDs are contained in the already obtained dataset from Wikipedia\n",
    "pmid_which_are_present = pmid_citations_curated['PMID'].isin(pmid_wiki_identifiers['id'])\n",
    "total_number_of_pmid_identifiers_in_wiki = np.sum(pmid_which_are_present)\n",
    "wiki_en_identifiers['is_in_other_dataset'].loc[pmid_which_are_present.index] = pmid_which_are_present.values"
   ]
  },
  {
   "cell_type": "code",
   "execution_count": 47,
   "metadata": {},
   "outputs": [
    {
     "name": "stdout",
     "output_type": "stream",
     "text": [
      "Stats:\n",
      "Total Curated: 698628 \n",
      "Total Wiki:609848 \n",
      "Curated which are in Wiki: 662748 \n",
      "Gap: 35880 -> Wiki which are not identified: 35880\n"
     ]
    }
   ],
   "source": [
    "print(\n",
    "    'Stats:\\nTotal Curated: {} \\nTotal Wiki:{} \\nCurated which are in Wiki: {} \\nGap: {} -> Wiki which are not identified: {}'.format(\n",
    "        pmid_citations_curated.shape[0],\n",
    "        pmid_wiki_identifiers.shape[0],\n",
    "        total_number_of_pmid_identifiers_in_wiki,\n",
    "        pmid_citations_curated.shape[0] - total_number_of_pmid_identifiers_in_wiki,\n",
    "        pmid_which_are_present[~pmid_which_are_present].shape[0]\n",
    "    )\n",
    ")"
   ]
  },
  {
   "cell_type": "markdown",
   "metadata": {},
   "source": [
    "### How many PMC identifiers are common?"
   ]
  },
  {
   "cell_type": "code",
   "execution_count": 48,
   "metadata": {},
   "outputs": [
    {
     "name": "stdout",
     "output_type": "stream",
     "text": [
      "The total number of unique pmc wiki identifiers: 181240\n",
      "The total number of unique PMC curated identifiers: 226903\n",
      "\n",
      "The difference between wiki and curated is: -45663\n"
     ]
    }
   ],
   "source": [
    "pmc_wiki_identifiers, pmc_citations_curated = get_citations_specific_to_type('pmc', 'PMC')"
   ]
  },
  {
   "cell_type": "code",
   "execution_count": 49,
   "metadata": {},
   "outputs": [],
   "source": [
    "# Check if curated PMCs are contained in the already obtained dataset from Wikipedia\n",
    "pmc_which_are_present = pmc_citations_curated['PMC'].isin(pmc_wiki_identifiers['id'])\n",
    "total_number_of_pmc_identifiers_in_wiki = np.sum(pmc_which_are_present)\n",
    "wiki_en_identifiers['is_in_other_dataset'].loc[pmc_which_are_present.index] = pmc_which_are_present.values"
   ]
  },
  {
   "cell_type": "code",
   "execution_count": 50,
   "metadata": {},
   "outputs": [
    {
     "name": "stdout",
     "output_type": "stream",
     "text": [
      "Stats:\n",
      "Total Curated: 226903 \n",
      "Total Wiki:181240 \n",
      "Curated which are in Wiki: 201938 \n",
      "Gap: 24965 -> Wiki which are not identified: 24965\n"
     ]
    }
   ],
   "source": [
    "print(\n",
    "    'Stats:\\nTotal Curated: {} \\nTotal Wiki:{} \\nCurated which are in Wiki: {} \\nGap: {} -> Wiki which are not identified: {}'.format(\n",
    "        pmc_citations_curated.shape[0],\n",
    "        pmc_wiki_identifiers.shape[0],\n",
    "        total_number_of_pmc_identifiers_in_wiki,\n",
    "        pmc_citations_curated.shape[0] - total_number_of_pmc_identifiers_in_wiki,\n",
    "        pmc_which_are_present[~pmc_which_are_present].shape[0]\n",
    "    )\n",
    ")"
   ]
  },
  {
   "cell_type": "markdown",
   "metadata": {},
   "source": [
    "### How many ArXiV identifiers are common?"
   ]
  },
  {
   "cell_type": "code",
   "execution_count": 51,
   "metadata": {},
   "outputs": [
    {
     "name": "stdout",
     "output_type": "stream",
     "text": [
      "The total number of unique arxiv wiki identifiers: 50988\n",
      "The total number of unique ARXIV curated identifiers: 47725\n",
      "\n",
      "The difference between wiki and curated is: 3263\n"
     ]
    }
   ],
   "source": [
    "arxiv_wiki_identifiers, arxiv_citations_curated = get_citations_specific_to_type('arxiv', 'ARXIV')"
   ]
  },
  {
   "cell_type": "code",
   "execution_count": 52,
   "metadata": {},
   "outputs": [],
   "source": [
    "# Check if curated PMCs are contained in the already obtained dataset from Wikipedia\n",
    "arxiv_which_are_present = arxiv_citations_curated['ARXIV'].isin(arxiv_wiki_identifiers['id'])\n",
    "total_number_of_arxiv_identifiers_in_wiki = np.sum(arxiv_which_are_present)\n",
    "wiki_en_identifiers['is_in_other_dataset'].loc[arxiv_which_are_present.index] = arxiv_which_are_present.values"
   ]
  },
  {
   "cell_type": "code",
   "execution_count": 53,
   "metadata": {},
   "outputs": [
    {
     "name": "stdout",
     "output_type": "stream",
     "text": [
      "Stats:\n",
      "Total Curated: 47725 \n",
      "Total Wiki:50988 \n",
      "Curated which are in Wiki: 40606 \n",
      "Gap: 7119 -> Wiki which are not identified: 7119\n"
     ]
    }
   ],
   "source": [
    "print(\n",
    "    'Stats:\\nTotal Curated: {} \\nTotal Wiki:{} \\nCurated which are in Wiki: {} \\nGap: {} -> Wiki which are not identified: {}'.format(\n",
    "        arxiv_citations_curated.shape[0],\n",
    "        arxiv_wiki_identifiers.shape[0],\n",
    "        total_number_of_arxiv_identifiers_in_wiki,\n",
    "        arxiv_citations_curated.shape[0] - total_number_of_arxiv_identifiers_in_wiki,\n",
    "        arxiv_which_are_present[~arxiv_which_are_present].shape[0]\n",
    "    )\n",
    ")"
   ]
  },
  {
   "cell_type": "markdown",
   "metadata": {},
   "source": [
    "## Check which citations in already existing ones are not in curated?"
   ]
  },
  {
   "cell_type": "code",
   "execution_count": null,
   "metadata": {},
   "outputs": [],
   "source": []
  }
 ],
 "metadata": {
  "kernelspec": {
   "display_name": "Python 2",
   "language": "python",
   "name": "python2"
  },
  "language_info": {
   "codemirror_mode": {
    "name": "ipython",
    "version": 2
   },
   "file_extension": ".py",
   "mimetype": "text/x-python",
   "name": "python",
   "nbconvert_exporter": "python",
   "pygments_lexer": "ipython2",
   "version": "2.7.10"
  }
 },
 "nbformat": 4,
 "nbformat_minor": 2
}
