{
 "cells": [
  {
   "cell_type": "markdown",
   "metadata": {},
   "source": [
    "## Lookup for citations -- based on the wild examples"
   ]
  },
  {
   "cell_type": "code",
   "execution_count": 2,
   "metadata": {},
   "outputs": [],
   "source": [
    "## All imports\n",
    "import re\n",
    "import os\n",
    "import json\n",
    "import numpy as np\n",
    "import pandas as pd\n",
    "from tqdm import tqdm"
   ]
  },
  {
   "cell_type": "code",
   "execution_count": 8,
   "metadata": {},
   "outputs": [],
   "source": [
    "tqdm.pandas()"
   ]
  },
  {
   "cell_type": "code",
   "execution_count": 3,
   "metadata": {},
   "outputs": [],
   "source": [
    "## load the file which contains the citation for which we need to perform the lookup\n",
    "wild_exp_journal = pd.read_csv('wild_exp_info.csv')"
   ]
  },
  {
   "cell_type": "code",
   "execution_count": 4,
   "metadata": {},
   "outputs": [
    {
     "data": {
      "text/plain": [
       "(2080785, 5)"
      ]
     },
     "execution_count": 4,
     "metadata": {},
     "output_type": "execute_result"
    }
   ],
   "source": [
    "wild_exp_journal.shape"
   ]
  },
  {
   "cell_type": "code",
   "execution_count": 5,
   "metadata": {},
   "outputs": [
    {
     "data": {
      "text/html": [
       "<div>\n",
       "<style scoped>\n",
       "    .dataframe tbody tr th:only-of-type {\n",
       "        vertical-align: middle;\n",
       "    }\n",
       "\n",
       "    .dataframe tbody tr th {\n",
       "        vertical-align: top;\n",
       "    }\n",
       "\n",
       "    .dataframe thead th {\n",
       "        text-align: right;\n",
       "    }\n",
       "</style>\n",
       "<table border=\"1\" class=\"dataframe\">\n",
       "  <thead>\n",
       "    <tr style=\"text-align: right;\">\n",
       "      <th></th>\n",
       "      <th>index</th>\n",
       "      <th>citations</th>\n",
       "      <th>label_category</th>\n",
       "      <th>title</th>\n",
       "      <th>first_author</th>\n",
       "    </tr>\n",
       "  </thead>\n",
       "  <tbody>\n",
       "    <tr>\n",
       "      <th>0</th>\n",
       "      <td>0</td>\n",
       "      <td>{{Citation | last = Buchanan | first = Patrick...</td>\n",
       "      <td>journal</td>\n",
       "      <td>As Adelphia Goes, so Goes America?</td>\n",
       "      <td>Patrick \\u2018Pat\\u2019 Joseph Buchanan</td>\n",
       "    </tr>\n",
       "    <tr>\n",
       "      <th>1</th>\n",
       "      <td>1</td>\n",
       "      <td>{{Citation | last = Edwards | first = Adam | t...</td>\n",
       "      <td>journal</td>\n",
       "      <td>Any Old Iron?</td>\n",
       "      <td>Adam Edwards</td>\n",
       "    </tr>\n",
       "    <tr>\n",
       "      <th>2</th>\n",
       "      <td>2</td>\n",
       "      <td>{{Citation | last = Stuart | first = Patience ...</td>\n",
       "      <td>journal</td>\n",
       "      <td>National Register of Historic Places Registrat...</td>\n",
       "      <td>Patience Stuart</td>\n",
       "    </tr>\n",
       "    <tr>\n",
       "      <th>3</th>\n",
       "      <td>3</td>\n",
       "      <td>{{Citation | last = Vince | first = Alan | tit...</td>\n",
       "      <td>journal</td>\n",
       "      <td>Obituary: Keith Watson</td>\n",
       "      <td>Alan Vince</td>\n",
       "    </tr>\n",
       "    <tr>\n",
       "      <th>4</th>\n",
       "      <td>4</td>\n",
       "      <td>{{Citation | last = | first = | author-link = ...</td>\n",
       "      <td>journal</td>\n",
       "      <td>The ARIA Nominees</td>\n",
       "      <td>No author found</td>\n",
       "    </tr>\n",
       "  </tbody>\n",
       "</table>\n",
       "</div>"
      ],
      "text/plain": [
       "   index                                          citations label_category  \\\n",
       "0      0  {{Citation | last = Buchanan | first = Patrick...        journal   \n",
       "1      1  {{Citation | last = Edwards | first = Adam | t...        journal   \n",
       "2      2  {{Citation | last = Stuart | first = Patience ...        journal   \n",
       "3      3  {{Citation | last = Vince | first = Alan | tit...        journal   \n",
       "4      4  {{Citation | last = | first = | author-link = ...        journal   \n",
       "\n",
       "                                               title  \\\n",
       "0                 As Adelphia Goes, so Goes America?   \n",
       "1                                      Any Old Iron?   \n",
       "2  National Register of Historic Places Registrat...   \n",
       "3                             Obituary: Keith Watson   \n",
       "4                                  The ARIA Nominees   \n",
       "\n",
       "                              first_author  \n",
       "0  Patrick \\u2018Pat\\u2019 Joseph Buchanan  \n",
       "1                             Adam Edwards  \n",
       "2                          Patience Stuart  \n",
       "3                               Alan Vince  \n",
       "4                          No author found  "
      ]
     },
     "execution_count": 5,
     "metadata": {},
     "output_type": "execute_result"
    }
   ],
   "source": [
    "## A look into the file..\n",
    "wild_exp_journal.head()"
   ]
  },
  {
   "cell_type": "markdown",
   "metadata": {},
   "source": [
    "### Extract the title of the citation and the author, if they exist - which will be used for CrossRef lookup"
   ]
  },
  {
   "cell_type": "code",
   "execution_count": 6,
   "metadata": {},
   "outputs": [
    {
     "name": "stderr",
     "output_type": "stream",
     "text": [
      "100%|██████████| 2080785/2080785 [00:10<00:00, 200349.00it/s]\n"
     ]
    }
   ],
   "source": [
    "def get_title(citation_text):\n",
    "    \"\"\"Get title of citation based on finding the placeholder keywords using regular expressions\"\"\"\n",
    "    title_res = re.findall('title\\s{0,10}=\\s{0,10}([^|]+)', citation_text) \n",
    "    if len(title_res) == 0:\n",
    "        if 'sports-reference' in citation_text:\n",
    "            return re.findall('(C|c)ite\\s{0,10}sports-reference\\s{0,10}|([^|]+)', citation_text)[1][1].strip()\n",
    "        else:\n",
    "            article_res = re.findall('article\\s{0,10}=\\s{0,10}([^|]+)', citation_text)\n",
    "            if len(article_res) != 0:\n",
    "                return article_res[0].strip()\n",
    "            return None\n",
    "    return title_res[0].strip()\n",
    "\n",
    "wild_exp_journal['title'] = wild_exp_journal['citations'].progress_apply(lambda x: get_title(x))"
   ]
  },
  {
   "cell_type": "code",
   "execution_count": 7,
   "metadata": {},
   "outputs": [
    {
     "data": {
      "text/html": [
       "<div>\n",
       "<style scoped>\n",
       "    .dataframe tbody tr th:only-of-type {\n",
       "        vertical-align: middle;\n",
       "    }\n",
       "\n",
       "    .dataframe tbody tr th {\n",
       "        vertical-align: top;\n",
       "    }\n",
       "\n",
       "    .dataframe thead th {\n",
       "        text-align: right;\n",
       "    }\n",
       "</style>\n",
       "<table border=\"1\" class=\"dataframe\">\n",
       "  <thead>\n",
       "    <tr style=\"text-align: right;\">\n",
       "      <th></th>\n",
       "      <th>citations</th>\n",
       "      <th>label_category</th>\n",
       "      <th>title</th>\n",
       "    </tr>\n",
       "  </thead>\n",
       "  <tbody>\n",
       "    <tr>\n",
       "      <td>0</td>\n",
       "      <td>{{Citation | last = Buchanan | first = Patrick...</td>\n",
       "      <td>journal</td>\n",
       "      <td>As Adelphia Goes, so Goes America?</td>\n",
       "    </tr>\n",
       "    <tr>\n",
       "      <td>1</td>\n",
       "      <td>{{Citation | last = Edwards | first = Adam | t...</td>\n",
       "      <td>journal</td>\n",
       "      <td>Any Old Iron?</td>\n",
       "    </tr>\n",
       "    <tr>\n",
       "      <td>2</td>\n",
       "      <td>{{Citation | last = Stuart | first = Patience ...</td>\n",
       "      <td>journal</td>\n",
       "      <td>National Register of Historic Places Registrat...</td>\n",
       "    </tr>\n",
       "    <tr>\n",
       "      <td>3</td>\n",
       "      <td>{{Citation | last = Vince | first = Alan | tit...</td>\n",
       "      <td>journal</td>\n",
       "      <td>Obituary: Keith Watson</td>\n",
       "    </tr>\n",
       "    <tr>\n",
       "      <td>4</td>\n",
       "      <td>{{Citation | last = | first = | author-link = ...</td>\n",
       "      <td>journal</td>\n",
       "      <td>The ARIA Nominees</td>\n",
       "    </tr>\n",
       "  </tbody>\n",
       "</table>\n",
       "</div>"
      ],
      "text/plain": [
       "                                           citations label_category  \\\n",
       "0  {{Citation | last = Buchanan | first = Patrick...        journal   \n",
       "1  {{Citation | last = Edwards | first = Adam | t...        journal   \n",
       "2  {{Citation | last = Stuart | first = Patience ...        journal   \n",
       "3  {{Citation | last = Vince | first = Alan | tit...        journal   \n",
       "4  {{Citation | last = | first = | author-link = ...        journal   \n",
       "\n",
       "                                               title  \n",
       "0                 As Adelphia Goes, so Goes America?  \n",
       "1                                      Any Old Iron?  \n",
       "2  National Register of Historic Places Registrat...  \n",
       "3                             Obituary: Keith Watson  \n",
       "4                                  The ARIA Nominees  "
      ]
     },
     "execution_count": 7,
     "metadata": {},
     "output_type": "execute_result"
    }
   ],
   "source": [
    "wild_exp_journal.head()"
   ]
  },
  {
   "cell_type": "code",
   "execution_count": 8,
   "metadata": {},
   "outputs": [
    {
     "data": {
      "text/plain": [
       "(5709, 3)"
      ]
     },
     "execution_count": 8,
     "metadata": {},
     "output_type": "execute_result"
    }
   ],
   "source": [
    "wild_exp_journal[~wild_exp_journal['title'].notnull()].shape"
   ]
  },
  {
   "cell_type": "code",
   "execution_count": 9,
   "metadata": {},
   "outputs": [],
   "source": [
    "def get_author(citation_text):    \n",
    "    \"\"\"Get author based on finding the placeholder keywords using regular expressions\"\"\"\n",
    "    def check_first_last_res(first_res, last_res):\n",
    "        if len(first_res) != 0 and len(last_res) != 0:\n",
    "            return first_res[0].strip() + ' ' + last_res[0].strip()\n",
    "        if len(first_res) != 0:\n",
    "            return first_res[0].strip()\n",
    "        if len(last_res) != 0:\n",
    "            return last_res[0].strip()\n",
    "    \n",
    "    ## https://en.wikipedia.org/wiki/Template:Citation -  only these keywords are available\n",
    "    first_res = re.findall('first\\s{0,10}=\\s{0,10}([^|]+)', citation_text)\n",
    "    last_res = re.findall('last\\s{0,10}=\\s{0,10}([^|]+)', citation_text)\n",
    "    \n",
    "    author_res = re.findall('author\\s{0,10}=\\s{0,10}([^|]+)', citation_text)\n",
    "    author1_res = re.findall('author1\\s{0,10}=\\s{0,10}([^|]+)', citation_text)\n",
    "    \n",
    "    first1_res = re.findall('first1\\s{0,10}=\\s{0,10}([^|]+)', citation_text)\n",
    "    last1_res = re.findall('last1\\s{0,10}=\\s{0,10}([^|]+)', citation_text)\n",
    "    \n",
    "    if first_res or last_res:\n",
    "        return check_first_last_res(first_res, last_res)\n",
    "    elif author_res:\n",
    "        return author_res[0].strip()\n",
    "    elif author1_res:\n",
    "        return author1_res[0].strip()\n",
    "    elif first1_res or last1_res:\n",
    "        return check_first_last_res(first1_res, last1_res)\n",
    "    else:\n",
    "        return None"
   ]
  },
  {
   "cell_type": "code",
   "execution_count": 10,
   "metadata": {},
   "outputs": [
    {
     "name": "stderr",
     "output_type": "stream",
     "text": [
      "100%|██████████| 2080785/2080785 [00:29<00:00, 71345.61it/s]\n"
     ]
    }
   ],
   "source": [
    "## For each citation, get the first author if it exists\n",
    "wild_exp_journal['first_author'] = wild_exp_journal['citations'].progress_apply(lambda x: get_author(x))"
   ]
  },
  {
   "cell_type": "code",
   "execution_count": 11,
   "metadata": {},
   "outputs": [
    {
     "data": {
      "text/html": [
       "<div>\n",
       "<style scoped>\n",
       "    .dataframe tbody tr th:only-of-type {\n",
       "        vertical-align: middle;\n",
       "    }\n",
       "\n",
       "    .dataframe tbody tr th {\n",
       "        vertical-align: top;\n",
       "    }\n",
       "\n",
       "    .dataframe thead th {\n",
       "        text-align: right;\n",
       "    }\n",
       "</style>\n",
       "<table border=\"1\" class=\"dataframe\">\n",
       "  <thead>\n",
       "    <tr style=\"text-align: right;\">\n",
       "      <th></th>\n",
       "      <th>citations</th>\n",
       "      <th>label_category</th>\n",
       "      <th>title</th>\n",
       "      <th>first_author</th>\n",
       "    </tr>\n",
       "  </thead>\n",
       "  <tbody>\n",
       "    <tr>\n",
       "      <td>0</td>\n",
       "      <td>{{Citation | last = Buchanan | first = Patrick...</td>\n",
       "      <td>journal</td>\n",
       "      <td>As Adelphia Goes, so Goes America?</td>\n",
       "      <td>Patrick \\u2018Pat\\u2019 Joseph Buchanan</td>\n",
       "    </tr>\n",
       "    <tr>\n",
       "      <td>1</td>\n",
       "      <td>{{Citation | last = Edwards | first = Adam | t...</td>\n",
       "      <td>journal</td>\n",
       "      <td>Any Old Iron?</td>\n",
       "      <td>Adam Edwards</td>\n",
       "    </tr>\n",
       "    <tr>\n",
       "      <td>2</td>\n",
       "      <td>{{Citation | last = Stuart | first = Patience ...</td>\n",
       "      <td>journal</td>\n",
       "      <td>National Register of Historic Places Registrat...</td>\n",
       "      <td>Patience Stuart</td>\n",
       "    </tr>\n",
       "    <tr>\n",
       "      <td>3</td>\n",
       "      <td>{{Citation | last = Vince | first = Alan | tit...</td>\n",
       "      <td>journal</td>\n",
       "      <td>Obituary: Keith Watson</td>\n",
       "      <td>Alan Vince</td>\n",
       "    </tr>\n",
       "    <tr>\n",
       "      <td>4</td>\n",
       "      <td>{{Citation | last = | first = | author-link = ...</td>\n",
       "      <td>journal</td>\n",
       "      <td>The ARIA Nominees</td>\n",
       "      <td></td>\n",
       "    </tr>\n",
       "  </tbody>\n",
       "</table>\n",
       "</div>"
      ],
      "text/plain": [
       "                                           citations label_category  \\\n",
       "0  {{Citation | last = Buchanan | first = Patrick...        journal   \n",
       "1  {{Citation | last = Edwards | first = Adam | t...        journal   \n",
       "2  {{Citation | last = Stuart | first = Patience ...        journal   \n",
       "3  {{Citation | last = Vince | first = Alan | tit...        journal   \n",
       "4  {{Citation | last = | first = | author-link = ...        journal   \n",
       "\n",
       "                                               title  \\\n",
       "0                 As Adelphia Goes, so Goes America?   \n",
       "1                                      Any Old Iron?   \n",
       "2  National Register of Historic Places Registrat...   \n",
       "3                             Obituary: Keith Watson   \n",
       "4                                  The ARIA Nominees   \n",
       "\n",
       "                              first_author  \n",
       "0  Patrick \\u2018Pat\\u2019 Joseph Buchanan  \n",
       "1                             Adam Edwards  \n",
       "2                          Patience Stuart  \n",
       "3                               Alan Vince  \n",
       "4                                           "
      ]
     },
     "execution_count": 11,
     "metadata": {},
     "output_type": "execute_result"
    }
   ],
   "source": [
    "wild_exp_journal.head()"
   ]
  },
  {
   "cell_type": "code",
   "execution_count": 12,
   "metadata": {},
   "outputs": [
    {
     "data": {
      "text/plain": [
       "(1487541, 4)"
      ]
     },
     "execution_count": 12,
     "metadata": {},
     "output_type": "execute_result"
    }
   ],
   "source": [
    "## Total number of citations for which their is no author\n",
    "wild_exp_journal[~wild_exp_journal['first_author'].notnull()].shape"
   ]
  },
  {
   "cell_type": "code",
   "execution_count": 13,
   "metadata": {},
   "outputs": [],
   "source": [
    "## Fill NaN values in first author column as it is missing and can act as distraction for the lookup\n",
    "wild_exp_journal['first_author'].fillna(value='No author found', inplace=True)"
   ]
  },
  {
   "cell_type": "code",
   "execution_count": 14,
   "metadata": {},
   "outputs": [
    {
     "name": "stderr",
     "output_type": "stream",
     "text": [
      "100%|██████████| 2080785/2080785 [00:03<00:00, 531132.56it/s]\n"
     ]
    }
   ],
   "source": [
    "def check_whitespace_author(first_author):\n",
    "    \"\"\"Check if the first author column has whitespace and replace it\"\"\"\n",
    "    if not first_author.strip():\n",
    "        return 'No author found'\n",
    "    return first_author\n",
    "    \n",
    "wild_exp_journal['first_author'] = wild_exp_journal['first_author'].progress_apply(lambda x: check_whitespace_author(x))"
   ]
  },
  {
   "cell_type": "code",
   "execution_count": 15,
   "metadata": {},
   "outputs": [
    {
     "data": {
      "text/html": [
       "<div>\n",
       "<style scoped>\n",
       "    .dataframe tbody tr th:only-of-type {\n",
       "        vertical-align: middle;\n",
       "    }\n",
       "\n",
       "    .dataframe tbody tr th {\n",
       "        vertical-align: top;\n",
       "    }\n",
       "\n",
       "    .dataframe thead th {\n",
       "        text-align: right;\n",
       "    }\n",
       "</style>\n",
       "<table border=\"1\" class=\"dataframe\">\n",
       "  <thead>\n",
       "    <tr style=\"text-align: right;\">\n",
       "      <th></th>\n",
       "      <th>citations</th>\n",
       "      <th>label_category</th>\n",
       "      <th>title</th>\n",
       "      <th>first_author</th>\n",
       "    </tr>\n",
       "  </thead>\n",
       "  <tbody>\n",
       "    <tr>\n",
       "      <td>0</td>\n",
       "      <td>{{Citation | last = Buchanan | first = Patrick...</td>\n",
       "      <td>journal</td>\n",
       "      <td>As Adelphia Goes, so Goes America?</td>\n",
       "      <td>Patrick \\u2018Pat\\u2019 Joseph Buchanan</td>\n",
       "    </tr>\n",
       "    <tr>\n",
       "      <td>1</td>\n",
       "      <td>{{Citation | last = Edwards | first = Adam | t...</td>\n",
       "      <td>journal</td>\n",
       "      <td>Any Old Iron?</td>\n",
       "      <td>Adam Edwards</td>\n",
       "    </tr>\n",
       "    <tr>\n",
       "      <td>2</td>\n",
       "      <td>{{Citation | last = Stuart | first = Patience ...</td>\n",
       "      <td>journal</td>\n",
       "      <td>National Register of Historic Places Registrat...</td>\n",
       "      <td>Patience Stuart</td>\n",
       "    </tr>\n",
       "    <tr>\n",
       "      <td>3</td>\n",
       "      <td>{{Citation | last = Vince | first = Alan | tit...</td>\n",
       "      <td>journal</td>\n",
       "      <td>Obituary: Keith Watson</td>\n",
       "      <td>Alan Vince</td>\n",
       "    </tr>\n",
       "    <tr>\n",
       "      <td>4</td>\n",
       "      <td>{{Citation | last = | first = | author-link = ...</td>\n",
       "      <td>journal</td>\n",
       "      <td>The ARIA Nominees</td>\n",
       "      <td>No author found</td>\n",
       "    </tr>\n",
       "  </tbody>\n",
       "</table>\n",
       "</div>"
      ],
      "text/plain": [
       "                                           citations label_category  \\\n",
       "0  {{Citation | last = Buchanan | first = Patrick...        journal   \n",
       "1  {{Citation | last = Edwards | first = Adam | t...        journal   \n",
       "2  {{Citation | last = Stuart | first = Patience ...        journal   \n",
       "3  {{Citation | last = Vince | first = Alan | tit...        journal   \n",
       "4  {{Citation | last = | first = | author-link = ...        journal   \n",
       "\n",
       "                                               title  \\\n",
       "0                 As Adelphia Goes, so Goes America?   \n",
       "1                                      Any Old Iron?   \n",
       "2  National Register of Historic Places Registrat...   \n",
       "3                             Obituary: Keith Watson   \n",
       "4                                  The ARIA Nominees   \n",
       "\n",
       "                              first_author  \n",
       "0  Patrick \\u2018Pat\\u2019 Joseph Buchanan  \n",
       "1                             Adam Edwards  \n",
       "2                          Patience Stuart  \n",
       "3                               Alan Vince  \n",
       "4                          No author found  "
      ]
     },
     "execution_count": 15,
     "metadata": {},
     "output_type": "execute_result"
    }
   ],
   "source": [
    "wild_exp_journal.head()"
   ]
  },
  {
   "cell_type": "code",
   "execution_count": 16,
   "metadata": {},
   "outputs": [],
   "source": [
    "## Saving the file for which the lookup needs to be performed\n",
    "wild_exp_journal.to_csv('wild_exp_info.csv', index=True, index_label='index')"
   ]
  },
  {
   "cell_type": "code",
   "execution_count": 21,
   "metadata": {},
   "outputs": [
    {
     "data": {
      "text/plain": [
       "'{{Citation | last = Buchanan | first = Patrick \\\\u2018Pat\\\\u2019 Joseph | url = | title = As Adelphia Goes, so Goes America? | date = February 14, 2005 | publisher = The American cause }}'"
      ]
     },
     "execution_count": 21,
     "metadata": {},
     "output_type": "execute_result"
    }
   ],
   "source": [
    "## Example as to how a citation might look like\n",
    "wild_exp_journal.iloc[0]['citations']"
   ]
  },
  {
   "cell_type": "markdown",
   "metadata": {},
   "source": [
    "### Once lookup is done..\n",
    "\n",
    "1. Assign filename for each index in the dataframe\n",
    "2. For each file/metadata found, get the 3 DOIs if they exist and their corresponding scores"
   ]
  },
  {
   "cell_type": "code",
   "execution_count": 6,
   "metadata": {},
   "outputs": [
    {
     "data": {
      "text/html": [
       "<div>\n",
       "<style scoped>\n",
       "    .dataframe tbody tr th:only-of-type {\n",
       "        vertical-align: middle;\n",
       "    }\n",
       "\n",
       "    .dataframe tbody tr th {\n",
       "        vertical-align: top;\n",
       "    }\n",
       "\n",
       "    .dataframe thead th {\n",
       "        text-align: right;\n",
       "    }\n",
       "</style>\n",
       "<table border=\"1\" class=\"dataframe\">\n",
       "  <thead>\n",
       "    <tr style=\"text-align: right;\">\n",
       "      <th></th>\n",
       "      <th>index</th>\n",
       "      <th>citations</th>\n",
       "      <th>label_category</th>\n",
       "      <th>title</th>\n",
       "      <th>first_author</th>\n",
       "    </tr>\n",
       "  </thead>\n",
       "  <tbody>\n",
       "    <tr>\n",
       "      <th>0</th>\n",
       "      <td>0</td>\n",
       "      <td>{{Citation | last = Buchanan | first = Patrick...</td>\n",
       "      <td>journal</td>\n",
       "      <td>As Adelphia Goes, so Goes America?</td>\n",
       "      <td>Patrick \\u2018Pat\\u2019 Joseph Buchanan</td>\n",
       "    </tr>\n",
       "    <tr>\n",
       "      <th>1</th>\n",
       "      <td>1</td>\n",
       "      <td>{{Citation | last = Edwards | first = Adam | t...</td>\n",
       "      <td>journal</td>\n",
       "      <td>Any Old Iron?</td>\n",
       "      <td>Adam Edwards</td>\n",
       "    </tr>\n",
       "    <tr>\n",
       "      <th>2</th>\n",
       "      <td>2</td>\n",
       "      <td>{{Citation | last = Stuart | first = Patience ...</td>\n",
       "      <td>journal</td>\n",
       "      <td>National Register of Historic Places Registrat...</td>\n",
       "      <td>Patience Stuart</td>\n",
       "    </tr>\n",
       "    <tr>\n",
       "      <th>3</th>\n",
       "      <td>3</td>\n",
       "      <td>{{Citation | last = Vince | first = Alan | tit...</td>\n",
       "      <td>journal</td>\n",
       "      <td>Obituary: Keith Watson</td>\n",
       "      <td>Alan Vince</td>\n",
       "    </tr>\n",
       "    <tr>\n",
       "      <th>4</th>\n",
       "      <td>4</td>\n",
       "      <td>{{Citation | last = | first = | author-link = ...</td>\n",
       "      <td>journal</td>\n",
       "      <td>The ARIA Nominees</td>\n",
       "      <td>No author found</td>\n",
       "    </tr>\n",
       "  </tbody>\n",
       "</table>\n",
       "</div>"
      ],
      "text/plain": [
       "   index                                          citations label_category  \\\n",
       "0      0  {{Citation | last = Buchanan | first = Patrick...        journal   \n",
       "1      1  {{Citation | last = Edwards | first = Adam | t...        journal   \n",
       "2      2  {{Citation | last = Stuart | first = Patience ...        journal   \n",
       "3      3  {{Citation | last = Vince | first = Alan | tit...        journal   \n",
       "4      4  {{Citation | last = | first = | author-link = ...        journal   \n",
       "\n",
       "                                               title  \\\n",
       "0                 As Adelphia Goes, so Goes America?   \n",
       "1                                      Any Old Iron?   \n",
       "2  National Register of Historic Places Registrat...   \n",
       "3                             Obituary: Keith Watson   \n",
       "4                                  The ARIA Nominees   \n",
       "\n",
       "                              first_author  \n",
       "0  Patrick \\u2018Pat\\u2019 Joseph Buchanan  \n",
       "1                             Adam Edwards  \n",
       "2                          Patience Stuart  \n",
       "3                               Alan Vince  \n",
       "4                          No author found  "
      ]
     },
     "execution_count": 6,
     "metadata": {},
     "output_type": "execute_result"
    }
   ],
   "source": [
    "wild_exp_journal.head()"
   ]
  },
  {
   "cell_type": "code",
   "execution_count": 7,
   "metadata": {},
   "outputs": [
    {
     "name": "stderr",
     "output_type": "stream",
     "text": [
      "100%|██████████| 2080785/2080785 [00:08<00:00, 253571.91it/s]\n"
     ]
    }
   ],
   "source": [
    "def assign_metadata(index):\n",
    "    \"\"\"Check if the file exists for a given index\"\"\"\n",
    "    if os.path.exists('lookup/_{}.json'.format(index)):\n",
    "        return '_{}.json'.format(index)\n",
    "    return 'Metadata does not exist'\n",
    "    \n",
    "## assigning name of the file for each citation\n",
    "wild_exp_journal['metadata_file'] = wild_exp_journal['index'].progress_apply(lambda x: assign_metadata(x))"
   ]
  },
  {
   "cell_type": "code",
   "execution_count": 8,
   "metadata": {},
   "outputs": [
    {
     "name": "stdout",
     "output_type": "stream",
     "text": [
      "Metadata did not exist for these many citations: 3811 out of 2080785\n"
     ]
    }
   ],
   "source": [
    "## Number of citations for which metadata did not exist in CrossRef\n",
    "## This is because some of the citations neither author and title did not exist\n",
    "## or CrossRef was unable to parse the request -- due to invalid characters\n",
    "print('Metadata did not exist for these many citations: {} out of {}'.format(\n",
    "    wild_exp_journal[wild_exp_journal['metadata_file'] == 'Metadata does not exist'].shape[0],\n",
    "    wild_exp_journal.shape[0]\n",
    "))"
   ]
  },
  {
   "cell_type": "code",
   "execution_count": 9,
   "metadata": {},
   "outputs": [
    {
     "data": {
      "text/html": [
       "<div>\n",
       "<style scoped>\n",
       "    .dataframe tbody tr th:only-of-type {\n",
       "        vertical-align: middle;\n",
       "    }\n",
       "\n",
       "    .dataframe tbody tr th {\n",
       "        vertical-align: top;\n",
       "    }\n",
       "\n",
       "    .dataframe thead th {\n",
       "        text-align: right;\n",
       "    }\n",
       "</style>\n",
       "<table border=\"1\" class=\"dataframe\">\n",
       "  <thead>\n",
       "    <tr style=\"text-align: right;\">\n",
       "      <th></th>\n",
       "      <th>index</th>\n",
       "      <th>citations</th>\n",
       "      <th>label_category</th>\n",
       "      <th>title</th>\n",
       "      <th>first_author</th>\n",
       "      <th>metadata_file</th>\n",
       "    </tr>\n",
       "  </thead>\n",
       "  <tbody>\n",
       "    <tr>\n",
       "      <th>0</th>\n",
       "      <td>0</td>\n",
       "      <td>{{Citation | last = Buchanan | first = Patrick...</td>\n",
       "      <td>journal</td>\n",
       "      <td>As Adelphia Goes, so Goes America?</td>\n",
       "      <td>Patrick \\u2018Pat\\u2019 Joseph Buchanan</td>\n",
       "      <td>_0.json</td>\n",
       "    </tr>\n",
       "    <tr>\n",
       "      <th>1</th>\n",
       "      <td>1</td>\n",
       "      <td>{{Citation | last = Edwards | first = Adam | t...</td>\n",
       "      <td>journal</td>\n",
       "      <td>Any Old Iron?</td>\n",
       "      <td>Adam Edwards</td>\n",
       "      <td>_1.json</td>\n",
       "    </tr>\n",
       "    <tr>\n",
       "      <th>2</th>\n",
       "      <td>2</td>\n",
       "      <td>{{Citation | last = Stuart | first = Patience ...</td>\n",
       "      <td>journal</td>\n",
       "      <td>National Register of Historic Places Registrat...</td>\n",
       "      <td>Patience Stuart</td>\n",
       "      <td>_2.json</td>\n",
       "    </tr>\n",
       "    <tr>\n",
       "      <th>3</th>\n",
       "      <td>3</td>\n",
       "      <td>{{Citation | last = Vince | first = Alan | tit...</td>\n",
       "      <td>journal</td>\n",
       "      <td>Obituary: Keith Watson</td>\n",
       "      <td>Alan Vince</td>\n",
       "      <td>_3.json</td>\n",
       "    </tr>\n",
       "    <tr>\n",
       "      <th>4</th>\n",
       "      <td>4</td>\n",
       "      <td>{{Citation | last = | first = | author-link = ...</td>\n",
       "      <td>journal</td>\n",
       "      <td>The ARIA Nominees</td>\n",
       "      <td>No author found</td>\n",
       "      <td>_4.json</td>\n",
       "    </tr>\n",
       "  </tbody>\n",
       "</table>\n",
       "</div>"
      ],
      "text/plain": [
       "   index                                          citations label_category  \\\n",
       "0      0  {{Citation | last = Buchanan | first = Patrick...        journal   \n",
       "1      1  {{Citation | last = Edwards | first = Adam | t...        journal   \n",
       "2      2  {{Citation | last = Stuart | first = Patience ...        journal   \n",
       "3      3  {{Citation | last = Vince | first = Alan | tit...        journal   \n",
       "4      4  {{Citation | last = | first = | author-link = ...        journal   \n",
       "\n",
       "                                               title  \\\n",
       "0                 As Adelphia Goes, so Goes America?   \n",
       "1                                      Any Old Iron?   \n",
       "2  National Register of Historic Places Registrat...   \n",
       "3                             Obituary: Keith Watson   \n",
       "4                                  The ARIA Nominees   \n",
       "\n",
       "                              first_author metadata_file  \n",
       "0  Patrick \\u2018Pat\\u2019 Joseph Buchanan       _0.json  \n",
       "1                             Adam Edwards       _1.json  \n",
       "2                          Patience Stuart       _2.json  \n",
       "3                               Alan Vince       _3.json  \n",
       "4                          No author found       _4.json  "
      ]
     },
     "execution_count": 9,
     "metadata": {},
     "output_type": "execute_result"
    }
   ],
   "source": [
    "wild_exp_journal.head()"
   ]
  },
  {
   "cell_type": "code",
   "execution_count": 14,
   "metadata": {},
   "outputs": [],
   "source": [
    "def get_identifier_or_score(filename, identifier=True):\n",
    "    \"\"\"Return the 3 identifiers (DOIs) or confidence scores for each citation\"\"\"\n",
    "    column_name = 'DOI' if identifier else 'score'\n",
    "    if filename == 'Metadata does not exist':\n",
    "        return None\n",
    "    else:\n",
    "        with open('lookup/{}'.format(filename)) as f:\n",
    "            content = json.loads(f.read())\n",
    "            if len(content) > 0:\n",
    "                if 'message' in content and content['message'] == 'No result was found in CrossRef':\n",
    "                    return None\n",
    "                else:\n",
    "                    return np.array([content[i][column_name] for i in range(len(content))])\n",
    "            return None"
   ]
  },
  {
   "cell_type": "code",
   "execution_count": 15,
   "metadata": {},
   "outputs": [
    {
     "name": "stderr",
     "output_type": "stream",
     "text": [
      "100%|██████████| 2080785/2080785 [04:14<00:00, 8166.49it/s]\n"
     ]
    }
   ],
   "source": [
    "## Get the DOIs for each citation which we extracted from CrossRef\n",
    "wild_exp_journal['identifier'] = wild_exp_journal['metadata_file'].progress_apply(\n",
    "    lambda x: get_identifier_or_score(x))"
   ]
  },
  {
   "cell_type": "code",
   "execution_count": 16,
   "metadata": {},
   "outputs": [
    {
     "data": {
      "text/html": [
       "<div>\n",
       "<style scoped>\n",
       "    .dataframe tbody tr th:only-of-type {\n",
       "        vertical-align: middle;\n",
       "    }\n",
       "\n",
       "    .dataframe tbody tr th {\n",
       "        vertical-align: top;\n",
       "    }\n",
       "\n",
       "    .dataframe thead th {\n",
       "        text-align: right;\n",
       "    }\n",
       "</style>\n",
       "<table border=\"1\" class=\"dataframe\">\n",
       "  <thead>\n",
       "    <tr style=\"text-align: right;\">\n",
       "      <th></th>\n",
       "      <th>index</th>\n",
       "      <th>citations</th>\n",
       "      <th>label_category</th>\n",
       "      <th>title</th>\n",
       "      <th>first_author</th>\n",
       "      <th>metadata_file</th>\n",
       "      <th>identifier</th>\n",
       "    </tr>\n",
       "  </thead>\n",
       "  <tbody>\n",
       "    <tr>\n",
       "      <th>0</th>\n",
       "      <td>0</td>\n",
       "      <td>{{Citation | last = Buchanan | first = Patrick...</td>\n",
       "      <td>journal</td>\n",
       "      <td>As Adelphia Goes, so Goes America?</td>\n",
       "      <td>Patrick \\u2018Pat\\u2019 Joseph Buchanan</td>\n",
       "      <td>_0.json</td>\n",
       "      <td>[10.1038/scientificamerican1297-48, 10.1029/jd...</td>\n",
       "    </tr>\n",
       "    <tr>\n",
       "      <th>1</th>\n",
       "      <td>1</td>\n",
       "      <td>{{Citation | last = Edwards | first = Adam | t...</td>\n",
       "      <td>journal</td>\n",
       "      <td>Any Old Iron?</td>\n",
       "      <td>Adam Edwards</td>\n",
       "      <td>_1.json</td>\n",
       "      <td>[10.1364/ofc.2016.w3b.4, 10.1016/s0140-6736(83...</td>\n",
       "    </tr>\n",
       "    <tr>\n",
       "      <th>2</th>\n",
       "      <td>2</td>\n",
       "      <td>{{Citation | last = Stuart | first = Patience ...</td>\n",
       "      <td>journal</td>\n",
       "      <td>National Register of Historic Places Registrat...</td>\n",
       "      <td>Patience Stuart</td>\n",
       "      <td>_2.json</td>\n",
       "      <td>[10.1177/019263654502913320, 10.12968/bjsn.201...</td>\n",
       "    </tr>\n",
       "    <tr>\n",
       "      <th>3</th>\n",
       "      <td>3</td>\n",
       "      <td>{{Citation | last = Vince | first = Alan | tit...</td>\n",
       "      <td>journal</td>\n",
       "      <td>Obituary: Keith Watson</td>\n",
       "      <td>Alan Vince</td>\n",
       "      <td>_3.json</td>\n",
       "      <td>[10.1049/iet-tv.44.16506, 10.1161/01.cir.23.2....</td>\n",
       "    </tr>\n",
       "    <tr>\n",
       "      <th>4</th>\n",
       "      <td>4</td>\n",
       "      <td>{{Citation | last = | first = | author-link = ...</td>\n",
       "      <td>journal</td>\n",
       "      <td>The ARIA Nominees</td>\n",
       "      <td>No author found</td>\n",
       "      <td>_4.json</td>\n",
       "      <td>[10.4016/32852.01, 10.1007/978-1-84882-864-3_4...</td>\n",
       "    </tr>\n",
       "  </tbody>\n",
       "</table>\n",
       "</div>"
      ],
      "text/plain": [
       "   index                                          citations label_category  \\\n",
       "0      0  {{Citation | last = Buchanan | first = Patrick...        journal   \n",
       "1      1  {{Citation | last = Edwards | first = Adam | t...        journal   \n",
       "2      2  {{Citation | last = Stuart | first = Patience ...        journal   \n",
       "3      3  {{Citation | last = Vince | first = Alan | tit...        journal   \n",
       "4      4  {{Citation | last = | first = | author-link = ...        journal   \n",
       "\n",
       "                                               title  \\\n",
       "0                 As Adelphia Goes, so Goes America?   \n",
       "1                                      Any Old Iron?   \n",
       "2  National Register of Historic Places Registrat...   \n",
       "3                             Obituary: Keith Watson   \n",
       "4                                  The ARIA Nominees   \n",
       "\n",
       "                              first_author metadata_file  \\\n",
       "0  Patrick \\u2018Pat\\u2019 Joseph Buchanan       _0.json   \n",
       "1                             Adam Edwards       _1.json   \n",
       "2                          Patience Stuart       _2.json   \n",
       "3                               Alan Vince       _3.json   \n",
       "4                          No author found       _4.json   \n",
       "\n",
       "                                          identifier  \n",
       "0  [10.1038/scientificamerican1297-48, 10.1029/jd...  \n",
       "1  [10.1364/ofc.2016.w3b.4, 10.1016/s0140-6736(83...  \n",
       "2  [10.1177/019263654502913320, 10.12968/bjsn.201...  \n",
       "3  [10.1049/iet-tv.44.16506, 10.1161/01.cir.23.2....  \n",
       "4  [10.4016/32852.01, 10.1007/978-1-84882-864-3_4...  "
      ]
     },
     "execution_count": 16,
     "metadata": {},
     "output_type": "execute_result"
    }
   ],
   "source": [
    "wild_exp_journal.head()"
   ]
  },
  {
   "cell_type": "code",
   "execution_count": 20,
   "metadata": {},
   "outputs": [
    {
     "name": "stdout",
     "output_type": "stream",
     "text": [
      "Identifier does not exist for these many citations: 77188 out of 2080785\n"
     ]
    }
   ],
   "source": [
    "print('Identifier does not exist for these many citations: {} out of {}'.format(\n",
    "    wild_exp_journal[~wild_exp_journal['identifier'].notnull()].shape[0],\n",
    "    wild_exp_journal.shape[0]\n",
    "))"
   ]
  },
  {
   "cell_type": "code",
   "execution_count": 21,
   "metadata": {},
   "outputs": [
    {
     "name": "stderr",
     "output_type": "stream",
     "text": [
      "100%|██████████| 2080785/2080785 [04:23<00:00, 7896.74it/s]\n"
     ]
    }
   ],
   "source": [
    "## Get the confidence scores for each citation which we extracted from CrossRef\n",
    "wild_exp_journal['conf_score'] = wild_exp_journal['metadata_file'].progress_apply(\n",
    "    lambda x: get_identifier_or_score(x, identifier=False))"
   ]
  },
  {
   "cell_type": "code",
   "execution_count": 22,
   "metadata": {},
   "outputs": [
    {
     "data": {
      "text/html": [
       "<div>\n",
       "<style scoped>\n",
       "    .dataframe tbody tr th:only-of-type {\n",
       "        vertical-align: middle;\n",
       "    }\n",
       "\n",
       "    .dataframe tbody tr th {\n",
       "        vertical-align: top;\n",
       "    }\n",
       "\n",
       "    .dataframe thead th {\n",
       "        text-align: right;\n",
       "    }\n",
       "</style>\n",
       "<table border=\"1\" class=\"dataframe\">\n",
       "  <thead>\n",
       "    <tr style=\"text-align: right;\">\n",
       "      <th></th>\n",
       "      <th>index</th>\n",
       "      <th>citations</th>\n",
       "      <th>label_category</th>\n",
       "      <th>title</th>\n",
       "      <th>first_author</th>\n",
       "      <th>metadata_file</th>\n",
       "      <th>identifier</th>\n",
       "      <th>conf_score</th>\n",
       "    </tr>\n",
       "  </thead>\n",
       "  <tbody>\n",
       "    <tr>\n",
       "      <th>0</th>\n",
       "      <td>0</td>\n",
       "      <td>{{Citation | last = Buchanan | first = Patrick...</td>\n",
       "      <td>journal</td>\n",
       "      <td>As Adelphia Goes, so Goes America?</td>\n",
       "      <td>Patrick \\u2018Pat\\u2019 Joseph Buchanan</td>\n",
       "      <td>_0.json</td>\n",
       "      <td>[10.1038/scientificamerican1297-48, 10.1029/jd...</td>\n",
       "      <td>[32.524315, 29.46917, 29.390476]</td>\n",
       "    </tr>\n",
       "    <tr>\n",
       "      <th>1</th>\n",
       "      <td>1</td>\n",
       "      <td>{{Citation | last = Edwards | first = Adam | t...</td>\n",
       "      <td>journal</td>\n",
       "      <td>Any Old Iron?</td>\n",
       "      <td>Adam Edwards</td>\n",
       "      <td>_1.json</td>\n",
       "      <td>[10.1364/ofc.2016.w3b.4, 10.1016/s0140-6736(83...</td>\n",
       "      <td>[17.818737, 17.74486, 17.038055]</td>\n",
       "    </tr>\n",
       "    <tr>\n",
       "      <th>2</th>\n",
       "      <td>2</td>\n",
       "      <td>{{Citation | last = Stuart | first = Patience ...</td>\n",
       "      <td>journal</td>\n",
       "      <td>National Register of Historic Places Registrat...</td>\n",
       "      <td>Patience Stuart</td>\n",
       "      <td>_2.json</td>\n",
       "      <td>[10.1177/019263654502913320, 10.12968/bjsn.201...</td>\n",
       "      <td>[22.847187, 22.367924, 22.256752]</td>\n",
       "    </tr>\n",
       "    <tr>\n",
       "      <th>3</th>\n",
       "      <td>3</td>\n",
       "      <td>{{Citation | last = Vince | first = Alan | tit...</td>\n",
       "      <td>journal</td>\n",
       "      <td>Obituary: Keith Watson</td>\n",
       "      <td>Alan Vince</td>\n",
       "      <td>_3.json</td>\n",
       "      <td>[10.1049/iet-tv.44.16506, 10.1161/01.cir.23.2....</td>\n",
       "      <td>[18.879705, 18.771431, 18.371412]</td>\n",
       "    </tr>\n",
       "    <tr>\n",
       "      <th>4</th>\n",
       "      <td>4</td>\n",
       "      <td>{{Citation | last = | first = | author-link = ...</td>\n",
       "      <td>journal</td>\n",
       "      <td>The ARIA Nominees</td>\n",
       "      <td>No author found</td>\n",
       "      <td>_4.json</td>\n",
       "      <td>[10.4016/32852.01, 10.1007/978-1-84882-864-3_4...</td>\n",
       "      <td>[21.100235, 18.031717, 18.031717]</td>\n",
       "    </tr>\n",
       "  </tbody>\n",
       "</table>\n",
       "</div>"
      ],
      "text/plain": [
       "   index                                          citations label_category  \\\n",
       "0      0  {{Citation | last = Buchanan | first = Patrick...        journal   \n",
       "1      1  {{Citation | last = Edwards | first = Adam | t...        journal   \n",
       "2      2  {{Citation | last = Stuart | first = Patience ...        journal   \n",
       "3      3  {{Citation | last = Vince | first = Alan | tit...        journal   \n",
       "4      4  {{Citation | last = | first = | author-link = ...        journal   \n",
       "\n",
       "                                               title  \\\n",
       "0                 As Adelphia Goes, so Goes America?   \n",
       "1                                      Any Old Iron?   \n",
       "2  National Register of Historic Places Registrat...   \n",
       "3                             Obituary: Keith Watson   \n",
       "4                                  The ARIA Nominees   \n",
       "\n",
       "                              first_author metadata_file  \\\n",
       "0  Patrick \\u2018Pat\\u2019 Joseph Buchanan       _0.json   \n",
       "1                             Adam Edwards       _1.json   \n",
       "2                          Patience Stuart       _2.json   \n",
       "3                               Alan Vince       _3.json   \n",
       "4                          No author found       _4.json   \n",
       "\n",
       "                                          identifier  \\\n",
       "0  [10.1038/scientificamerican1297-48, 10.1029/jd...   \n",
       "1  [10.1364/ofc.2016.w3b.4, 10.1016/s0140-6736(83...   \n",
       "2  [10.1177/019263654502913320, 10.12968/bjsn.201...   \n",
       "3  [10.1049/iet-tv.44.16506, 10.1161/01.cir.23.2....   \n",
       "4  [10.4016/32852.01, 10.1007/978-1-84882-864-3_4...   \n",
       "\n",
       "                          conf_score  \n",
       "0   [32.524315, 29.46917, 29.390476]  \n",
       "1   [17.818737, 17.74486, 17.038055]  \n",
       "2  [22.847187, 22.367924, 22.256752]  \n",
       "3  [18.879705, 18.771431, 18.371412]  \n",
       "4  [21.100235, 18.031717, 18.031717]  "
      ]
     },
     "execution_count": 22,
     "metadata": {},
     "output_type": "execute_result"
    }
   ],
   "source": [
    "wild_exp_journal.head()"
   ]
  },
  {
   "cell_type": "code",
   "execution_count": 23,
   "metadata": {},
   "outputs": [
    {
     "name": "stdout",
     "output_type": "stream",
     "text": [
      "Confidence scores does not exist for these many citations: 77188 out of 2080785\n"
     ]
    }
   ],
   "source": [
    "print('Confidence scores does not exist for these many citations: {} out of {}'.format(\n",
    "    wild_exp_journal[~wild_exp_journal['conf_score'].notnull()].shape[0],\n",
    "    wild_exp_journal.shape[0]\n",
    "))"
   ]
  },
  {
   "cell_type": "code",
   "execution_count": 24,
   "metadata": {},
   "outputs": [],
   "source": [
    "## Save the results which we got from the metadata\n",
    "wild_exp_journal.to_parquet('wild_exp.gzip', compression='gzip')"
   ]
  },
  {
   "cell_type": "markdown",
   "metadata": {},
   "source": [
    "### If the file with the lookup for no confidence threshold is there.. then load it"
   ]
  },
  {
   "cell_type": "code",
   "execution_count": 3,
   "metadata": {},
   "outputs": [],
   "source": [
    "wild_exp_journal = pd.read_parquet('wild_exp.gzip')"
   ]
  },
  {
   "cell_type": "code",
   "execution_count": 4,
   "metadata": {},
   "outputs": [
    {
     "name": "stdout",
     "output_type": "stream",
     "text": [
      "The total number of citations are: (2080785, 8)\n"
     ]
    }
   ],
   "source": [
    "print('The total number of citations are: {}'.format(wild_exp_journal.shape))"
   ]
  },
  {
   "cell_type": "code",
   "execution_count": 6,
   "metadata": {},
   "outputs": [],
   "source": [
    "threshold_score = 34.997"
   ]
  },
  {
   "cell_type": "code",
   "execution_count": 9,
   "metadata": {},
   "outputs": [
    {
     "name": "stderr",
     "output_type": "stream",
     "text": [
      "100%|██████████| 2080785/2080785 [00:09<00:00, 209875.31it/s]\n"
     ]
    }
   ],
   "source": [
    "def get_score_based_on_threshold(conf_score):\n",
    "    if conf_score is None:\n",
    "        return None\n",
    "    else:\n",
    "        res = np.array([i for i, j in enumerate(conf_score) if j > threshold_score])\n",
    "        if len(res) == 0:\n",
    "            return None\n",
    "        else:\n",
    "            return res\n",
    "    \n",
    "wild_exp_journal['updated_conf_index'] = wild_exp_journal['conf_score'].progress_apply(\n",
    "    lambda x: get_score_based_on_threshold(x))"
   ]
  },
  {
   "cell_type": "code",
   "execution_count": 10,
   "metadata": {},
   "outputs": [
    {
     "data": {
      "text/html": [
       "<div>\n",
       "<style scoped>\n",
       "    .dataframe tbody tr th:only-of-type {\n",
       "        vertical-align: middle;\n",
       "    }\n",
       "\n",
       "    .dataframe tbody tr th {\n",
       "        vertical-align: top;\n",
       "    }\n",
       "\n",
       "    .dataframe thead th {\n",
       "        text-align: right;\n",
       "    }\n",
       "</style>\n",
       "<table border=\"1\" class=\"dataframe\">\n",
       "  <thead>\n",
       "    <tr style=\"text-align: right;\">\n",
       "      <th></th>\n",
       "      <th>index</th>\n",
       "      <th>citations</th>\n",
       "      <th>label_category</th>\n",
       "      <th>title</th>\n",
       "      <th>first_author</th>\n",
       "      <th>metadata_file</th>\n",
       "      <th>identifier</th>\n",
       "      <th>conf_score</th>\n",
       "      <th>updated_conf_index</th>\n",
       "    </tr>\n",
       "  </thead>\n",
       "  <tbody>\n",
       "    <tr>\n",
       "      <th>0</th>\n",
       "      <td>0</td>\n",
       "      <td>{{Citation | last = Buchanan | first = Patrick...</td>\n",
       "      <td>journal</td>\n",
       "      <td>As Adelphia Goes, so Goes America?</td>\n",
       "      <td>Patrick \\u2018Pat\\u2019 Joseph Buchanan</td>\n",
       "      <td>_0.json</td>\n",
       "      <td>[10.1038/scientificamerican1297-48, 10.1029/jd...</td>\n",
       "      <td>[32.524315, 29.46917, 29.390476]</td>\n",
       "      <td>None</td>\n",
       "    </tr>\n",
       "    <tr>\n",
       "      <th>1</th>\n",
       "      <td>1</td>\n",
       "      <td>{{Citation | last = Edwards | first = Adam | t...</td>\n",
       "      <td>journal</td>\n",
       "      <td>Any Old Iron?</td>\n",
       "      <td>Adam Edwards</td>\n",
       "      <td>_1.json</td>\n",
       "      <td>[10.1364/ofc.2016.w3b.4, 10.1016/s0140-6736(83...</td>\n",
       "      <td>[17.818737, 17.74486, 17.038055]</td>\n",
       "      <td>None</td>\n",
       "    </tr>\n",
       "    <tr>\n",
       "      <th>2</th>\n",
       "      <td>2</td>\n",
       "      <td>{{Citation | last = Stuart | first = Patience ...</td>\n",
       "      <td>journal</td>\n",
       "      <td>National Register of Historic Places Registrat...</td>\n",
       "      <td>Patience Stuart</td>\n",
       "      <td>_2.json</td>\n",
       "      <td>[10.1177/019263654502913320, 10.12968/bjsn.201...</td>\n",
       "      <td>[22.847187, 22.367924, 22.256752]</td>\n",
       "      <td>None</td>\n",
       "    </tr>\n",
       "    <tr>\n",
       "      <th>3</th>\n",
       "      <td>3</td>\n",
       "      <td>{{Citation | last = Vince | first = Alan | tit...</td>\n",
       "      <td>journal</td>\n",
       "      <td>Obituary: Keith Watson</td>\n",
       "      <td>Alan Vince</td>\n",
       "      <td>_3.json</td>\n",
       "      <td>[10.1049/iet-tv.44.16506, 10.1161/01.cir.23.2....</td>\n",
       "      <td>[18.879705, 18.771431, 18.371412]</td>\n",
       "      <td>None</td>\n",
       "    </tr>\n",
       "    <tr>\n",
       "      <th>4</th>\n",
       "      <td>4</td>\n",
       "      <td>{{Citation | last = | first = | author-link = ...</td>\n",
       "      <td>journal</td>\n",
       "      <td>The ARIA Nominees</td>\n",
       "      <td>No author found</td>\n",
       "      <td>_4.json</td>\n",
       "      <td>[10.4016/32852.01, 10.1007/978-1-84882-864-3_4...</td>\n",
       "      <td>[21.100235, 18.031717, 18.031717]</td>\n",
       "      <td>None</td>\n",
       "    </tr>\n",
       "  </tbody>\n",
       "</table>\n",
       "</div>"
      ],
      "text/plain": [
       "   index                                          citations label_category  \\\n",
       "0      0  {{Citation | last = Buchanan | first = Patrick...        journal   \n",
       "1      1  {{Citation | last = Edwards | first = Adam | t...        journal   \n",
       "2      2  {{Citation | last = Stuart | first = Patience ...        journal   \n",
       "3      3  {{Citation | last = Vince | first = Alan | tit...        journal   \n",
       "4      4  {{Citation | last = | first = | author-link = ...        journal   \n",
       "\n",
       "                                               title  \\\n",
       "0                 As Adelphia Goes, so Goes America?   \n",
       "1                                      Any Old Iron?   \n",
       "2  National Register of Historic Places Registrat...   \n",
       "3                             Obituary: Keith Watson   \n",
       "4                                  The ARIA Nominees   \n",
       "\n",
       "                              first_author metadata_file  \\\n",
       "0  Patrick \\u2018Pat\\u2019 Joseph Buchanan       _0.json   \n",
       "1                             Adam Edwards       _1.json   \n",
       "2                          Patience Stuart       _2.json   \n",
       "3                               Alan Vince       _3.json   \n",
       "4                          No author found       _4.json   \n",
       "\n",
       "                                          identifier  \\\n",
       "0  [10.1038/scientificamerican1297-48, 10.1029/jd...   \n",
       "1  [10.1364/ofc.2016.w3b.4, 10.1016/s0140-6736(83...   \n",
       "2  [10.1177/019263654502913320, 10.12968/bjsn.201...   \n",
       "3  [10.1049/iet-tv.44.16506, 10.1161/01.cir.23.2....   \n",
       "4  [10.4016/32852.01, 10.1007/978-1-84882-864-3_4...   \n",
       "\n",
       "                          conf_score updated_conf_index  \n",
       "0   [32.524315, 29.46917, 29.390476]               None  \n",
       "1   [17.818737, 17.74486, 17.038055]               None  \n",
       "2  [22.847187, 22.367924, 22.256752]               None  \n",
       "3  [18.879705, 18.771431, 18.371412]               None  \n",
       "4  [21.100235, 18.031717, 18.031717]               None  "
      ]
     },
     "execution_count": 10,
     "metadata": {},
     "output_type": "execute_result"
    }
   ],
   "source": [
    "wild_exp_journal.head()"
   ]
  },
  {
   "cell_type": "code",
   "execution_count": 11,
   "metadata": {},
   "outputs": [
    {
     "name": "stdout",
     "output_type": "stream",
     "text": [
      "Total number of identifiers greater than the confidence score: 271345\n",
      "which is a percentage: 13.040511153242646\n"
     ]
    }
   ],
   "source": [
    "print('Total number of identifiers greater than the confidence score: {}'.format(\n",
    "    wild_exp_journal.shape[0] - wild_exp_journal[~wild_exp_journal['updated_conf_index'].notnull()].shape[0]))\n",
    "print('which is a percentage: {}'.format(\n",
    "    wild_exp_journal[wild_exp_journal['updated_conf_index'].notnull()].shape[0] / wild_exp_journal.shape[0] * 100))"
   ]
  },
  {
   "cell_type": "code",
   "execution_count": 9,
   "metadata": {},
   "outputs": [
    {
     "name": "stderr",
     "output_type": "stream",
     "text": [
      "100%|██████████| 2080785/2080785 [06:04<00:00, 5707.44it/s]\n"
     ]
    }
   ],
   "source": [
    "def get_updated_identifier(row):\n",
    "    if row['updated_conf_index'] is None:\n",
    "        return None\n",
    "    else:\n",
    "        return row['identifier'][row['updated_conf_index']]\n",
    "    \n",
    "wild_exp_journal['updated_identifier'] = wild_exp_journal.progress_apply(get_updated_identifier, axis=1)"
   ]
  },
  {
   "cell_type": "code",
   "execution_count": 10,
   "metadata": {},
   "outputs": [
    {
     "data": {
      "text/html": [
       "<div>\n",
       "<style scoped>\n",
       "    .dataframe tbody tr th:only-of-type {\n",
       "        vertical-align: middle;\n",
       "    }\n",
       "\n",
       "    .dataframe tbody tr th {\n",
       "        vertical-align: top;\n",
       "    }\n",
       "\n",
       "    .dataframe thead th {\n",
       "        text-align: right;\n",
       "    }\n",
       "</style>\n",
       "<table border=\"1\" class=\"dataframe\">\n",
       "  <thead>\n",
       "    <tr style=\"text-align: right;\">\n",
       "      <th></th>\n",
       "      <th>index</th>\n",
       "      <th>citations</th>\n",
       "      <th>label_category</th>\n",
       "      <th>title</th>\n",
       "      <th>first_author</th>\n",
       "      <th>metadata_file</th>\n",
       "      <th>identifier</th>\n",
       "      <th>conf_score</th>\n",
       "      <th>updated_conf_index</th>\n",
       "      <th>updated_identifier</th>\n",
       "    </tr>\n",
       "  </thead>\n",
       "  <tbody>\n",
       "    <tr>\n",
       "      <th>0</th>\n",
       "      <td>0</td>\n",
       "      <td>{{Citation | last = Buchanan | first = Patrick...</td>\n",
       "      <td>journal</td>\n",
       "      <td>As Adelphia Goes, so Goes America?</td>\n",
       "      <td>Patrick \\u2018Pat\\u2019 Joseph Buchanan</td>\n",
       "      <td>_0.json</td>\n",
       "      <td>[10.1038/scientificamerican1297-48, 10.1029/jd...</td>\n",
       "      <td>[32.524315, 29.46917, 29.390476]</td>\n",
       "      <td>[0, 1, 2]</td>\n",
       "      <td>[10.1038/scientificamerican1297-48, 10.1029/jd...</td>\n",
       "    </tr>\n",
       "    <tr>\n",
       "      <th>1</th>\n",
       "      <td>1</td>\n",
       "      <td>{{Citation | last = Edwards | first = Adam | t...</td>\n",
       "      <td>journal</td>\n",
       "      <td>Any Old Iron?</td>\n",
       "      <td>Adam Edwards</td>\n",
       "      <td>_1.json</td>\n",
       "      <td>[10.1364/ofc.2016.w3b.4, 10.1016/s0140-6736(83...</td>\n",
       "      <td>[17.818737, 17.74486, 17.038055]</td>\n",
       "      <td>None</td>\n",
       "      <td>None</td>\n",
       "    </tr>\n",
       "    <tr>\n",
       "      <th>2</th>\n",
       "      <td>2</td>\n",
       "      <td>{{Citation | last = Stuart | first = Patience ...</td>\n",
       "      <td>journal</td>\n",
       "      <td>National Register of Historic Places Registrat...</td>\n",
       "      <td>Patience Stuart</td>\n",
       "      <td>_2.json</td>\n",
       "      <td>[10.1177/019263654502913320, 10.12968/bjsn.201...</td>\n",
       "      <td>[22.847187, 22.367924, 22.256752]</td>\n",
       "      <td>[0, 1, 2]</td>\n",
       "      <td>[10.1177/019263654502913320, 10.12968/bjsn.201...</td>\n",
       "    </tr>\n",
       "    <tr>\n",
       "      <th>3</th>\n",
       "      <td>3</td>\n",
       "      <td>{{Citation | last = Vince | first = Alan | tit...</td>\n",
       "      <td>journal</td>\n",
       "      <td>Obituary: Keith Watson</td>\n",
       "      <td>Alan Vince</td>\n",
       "      <td>_3.json</td>\n",
       "      <td>[10.1049/iet-tv.44.16506, 10.1161/01.cir.23.2....</td>\n",
       "      <td>[18.879705, 18.771431, 18.371412]</td>\n",
       "      <td>[0, 1, 2]</td>\n",
       "      <td>[10.1049/iet-tv.44.16506, 10.1161/01.cir.23.2....</td>\n",
       "    </tr>\n",
       "    <tr>\n",
       "      <th>4</th>\n",
       "      <td>4</td>\n",
       "      <td>{{Citation | last = | first = | author-link = ...</td>\n",
       "      <td>journal</td>\n",
       "      <td>The ARIA Nominees</td>\n",
       "      <td>No author found</td>\n",
       "      <td>_4.json</td>\n",
       "      <td>[10.4016/32852.01, 10.1007/978-1-84882-864-3_4...</td>\n",
       "      <td>[21.100235, 18.031717, 18.031717]</td>\n",
       "      <td>[0]</td>\n",
       "      <td>[10.4016/32852.01]</td>\n",
       "    </tr>\n",
       "  </tbody>\n",
       "</table>\n",
       "</div>"
      ],
      "text/plain": [
       "   index                                          citations label_category  \\\n",
       "0      0  {{Citation | last = Buchanan | first = Patrick...        journal   \n",
       "1      1  {{Citation | last = Edwards | first = Adam | t...        journal   \n",
       "2      2  {{Citation | last = Stuart | first = Patience ...        journal   \n",
       "3      3  {{Citation | last = Vince | first = Alan | tit...        journal   \n",
       "4      4  {{Citation | last = | first = | author-link = ...        journal   \n",
       "\n",
       "                                               title  \\\n",
       "0                 As Adelphia Goes, so Goes America?   \n",
       "1                                      Any Old Iron?   \n",
       "2  National Register of Historic Places Registrat...   \n",
       "3                             Obituary: Keith Watson   \n",
       "4                                  The ARIA Nominees   \n",
       "\n",
       "                              first_author metadata_file  \\\n",
       "0  Patrick \\u2018Pat\\u2019 Joseph Buchanan       _0.json   \n",
       "1                             Adam Edwards       _1.json   \n",
       "2                          Patience Stuart       _2.json   \n",
       "3                               Alan Vince       _3.json   \n",
       "4                          No author found       _4.json   \n",
       "\n",
       "                                          identifier  \\\n",
       "0  [10.1038/scientificamerican1297-48, 10.1029/jd...   \n",
       "1  [10.1364/ofc.2016.w3b.4, 10.1016/s0140-6736(83...   \n",
       "2  [10.1177/019263654502913320, 10.12968/bjsn.201...   \n",
       "3  [10.1049/iet-tv.44.16506, 10.1161/01.cir.23.2....   \n",
       "4  [10.4016/32852.01, 10.1007/978-1-84882-864-3_4...   \n",
       "\n",
       "                          conf_score updated_conf_index  \\\n",
       "0   [32.524315, 29.46917, 29.390476]          [0, 1, 2]   \n",
       "1   [17.818737, 17.74486, 17.038055]               None   \n",
       "2  [22.847187, 22.367924, 22.256752]          [0, 1, 2]   \n",
       "3  [18.879705, 18.771431, 18.371412]          [0, 1, 2]   \n",
       "4  [21.100235, 18.031717, 18.031717]                [0]   \n",
       "\n",
       "                                  updated_identifier  \n",
       "0  [10.1038/scientificamerican1297-48, 10.1029/jd...  \n",
       "1                                               None  \n",
       "2  [10.1177/019263654502913320, 10.12968/bjsn.201...  \n",
       "3  [10.1049/iet-tv.44.16506, 10.1161/01.cir.23.2....  \n",
       "4                                 [10.4016/32852.01]  "
      ]
     },
     "execution_count": 10,
     "metadata": {},
     "output_type": "execute_result"
    }
   ],
   "source": [
    "wild_exp_journal.head()"
   ]
  },
  {
   "cell_type": "code",
   "execution_count": 16,
   "metadata": {},
   "outputs": [
    {
     "ename": "ArrowIOError",
     "evalue": "Arrow error: IOError: [Errno 28] No space left on device",
     "output_type": "error",
     "traceback": [
      "\u001b[0;31m---------------------------------------------------------------------------\u001b[0m",
      "\u001b[0;31mArrowIOError\u001b[0m                              Traceback (most recent call last)",
      "\u001b[0;32m<ipython-input-16-79d4e36afd60>\u001b[0m in \u001b[0;36m<module>\u001b[0;34m\u001b[0m\n\u001b[0;32m----> 1\u001b[0;31m \u001b[0mwild_exp_journal\u001b[0m\u001b[0;34m.\u001b[0m\u001b[0mto_parquet\u001b[0m\u001b[0;34m(\u001b[0m\u001b[0;34m'wild_exp_with_confidence_score.gzip'\u001b[0m\u001b[0;34m,\u001b[0m \u001b[0mcompression\u001b[0m\u001b[0;34m=\u001b[0m\u001b[0;34m'gzip'\u001b[0m\u001b[0;34m)\u001b[0m\u001b[0;34m\u001b[0m\u001b[0;34m\u001b[0m\u001b[0m\n\u001b[0m",
      "\u001b[0;32m/opt/anaconda3/lib/python3.6/site-packages/pandas/core/frame.py\u001b[0m in \u001b[0;36mto_parquet\u001b[0;34m(self, fname, engine, compression, index, partition_cols, **kwargs)\u001b[0m\n\u001b[1;32m   2201\u001b[0m         to_parquet(self, fname, engine,\n\u001b[1;32m   2202\u001b[0m                    \u001b[0mcompression\u001b[0m\u001b[0;34m=\u001b[0m\u001b[0mcompression\u001b[0m\u001b[0;34m,\u001b[0m \u001b[0mindex\u001b[0m\u001b[0;34m=\u001b[0m\u001b[0mindex\u001b[0m\u001b[0;34m,\u001b[0m\u001b[0;34m\u001b[0m\u001b[0;34m\u001b[0m\u001b[0m\n\u001b[0;32m-> 2203\u001b[0;31m                    partition_cols=partition_cols, **kwargs)\n\u001b[0m\u001b[1;32m   2204\u001b[0m \u001b[0;34m\u001b[0m\u001b[0m\n\u001b[1;32m   2205\u001b[0m     \u001b[0;34m@\u001b[0m\u001b[0mSubstitution\u001b[0m\u001b[0;34m(\u001b[0m\u001b[0mheader\u001b[0m\u001b[0;34m=\u001b[0m\u001b[0;34m'Whether to print column labels, default True'\u001b[0m\u001b[0;34m)\u001b[0m\u001b[0;34m\u001b[0m\u001b[0;34m\u001b[0m\u001b[0m\n",
      "\u001b[0;32m/opt/anaconda3/lib/python3.6/site-packages/pandas/io/parquet.py\u001b[0m in \u001b[0;36mto_parquet\u001b[0;34m(df, path, engine, compression, index, partition_cols, **kwargs)\u001b[0m\n\u001b[1;32m    250\u001b[0m     \u001b[0mimpl\u001b[0m \u001b[0;34m=\u001b[0m \u001b[0mget_engine\u001b[0m\u001b[0;34m(\u001b[0m\u001b[0mengine\u001b[0m\u001b[0;34m)\u001b[0m\u001b[0;34m\u001b[0m\u001b[0;34m\u001b[0m\u001b[0m\n\u001b[1;32m    251\u001b[0m     return impl.write(df, path, compression=compression, index=index,\n\u001b[0;32m--> 252\u001b[0;31m                       partition_cols=partition_cols, **kwargs)\n\u001b[0m\u001b[1;32m    253\u001b[0m \u001b[0;34m\u001b[0m\u001b[0m\n\u001b[1;32m    254\u001b[0m \u001b[0;34m\u001b[0m\u001b[0m\n",
      "\u001b[0;32m/opt/anaconda3/lib/python3.6/site-packages/pandas/io/parquet.py\u001b[0m in \u001b[0;36mwrite\u001b[0;34m(self, df, path, compression, coerce_timestamps, index, partition_cols, **kwargs)\u001b[0m\n\u001b[1;32m    120\u001b[0m             self.api.parquet.write_table(\n\u001b[1;32m    121\u001b[0m                 \u001b[0mtable\u001b[0m\u001b[0;34m,\u001b[0m \u001b[0mpath\u001b[0m\u001b[0;34m,\u001b[0m \u001b[0mcompression\u001b[0m\u001b[0;34m=\u001b[0m\u001b[0mcompression\u001b[0m\u001b[0;34m,\u001b[0m\u001b[0;34m\u001b[0m\u001b[0;34m\u001b[0m\u001b[0m\n\u001b[0;32m--> 122\u001b[0;31m                 coerce_timestamps=coerce_timestamps, **kwargs)\n\u001b[0m\u001b[1;32m    123\u001b[0m \u001b[0;34m\u001b[0m\u001b[0m\n\u001b[1;32m    124\u001b[0m     \u001b[0;32mdef\u001b[0m \u001b[0mread\u001b[0m\u001b[0;34m(\u001b[0m\u001b[0mself\u001b[0m\u001b[0;34m,\u001b[0m \u001b[0mpath\u001b[0m\u001b[0;34m,\u001b[0m \u001b[0mcolumns\u001b[0m\u001b[0;34m=\u001b[0m\u001b[0;32mNone\u001b[0m\u001b[0;34m,\u001b[0m \u001b[0;34m**\u001b[0m\u001b[0mkwargs\u001b[0m\u001b[0;34m)\u001b[0m\u001b[0;34m:\u001b[0m\u001b[0;34m\u001b[0m\u001b[0;34m\u001b[0m\u001b[0m\n",
      "\u001b[0;32m~/.local/lib/python3.6/site-packages/pyarrow/parquet.py\u001b[0m in \u001b[0;36mwrite_table\u001b[0;34m(table, where, row_group_size, version, use_dictionary, compression, use_deprecated_int96_timestamps, coerce_timestamps, allow_truncated_timestamps, flavor, filesystem, **kwargs)\u001b[0m\n\u001b[1;32m   1203\u001b[0m                 \u001b[0muse_deprecated_int96_timestamps\u001b[0m\u001b[0;34m=\u001b[0m\u001b[0muse_int96\u001b[0m\u001b[0;34m,\u001b[0m\u001b[0;34m\u001b[0m\u001b[0;34m\u001b[0m\u001b[0m\n\u001b[1;32m   1204\u001b[0m                 **kwargs) as writer:\n\u001b[0;32m-> 1205\u001b[0;31m             \u001b[0mwriter\u001b[0m\u001b[0;34m.\u001b[0m\u001b[0mwrite_table\u001b[0m\u001b[0;34m(\u001b[0m\u001b[0mtable\u001b[0m\u001b[0;34m,\u001b[0m \u001b[0mrow_group_size\u001b[0m\u001b[0;34m=\u001b[0m\u001b[0mrow_group_size\u001b[0m\u001b[0;34m)\u001b[0m\u001b[0;34m\u001b[0m\u001b[0;34m\u001b[0m\u001b[0m\n\u001b[0m\u001b[1;32m   1206\u001b[0m     \u001b[0;32mexcept\u001b[0m \u001b[0mException\u001b[0m\u001b[0;34m:\u001b[0m\u001b[0;34m\u001b[0m\u001b[0;34m\u001b[0m\u001b[0m\n\u001b[1;32m   1207\u001b[0m         \u001b[0;32mif\u001b[0m \u001b[0m_is_path_like\u001b[0m\u001b[0;34m(\u001b[0m\u001b[0mwhere\u001b[0m\u001b[0;34m)\u001b[0m\u001b[0;34m:\u001b[0m\u001b[0;34m\u001b[0m\u001b[0;34m\u001b[0m\u001b[0m\n",
      "\u001b[0;32m~/.local/lib/python3.6/site-packages/pyarrow/parquet.py\u001b[0m in \u001b[0;36mwrite_table\u001b[0;34m(self, table, row_group_size)\u001b[0m\n\u001b[1;32m    407\u001b[0m             \u001b[0;32mraise\u001b[0m \u001b[0mValueError\u001b[0m\u001b[0;34m(\u001b[0m\u001b[0mmsg\u001b[0m\u001b[0;34m)\u001b[0m\u001b[0;34m\u001b[0m\u001b[0;34m\u001b[0m\u001b[0m\n\u001b[1;32m    408\u001b[0m \u001b[0;34m\u001b[0m\u001b[0m\n\u001b[0;32m--> 409\u001b[0;31m         \u001b[0mself\u001b[0m\u001b[0;34m.\u001b[0m\u001b[0mwriter\u001b[0m\u001b[0;34m.\u001b[0m\u001b[0mwrite_table\u001b[0m\u001b[0;34m(\u001b[0m\u001b[0mtable\u001b[0m\u001b[0;34m,\u001b[0m \u001b[0mrow_group_size\u001b[0m\u001b[0;34m=\u001b[0m\u001b[0mrow_group_size\u001b[0m\u001b[0;34m)\u001b[0m\u001b[0;34m\u001b[0m\u001b[0;34m\u001b[0m\u001b[0m\n\u001b[0m\u001b[1;32m    410\u001b[0m \u001b[0;34m\u001b[0m\u001b[0m\n\u001b[1;32m    411\u001b[0m     \u001b[0;32mdef\u001b[0m \u001b[0mclose\u001b[0m\u001b[0;34m(\u001b[0m\u001b[0mself\u001b[0m\u001b[0;34m)\u001b[0m\u001b[0;34m:\u001b[0m\u001b[0;34m\u001b[0m\u001b[0;34m\u001b[0m\u001b[0m\n",
      "\u001b[0;32m~/.local/lib/python3.6/site-packages/pyarrow/_parquet.pyx\u001b[0m in \u001b[0;36mpyarrow._parquet.ParquetWriter.write_table\u001b[0;34m()\u001b[0m\n",
      "\u001b[0;32m~/.local/lib/python3.6/site-packages/pyarrow/error.pxi\u001b[0m in \u001b[0;36mpyarrow.lib.check_status\u001b[0;34m()\u001b[0m\n",
      "\u001b[0;31mArrowIOError\u001b[0m: Arrow error: IOError: [Errno 28] No space left on device"
     ]
    }
   ],
   "source": [
    "wild_exp_journal.to_parquet('wild_exp_with_confidence_score.gzip', compression='gzip')"
   ]
  },
  {
   "cell_type": "code",
   "execution_count": null,
   "metadata": {},
   "outputs": [],
   "source": []
  }
 ],
 "metadata": {
  "kernelspec": {
   "display_name": "Python 3",
   "language": "python",
   "name": "python3"
  },
  "language_info": {
   "codemirror_mode": {
    "name": "ipython",
    "version": 3
   },
   "file_extension": ".py",
   "mimetype": "text/x-python",
   "name": "python",
   "nbconvert_exporter": "python",
   "pygments_lexer": "ipython3",
   "version": "3.6.7"
  }
 },
 "nbformat": 4,
 "nbformat_minor": 2
}
