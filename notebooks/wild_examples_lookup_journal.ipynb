{
 "cells": [
  {
   "cell_type": "code",
   "execution_count": 1,
   "metadata": {},
   "outputs": [],
   "source": [
    "import re\n",
    "import pandas as pd\n",
    "from tqdm import tqdm"
   ]
  },
  {
   "cell_type": "code",
   "execution_count": 2,
   "metadata": {},
   "outputs": [
    {
     "name": "stderr",
     "output_type": "stream",
     "text": [
      "/Users/harshdeep/final3/lib/python3.7/site-packages/tqdm/_tqdm.py:634: FutureWarning: The Panel class is removed from pandas. Accessing it from the top-level namespace will also be removed in the next version\n",
      "  from pandas import Panel\n"
     ]
    }
   ],
   "source": [
    "tqdm.pandas()"
   ]
  },
  {
   "cell_type": "code",
   "execution_count": 3,
   "metadata": {},
   "outputs": [],
   "source": [
    "wild_exp_journal = pd.read_csv('wild_examples_journal.csv')"
   ]
  },
  {
   "cell_type": "code",
   "execution_count": 4,
   "metadata": {},
   "outputs": [
    {
     "data": {
      "text/plain": [
       "(2080785, 2)"
      ]
     },
     "execution_count": 4,
     "metadata": {},
     "output_type": "execute_result"
    }
   ],
   "source": [
    "wild_exp_journal.shape"
   ]
  },
  {
   "cell_type": "code",
   "execution_count": 5,
   "metadata": {},
   "outputs": [
    {
     "data": {
      "text/html": [
       "<div>\n",
       "<style scoped>\n",
       "    .dataframe tbody tr th:only-of-type {\n",
       "        vertical-align: middle;\n",
       "    }\n",
       "\n",
       "    .dataframe tbody tr th {\n",
       "        vertical-align: top;\n",
       "    }\n",
       "\n",
       "    .dataframe thead th {\n",
       "        text-align: right;\n",
       "    }\n",
       "</style>\n",
       "<table border=\"1\" class=\"dataframe\">\n",
       "  <thead>\n",
       "    <tr style=\"text-align: right;\">\n",
       "      <th></th>\n",
       "      <th>citations</th>\n",
       "      <th>label_category</th>\n",
       "    </tr>\n",
       "  </thead>\n",
       "  <tbody>\n",
       "    <tr>\n",
       "      <td>0</td>\n",
       "      <td>{{Citation | last = Buchanan | first = Patrick...</td>\n",
       "      <td>journal</td>\n",
       "    </tr>\n",
       "    <tr>\n",
       "      <td>1</td>\n",
       "      <td>{{Citation | last = Edwards | first = Adam | t...</td>\n",
       "      <td>journal</td>\n",
       "    </tr>\n",
       "    <tr>\n",
       "      <td>2</td>\n",
       "      <td>{{Citation | last = Stuart | first = Patience ...</td>\n",
       "      <td>journal</td>\n",
       "    </tr>\n",
       "    <tr>\n",
       "      <td>3</td>\n",
       "      <td>{{Citation | last = Vince | first = Alan | tit...</td>\n",
       "      <td>journal</td>\n",
       "    </tr>\n",
       "    <tr>\n",
       "      <td>4</td>\n",
       "      <td>{{Citation | last = | first = | author-link = ...</td>\n",
       "      <td>journal</td>\n",
       "    </tr>\n",
       "  </tbody>\n",
       "</table>\n",
       "</div>"
      ],
      "text/plain": [
       "                                           citations label_category\n",
       "0  {{Citation | last = Buchanan | first = Patrick...        journal\n",
       "1  {{Citation | last = Edwards | first = Adam | t...        journal\n",
       "2  {{Citation | last = Stuart | first = Patience ...        journal\n",
       "3  {{Citation | last = Vince | first = Alan | tit...        journal\n",
       "4  {{Citation | last = | first = | author-link = ...        journal"
      ]
     },
     "execution_count": 5,
     "metadata": {},
     "output_type": "execute_result"
    }
   ],
   "source": [
    "wild_exp_journal.head()"
   ]
  },
  {
   "cell_type": "code",
   "execution_count": 6,
   "metadata": {},
   "outputs": [
    {
     "name": "stderr",
     "output_type": "stream",
     "text": [
      "100%|██████████| 2080785/2080785 [00:10<00:00, 200349.00it/s]\n"
     ]
    }
   ],
   "source": [
    "def get_title(citation_text):\n",
    "    title_res = re.findall('title\\s{0,10}=\\s{0,10}([^|]+)', citation_text) \n",
    "    if len(title_res) == 0:\n",
    "        if 'sports-reference' in citation_text:\n",
    "            return re.findall('(C|c)ite\\s{0,10}sports-reference\\s{0,10}|([^|]+)', citation_text)[1][1].strip()\n",
    "        else:\n",
    "            article_res = re.findall('article\\s{0,10}=\\s{0,10}([^|]+)', citation_text)\n",
    "            if len(article_res) != 0:\n",
    "                return article_res[0].strip()\n",
    "            return None\n",
    "    return title_res[0].strip()\n",
    "\n",
    "wild_exp_journal['title'] = wild_exp_journal['citations'].progress_apply(lambda x: get_title(x))"
   ]
  },
  {
   "cell_type": "code",
   "execution_count": 7,
   "metadata": {},
   "outputs": [
    {
     "data": {
      "text/html": [
       "<div>\n",
       "<style scoped>\n",
       "    .dataframe tbody tr th:only-of-type {\n",
       "        vertical-align: middle;\n",
       "    }\n",
       "\n",
       "    .dataframe tbody tr th {\n",
       "        vertical-align: top;\n",
       "    }\n",
       "\n",
       "    .dataframe thead th {\n",
       "        text-align: right;\n",
       "    }\n",
       "</style>\n",
       "<table border=\"1\" class=\"dataframe\">\n",
       "  <thead>\n",
       "    <tr style=\"text-align: right;\">\n",
       "      <th></th>\n",
       "      <th>citations</th>\n",
       "      <th>label_category</th>\n",
       "      <th>title</th>\n",
       "    </tr>\n",
       "  </thead>\n",
       "  <tbody>\n",
       "    <tr>\n",
       "      <td>0</td>\n",
       "      <td>{{Citation | last = Buchanan | first = Patrick...</td>\n",
       "      <td>journal</td>\n",
       "      <td>As Adelphia Goes, so Goes America?</td>\n",
       "    </tr>\n",
       "    <tr>\n",
       "      <td>1</td>\n",
       "      <td>{{Citation | last = Edwards | first = Adam | t...</td>\n",
       "      <td>journal</td>\n",
       "      <td>Any Old Iron?</td>\n",
       "    </tr>\n",
       "    <tr>\n",
       "      <td>2</td>\n",
       "      <td>{{Citation | last = Stuart | first = Patience ...</td>\n",
       "      <td>journal</td>\n",
       "      <td>National Register of Historic Places Registrat...</td>\n",
       "    </tr>\n",
       "    <tr>\n",
       "      <td>3</td>\n",
       "      <td>{{Citation | last = Vince | first = Alan | tit...</td>\n",
       "      <td>journal</td>\n",
       "      <td>Obituary: Keith Watson</td>\n",
       "    </tr>\n",
       "    <tr>\n",
       "      <td>4</td>\n",
       "      <td>{{Citation | last = | first = | author-link = ...</td>\n",
       "      <td>journal</td>\n",
       "      <td>The ARIA Nominees</td>\n",
       "    </tr>\n",
       "  </tbody>\n",
       "</table>\n",
       "</div>"
      ],
      "text/plain": [
       "                                           citations label_category  \\\n",
       "0  {{Citation | last = Buchanan | first = Patrick...        journal   \n",
       "1  {{Citation | last = Edwards | first = Adam | t...        journal   \n",
       "2  {{Citation | last = Stuart | first = Patience ...        journal   \n",
       "3  {{Citation | last = Vince | first = Alan | tit...        journal   \n",
       "4  {{Citation | last = | first = | author-link = ...        journal   \n",
       "\n",
       "                                               title  \n",
       "0                 As Adelphia Goes, so Goes America?  \n",
       "1                                      Any Old Iron?  \n",
       "2  National Register of Historic Places Registrat...  \n",
       "3                             Obituary: Keith Watson  \n",
       "4                                  The ARIA Nominees  "
      ]
     },
     "execution_count": 7,
     "metadata": {},
     "output_type": "execute_result"
    }
   ],
   "source": [
    "wild_exp_journal.head()"
   ]
  },
  {
   "cell_type": "code",
   "execution_count": 8,
   "metadata": {},
   "outputs": [
    {
     "data": {
      "text/plain": [
       "(5709, 3)"
      ]
     },
     "execution_count": 8,
     "metadata": {},
     "output_type": "execute_result"
    }
   ],
   "source": [
    "wild_exp_journal[~wild_exp_journal['title'].notnull()].shape"
   ]
  },
  {
   "cell_type": "code",
   "execution_count": 9,
   "metadata": {},
   "outputs": [],
   "source": [
    "def get_author(citation_text):    \n",
    "    def check_first_last_res(first_res, last_res):\n",
    "        if len(first_res) != 0 and len(last_res) != 0:\n",
    "            return first_res[0].strip() + ' ' + last_res[0].strip()\n",
    "        if len(first_res) != 0:\n",
    "            return first_res[0].strip()\n",
    "        if len(last_res) != 0:\n",
    "            return last_res[0].strip()\n",
    "    \n",
    "    ## https://en.wikipedia.org/wiki/Template:Citation -  only these keywords are available\n",
    "    first_res = re.findall('first\\s{0,10}=\\s{0,10}([^|]+)', citation_text)\n",
    "    last_res = re.findall('last\\s{0,10}=\\s{0,10}([^|]+)', citation_text)\n",
    "    \n",
    "    author_res = re.findall('author\\s{0,10}=\\s{0,10}([^|]+)', citation_text)\n",
    "    author1_res = re.findall('author1\\s{0,10}=\\s{0,10}([^|]+)', citation_text)\n",
    "    \n",
    "    first1_res = re.findall('first1\\s{0,10}=\\s{0,10}([^|]+)', citation_text)\n",
    "    last1_res = re.findall('last1\\s{0,10}=\\s{0,10}([^|]+)', citation_text)\n",
    "    \n",
    "    if first_res or last_res:\n",
    "        return check_first_last_res(first_res, last_res)\n",
    "    elif author_res:\n",
    "        return author_res[0].strip()\n",
    "    elif author1_res:\n",
    "        return author1_res[0].strip()\n",
    "    elif first1_res or last1_res:\n",
    "        return check_first_last_res(first1_res, last1_res)\n",
    "    else:\n",
    "        return None"
   ]
  },
  {
   "cell_type": "code",
   "execution_count": 10,
   "metadata": {},
   "outputs": [
    {
     "name": "stderr",
     "output_type": "stream",
     "text": [
      "100%|██████████| 2080785/2080785 [00:29<00:00, 71345.61it/s]\n"
     ]
    }
   ],
   "source": [
    "wild_exp_journal['first_author'] = wild_exp_journal['citations'].progress_apply(lambda x: get_author(x))"
   ]
  },
  {
   "cell_type": "code",
   "execution_count": 11,
   "metadata": {},
   "outputs": [
    {
     "data": {
      "text/html": [
       "<div>\n",
       "<style scoped>\n",
       "    .dataframe tbody tr th:only-of-type {\n",
       "        vertical-align: middle;\n",
       "    }\n",
       "\n",
       "    .dataframe tbody tr th {\n",
       "        vertical-align: top;\n",
       "    }\n",
       "\n",
       "    .dataframe thead th {\n",
       "        text-align: right;\n",
       "    }\n",
       "</style>\n",
       "<table border=\"1\" class=\"dataframe\">\n",
       "  <thead>\n",
       "    <tr style=\"text-align: right;\">\n",
       "      <th></th>\n",
       "      <th>citations</th>\n",
       "      <th>label_category</th>\n",
       "      <th>title</th>\n",
       "      <th>first_author</th>\n",
       "    </tr>\n",
       "  </thead>\n",
       "  <tbody>\n",
       "    <tr>\n",
       "      <td>0</td>\n",
       "      <td>{{Citation | last = Buchanan | first = Patrick...</td>\n",
       "      <td>journal</td>\n",
       "      <td>As Adelphia Goes, so Goes America?</td>\n",
       "      <td>Patrick \\u2018Pat\\u2019 Joseph Buchanan</td>\n",
       "    </tr>\n",
       "    <tr>\n",
       "      <td>1</td>\n",
       "      <td>{{Citation | last = Edwards | first = Adam | t...</td>\n",
       "      <td>journal</td>\n",
       "      <td>Any Old Iron?</td>\n",
       "      <td>Adam Edwards</td>\n",
       "    </tr>\n",
       "    <tr>\n",
       "      <td>2</td>\n",
       "      <td>{{Citation | last = Stuart | first = Patience ...</td>\n",
       "      <td>journal</td>\n",
       "      <td>National Register of Historic Places Registrat...</td>\n",
       "      <td>Patience Stuart</td>\n",
       "    </tr>\n",
       "    <tr>\n",
       "      <td>3</td>\n",
       "      <td>{{Citation | last = Vince | first = Alan | tit...</td>\n",
       "      <td>journal</td>\n",
       "      <td>Obituary: Keith Watson</td>\n",
       "      <td>Alan Vince</td>\n",
       "    </tr>\n",
       "    <tr>\n",
       "      <td>4</td>\n",
       "      <td>{{Citation | last = | first = | author-link = ...</td>\n",
       "      <td>journal</td>\n",
       "      <td>The ARIA Nominees</td>\n",
       "      <td></td>\n",
       "    </tr>\n",
       "  </tbody>\n",
       "</table>\n",
       "</div>"
      ],
      "text/plain": [
       "                                           citations label_category  \\\n",
       "0  {{Citation | last = Buchanan | first = Patrick...        journal   \n",
       "1  {{Citation | last = Edwards | first = Adam | t...        journal   \n",
       "2  {{Citation | last = Stuart | first = Patience ...        journal   \n",
       "3  {{Citation | last = Vince | first = Alan | tit...        journal   \n",
       "4  {{Citation | last = | first = | author-link = ...        journal   \n",
       "\n",
       "                                               title  \\\n",
       "0                 As Adelphia Goes, so Goes America?   \n",
       "1                                      Any Old Iron?   \n",
       "2  National Register of Historic Places Registrat...   \n",
       "3                             Obituary: Keith Watson   \n",
       "4                                  The ARIA Nominees   \n",
       "\n",
       "                              first_author  \n",
       "0  Patrick \\u2018Pat\\u2019 Joseph Buchanan  \n",
       "1                             Adam Edwards  \n",
       "2                          Patience Stuart  \n",
       "3                               Alan Vince  \n",
       "4                                           "
      ]
     },
     "execution_count": 11,
     "metadata": {},
     "output_type": "execute_result"
    }
   ],
   "source": [
    "wild_exp_journal.head()"
   ]
  },
  {
   "cell_type": "code",
   "execution_count": 12,
   "metadata": {},
   "outputs": [
    {
     "data": {
      "text/plain": [
       "(1487541, 4)"
      ]
     },
     "execution_count": 12,
     "metadata": {},
     "output_type": "execute_result"
    }
   ],
   "source": [
    "wild_exp_journal[~wild_exp_journal['first_author'].notnull()].shape"
   ]
  },
  {
   "cell_type": "code",
   "execution_count": 13,
   "metadata": {},
   "outputs": [],
   "source": [
    "wild_exp_journal['first_author'].fillna(value='No author found', inplace=True)"
   ]
  },
  {
   "cell_type": "code",
   "execution_count": 14,
   "metadata": {},
   "outputs": [
    {
     "name": "stderr",
     "output_type": "stream",
     "text": [
      "100%|██████████| 2080785/2080785 [00:03<00:00, 531132.56it/s]\n"
     ]
    }
   ],
   "source": [
    "def check_whitespace_author(first_author):\n",
    "    if not first_author.strip():\n",
    "        return 'No author found'\n",
    "    else:\n",
    "        return first_author\n",
    "    \n",
    "wild_exp_journal['first_author'] = wild_exp_journal['first_author'].progress_apply(lambda x: check_whitespace_author(x))"
   ]
  },
  {
   "cell_type": "code",
   "execution_count": 15,
   "metadata": {},
   "outputs": [
    {
     "data": {
      "text/html": [
       "<div>\n",
       "<style scoped>\n",
       "    .dataframe tbody tr th:only-of-type {\n",
       "        vertical-align: middle;\n",
       "    }\n",
       "\n",
       "    .dataframe tbody tr th {\n",
       "        vertical-align: top;\n",
       "    }\n",
       "\n",
       "    .dataframe thead th {\n",
       "        text-align: right;\n",
       "    }\n",
       "</style>\n",
       "<table border=\"1\" class=\"dataframe\">\n",
       "  <thead>\n",
       "    <tr style=\"text-align: right;\">\n",
       "      <th></th>\n",
       "      <th>citations</th>\n",
       "      <th>label_category</th>\n",
       "      <th>title</th>\n",
       "      <th>first_author</th>\n",
       "    </tr>\n",
       "  </thead>\n",
       "  <tbody>\n",
       "    <tr>\n",
       "      <td>0</td>\n",
       "      <td>{{Citation | last = Buchanan | first = Patrick...</td>\n",
       "      <td>journal</td>\n",
       "      <td>As Adelphia Goes, so Goes America?</td>\n",
       "      <td>Patrick \\u2018Pat\\u2019 Joseph Buchanan</td>\n",
       "    </tr>\n",
       "    <tr>\n",
       "      <td>1</td>\n",
       "      <td>{{Citation | last = Edwards | first = Adam | t...</td>\n",
       "      <td>journal</td>\n",
       "      <td>Any Old Iron?</td>\n",
       "      <td>Adam Edwards</td>\n",
       "    </tr>\n",
       "    <tr>\n",
       "      <td>2</td>\n",
       "      <td>{{Citation | last = Stuart | first = Patience ...</td>\n",
       "      <td>journal</td>\n",
       "      <td>National Register of Historic Places Registrat...</td>\n",
       "      <td>Patience Stuart</td>\n",
       "    </tr>\n",
       "    <tr>\n",
       "      <td>3</td>\n",
       "      <td>{{Citation | last = Vince | first = Alan | tit...</td>\n",
       "      <td>journal</td>\n",
       "      <td>Obituary: Keith Watson</td>\n",
       "      <td>Alan Vince</td>\n",
       "    </tr>\n",
       "    <tr>\n",
       "      <td>4</td>\n",
       "      <td>{{Citation | last = | first = | author-link = ...</td>\n",
       "      <td>journal</td>\n",
       "      <td>The ARIA Nominees</td>\n",
       "      <td>No author found</td>\n",
       "    </tr>\n",
       "  </tbody>\n",
       "</table>\n",
       "</div>"
      ],
      "text/plain": [
       "                                           citations label_category  \\\n",
       "0  {{Citation | last = Buchanan | first = Patrick...        journal   \n",
       "1  {{Citation | last = Edwards | first = Adam | t...        journal   \n",
       "2  {{Citation | last = Stuart | first = Patience ...        journal   \n",
       "3  {{Citation | last = Vince | first = Alan | tit...        journal   \n",
       "4  {{Citation | last = | first = | author-link = ...        journal   \n",
       "\n",
       "                                               title  \\\n",
       "0                 As Adelphia Goes, so Goes America?   \n",
       "1                                      Any Old Iron?   \n",
       "2  National Register of Historic Places Registrat...   \n",
       "3                             Obituary: Keith Watson   \n",
       "4                                  The ARIA Nominees   \n",
       "\n",
       "                              first_author  \n",
       "0  Patrick \\u2018Pat\\u2019 Joseph Buchanan  \n",
       "1                             Adam Edwards  \n",
       "2                          Patience Stuart  \n",
       "3                               Alan Vince  \n",
       "4                          No author found  "
      ]
     },
     "execution_count": 15,
     "metadata": {},
     "output_type": "execute_result"
    }
   ],
   "source": [
    "wild_exp_journal.head()"
   ]
  },
  {
   "cell_type": "code",
   "execution_count": 16,
   "metadata": {},
   "outputs": [],
   "source": [
    "wild_exp_journal.to_csv('wild_exp_info.csv', index=True, index_label='index')"
   ]
  },
  {
   "cell_type": "code",
   "execution_count": 21,
   "metadata": {},
   "outputs": [
    {
     "data": {
      "text/plain": [
       "'{{Citation | last = Buchanan | first = Patrick \\\\u2018Pat\\\\u2019 Joseph | url = | title = As Adelphia Goes, so Goes America? | date = February 14, 2005 | publisher = The American cause }}'"
      ]
     },
     "execution_count": 21,
     "metadata": {},
     "output_type": "execute_result"
    }
   ],
   "source": [
    "wild_exp_journal.iloc[0]['citations']"
   ]
  },
  {
   "cell_type": "code",
   "execution_count": null,
   "metadata": {},
   "outputs": [],
   "source": []
  }
 ],
 "metadata": {
  "kernelspec": {
   "display_name": "Python 3",
   "language": "python",
   "name": "python3"
  },
  "language_info": {
   "codemirror_mode": {
    "name": "ipython",
    "version": 3
   },
   "file_extension": ".py",
   "mimetype": "text/x-python",
   "name": "python",
   "nbconvert_exporter": "python",
   "pygments_lexer": "ipython3",
   "version": "3.7.4"
  }
 },
 "nbformat": 4,
 "nbformat_minor": 2
}
