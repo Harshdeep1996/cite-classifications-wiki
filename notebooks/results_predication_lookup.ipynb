{
 "cells": [
  {
   "cell_type": "code",
   "execution_count": 1,
   "metadata": {},
   "outputs": [],
   "source": [
    "import glob\n",
    "import numpy as np\n",
    "import pandas as pd"
   ]
  },
  {
   "cell_type": "code",
   "execution_count": 2,
   "metadata": {},
   "outputs": [],
   "source": [
    "pd.set_option('display.max_colwidth', 300)"
   ]
  },
  {
   "cell_type": "code",
   "execution_count": 3,
   "metadata": {},
   "outputs": [],
   "source": [
    "## Load all the results into one dataframe with the citation and the label\n",
    "path = '/dlabdata1/harshdee/results/'\n",
    "all_files = glob.glob(path + \"/result_*.csv\")\n",
    "\n",
    "li = []\n",
    "\n",
    "for filename in all_files:\n",
    "    df = pd.read_csv(filename, index_col=None, header=0)\n",
    "    li.append(df)\n",
    "\n",
    "frame = pd.concat(li, axis=0, ignore_index=True)"
   ]
  },
  {
   "cell_type": "code",
   "execution_count": 4,
   "metadata": {},
   "outputs": [
    {
     "data": {
      "text/plain": [
       "array([3, 1, 2, 0])"
      ]
     },
     "execution_count": 4,
     "metadata": {},
     "output_type": "execute_result"
    }
   ],
   "source": [
    "## Check if the label category has unique === labels\n",
    "frame['label_category'].unique()"
   ]
  },
  {
   "cell_type": "code",
   "execution_count": 5,
   "metadata": {},
   "outputs": [],
   "source": [
    "## Change labels number to label names\n",
    "frame['label_category'].replace({0: 'book', 1: 'entertainment', 2: 'journal', 3: 'newspaper'}, inplace=True)"
   ]
  },
  {
   "cell_type": "code",
   "execution_count": 19,
   "metadata": {},
   "outputs": [
    {
     "data": {
      "text/html": [
       "<div>\n",
       "<style scoped>\n",
       "    .dataframe tbody tr th:only-of-type {\n",
       "        vertical-align: middle;\n",
       "    }\n",
       "\n",
       "    .dataframe tbody tr th {\n",
       "        vertical-align: top;\n",
       "    }\n",
       "\n",
       "    .dataframe thead th {\n",
       "        text-align: right;\n",
       "    }\n",
       "</style>\n",
       "<table border=\"1\" class=\"dataframe\">\n",
       "  <thead>\n",
       "    <tr style=\"text-align: right;\">\n",
       "      <th></th>\n",
       "      <th>citations</th>\n",
       "      <th>label_category</th>\n",
       "    </tr>\n",
       "  </thead>\n",
       "  <tbody>\n",
       "    <tr>\n",
       "      <th>15597711</th>\n",
       "      <td>{{cite web|url = |title=Some Observations on Bill C-11: The Copyright Modernization Act|first=Barry|last=Sookman|date=2011-10-03|accessdate=2014-05-23}}</td>\n",
       "      <td>book</td>\n",
       "    </tr>\n",
       "    <tr>\n",
       "      <th>5729399</th>\n",
       "      <td>{{cite web|url = |title=Developer Robinson still pursuing arena development issues|author=ALAN SNEL LAS VEGAS REVIEW-JOURNAL|work =</td>\n",
       "      <td>book</td>\n",
       "    </tr>\n",
       "    <tr>\n",
       "      <th>8164782</th>\n",
       "      <td>{{cite web |url = |work = |title=Orleans County Routes |first=N.W |last=Perry |accessdate=April 1, 2010}}</td>\n",
       "      <td>book</td>\n",
       "    </tr>\n",
       "    <tr>\n",
       "      <th>15876317</th>\n",
       "      <td>{{cite news|title=Alex: leave the \"Internacional\" happy (in Russian:\\u0410\\u043b\\u0435\\u043a\\u0441: \\u043f\\u043e\\u043a\\u0438\\u0434\\u0430\\u044e \"\\u0418\\u043d\\u0442\\u0435\\u0440\\u043d\\u0430\\u0441\\u044c\\u043e\\u043d\\u0430\\u043b\" \\u0441\\u0447\\u0430\\u0441\\u0442\\u043b\\u0438\\u0432\\u044b\\u043c)|url = |pub...</td>\n",
       "      <td>book</td>\n",
       "    </tr>\n",
       "    <tr>\n",
       "      <th>9681243</th>\n",
       "      <td>{{cite web |url = |title=Archived copy |accessdate=2011-11-14 |deadurl = |archiveurl = |archivedate=2011-07-25 |df= }}</td>\n",
       "      <td>book</td>\n",
       "    </tr>\n",
       "  </tbody>\n",
       "</table>\n",
       "</div>"
      ],
      "text/plain": [
       "                                                                                                                                                                                                                                                                                                            citations  \\\n",
       "15597711                                                                                                                                                     {{cite web|url = |title=Some Observations on Bill C-11: The Copyright Modernization Act|first=Barry|last=Sookman|date=2011-10-03|accessdate=2014-05-23}}   \n",
       "5729399                                                                                                                                                                          {{cite web|url = |title=Developer Robinson still pursuing arena development issues|author=ALAN SNEL LAS VEGAS REVIEW-JOURNAL|work =    \n",
       "8164782                                                                                                                                                                                                     {{cite web |url = |work = |title=Orleans County Routes |first=N.W |last=Perry |accessdate=April 1, 2010}}   \n",
       "15876317  {{cite news|title=Alex: leave the \"Internacional\" happy (in Russian:\\u0410\\u043b\\u0435\\u043a\\u0441: \\u043f\\u043e\\u043a\\u0438\\u0434\\u0430\\u044e \"\\u0418\\u043d\\u0442\\u0435\\u0440\\u043d\\u0430\\u0441\\u044c\\u043e\\u043d\\u0430\\u043b\" \\u0441\\u0447\\u0430\\u0441\\u0442\\u043b\\u0438\\u0432\\u044b\\u043c)|url = |pub...   \n",
       "9681243                                                                                                                                                                                        {{cite web |url = |title=Archived copy |accessdate=2011-11-14 |deadurl = |archiveurl = |archivedate=2011-07-25 |df= }}   \n",
       "\n",
       "         label_category  \n",
       "15597711           book  \n",
       "5729399            book  \n",
       "8164782            book  \n",
       "15876317           book  \n",
       "9681243            book  "
      ]
     },
     "execution_count": 19,
     "metadata": {},
     "output_type": "execute_result"
    }
   ],
   "source": [
    "## Check citations with label books\n",
    "frame[frame['label_category'] == 'book'].sample(5)"
   ]
  },
  {
   "cell_type": "code",
   "execution_count": 17,
   "metadata": {},
   "outputs": [
    {
     "data": {
      "text/html": [
       "<div>\n",
       "<style scoped>\n",
       "    .dataframe tbody tr th:only-of-type {\n",
       "        vertical-align: middle;\n",
       "    }\n",
       "\n",
       "    .dataframe tbody tr th {\n",
       "        vertical-align: top;\n",
       "    }\n",
       "\n",
       "    .dataframe thead th {\n",
       "        text-align: right;\n",
       "    }\n",
       "</style>\n",
       "<table border=\"1\" class=\"dataframe\">\n",
       "  <thead>\n",
       "    <tr style=\"text-align: right;\">\n",
       "      <th></th>\n",
       "      <th>citations</th>\n",
       "      <th>label_category</th>\n",
       "    </tr>\n",
       "  </thead>\n",
       "  <tbody>\n",
       "    <tr>\n",
       "      <th>13082913</th>\n",
       "      <td>{{cite news |title=Trump beats Murphy in Classic |url = |publisher=[[World Professional Billiards and Snooker Association|World Snooker]] |date=1 May 2013 |accessdate=2 May 2013}}</td>\n",
       "      <td>entertainment</td>\n",
       "    </tr>\n",
       "    <tr>\n",
       "      <th>6417588</th>\n",
       "      <td>{{cite web |url = |title=Craig Ramsay Coaching Record|accessdate=2010-07-01|publisher=Sports Reference LLC|work =</td>\n",
       "      <td>entertainment</td>\n",
       "    </tr>\n",
       "    <tr>\n",
       "      <th>9244721</th>\n",
       "      <td>{{Cite news|page=4 |last=Heger |first=Ursula |title=Rail revamp on track but road upgrade needed - Trains to get boost in number |newspaper = |date=17 November 2010 |url = |accessdate=21 December 2010 |archivedate=21 December 2010 |archiveurl = |deadurl = |df= }}</td>\n",
       "      <td>entertainment</td>\n",
       "    </tr>\n",
       "    <tr>\n",
       "      <th>315886</th>\n",
       "      <td>{{cite web|url = |title=Shana 6 (Ws Sub)|publisher=[[Amazon.com]]|accessdate=April 3, 2012}}</td>\n",
       "      <td>entertainment</td>\n",
       "    </tr>\n",
       "    <tr>\n",
       "      <th>14865470</th>\n",
       "      <td>{{cite web|last=Timiraos|first=Alex|title=2014\\u201315 UCLA Men's Basketball Media Guide|work = |publisher=UCLA Sports Information Office|pages=122\\u2013123|year=2014|url = |accessdate=March 18, 2015|ref=201415mg}}</td>\n",
       "      <td>entertainment</td>\n",
       "    </tr>\n",
       "  </tbody>\n",
       "</table>\n",
       "</div>"
      ],
      "text/plain": [
       "                                                                                                                                                                                                                                                                        citations  \\\n",
       "13082913                                                                                      {{cite news |title=Trump beats Murphy in Classic |url = |publisher=[[World Professional Billiards and Snooker Association|World Snooker]] |date=1 May 2013 |accessdate=2 May 2013}}   \n",
       "6417588                                                                                                                                                        {{cite web |url = |title=Craig Ramsay Coaching Record|accessdate=2010-07-01|publisher=Sports Reference LLC|work =    \n",
       "9244721   {{Cite news|page=4 |last=Heger |first=Ursula |title=Rail revamp on track but road upgrade needed - Trains to get boost in number |newspaper = |date=17 November 2010 |url = |accessdate=21 December 2010 |archivedate=21 December 2010 |archiveurl = |deadurl = |df= }}   \n",
       "315886                                                                                                                                                                               {{cite web|url = |title=Shana 6 (Ws Sub)|publisher=[[Amazon.com]]|accessdate=April 3, 2012}}   \n",
       "14865470                                                   {{cite web|last=Timiraos|first=Alex|title=2014\\u201315 UCLA Men's Basketball Media Guide|work = |publisher=UCLA Sports Information Office|pages=122\\u2013123|year=2014|url = |accessdate=March 18, 2015|ref=201415mg}}   \n",
       "\n",
       "         label_category  \n",
       "13082913  entertainment  \n",
       "6417588   entertainment  \n",
       "9244721   entertainment  \n",
       "315886    entertainment  \n",
       "14865470  entertainment  "
      ]
     },
     "execution_count": 17,
     "metadata": {},
     "output_type": "execute_result"
    }
   ],
   "source": [
    "frame[frame['label_category'] == 'entertainment'].sample(5)"
   ]
  },
  {
   "cell_type": "code",
   "execution_count": 16,
   "metadata": {},
   "outputs": [
    {
     "data": {
      "text/html": [
       "<div>\n",
       "<style scoped>\n",
       "    .dataframe tbody tr th:only-of-type {\n",
       "        vertical-align: middle;\n",
       "    }\n",
       "\n",
       "    .dataframe tbody tr th {\n",
       "        vertical-align: top;\n",
       "    }\n",
       "\n",
       "    .dataframe thead th {\n",
       "        text-align: right;\n",
       "    }\n",
       "</style>\n",
       "<table border=\"1\" class=\"dataframe\">\n",
       "  <thead>\n",
       "    <tr style=\"text-align: right;\">\n",
       "      <th></th>\n",
       "      <th>citations</th>\n",
       "      <th>label_category</th>\n",
       "    </tr>\n",
       "  </thead>\n",
       "  <tbody>\n",
       "    <tr>\n",
       "      <th>586213</th>\n",
       "      <td>{{cite news|url = |title=Leontyne Price and A Program of Song|work =</td>\n",
       "      <td>journal</td>\n",
       "    </tr>\n",
       "    <tr>\n",
       "      <th>6573824</th>\n",
       "      <td>{{cite web |url = |title=The Modern Day |publisher=Jesus College, Oxford |date=27 September 2005 |accessdate=9 July 2009 |archiveurl = |archivedate=24 April 2009 |deadurl = |df=dmy }}</td>\n",
       "      <td>journal</td>\n",
       "    </tr>\n",
       "    <tr>\n",
       "      <th>51433</th>\n",
       "      <td>{{cite web|title=FutureSchools@Singapore Programme|url = |publisher=Ministry of Education, Singapore|accessdate=7 May 2013|deadurl = |archiveurl = |archivedate=8 March 2013|df=}}</td>\n",
       "      <td>journal</td>\n",
       "    </tr>\n",
       "    <tr>\n",
       "      <th>9918537</th>\n",
       "      <td>{{cite web |url = |title=Ethnic Now - The Global Peace and Unity Event 2006|accessdate=22 November 2006}}</td>\n",
       "      <td>journal</td>\n",
       "    </tr>\n",
       "    <tr>\n",
       "      <th>5430824</th>\n",
       "      <td>{{cite book|last=Calarco|first=Tom|title=Places of the Underground Railroad: A Geographical Guide|url = |accessdate=24 March 2014|year=2011|publisher=ABC-CLIO|isbn=9780313381461|page=363}}</td>\n",
       "      <td>journal</td>\n",
       "    </tr>\n",
       "  </tbody>\n",
       "</table>\n",
       "</div>"
      ],
      "text/plain": [
       "                                                                                                                                                                                            citations  \\\n",
       "586213                                                                                                                          {{cite news|url = |title=Leontyne Price and A Program of Song|work =    \n",
       "6573824       {{cite web |url = |title=The Modern Day |publisher=Jesus College, Oxford |date=27 September 2005 |accessdate=9 July 2009 |archiveurl = |archivedate=24 April 2009 |deadurl = |df=dmy }}   \n",
       "51433              {{cite web|title=FutureSchools@Singapore Programme|url = |publisher=Ministry of Education, Singapore|accessdate=7 May 2013|deadurl = |archiveurl = |archivedate=8 March 2013|df=}}   \n",
       "9918537                                                                                     {{cite web |url = |title=Ethnic Now - The Global Peace and Unity Event 2006|accessdate=22 November 2006}}   \n",
       "5430824  {{cite book|last=Calarco|first=Tom|title=Places of the Underground Railroad: A Geographical Guide|url = |accessdate=24 March 2014|year=2011|publisher=ABC-CLIO|isbn=9780313381461|page=363}}   \n",
       "\n",
       "        label_category  \n",
       "586213         journal  \n",
       "6573824        journal  \n",
       "51433          journal  \n",
       "9918537        journal  \n",
       "5430824        journal  "
      ]
     },
     "execution_count": 16,
     "metadata": {},
     "output_type": "execute_result"
    }
   ],
   "source": [
    "frame[frame['label_category'] == 'journal'].sample(5)"
   ]
  },
  {
   "cell_type": "code",
   "execution_count": 15,
   "metadata": {},
   "outputs": [
    {
     "data": {
      "text/html": [
       "<div>\n",
       "<style scoped>\n",
       "    .dataframe tbody tr th:only-of-type {\n",
       "        vertical-align: middle;\n",
       "    }\n",
       "\n",
       "    .dataframe tbody tr th {\n",
       "        vertical-align: top;\n",
       "    }\n",
       "\n",
       "    .dataframe thead th {\n",
       "        text-align: right;\n",
       "    }\n",
       "</style>\n",
       "<table border=\"1\" class=\"dataframe\">\n",
       "  <thead>\n",
       "    <tr style=\"text-align: right;\">\n",
       "      <th></th>\n",
       "      <th>citations</th>\n",
       "      <th>label_category</th>\n",
       "    </tr>\n",
       "  </thead>\n",
       "  <tbody>\n",
       "    <tr>\n",
       "      <th>13719926</th>\n",
       "      <td>{{cite news |title=CHINA: Soong Sisters|author= |newspaper = |date=December 12, 1927|url = |accessdate=May 22, 2011}}</td>\n",
       "      <td>newspaper</td>\n",
       "    </tr>\n",
       "    <tr>\n",
       "      <th>14858552</th>\n",
       "      <td>{{cite web |url = |title=Scottish League One 2013\\u201314 |publisher=Soccerbase |accessdate=20 February 2017}}</td>\n",
       "      <td>newspaper</td>\n",
       "    </tr>\n",
       "    <tr>\n",
       "      <th>1376420</th>\n",
       "      <td>{{cite news|title=Ipswich Town Near Soccer Title|date=24 April 1962|accessdate=5 July 2015|newspaper = |agency=Associated Press|page=36|url =</td>\n",
       "      <td>newspaper</td>\n",
       "    </tr>\n",
       "    <tr>\n",
       "      <th>4041145</th>\n",
       "      <td>{{cite web|url = |title= \\'\\'Ake v. Oklahoma: The New \"Fundamental Error\" Exception to Wainwright v, Sykes \\'\\'.|last=Lowe|first=Thayne G.|website = |publisher= Digital Commons |accessdate=2016-12-29}}</td>\n",
       "      <td>newspaper</td>\n",
       "    </tr>\n",
       "    <tr>\n",
       "      <th>469497</th>\n",
       "      <td>{{cite web|url = |title=Katorse's Xian Lim recalls childhood bonding with his dad|last1=Godinez|first1=Bong|date=14 June 2009|website =</td>\n",
       "      <td>newspaper</td>\n",
       "    </tr>\n",
       "  </tbody>\n",
       "</table>\n",
       "</div>"
      ],
      "text/plain": [
       "                                                                                                                                                                                                          citations  \\\n",
       "13719926                                                                                      {{cite news |title=CHINA: Soong Sisters|author= |newspaper = |date=December 12, 1927|url = |accessdate=May 22, 2011}}   \n",
       "14858552                                                                                             {{cite web |url = |title=Scottish League One 2013\\u201314 |publisher=Soccerbase |accessdate=20 February 2017}}   \n",
       "1376420                                                              {{cite news|title=Ipswich Town Near Soccer Title|date=24 April 1962|accessdate=5 July 2015|newspaper = |agency=Associated Press|page=36|url =    \n",
       "4041145   {{cite web|url = |title= \\'\\'Ake v. Oklahoma: The New \"Fundamental Error\" Exception to Wainwright v, Sykes \\'\\'.|last=Lowe|first=Thayne G.|website = |publisher= Digital Commons |accessdate=2016-12-29}}   \n",
       "469497                                                                     {{cite web|url = |title=Katorse's Xian Lim recalls childhood bonding with his dad|last1=Godinez|first1=Bong|date=14 June 2009|website =    \n",
       "\n",
       "         label_category  \n",
       "13719926      newspaper  \n",
       "14858552      newspaper  \n",
       "1376420       newspaper  \n",
       "4041145       newspaper  \n",
       "469497        newspaper  "
      ]
     },
     "execution_count": 15,
     "metadata": {},
     "output_type": "execute_result"
    }
   ],
   "source": [
    "frame[frame['label_category'] == 'newspaper'].sample(5)"
   ]
  },
  {
   "cell_type": "code",
   "execution_count": 11,
   "metadata": {},
   "outputs": [
    {
     "name": "stdout",
     "output_type": "stream",
     "text": [
      "Total number of unique citations used as wild examples: (15933261, 2)\n"
     ]
    }
   ],
   "source": [
    "print('Total number of unique citations used as wild examples: {}'.format(frame.shape))"
   ]
  },
  {
   "cell_type": "code",
   "execution_count": 13,
   "metadata": {},
   "outputs": [],
   "source": [
    "label_count = frame.groupby('label_category').count()\n",
    "label_count['perc_'] = (label_count['citations'] / frame.shape[0]) * 100"
   ]
  },
  {
   "cell_type": "code",
   "execution_count": 14,
   "metadata": {},
   "outputs": [
    {
     "data": {
      "text/html": [
       "<div>\n",
       "<style scoped>\n",
       "    .dataframe tbody tr th:only-of-type {\n",
       "        vertical-align: middle;\n",
       "    }\n",
       "\n",
       "    .dataframe tbody tr th {\n",
       "        vertical-align: top;\n",
       "    }\n",
       "\n",
       "    .dataframe thead th {\n",
       "        text-align: right;\n",
       "    }\n",
       "</style>\n",
       "<table border=\"1\" class=\"dataframe\">\n",
       "  <thead>\n",
       "    <tr style=\"text-align: right;\">\n",
       "      <th></th>\n",
       "      <th>citations</th>\n",
       "      <th>perc_</th>\n",
       "    </tr>\n",
       "    <tr>\n",
       "      <th>label_category</th>\n",
       "      <th></th>\n",
       "      <th></th>\n",
       "    </tr>\n",
       "  </thead>\n",
       "  <tbody>\n",
       "    <tr>\n",
       "      <th>book</th>\n",
       "      <td>141212</td>\n",
       "      <td>0.886272</td>\n",
       "    </tr>\n",
       "    <tr>\n",
       "      <th>entertainment</th>\n",
       "      <td>12633690</td>\n",
       "      <td>79.291301</td>\n",
       "    </tr>\n",
       "    <tr>\n",
       "      <th>journal</th>\n",
       "      <td>2080785</td>\n",
       "      <td>13.059379</td>\n",
       "    </tr>\n",
       "    <tr>\n",
       "      <th>newspaper</th>\n",
       "      <td>1077574</td>\n",
       "      <td>6.763047</td>\n",
       "    </tr>\n",
       "  </tbody>\n",
       "</table>\n",
       "</div>"
      ],
      "text/plain": [
       "                citations      perc_\n",
       "label_category                      \n",
       "book               141212   0.886272\n",
       "entertainment    12633690  79.291301\n",
       "journal           2080785  13.059379\n",
       "newspaper         1077574   6.763047"
      ]
     },
     "execution_count": 14,
     "metadata": {},
     "output_type": "execute_result"
    }
   ],
   "source": [
    "label_count"
   ]
  },
  {
   "cell_type": "code",
   "execution_count": null,
   "metadata": {},
   "outputs": [],
   "source": []
  }
 ],
 "metadata": {
  "kernelspec": {
   "display_name": "Python 3",
   "language": "python",
   "name": "python3"
  },
  "language_info": {
   "codemirror_mode": {
    "name": "ipython",
    "version": 3
   },
   "file_extension": ".py",
   "mimetype": "text/x-python",
   "name": "python",
   "nbconvert_exporter": "python",
   "pygments_lexer": "ipython3",
   "version": "3.6.7"
  }
 },
 "nbformat": 4,
 "nbformat_minor": 2
}
