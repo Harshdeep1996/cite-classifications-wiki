{
 "cells": [
  {
   "cell_type": "code",
   "execution_count": 1,
   "metadata": {},
   "outputs": [],
   "source": [
    "import glob\n",
    "import numpy as np\n",
    "import pandas as pd\n",
    "from tqdm import tqdm"
   ]
  },
  {
   "cell_type": "code",
   "execution_count": 2,
   "metadata": {},
   "outputs": [],
   "source": [
    "tqdm.pandas()"
   ]
  },
  {
   "cell_type": "code",
   "execution_count": 3,
   "metadata": {},
   "outputs": [],
   "source": [
    "# import csv\n",
    "\n",
    "# import sys\n",
    "# csv.field_size_limit(sys.maxsize)"
   ]
  },
  {
   "cell_type": "code",
   "execution_count": 4,
   "metadata": {},
   "outputs": [],
   "source": [
    "## Load all the results into one dataframe with the citation and the label\n",
    "path = '/dlabdata1/harshdee/results/'\n",
    "all_files = glob.glob(path + \"/result_*.csv\")\n",
    "\n",
    "li = []\n",
    "\n",
    "for filename in all_files:\n",
    "    df = pd.read_csv(filename, index_col=None, header=0)\n",
    "    li.append(df)\n",
    "\n",
    "frame = pd.concat(li, axis=0, ignore_index=True)"
   ]
  },
  {
   "cell_type": "code",
   "execution_count": 5,
   "metadata": {},
   "outputs": [
    {
     "data": {
      "text/plain": [
       "Index([u'id', u'page_title', u'citations', u'ID_list', u'type_of_citation',\n",
       "       u'predicted_label_no', u'existing_label'],\n",
       "      dtype='object')"
      ]
     },
     "execution_count": 5,
     "metadata": {},
     "output_type": "execute_result"
    }
   ],
   "source": [
    "frame.columns"
   ]
  },
  {
   "cell_type": "code",
   "execution_count": 6,
   "metadata": {},
   "outputs": [
    {
     "data": {
      "text/html": [
       "<div>\n",
       "<style scoped>\n",
       "    .dataframe tbody tr th:only-of-type {\n",
       "        vertical-align: middle;\n",
       "    }\n",
       "\n",
       "    .dataframe tbody tr th {\n",
       "        vertical-align: top;\n",
       "    }\n",
       "\n",
       "    .dataframe thead th {\n",
       "        text-align: right;\n",
       "    }\n",
       "</style>\n",
       "<table border=\"1\" class=\"dataframe\">\n",
       "  <thead>\n",
       "    <tr style=\"text-align: right;\">\n",
       "      <th></th>\n",
       "      <th>id</th>\n",
       "      <th>page_title</th>\n",
       "      <th>citations</th>\n",
       "      <th>ID_list</th>\n",
       "      <th>type_of_citation</th>\n",
       "      <th>predicted_label_no</th>\n",
       "      <th>existing_label</th>\n",
       "    </tr>\n",
       "  </thead>\n",
       "  <tbody>\n",
       "    <tr>\n",
       "      <th>0</th>\n",
       "      <td>290</td>\n",
       "      <td>A</td>\n",
       "      <td>{{cite encyclopedia | last = Hall-Quest | firs...</td>\n",
       "      <td>NaN</td>\n",
       "      <td>cite encyclopedia</td>\n",
       "      <td>0.0</td>\n",
       "      <td>NO LABEL</td>\n",
       "    </tr>\n",
       "    <tr>\n",
       "      <th>1</th>\n",
       "      <td>303</td>\n",
       "      <td>Alabama</td>\n",
       "      <td>{{cite news |title=Airbus confirms its first U...</td>\n",
       "      <td>NaN</td>\n",
       "      <td>cite news</td>\n",
       "      <td>2.0</td>\n",
       "      <td>NO LABEL</td>\n",
       "    </tr>\n",
       "    <tr>\n",
       "      <th>2</th>\n",
       "      <td>303</td>\n",
       "      <td>Alabama</td>\n",
       "      <td>{{cite web |url=http://www.laddpeeblesstadium....</td>\n",
       "      <td>NaN</td>\n",
       "      <td>cite web</td>\n",
       "      <td>2.0</td>\n",
       "      <td>NO LABEL</td>\n",
       "    </tr>\n",
       "    <tr>\n",
       "      <th>3</th>\n",
       "      <td>303</td>\n",
       "      <td>Alabama</td>\n",
       "      <td>{{cite web |url=http://www.thearda.com/rcms201...</td>\n",
       "      <td>NaN</td>\n",
       "      <td>cite web</td>\n",
       "      <td>0.0</td>\n",
       "      <td>NO LABEL</td>\n",
       "    </tr>\n",
       "    <tr>\n",
       "      <th>4</th>\n",
       "      <td>324</td>\n",
       "      <td>Academy Awards</td>\n",
       "      <td>{{cite web |url=http://tvbythenumbers.zap2it.c...</td>\n",
       "      <td>NaN</td>\n",
       "      <td>cite web</td>\n",
       "      <td>2.0</td>\n",
       "      <td>NO LABEL</td>\n",
       "    </tr>\n",
       "  </tbody>\n",
       "</table>\n",
       "</div>"
      ],
      "text/plain": [
       "    id      page_title                                          citations  \\\n",
       "0  290               A  {{cite encyclopedia | last = Hall-Quest | firs...   \n",
       "1  303         Alabama  {{cite news |title=Airbus confirms its first U...   \n",
       "2  303         Alabama  {{cite web |url=http://www.laddpeeblesstadium....   \n",
       "3  303         Alabama  {{cite web |url=http://www.thearda.com/rcms201...   \n",
       "4  324  Academy Awards  {{cite web |url=http://tvbythenumbers.zap2it.c...   \n",
       "\n",
       "  ID_list   type_of_citation  predicted_label_no existing_label  \n",
       "0     NaN  cite encyclopedia                 0.0       NO LABEL  \n",
       "1     NaN          cite news                 2.0       NO LABEL  \n",
       "2     NaN           cite web                 2.0       NO LABEL  \n",
       "3     NaN           cite web                 0.0       NO LABEL  \n",
       "4     NaN           cite web                 2.0       NO LABEL  "
      ]
     },
     "execution_count": 6,
     "metadata": {},
     "output_type": "execute_result"
    }
   ],
   "source": [
    "frame.head()"
   ]
  },
  {
   "cell_type": "code",
   "execution_count": 7,
   "metadata": {},
   "outputs": [],
   "source": [
    "frame['predicted_label_no'].replace(0.0, 'book', inplace=True)"
   ]
  },
  {
   "cell_type": "code",
   "execution_count": 8,
   "metadata": {},
   "outputs": [],
   "source": [
    "frame['predicted_label_no'].replace(1.0, 'journal', inplace=True)"
   ]
  },
  {
   "cell_type": "code",
   "execution_count": 9,
   "metadata": {},
   "outputs": [],
   "source": [
    "frame['predicted_label_no'].replace(2.0, 'web', inplace=True)"
   ]
  },
  {
   "cell_type": "code",
   "execution_count": 10,
   "metadata": {},
   "outputs": [
    {
     "data": {
      "text/html": [
       "<div>\n",
       "<style scoped>\n",
       "    .dataframe tbody tr th:only-of-type {\n",
       "        vertical-align: middle;\n",
       "    }\n",
       "\n",
       "    .dataframe tbody tr th {\n",
       "        vertical-align: top;\n",
       "    }\n",
       "\n",
       "    .dataframe thead th {\n",
       "        text-align: right;\n",
       "    }\n",
       "</style>\n",
       "<table border=\"1\" class=\"dataframe\">\n",
       "  <thead>\n",
       "    <tr style=\"text-align: right;\">\n",
       "      <th></th>\n",
       "      <th>id</th>\n",
       "      <th>page_title</th>\n",
       "      <th>citations</th>\n",
       "      <th>ID_list</th>\n",
       "      <th>type_of_citation</th>\n",
       "      <th>predicted_label_no</th>\n",
       "      <th>existing_label</th>\n",
       "    </tr>\n",
       "  </thead>\n",
       "  <tbody>\n",
       "    <tr>\n",
       "      <th>0</th>\n",
       "      <td>290</td>\n",
       "      <td>A</td>\n",
       "      <td>{{cite encyclopedia | last = Hall-Quest | firs...</td>\n",
       "      <td>NaN</td>\n",
       "      <td>cite encyclopedia</td>\n",
       "      <td>book</td>\n",
       "      <td>NO LABEL</td>\n",
       "    </tr>\n",
       "    <tr>\n",
       "      <th>1</th>\n",
       "      <td>303</td>\n",
       "      <td>Alabama</td>\n",
       "      <td>{{cite news |title=Airbus confirms its first U...</td>\n",
       "      <td>NaN</td>\n",
       "      <td>cite news</td>\n",
       "      <td>web</td>\n",
       "      <td>NO LABEL</td>\n",
       "    </tr>\n",
       "    <tr>\n",
       "      <th>2</th>\n",
       "      <td>303</td>\n",
       "      <td>Alabama</td>\n",
       "      <td>{{cite web |url=http://www.laddpeeblesstadium....</td>\n",
       "      <td>NaN</td>\n",
       "      <td>cite web</td>\n",
       "      <td>web</td>\n",
       "      <td>NO LABEL</td>\n",
       "    </tr>\n",
       "    <tr>\n",
       "      <th>3</th>\n",
       "      <td>303</td>\n",
       "      <td>Alabama</td>\n",
       "      <td>{{cite web |url=http://www.thearda.com/rcms201...</td>\n",
       "      <td>NaN</td>\n",
       "      <td>cite web</td>\n",
       "      <td>book</td>\n",
       "      <td>NO LABEL</td>\n",
       "    </tr>\n",
       "    <tr>\n",
       "      <th>4</th>\n",
       "      <td>324</td>\n",
       "      <td>Academy Awards</td>\n",
       "      <td>{{cite web |url=http://tvbythenumbers.zap2it.c...</td>\n",
       "      <td>NaN</td>\n",
       "      <td>cite web</td>\n",
       "      <td>web</td>\n",
       "      <td>NO LABEL</td>\n",
       "    </tr>\n",
       "  </tbody>\n",
       "</table>\n",
       "</div>"
      ],
      "text/plain": [
       "    id      page_title                                          citations  \\\n",
       "0  290               A  {{cite encyclopedia | last = Hall-Quest | firs...   \n",
       "1  303         Alabama  {{cite news |title=Airbus confirms its first U...   \n",
       "2  303         Alabama  {{cite web |url=http://www.laddpeeblesstadium....   \n",
       "3  303         Alabama  {{cite web |url=http://www.thearda.com/rcms201...   \n",
       "4  324  Academy Awards  {{cite web |url=http://tvbythenumbers.zap2it.c...   \n",
       "\n",
       "  ID_list   type_of_citation predicted_label_no existing_label  \n",
       "0     NaN  cite encyclopedia               book       NO LABEL  \n",
       "1     NaN          cite news                web       NO LABEL  \n",
       "2     NaN           cite web                web       NO LABEL  \n",
       "3     NaN           cite web               book       NO LABEL  \n",
       "4     NaN           cite web                web       NO LABEL  "
      ]
     },
     "execution_count": 10,
     "metadata": {},
     "output_type": "execute_result"
    }
   ],
   "source": [
    "frame.head()"
   ]
  },
  {
   "cell_type": "code",
   "execution_count": null,
   "metadata": {},
   "outputs": [],
   "source": []
  },
  {
   "cell_type": "code",
   "execution_count": 10,
   "metadata": {},
   "outputs": [
    {
     "data": {
      "text/plain": [
       "array(['book', 'web', 'journal', nan], dtype=object)"
      ]
     },
     "execution_count": 10,
     "metadata": {},
     "output_type": "execute_result"
    }
   ],
   "source": [
    "frame['predicted_label_no'].unique()"
   ]
  },
  {
   "cell_type": "code",
   "execution_count": 11,
   "metadata": {},
   "outputs": [
    {
     "data": {
      "text/plain": [
       "(3585532, 7)"
      ]
     },
     "execution_count": 11,
     "metadata": {},
     "output_type": "execute_result"
    }
   ],
   "source": [
    "frame[frame['existing_label'] != 'NO LABEL'].shape"
   ]
  },
  {
   "cell_type": "code",
   "execution_count": 12,
   "metadata": {},
   "outputs": [],
   "source": [
    "# newspaper_data = pd.read_parquet(\n",
    "#     '/dlabdata1/harshdee/newspapers_citations_features.parquet', engine='pyarrow')\n",
    "# entertainment_features = pd.read_parquet(\n",
    "#     '/dlabdata1/harshdee/entertainment_citations_features.parquet', engine='pyarrow')"
   ]
  },
  {
   "cell_type": "code",
   "execution_count": 14,
   "metadata": {},
   "outputs": [],
   "source": [
    "# newspaper_data.shape"
   ]
  },
  {
   "cell_type": "code",
   "execution_count": 15,
   "metadata": {},
   "outputs": [
    {
     "data": {
      "text/plain": [
       "book       2103492\n",
       "journal    1482040\n",
       "Name: existing_label, dtype: int64"
      ]
     },
     "execution_count": 15,
     "metadata": {},
     "output_type": "execute_result"
    }
   ],
   "source": [
    "frame[frame['existing_label'] != 'NO LABEL']['existing_label'].value_counts()"
   ]
  },
  {
   "cell_type": "code",
   "execution_count": 23,
   "metadata": {},
   "outputs": [
    {
     "data": {
      "text/plain": [
       "0          {{Citation | date = 10 December 2012 | url = h...\n",
       "1          {{Citation | last =  | first =  | author-link ...\n",
       "2          {{Citation | last = ''[[The New York Times]]''...\n",
       "3          {{Citation | last = Schwartz | first = John  |...\n",
       "4          {{Citation | last = Shearer | first = Caroline...\n",
       "                                 ...                        \n",
       "1945385    {{cite web|work=[[The New York Times]]|title=A...\n",
       "1945386    {{cite web|work=[[The New York Times]]|title=S...\n",
       "1945387    {{cite web|work=[[The New York Times]]|url=htt...\n",
       "1945388    {{cite web|work=[[The New York Times]]|url=htt...\n",
       "1945389    {{cite web|work=[[The New York Times]]|url=htt...\n",
       "Name: citations, Length: 1945390, dtype: object"
      ]
     },
     "execution_count": 23,
     "metadata": {},
     "output_type": "execute_result"
    }
   ],
   "source": [
    "# newspaper_data['citations']"
   ]
  },
  {
   "cell_type": "code",
   "execution_count": 24,
   "metadata": {},
   "outputs": [
    {
     "data": {
      "text/plain": [
       "3409042"
      ]
     },
     "execution_count": 24,
     "metadata": {},
     "output_type": "execute_result"
    }
   ],
   "source": [
    "newspaper_data.shape[0] + entertainment_features.shape[0]"
   ]
  },
  {
   "cell_type": "code",
   "execution_count": 16,
   "metadata": {},
   "outputs": [
    {
     "data": {
      "text/plain": [
       "NO LABEL    25446209\n",
       "book         2103492\n",
       "journal      1482040\n",
       "Name: existing_label, dtype: int64"
      ]
     },
     "execution_count": 16,
     "metadata": {},
     "output_type": "execute_result"
    }
   ],
   "source": [
    "frame['existing_label'].value_counts()"
   ]
  },
  {
   "cell_type": "code",
   "execution_count": 17,
   "metadata": {},
   "outputs": [
    {
     "data": {
      "text/plain": [
       "array(['book', 'web', 'journal', nan], dtype=object)"
      ]
     },
     "execution_count": 17,
     "metadata": {},
     "output_type": "execute_result"
    }
   ],
   "source": [
    "## Check if the label category has unique === labels\n",
    "## NaN is for labels which were already labeled and part of training dataset\n",
    "frame['predicted_label_no'].unique()"
   ]
  },
  {
   "cell_type": "code",
   "execution_count": null,
   "metadata": {},
   "outputs": [],
   "source": []
  },
  {
   "cell_type": "code",
   "execution_count": 18,
   "metadata": {},
   "outputs": [
    {
     "name": "stdout",
     "output_type": "stream",
     "text": [
      "((25446209, 7), (3585532, 7), 29031741)\n"
     ]
    }
   ],
   "source": [
    "x = frame[frame['predicted_label_no'].notnull()].shape\n",
    "y = frame[~frame['predicted_label_no'].notnull()].shape\n",
    "print(x, y, x[0]+y[0])"
   ]
  },
  {
   "cell_type": "code",
   "execution_count": null,
   "metadata": {},
   "outputs": [],
   "source": []
  },
  {
   "cell_type": "code",
   "execution_count": 19,
   "metadata": {},
   "outputs": [
    {
     "data": {
      "text/plain": [
       "25446209"
      ]
     },
     "execution_count": 19,
     "metadata": {},
     "output_type": "execute_result"
    }
   ],
   "source": [
    "frame['predicted_label_no'].value_counts().sum() ##22393730"
   ]
  },
  {
   "cell_type": "code",
   "execution_count": 20,
   "metadata": {},
   "outputs": [],
   "source": [
    "## Change labels number to label names\n",
    "frame['predicted_label_no'].replace({0: 'book', 1: 'journal', 2: 'web'}, inplace=True)"
   ]
  },
  {
   "cell_type": "code",
   "execution_count": 11,
   "metadata": {},
   "outputs": [
    {
     "data": {
      "text/html": [
       "<div>\n",
       "<style scoped>\n",
       "    .dataframe tbody tr th:only-of-type {\n",
       "        vertical-align: middle;\n",
       "    }\n",
       "\n",
       "    .dataframe tbody tr th {\n",
       "        vertical-align: top;\n",
       "    }\n",
       "\n",
       "    .dataframe thead th {\n",
       "        text-align: right;\n",
       "    }\n",
       "</style>\n",
       "<table border=\"1\" class=\"dataframe\">\n",
       "  <thead>\n",
       "    <tr style=\"text-align: right;\">\n",
       "      <th></th>\n",
       "      <th>id</th>\n",
       "      <th>page_title</th>\n",
       "      <th>citations</th>\n",
       "      <th>ID_list</th>\n",
       "      <th>type_of_citation</th>\n",
       "      <th>predicted_label_no</th>\n",
       "      <th>existing_label</th>\n",
       "    </tr>\n",
       "  </thead>\n",
       "  <tbody>\n",
       "    <tr>\n",
       "      <th>10708869</th>\n",
       "      <td>53963410</td>\n",
       "      <td>Tigres UANL (women)</td>\n",
       "      <td>{{cite web|url=http://www.ligafemenil.mx/canch...</td>\n",
       "      <td>NaN</td>\n",
       "      <td>cite web</td>\n",
       "      <td>book</td>\n",
       "      <td>NO LABEL</td>\n",
       "    </tr>\n",
       "    <tr>\n",
       "      <th>7149617</th>\n",
       "      <td>5069309</td>\n",
       "      <td>Tonpa Shenrab Miwoche</td>\n",
       "      <td>{{cite journal|last1=Hummel|first1=Sigbert|aut...</td>\n",
       "      <td>NaN</td>\n",
       "      <td>cite journal</td>\n",
       "      <td>book</td>\n",
       "      <td>NO LABEL</td>\n",
       "    </tr>\n",
       "    <tr>\n",
       "      <th>12432107</th>\n",
       "      <td>42810854</td>\n",
       "      <td>List of Azerbaijan football transfers summer 2014</td>\n",
       "      <td>{{cite web|title=Ruslan Ab\\u0131\\u015fov \\xabQ...</td>\n",
       "      <td>NaN</td>\n",
       "      <td>cite web</td>\n",
       "      <td>book</td>\n",
       "      <td>NO LABEL</td>\n",
       "    </tr>\n",
       "    <tr>\n",
       "      <th>7509922</th>\n",
       "      <td>50928035</td>\n",
       "      <td>Enakku Vaaitha Adimaigal</td>\n",
       "      <td>{{cite web|url=http://www.behindwoods.com/tami...</td>\n",
       "      <td>NaN</td>\n",
       "      <td>cite web</td>\n",
       "      <td>book</td>\n",
       "      <td>NO LABEL</td>\n",
       "    </tr>\n",
       "    <tr>\n",
       "      <th>7449307</th>\n",
       "      <td>10958769</td>\n",
       "      <td>Mail and plate armour</td>\n",
       "      <td>{{cite web |last1=Pak |first1=John |title='Sea...</td>\n",
       "      <td>NaN</td>\n",
       "      <td>cite web</td>\n",
       "      <td>book</td>\n",
       "      <td>NO LABEL</td>\n",
       "    </tr>\n",
       "  </tbody>\n",
       "</table>\n",
       "</div>"
      ],
      "text/plain": [
       "                id                                         page_title  \\\n",
       "10708869  53963410                                Tigres UANL (women)   \n",
       "7149617    5069309                              Tonpa Shenrab Miwoche   \n",
       "12432107  42810854  List of Azerbaijan football transfers summer 2014   \n",
       "7509922   50928035                           Enakku Vaaitha Adimaigal   \n",
       "7449307   10958769                              Mail and plate armour   \n",
       "\n",
       "                                                  citations ID_list  \\\n",
       "10708869  {{cite web|url=http://www.ligafemenil.mx/canch...     NaN   \n",
       "7149617   {{cite journal|last1=Hummel|first1=Sigbert|aut...     NaN   \n",
       "12432107  {{cite web|title=Ruslan Ab\\u0131\\u015fov \\xabQ...     NaN   \n",
       "7509922   {{cite web|url=http://www.behindwoods.com/tami...     NaN   \n",
       "7449307   {{cite web |last1=Pak |first1=John |title='Sea...     NaN   \n",
       "\n",
       "         type_of_citation predicted_label_no existing_label  \n",
       "10708869         cite web               book       NO LABEL  \n",
       "7149617      cite journal               book       NO LABEL  \n",
       "12432107         cite web               book       NO LABEL  \n",
       "7509922          cite web               book       NO LABEL  \n",
       "7449307          cite web               book       NO LABEL  "
      ]
     },
     "execution_count": 11,
     "metadata": {},
     "output_type": "execute_result"
    }
   ],
   "source": [
    "## Check citations with label books\n",
    "frame[frame['predicted_label_no'] == 'book'].sample(5)"
   ]
  },
  {
   "cell_type": "code",
   "execution_count": 12,
   "metadata": {},
   "outputs": [
    {
     "data": {
      "text/html": [
       "<div>\n",
       "<style scoped>\n",
       "    .dataframe tbody tr th:only-of-type {\n",
       "        vertical-align: middle;\n",
       "    }\n",
       "\n",
       "    .dataframe tbody tr th {\n",
       "        vertical-align: top;\n",
       "    }\n",
       "\n",
       "    .dataframe thead th {\n",
       "        text-align: right;\n",
       "    }\n",
       "</style>\n",
       "<table border=\"1\" class=\"dataframe\">\n",
       "  <thead>\n",
       "    <tr style=\"text-align: right;\">\n",
       "      <th></th>\n",
       "      <th>id</th>\n",
       "      <th>page_title</th>\n",
       "      <th>citations</th>\n",
       "      <th>ID_list</th>\n",
       "      <th>type_of_citation</th>\n",
       "      <th>predicted_label_no</th>\n",
       "      <th>existing_label</th>\n",
       "    </tr>\n",
       "  </thead>\n",
       "  <tbody>\n",
       "    <tr>\n",
       "      <th>22732323</th>\n",
       "      <td>41532657</td>\n",
       "      <td>List of UEFA Champions League hat-tricks</td>\n",
       "      <td>{{cite news |url=http://www.uefa.com/uefachamp...</td>\n",
       "      <td>NaN</td>\n",
       "      <td>cite news</td>\n",
       "      <td>journal</td>\n",
       "      <td>NO LABEL</td>\n",
       "    </tr>\n",
       "    <tr>\n",
       "      <th>13855604</th>\n",
       "      <td>24538047</td>\n",
       "      <td>Vilarinho da Furna</td>\n",
       "      <td>{{citation |first=Ant\\xf3nio Jorge |last=Dias ...</td>\n",
       "      <td>NaN</td>\n",
       "      <td>citation</td>\n",
       "      <td>journal</td>\n",
       "      <td>NO LABEL</td>\n",
       "    </tr>\n",
       "    <tr>\n",
       "      <th>17055678</th>\n",
       "      <td>31131855</td>\n",
       "      <td>List of Olympic venues in football</td>\n",
       "      <td>{{citation|title=Rio de Janeiro 2016 Candidate...</td>\n",
       "      <td>NaN</td>\n",
       "      <td>citation</td>\n",
       "      <td>journal</td>\n",
       "      <td>NO LABEL</td>\n",
       "    </tr>\n",
       "    <tr>\n",
       "      <th>28142681</th>\n",
       "      <td>63359886</td>\n",
       "      <td>Operation SNOWGOOSE</td>\n",
       "      <td>{{Cite journal|last=Andrew Burtch|date=2015-03...</td>\n",
       "      <td>{ISSN=1195-8472}</td>\n",
       "      <td>cite journal</td>\n",
       "      <td>journal</td>\n",
       "      <td>NO LABEL</td>\n",
       "    </tr>\n",
       "    <tr>\n",
       "      <th>17604135</th>\n",
       "      <td>7361828</td>\n",
       "      <td>Australian one-cent coin</td>\n",
       "      <td>{{cite web |url=http://www.ramint.gov.au/media...</td>\n",
       "      <td>NaN</td>\n",
       "      <td>cite web</td>\n",
       "      <td>journal</td>\n",
       "      <td>NO LABEL</td>\n",
       "    </tr>\n",
       "  </tbody>\n",
       "</table>\n",
       "</div>"
      ],
      "text/plain": [
       "                id                                page_title  \\\n",
       "22732323  41532657  List of UEFA Champions League hat-tricks   \n",
       "13855604  24538047                        Vilarinho da Furna   \n",
       "17055678  31131855        List of Olympic venues in football   \n",
       "28142681  63359886                       Operation SNOWGOOSE   \n",
       "17604135   7361828                  Australian one-cent coin   \n",
       "\n",
       "                                                  citations           ID_list  \\\n",
       "22732323  {{cite news |url=http://www.uefa.com/uefachamp...               NaN   \n",
       "13855604  {{citation |first=Ant\\xf3nio Jorge |last=Dias ...               NaN   \n",
       "17055678  {{citation|title=Rio de Janeiro 2016 Candidate...               NaN   \n",
       "28142681  {{Cite journal|last=Andrew Burtch|date=2015-03...  {ISSN=1195-8472}   \n",
       "17604135  {{cite web |url=http://www.ramint.gov.au/media...               NaN   \n",
       "\n",
       "         type_of_citation predicted_label_no existing_label  \n",
       "22732323        cite news            journal       NO LABEL  \n",
       "13855604         citation            journal       NO LABEL  \n",
       "17055678         citation            journal       NO LABEL  \n",
       "28142681     cite journal            journal       NO LABEL  \n",
       "17604135         cite web            journal       NO LABEL  "
      ]
     },
     "execution_count": 12,
     "metadata": {},
     "output_type": "execute_result"
    }
   ],
   "source": [
    "frame[frame['predicted_label_no'] == 'journal'].sample(5)"
   ]
  },
  {
   "cell_type": "code",
   "execution_count": 13,
   "metadata": {},
   "outputs": [
    {
     "data": {
      "text/html": [
       "<div>\n",
       "<style scoped>\n",
       "    .dataframe tbody tr th:only-of-type {\n",
       "        vertical-align: middle;\n",
       "    }\n",
       "\n",
       "    .dataframe tbody tr th {\n",
       "        vertical-align: top;\n",
       "    }\n",
       "\n",
       "    .dataframe thead th {\n",
       "        text-align: right;\n",
       "    }\n",
       "</style>\n",
       "<table border=\"1\" class=\"dataframe\">\n",
       "  <thead>\n",
       "    <tr style=\"text-align: right;\">\n",
       "      <th></th>\n",
       "      <th>id</th>\n",
       "      <th>page_title</th>\n",
       "      <th>citations</th>\n",
       "      <th>ID_list</th>\n",
       "      <th>type_of_citation</th>\n",
       "      <th>predicted_label_no</th>\n",
       "      <th>existing_label</th>\n",
       "    </tr>\n",
       "  </thead>\n",
       "  <tbody>\n",
       "    <tr>\n",
       "      <th>16486874</th>\n",
       "      <td>38923178</td>\n",
       "      <td>CJK Unified Ideographs (Unicode block)</td>\n",
       "      <td>{{Citation|title=Draft text of ANNEX: Rules of...</td>\n",
       "      <td>NaN</td>\n",
       "      <td>citation</td>\n",
       "      <td>web</td>\n",
       "      <td>NO LABEL</td>\n",
       "    </tr>\n",
       "    <tr>\n",
       "      <th>10247399</th>\n",
       "      <td>39483484</td>\n",
       "      <td>Michelle Nunn</td>\n",
       "      <td>{{cite news | url=http://nl.newsbank.com/nl-se...</td>\n",
       "      <td>NaN</td>\n",
       "      <td>cite news</td>\n",
       "      <td>web</td>\n",
       "      <td>NO LABEL</td>\n",
       "    </tr>\n",
       "    <tr>\n",
       "      <th>4038019</th>\n",
       "      <td>59227875</td>\n",
       "      <td>William Segerdahl</td>\n",
       "      <td>{{Cite web|url=https://open.spotify.com/artist...</td>\n",
       "      <td>NaN</td>\n",
       "      <td>cite web</td>\n",
       "      <td>web</td>\n",
       "      <td>NO LABEL</td>\n",
       "    </tr>\n",
       "    <tr>\n",
       "      <th>9554448</th>\n",
       "      <td>57338725</td>\n",
       "      <td>Timeline of BBC Radio 5 Live</td>\n",
       "      <td>{{cite web|url=https://genome.ch.bbc.co.uk/sch...</td>\n",
       "      <td>NaN</td>\n",
       "      <td>cite web</td>\n",
       "      <td>web</td>\n",
       "      <td>NO LABEL</td>\n",
       "    </tr>\n",
       "    <tr>\n",
       "      <th>24463509</th>\n",
       "      <td>33771445</td>\n",
       "      <td>Money transmitter</td>\n",
       "      <td>{{cite web|url=https://www.msbassociation.org/...</td>\n",
       "      <td>NaN</td>\n",
       "      <td>cite web</td>\n",
       "      <td>web</td>\n",
       "      <td>NO LABEL</td>\n",
       "    </tr>\n",
       "  </tbody>\n",
       "</table>\n",
       "</div>"
      ],
      "text/plain": [
       "                id                              page_title  \\\n",
       "16486874  38923178  CJK Unified Ideographs (Unicode block)   \n",
       "10247399  39483484                           Michelle Nunn   \n",
       "4038019   59227875                       William Segerdahl   \n",
       "9554448   57338725            Timeline of BBC Radio 5 Live   \n",
       "24463509  33771445                       Money transmitter   \n",
       "\n",
       "                                                  citations ID_list  \\\n",
       "16486874  {{Citation|title=Draft text of ANNEX: Rules of...     NaN   \n",
       "10247399  {{cite news | url=http://nl.newsbank.com/nl-se...     NaN   \n",
       "4038019   {{Cite web|url=https://open.spotify.com/artist...     NaN   \n",
       "9554448   {{cite web|url=https://genome.ch.bbc.co.uk/sch...     NaN   \n",
       "24463509  {{cite web|url=https://www.msbassociation.org/...     NaN   \n",
       "\n",
       "         type_of_citation predicted_label_no existing_label  \n",
       "16486874         citation                web       NO LABEL  \n",
       "10247399        cite news                web       NO LABEL  \n",
       "4038019          cite web                web       NO LABEL  \n",
       "9554448          cite web                web       NO LABEL  \n",
       "24463509         cite web                web       NO LABEL  "
      ]
     },
     "execution_count": 13,
     "metadata": {},
     "output_type": "execute_result"
    }
   ],
   "source": [
    "frame[frame['predicted_label_no'] == 'web'].sample(5)"
   ]
  },
  {
   "cell_type": "code",
   "execution_count": 37,
   "metadata": {},
   "outputs": [
    {
     "data": {
      "text/plain": [
       "'{{cite journal |last1=Ibrahim |first1=Bassem |date=12 December 2016 |title=Right Ventricular Failure |url=https://www.escardio.org/Journals/E-Journal-of-Cardiology-Practice/Volume-14/Right-ventricular-failure |journal=e-Journal of Cardiology Practice |volume=14 |issue=32 |pages= |doi= |access-date=23 March 2019 }}'"
      ]
     },
     "execution_count": 37,
     "metadata": {},
     "output_type": "execute_result"
    }
   ],
   "source": [
    "frame[frame['predicted_label_no'] == 'journal'].iloc[1327]['citations']"
   ]
  },
  {
   "cell_type": "code",
   "execution_count": 24,
   "metadata": {},
   "outputs": [
    {
     "data": {
      "text/plain": [
       "(29031741, 7)"
      ]
     },
     "execution_count": 24,
     "metadata": {},
     "output_type": "execute_result"
    }
   ],
   "source": [
    "frame.shape"
   ]
  },
  {
   "cell_type": "code",
   "execution_count": 25,
   "metadata": {},
   "outputs": [],
   "source": [
    "label_count = frame.groupby('predicted_label_no').count()\n",
    "# label_count['perc_'] = (label_count['citations'] / frame.shape[0]) * 100\n",
    "label_count['perc_'] = (label_count['citations'] / frame[frame['predicted_label_no'].notnull()].shape[0]) * 100"
   ]
  },
  {
   "cell_type": "code",
   "execution_count": 26,
   "metadata": {},
   "outputs": [
    {
     "data": {
      "text/plain": [
       "25446209"
      ]
     },
     "execution_count": 26,
     "metadata": {},
     "output_type": "execute_result"
    }
   ],
   "source": [
    "label_count['id'].sum()"
   ]
  },
  {
   "cell_type": "code",
   "execution_count": 27,
   "metadata": {},
   "outputs": [
    {
     "data": {
      "text/html": [
       "<div>\n",
       "<style scoped>\n",
       "    .dataframe tbody tr th:only-of-type {\n",
       "        vertical-align: middle;\n",
       "    }\n",
       "\n",
       "    .dataframe tbody tr th {\n",
       "        vertical-align: top;\n",
       "    }\n",
       "\n",
       "    .dataframe thead th {\n",
       "        text-align: right;\n",
       "    }\n",
       "</style>\n",
       "<table border=\"1\" class=\"dataframe\">\n",
       "  <thead>\n",
       "    <tr style=\"text-align: right;\">\n",
       "      <th></th>\n",
       "      <th>id</th>\n",
       "      <th>page_title</th>\n",
       "      <th>citations</th>\n",
       "      <th>ID_list</th>\n",
       "      <th>type_of_citation</th>\n",
       "      <th>existing_label</th>\n",
       "      <th>perc_</th>\n",
       "    </tr>\n",
       "    <tr>\n",
       "      <th>predicted_label_no</th>\n",
       "      <th></th>\n",
       "      <th></th>\n",
       "      <th></th>\n",
       "      <th></th>\n",
       "      <th></th>\n",
       "      <th></th>\n",
       "      <th></th>\n",
       "    </tr>\n",
       "  </thead>\n",
       "  <tbody>\n",
       "    <tr>\n",
       "      <th>book</th>\n",
       "      <td>3243364</td>\n",
       "      <td>3243360</td>\n",
       "      <td>3243364</td>\n",
       "      <td>95537</td>\n",
       "      <td>3243364</td>\n",
       "      <td>3243364</td>\n",
       "      <td>12.745961</td>\n",
       "    </tr>\n",
       "    <tr>\n",
       "      <th>journal</th>\n",
       "      <td>947233</td>\n",
       "      <td>947232</td>\n",
       "      <td>947233</td>\n",
       "      <td>99460</td>\n",
       "      <td>947233</td>\n",
       "      <td>947233</td>\n",
       "      <td>3.722492</td>\n",
       "    </tr>\n",
       "    <tr>\n",
       "      <th>web</th>\n",
       "      <td>21255612</td>\n",
       "      <td>21255609</td>\n",
       "      <td>21255612</td>\n",
       "      <td>115260</td>\n",
       "      <td>21255612</td>\n",
       "      <td>21255612</td>\n",
       "      <td>83.531547</td>\n",
       "    </tr>\n",
       "  </tbody>\n",
       "</table>\n",
       "</div>"
      ],
      "text/plain": [
       "                          id  page_title  citations  ID_list  \\\n",
       "predicted_label_no                                             \n",
       "book                 3243364     3243360    3243364    95537   \n",
       "journal               947233      947232     947233    99460   \n",
       "web                 21255612    21255609   21255612   115260   \n",
       "\n",
       "                    type_of_citation  existing_label      perc_  \n",
       "predicted_label_no                                               \n",
       "book                         3243364         3243364  12.745961  \n",
       "journal                       947233          947233   3.722492  \n",
       "web                         21255612        21255612  83.531547  "
      ]
     },
     "execution_count": 27,
     "metadata": {},
     "output_type": "execute_result"
    }
   ],
   "source": [
    "label_count"
   ]
  },
  {
   "cell_type": "code",
   "execution_count": 30,
   "metadata": {},
   "outputs": [],
   "source": [
    "frame['isbn_present'] = False"
   ]
  },
  {
   "cell_type": "code",
   "execution_count": 44,
   "metadata": {},
   "outputs": [
    {
     "name": "stderr",
     "output_type": "stream",
     "text": [
      "100%|██████████| 29031741/29031741 [00:42<00:00, 677487.10it/s]\n"
     ]
    }
   ],
   "source": [
    "frame['isbn_present'] = frame['ID_list'].progress_apply(lambda x: 'ISBN' in str(x))"
   ]
  },
  {
   "cell_type": "code",
   "execution_count": 50,
   "metadata": {},
   "outputs": [
    {
     "data": {
      "text/html": [
       "<div>\n",
       "<style scoped>\n",
       "    .dataframe tbody tr th:only-of-type {\n",
       "        vertical-align: middle;\n",
       "    }\n",
       "\n",
       "    .dataframe tbody tr th {\n",
       "        vertical-align: top;\n",
       "    }\n",
       "\n",
       "    .dataframe thead th {\n",
       "        text-align: right;\n",
       "    }\n",
       "</style>\n",
       "<table border=\"1\" class=\"dataframe\">\n",
       "  <thead>\n",
       "    <tr style=\"text-align: right;\">\n",
       "      <th></th>\n",
       "      <th>id</th>\n",
       "      <th>page_title</th>\n",
       "      <th>citations</th>\n",
       "      <th>ID_list</th>\n",
       "      <th>type_of_citation</th>\n",
       "      <th>predicted_label_no</th>\n",
       "      <th>existing_label</th>\n",
       "      <th>doi_present</th>\n",
       "      <th>isbn_present</th>\n",
       "    </tr>\n",
       "  </thead>\n",
       "  <tbody>\n",
       "    <tr>\n",
       "      <th>831134</th>\n",
       "      <td>52288103</td>\n",
       "      <td>Di Rosa</td>\n",
       "      <td>{{cite book|title=The true artist is an amazin...</td>\n",
       "      <td>{ASIN=B0006YUDOI}</td>\n",
       "      <td>cite book</td>\n",
       "      <td>web</td>\n",
       "      <td>NO LABEL</td>\n",
       "      <td>True</td>\n",
       "      <td>False</td>\n",
       "    </tr>\n",
       "  </tbody>\n",
       "</table>\n",
       "</div>"
      ],
      "text/plain": [
       "              id page_title  \\\n",
       "831134  52288103    Di Rosa   \n",
       "\n",
       "                                                citations            ID_list  \\\n",
       "831134  {{cite book|title=The true artist is an amazin...  {ASIN=B0006YUDOI}   \n",
       "\n",
       "       type_of_citation predicted_label_no existing_label  doi_present  \\\n",
       "831134        cite book                web       NO LABEL         True   \n",
       "\n",
       "        isbn_present  \n",
       "831134         False  "
      ]
     },
     "execution_count": 50,
     "metadata": {},
     "output_type": "execute_result"
    }
   ],
   "source": [
    "# mask = (frame['isbn_present'] == True) & (frame['predicted_label_no'] == 'journal')\n",
    "mask = (frame['doi_present'] == True) & (frame['existing_label'] == 'NO LABEL')\n",
    "\n",
    "frame[mask]"
   ]
  },
  {
   "cell_type": "code",
   "execution_count": null,
   "metadata": {},
   "outputs": [],
   "source": [
    "frame['isbn_present'] = False"
   ]
  },
  {
   "cell_type": "code",
   "execution_count": null,
   "metadata": {},
   "outputs": [],
   "source": [
    "frame['isbn_present'] = frame['ID_list'].progress_apply(lambda x: 'ISBN' in str(x))"
   ]
  },
  {
   "cell_type": "code",
   "execution_count": null,
   "metadata": {},
   "outputs": [],
   "source": [
    "frame[(frame['predicted_label_no'] == 'web') & (frame[]) & ()]"
   ]
  },
  {
   "cell_type": "code",
   "execution_count": 24,
   "metadata": {},
   "outputs": [],
   "source": [
    "## Get the journals for labels\n",
    "frame[frame['predicted_label_no'] == 'journal'].to_csv('/scratch/harshdee/wild_examples_journal.csv', index=False)"
   ]
  },
  {
   "cell_type": "code",
   "execution_count": 25,
   "metadata": {},
   "outputs": [],
   "source": [
    "## Get the books for labels\n",
    "frame[frame['predicted_label_no'] == 'book'].to_csv('/scratch/harshdee/wild_examples_book.csv', index=False)"
   ]
  },
  {
   "cell_type": "code",
   "execution_count": null,
   "metadata": {},
   "outputs": [],
   "source": []
  }
 ],
 "metadata": {
  "kernelspec": {
   "display_name": "Python 2",
   "language": "python",
   "name": "python2"
  },
  "language_info": {
   "codemirror_mode": {
    "name": "ipython",
    "version": 2
   },
   "file_extension": ".py",
   "mimetype": "text/x-python",
   "name": "python",
   "nbconvert_exporter": "python",
   "pygments_lexer": "ipython2",
   "version": "2.7.18"
  }
 },
 "nbformat": 4,
 "nbformat_minor": 2
}
