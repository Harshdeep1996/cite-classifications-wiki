{
 "cells": [
  {
   "cell_type": "code",
   "execution_count": 1,
   "metadata": {},
   "outputs": [
    {
     "name": "stderr",
     "output_type": "stream",
     "text": [
      "Using TensorFlow backend.\n"
     ]
    }
   ],
   "source": [
    "import glob\n",
    "import keras\n",
    "import numpy as np\n",
    "import pandas as pd\n",
    "from tqdm import tqdm\n",
    "import tensorflow as tf\n",
    "from itertools import chain\n",
    "from keras.models import Model\n",
    "import matplotlib.pyplot as plt\n",
    "from collections import Counter\n",
    "from sklearn import preprocessing\n",
    "from sklearn.manifold import TSNE\n",
    "from gensim.models import FastText\n",
    "from sklearn.decomposition import PCA\n",
    "from keras.callbacks import ReduceLROnPlateau\n",
    "from sklearn.model_selection import train_test_split \n",
    "from keras.preprocessing.sequence import pad_sequences\n",
    "from sklearn.metrics.pairwise import cosine_similarity\n",
    "from sklearn.feature_extraction.text import CountVectorizer\n",
    "from keras.layers import Input, Embedding, LSTM, Dense, Bidirectional\n",
    "from sklearn.metrics import confusion_matrix, classification_report, accuracy_score\n",
    "\n",
    "import warnings\n",
    "warnings.filterwarnings(\"ignore\")\n",
    "\n",
    "# Initializing tqdm for pandas\n",
    "tqdm.pandas()"
   ]
  },
  {
   "cell_type": "code",
   "execution_count": 2,
   "metadata": {},
   "outputs": [
    {
     "name": "stdout",
     "output_type": "stream",
     "text": [
      "[]\n"
     ]
    }
   ],
   "source": [
    "from tensorflow.python.client import device_lib\n",
    "\n",
    "local_device_protos = device_lib.list_local_devices()\n",
    "print([x.name for x in local_device_protos if x.device_type == 'GPU'])"
   ]
  },
  {
   "cell_type": "code",
   "execution_count": 3,
   "metadata": {},
   "outputs": [],
   "source": [
    "np.random.seed(0)"
   ]
  },
  {
   "cell_type": "code",
   "execution_count": 4,
   "metadata": {},
   "outputs": [],
   "source": [
    "citations_features = pd.read_parquet('./citations_features.parquet/', engine='pyarrow')\n",
    "dataset = pd.read_csv('dataset.csv')"
   ]
  },
  {
   "cell_type": "code",
   "execution_count": 5,
   "metadata": {},
   "outputs": [],
   "source": [
    "# Merging the citation and their corresponding features which have been extracted\n",
    "book_journal_features = pd.merge(\n",
    "    dataset, citations_features, how='inner', left_on=['id','citation'], right_on = ['id','citation']\n",
    ")\n",
    "book_journal_features.drop('page_title_y', axis=1, inplace=True)\n",
    "book_journal_features.drop('Unnamed: 0', axis=1, inplace=True)"
   ]
  },
  {
   "cell_type": "code",
   "execution_count": 6,
   "metadata": {},
   "outputs": [
    {
     "data": {
      "text/plain": [
       "(2202646, 16)"
      ]
     },
     "execution_count": 6,
     "metadata": {},
     "output_type": "execute_result"
    }
   ],
   "source": [
    "book_journal_features.shape"
   ]
  },
  {
   "cell_type": "code",
   "execution_count": 7,
   "metadata": {},
   "outputs": [],
   "source": [
    "# Only consider unique citations so that the dataset is more varied\n",
    "book_journal_features = book_journal_features.set_index(['id', 'citation'])\n",
    "book_journal_features = book_journal_features[~book_journal_features.index.duplicated(keep='first')]\n",
    "book_journal_features = book_journal_features.reset_index()"
   ]
  },
  {
   "cell_type": "markdown",
   "metadata": {},
   "source": [
    "## Get auxiliary features and divide them into labels\n",
    "\n",
    "1. `ref_index`\n",
    "2. `total_words`\n",
    "3. `tags`\n",
    "4. `type_of_citation`\n",
    "\n",
    "#### can include `section` of the page in which the citation belongs to"
   ]
  },
  {
   "cell_type": "code",
   "execution_count": 8,
   "metadata": {},
   "outputs": [],
   "source": [
    "book_journal_features['actual_label'] = 'rest'"
   ]
  },
  {
   "cell_type": "code",
   "execution_count": 9,
   "metadata": {},
   "outputs": [],
   "source": [
    "book_journal_features.loc[~pd.isna(book_journal_features['PMC']), ['actual_label']] = 'journal'\n",
    "book_journal_features.loc[~pd.isna(book_journal_features['PMID']), ['actual_label']] = 'journal'"
   ]
  },
  {
   "cell_type": "code",
   "execution_count": 10,
   "metadata": {},
   "outputs": [],
   "source": [
    "only_doi = (\n",
    "    ~pd.isna(book_journal_features['DOI']) & \n",
    "    pd.isna(book_journal_features['PMC']) & \n",
    "    pd.isna(book_journal_features['PMID']) &\n",
    "    pd.isna(book_journal_features['ISBN'])\n",
    ")\n",
    "book_journal_features.loc[only_doi, ['actual_label']] = 'journal'"
   ]
  },
  {
   "cell_type": "code",
   "execution_count": 11,
   "metadata": {},
   "outputs": [],
   "source": [
    "only_book = (\n",
    "    ~pd.isna(book_journal_features['ISBN']) & \n",
    "    pd.isna(book_journal_features['PMC']) & \n",
    "    pd.isna(book_journal_features['PMID']) &\n",
    "    pd.isna(book_journal_features['DOI'])\n",
    ")\n",
    "book_journal_features.loc[only_book, ['actual_label']] = 'book'"
   ]
  },
  {
   "cell_type": "code",
   "execution_count": 12,
   "metadata": {},
   "outputs": [],
   "source": [
    "both_book_and_doi_journal = (\n",
    "    ~pd.isna(book_journal_features['ISBN']) & \n",
    "    ~pd.isna(book_journal_features['DOI']) & \n",
    "    pd.isna(book_journal_features['PMID']) &\n",
    "    pd.isna(book_journal_features['PMC']) &\n",
    "    book_journal_features['citation_type'].isin(['cite journal', 'cite conference'])\n",
    ")\n",
    "book_journal_features.loc[both_book_and_doi_journal, ['actual_label']] = 'journal'"
   ]
  },
  {
   "cell_type": "code",
   "execution_count": 13,
   "metadata": {},
   "outputs": [],
   "source": [
    "both_book_and_doi_book = (\n",
    "    ~pd.isna(book_journal_features['ISBN']) & \n",
    "    ~pd.isna(book_journal_features['DOI']) & \n",
    "    pd.isna(book_journal_features['PMID']) &\n",
    "    pd.isna(book_journal_features['PMC']) &\n",
    "    book_journal_features['citation_type'].isin(['cite book', 'cite encyclopedia'])\n",
    ")\n",
    "book_journal_features.loc[both_book_and_doi_book, ['actual_label']] = 'book'"
   ]
  },
  {
   "cell_type": "code",
   "execution_count": 14,
   "metadata": {},
   "outputs": [
    {
     "data": {
      "text/plain": [
       "(1402511, 9)"
      ]
     },
     "execution_count": 14,
     "metadata": {},
     "output_type": "execute_result"
    }
   ],
   "source": [
    "## Made the dataset which contains citations book and journal labeled\n",
    "book_journal_features = book_journal_features[book_journal_features['actual_label'].isin(['book', 'journal'])]\n",
    "book_journal_features = book_journal_features[[\n",
    "    'sections', 'citation_type', 'citation', 'id', 'ref_index',\n",
    "     'total_words', 'neighboring_tags', 'actual_label', 'neighboring_words'\n",
    "]]\n",
    "book_journal_features.shape"
   ]
  },
  {
   "cell_type": "code",
   "execution_count": 15,
   "metadata": {},
   "outputs": [
    {
     "data": {
      "text/plain": [
       "(1388908, 35)"
      ]
     },
     "execution_count": 15,
     "metadata": {},
     "output_type": "execute_result"
    }
   ],
   "source": [
    "## loading the dataset of newspapers which was generated from the citations_separated dataset\n",
    "li = []\n",
    "all_files = glob.glob('/dlabdata1/harshdee/newspapers_citations_features.csv/' + \"/*.csv\")\n",
    "\n",
    "for filename in all_files:\n",
    "    df = pd.read_csv(filename, header=None, sep='\\t')\n",
    "    li.append(df)\n",
    "\n",
    "newspaper_data = pd.concat(li, axis=0, ignore_index=True)\n",
    "newspaper_data.shape"
   ]
  },
  {
   "cell_type": "code",
   "execution_count": 16,
   "metadata": {},
   "outputs": [],
   "source": [
    "newspaper_data = newspaper_data[[0, 1, 2, 3, 4, 28, 32, 33]]\n",
    "newspaper_data.rename({\n",
    "    0: 'citation', 1: 'ref_index', 2: 'total_words',\n",
    "    3: 'neighboring_words', 4: 'neighboring_tags', \n",
    "    28: 'id', 32: 'sections', 33: 'citation_type'}, axis=1, inplace=True)\n",
    "newspaper_data['actual_label'] = 'rest'"
   ]
  },
  {
   "cell_type": "code",
   "execution_count": 17,
   "metadata": {},
   "outputs": [
    {
     "data": {
      "text/plain": [
       "(2791419, 9)"
      ]
     },
     "execution_count": 17,
     "metadata": {},
     "output_type": "execute_result"
    }
   ],
   "source": [
    "dataset_with_features = pd.concat([book_journal_features, newspaper_data])\n",
    "dataset_with_features.shape"
   ]
  },
  {
   "cell_type": "code",
   "execution_count": 18,
   "metadata": {},
   "outputs": [],
   "source": [
    "le = preprocessing.LabelEncoder()\n",
    "le.fit(dataset_with_features['actual_label'])\n",
    "dataset_with_features['label_category'] = le.transform(dataset_with_features['actual_label'])"
   ]
  },
  {
   "cell_type": "code",
   "execution_count": 19,
   "metadata": {},
   "outputs": [
    {
     "data": {
      "text/html": [
       "<div>\n",
       "<style scoped>\n",
       "    .dataframe tbody tr th:only-of-type {\n",
       "        vertical-align: middle;\n",
       "    }\n",
       "\n",
       "    .dataframe tbody tr th {\n",
       "        vertical-align: top;\n",
       "    }\n",
       "\n",
       "    .dataframe thead th {\n",
       "        text-align: right;\n",
       "    }\n",
       "</style>\n",
       "<table border=\"1\" class=\"dataframe\">\n",
       "  <thead>\n",
       "    <tr style=\"text-align: right;\">\n",
       "      <th></th>\n",
       "      <th>actual_label</th>\n",
       "      <th>citation</th>\n",
       "      <th>citation_type</th>\n",
       "      <th>id</th>\n",
       "      <th>neighboring_tags</th>\n",
       "      <th>neighboring_words</th>\n",
       "      <th>ref_index</th>\n",
       "      <th>sections</th>\n",
       "      <th>total_words</th>\n",
       "      <th>label_category</th>\n",
       "    </tr>\n",
       "  </thead>\n",
       "  <tbody>\n",
       "    <tr>\n",
       "      <th>0</th>\n",
       "      <td>rest</td>\n",
       "      <td>{{Citation | date = 10 December 2012 | url = h...</td>\n",
       "      <td>citation</td>\n",
       "      <td>469553</td>\n",
       "      <td>[CD,NN,NN,CD,NN,NN,NN,'',NNP,NNP,'',NN,NN,CD,N...</td>\n",
       "      <td>[99,issue,page,463,ref,ref,name=,'',Lovelace,G...</td>\n",
       "      <td>1427</td>\n",
       "      <td>Initial Section</td>\n",
       "      <td>2322</td>\n",
       "      <td>2</td>\n",
       "    </tr>\n",
       "    <tr>\n",
       "      <th>1</th>\n",
       "      <td>rest</td>\n",
       "      <td>{{Citation | last =  | first =  | author-link ...</td>\n",
       "      <td>citation</td>\n",
       "      <td>566081</td>\n",
       "      <td>[RB,VBD,VBN,.,NNP,VBD,PRP,MD,VB,IN,PRP,TO,NNP,...</td>\n",
       "      <td>[Keely,had,gone,.,Edey,said,he,would,speak,abo...</td>\n",
       "      <td>3926</td>\n",
       "      <td>Initial Section</td>\n",
       "      <td>8729</td>\n",
       "      <td>2</td>\n",
       "    </tr>\n",
       "    <tr>\n",
       "      <th>2</th>\n",
       "      <td>rest</td>\n",
       "      <td>{{Citation | last = ''[[The New York Times]]''...</td>\n",
       "      <td>citation</td>\n",
       "      <td>28571997</td>\n",
       "      <td>['',DT,NNP,NNP,NNP,'',NNP,RB,VBP,JJ,JJ,JJ,NN,M...</td>\n",
       "      <td>['',The,New,York,Times,'',Staff,first,author-l...</td>\n",
       "      <td>554</td>\n",
       "      <td>Initial Section</td>\n",
       "      <td>1680</td>\n",
       "      <td>2</td>\n",
       "    </tr>\n",
       "    <tr>\n",
       "      <th>3</th>\n",
       "      <td>rest</td>\n",
       "      <td>{{Citation | last = Schwartz | first = John  |...</td>\n",
       "      <td>citation</td>\n",
       "      <td>17608461</td>\n",
       "      <td>[FW,NNP,'',NN,JJ,NNP,RB,NNP,JJ,NN,:,NN,.,VBD,C...</td>\n",
       "      <td>[name=,NYT,'',Citation,last,Schwartz,first,Joh...</td>\n",
       "      <td>679</td>\n",
       "      <td>Controversies</td>\n",
       "      <td>2392</td>\n",
       "      <td>2</td>\n",
       "    </tr>\n",
       "    <tr>\n",
       "      <th>4</th>\n",
       "      <td>rest</td>\n",
       "      <td>{{Citation | title = Doctor Who recap series 3...</td>\n",
       "      <td>citation</td>\n",
       "      <td>43275595</td>\n",
       "      <td>[TO,VB,JJR,IN,PRP,MD,VB,VBN,.,'',PRP,VBD,RP,DT...</td>\n",
       "      <td>[to,be,better,than,we,might,have,expected,.,''...</td>\n",
       "      <td>2664</td>\n",
       "      <td>Initial Section</td>\n",
       "      <td>3333</td>\n",
       "      <td>2</td>\n",
       "    </tr>\n",
       "    <tr>\n",
       "      <th>5</th>\n",
       "      <td>rest</td>\n",
       "      <td>{{Citation | title = Tom Dolan, Husband of Aar...</td>\n",
       "      <td>citation</td>\n",
       "      <td>2850681</td>\n",
       "      <td>[IN,NNP,JJ,NN,NN,NNP,'',DT,NNP,NNP,'',DT,NNP,N...</td>\n",
       "      <td>[by,Brooklyn,graffiti,art,ist,BAMN,'',The,Huff...</td>\n",
       "      <td>14537</td>\n",
       "      <td>Software developments</td>\n",
       "      <td>26326</td>\n",
       "      <td>2</td>\n",
       "    </tr>\n",
       "    <tr>\n",
       "      <th>6</th>\n",
       "      <td>rest</td>\n",
       "      <td>{{Citation | url = https://www.washingtonpost....</td>\n",
       "      <td>citation</td>\n",
       "      <td>44330919</td>\n",
       "      <td>[NN,NNP,CD,NN,NNP,RB,VBD,DT,FW,NNP,'',NNP,NNP,...</td>\n",
       "      <td>[accessdate,October,2015,ref,Carson,also,told,...</td>\n",
       "      <td>11001</td>\n",
       "      <td>Political and related positions</td>\n",
       "      <td>22209</td>\n",
       "      <td>2</td>\n",
       "    </tr>\n",
       "    <tr>\n",
       "      <th>7</th>\n",
       "      <td>rest</td>\n",
       "      <td>{{Citation | url=https://www.theguardian.com/b...</td>\n",
       "      <td>citation</td>\n",
       "      <td>47896187</td>\n",
       "      <td>[VBN,RB,RB,IN,NN,IN,NN,TO,DT,NNS,NN,.,NN,NN,''...</td>\n",
       "      <td>[taken,so,far,by,government,in,reaction,to,the...</td>\n",
       "      <td>22638</td>\n",
       "      <td>Consequences</td>\n",
       "      <td>37031</td>\n",
       "      <td>2</td>\n",
       "    </tr>\n",
       "    <tr>\n",
       "      <th>8</th>\n",
       "      <td>rest</td>\n",
       "      <td>{{Citation |contribution-url=http://www.bbc.co...</td>\n",
       "      <td>citation</td>\n",
       "      <td>37669</td>\n",
       "      <td>[DT,JJ,TO,VB,VBN,IN,NNP,CC,VBD,NN,IN,JJ,JJ,NNS...</td>\n",
       "      <td>[the,first,to,be,printed,in,English,and,became...</td>\n",
       "      <td>918</td>\n",
       "      <td>Initial Section</td>\n",
       "      <td>9687</td>\n",
       "      <td>2</td>\n",
       "    </tr>\n",
       "    <tr>\n",
       "      <th>9</th>\n",
       "      <td>rest</td>\n",
       "      <td>{{Citation |first=Andrea |last=Levy |url=https...</td>\n",
       "      <td>citation</td>\n",
       "      <td>711824</td>\n",
       "      <td>[WDT,PRP,VBP,JJ,JJ,CC,JJ,NNS,.,NN,NN,'',DT,VBZ...</td>\n",
       "      <td>[which,they,negotiate,racial,cultural,and,nati...</td>\n",
       "      <td>191</td>\n",
       "      <td>Initial Section</td>\n",
       "      <td>2486</td>\n",
       "      <td>2</td>\n",
       "    </tr>\n",
       "    <tr>\n",
       "      <th>10</th>\n",
       "      <td>rest</td>\n",
       "      <td>{{Citation |url=https://www.theguardian.com/Ar...</td>\n",
       "      <td>citation</td>\n",
       "      <td>1491294</td>\n",
       "      <td>[NN,IN,PRP,.,NNP,RB,VBD,IN,NNP,VBD,DT,JJS,NN,P...</td>\n",
       "      <td>[way,for,him,.,Pel xe9,always,said,that,Zizinh...</td>\n",
       "      <td>730</td>\n",
       "      <td>Initial Section</td>\n",
       "      <td>1279</td>\n",
       "      <td>2</td>\n",
       "    </tr>\n",
       "    <tr>\n",
       "      <th>11</th>\n",
       "      <td>rest</td>\n",
       "      <td>{{Citation |year=December 7, 2017 |title=What\\...</td>\n",
       "      <td>citation</td>\n",
       "      <td>29528920</td>\n",
       "      <td>[:,JJ,NN,:,JJ,NN,NNP,CD,CD,NN,'',NNP,NNP,NNP,'...</td>\n",
       "      <td>[:,www.theguardian.com/stage/2015/nov/06/elf-t...</td>\n",
       "      <td>4432</td>\n",
       "      <td>Initial Section</td>\n",
       "      <td>5246</td>\n",
       "      <td>2</td>\n",
       "    </tr>\n",
       "    <tr>\n",
       "      <th>12</th>\n",
       "      <td>rest</td>\n",
       "      <td>{{Citation| last = Hulse| first = Carl| title ...</td>\n",
       "      <td>citation</td>\n",
       "      <td>25325879</td>\n",
       "      <td>[NNP,NN,VBG,NNP,NNP,'',NN,WDT,VBZ,NN,NN,IN,CD,...</td>\n",
       "      <td>[Pay,tax,credit Making,Work,Pay,'',program,whi...</td>\n",
       "      <td>32616</td>\n",
       "      <td>Initial Section</td>\n",
       "      <td>40972</td>\n",
       "      <td>2</td>\n",
       "    </tr>\n",
       "    <tr>\n",
       "      <th>13</th>\n",
       "      <td>rest</td>\n",
       "      <td>{{Citation| last = | first = | title = PFI Hos...</td>\n",
       "      <td>citation</td>\n",
       "      <td>176737</td>\n",
       "      <td>[NNP,NN,NNP,NN,CD,NNP,CD,JJ,NN,:,JJ,NNP,NN,NN,...</td>\n",
       "      <td>[Care' ,newspaper,BBC ,date,12,June,2007 ,url,...</td>\n",
       "      <td>8548</td>\n",
       "      <td>Initial Section</td>\n",
       "      <td>23065</td>\n",
       "      <td>2</td>\n",
       "    </tr>\n",
       "    <tr>\n",
       "      <th>14</th>\n",
       "      <td>rest</td>\n",
       "      <td>{{Citation|date=October 27, 2008|title=The Fat...</td>\n",
       "      <td>citation</td>\n",
       "      <td>38828</td>\n",
       "      <td>[NNP,NNP,NN,NNP,NNP,NNP,DT,NNP,NNP,NNP,NN,CD,J...</td>\n",
       "      <td>[London,UK,publisher,John,Murray,Publishers,An...</td>\n",
       "      <td>2353</td>\n",
       "      <td>Initial Section</td>\n",
       "      <td>25760</td>\n",
       "      <td>2</td>\n",
       "    </tr>\n",
       "    <tr>\n",
       "      <th>15</th>\n",
       "      <td>rest</td>\n",
       "      <td>{{Citation|last= |first= |date=4 January 2007|...</td>\n",
       "      <td>citation</td>\n",
       "      <td>19023488</td>\n",
       "      <td>[NNP,JJ,NNP,RB,NNP,.,NNP,NN,NNP,CD,NN,NNP,NN,V...</td>\n",
       "      <td>[Citation,last,Kalam,first,A.P.J,.,Abdul,date,...</td>\n",
       "      <td>9611</td>\n",
       "      <td>See also</td>\n",
       "      <td>10457</td>\n",
       "      <td>2</td>\n",
       "    </tr>\n",
       "    <tr>\n",
       "      <th>16</th>\n",
       "      <td>rest</td>\n",
       "      <td>{{Citation|last=''[[The New York Times]]'' Sta...</td>\n",
       "      <td>citation</td>\n",
       "      <td>28403106</td>\n",
       "      <td>[PRP$,NN,IN,PRP$,NN,TO,NNP,VBD,RB,JJ,'',.,VB,J...</td>\n",
       "      <td>[its,story,of,his,marriage,to,Moffitt,was,abso...</td>\n",
       "      <td>2492</td>\n",
       "      <td>Initial Section</td>\n",
       "      <td>4041</td>\n",
       "      <td>2</td>\n",
       "    </tr>\n",
       "    <tr>\n",
       "      <th>17</th>\n",
       "      <td>rest</td>\n",
       "      <td>{{Citation|last=Gelb|first=Arthur|title=Theatr...</td>\n",
       "      <td>citation</td>\n",
       "      <td>6020291</td>\n",
       "      <td>[NNP,CD,CD,NN,NNP,NNP,VBD,NNP,NNP,CC,NNP,IN,NN...</td>\n",
       "      <td>[March,31,1917,title,Wedekind,Play,Abused,Poor...</td>\n",
       "      <td>2659</td>\n",
       "      <td>Initial Section</td>\n",
       "      <td>3227</td>\n",
       "      <td>2</td>\n",
       "    </tr>\n",
       "    <tr>\n",
       "      <th>18</th>\n",
       "      <td>rest</td>\n",
       "      <td>{{Citation|last=Joffe|first=Lawrence|title=Obi...</td>\n",
       "      <td>citation</td>\n",
       "      <td>18938099</td>\n",
       "      <td>[DT,NNP,NNP,NNP,NNP,NNP,NNP,NN,:,JJ,NNP,IN,CD,...</td>\n",
       "      <td>[The,New,York,Times,Book,Review,Desk,http,:,ww...</td>\n",
       "      <td>5287</td>\n",
       "      <td>Initial Section</td>\n",
       "      <td>33504</td>\n",
       "      <td>2</td>\n",
       "    </tr>\n",
       "    <tr>\n",
       "      <th>19</th>\n",
       "      <td>rest</td>\n",
       "      <td>{{Citation|title = New group replaces al-Muhaj...</td>\n",
       "      <td>citation</td>\n",
       "      <td>902667</td>\n",
       "      <td>[NNP,NN,NNP,NNP,NN,NNP,DT,VBN,NN,NN,TO,NN,.,NN...</td>\n",
       "      <td>[Jamaah,organisation,Ahlus,Sunnah,wal,Jamaah,t...</td>\n",
       "      <td>3161</td>\n",
       "      <td>Initial Section</td>\n",
       "      <td>11252</td>\n",
       "      <td>2</td>\n",
       "    </tr>\n",
       "    <tr>\n",
       "      <th>20</th>\n",
       "      <td>rest</td>\n",
       "      <td>{{Citation|title=Miss USA says 'American' is h...</td>\n",
       "      <td>citation</td>\n",
       "      <td>19892857</td>\n",
       "      <td>[JJ,CC,JJ,NN,VBD,DT,NN,IN,JJ,NN,.,IN,DT,NN,IN,...</td>\n",
       "      <td>[religious,and,ethnic,identity,became,the,subj...</td>\n",
       "      <td>2274</td>\n",
       "      <td>Initial Section</td>\n",
       "      <td>3768</td>\n",
       "      <td>2</td>\n",
       "    </tr>\n",
       "    <tr>\n",
       "      <th>21</th>\n",
       "      <td>rest</td>\n",
       "      <td>{{Citation|url = http://www.bbc.co.uk/manchest...</td>\n",
       "      <td>citation</td>\n",
       "      <td>6191137</td>\n",
       "      <td>[TO,JJ,NN,NN,.,PRP,VBD,VBN,CC,VBN,IN,NN,NN,.,N...</td>\n",
       "      <td>[to,chemical,waste,tip,.,It,was,reclaimed,and,...</td>\n",
       "      <td>2185</td>\n",
       "      <td>Culture and community</td>\n",
       "      <td>3806</td>\n",
       "      <td>2</td>\n",
       "    </tr>\n",
       "    <tr>\n",
       "      <th>22</th>\n",
       "      <td>rest</td>\n",
       "      <td>{{Citation|url=https://timesmachine.nytimes.co...</td>\n",
       "      <td>citation</td>\n",
       "      <td>5807102</td>\n",
       "      <td>[NN,IN,NN,CC,NN,MD,VB,JJ,IN,NN,IN,NNS,IN,VBN,N...</td>\n",
       "      <td>[maintenance,of,law,and,order,will,permit,susc...</td>\n",
       "      <td>7847</td>\n",
       "      <td>Initial Section</td>\n",
       "      <td>19080</td>\n",
       "      <td>2</td>\n",
       "    </tr>\n",
       "    <tr>\n",
       "      <th>23</th>\n",
       "      <td>rest</td>\n",
       "      <td>{{Citation|url=https://www.nytimes.com/2009/01...</td>\n",
       "      <td>citation</td>\n",
       "      <td>545800</td>\n",
       "      <td>[VBG,VBP,NN,CC,VBD,DT,JJS,NN,IN,DT,NN,.,'',NN,...</td>\n",
       "      <td>[saying,am,director,and,had,the,greatest,actor...</td>\n",
       "      <td>1633</td>\n",
       "      <td>Initial Section</td>\n",
       "      <td>10568</td>\n",
       "      <td>2</td>\n",
       "    </tr>\n",
       "    <tr>\n",
       "      <th>24</th>\n",
       "      <td>rest</td>\n",
       "      <td>{{Citation|year=2013|title=The Committee Meeti...</td>\n",
       "      <td>citation</td>\n",
       "      <td>35527583</td>\n",
       "      <td>[NNP,NNP,POS,NNP,NNP,'',NN,IN,NN,NN,NNS,JJ,RB,...</td>\n",
       "      <td>[BBC,Three,'s,Comedy,Feeds,'',series,of,comedy...</td>\n",
       "      <td>2106</td>\n",
       "      <td>Initial Section</td>\n",
       "      <td>3048</td>\n",
       "      <td>2</td>\n",
       "    </tr>\n",
       "    <tr>\n",
       "      <th>25</th>\n",
       "      <td>rest</td>\n",
       "      <td>{{Cite AV media|publisher=BBC|work=Last words|...</td>\n",
       "      <td>cite av media</td>\n",
       "      <td>189930</td>\n",
       "      <td>[NNP,CD,NN,NNP,NNP,:,IN,NN,NN,TO,VB,IN,NNP,JJ,...</td>\n",
       "      <td>[May,2014,title,Omar,Sharif,:,from,desert,prin...</td>\n",
       "      <td>1162</td>\n",
       "      <td>Initial Section</td>\n",
       "      <td>16540</td>\n",
       "      <td>2</td>\n",
       "    </tr>\n",
       "    <tr>\n",
       "      <th>26</th>\n",
       "      <td>rest</td>\n",
       "      <td>{{Cite book | title=Iran elections: mass arres...</td>\n",
       "      <td>cite book</td>\n",
       "      <td>45622</td>\n",
       "      <td>[IN,NN,MD,VB,JJ,'',.,VB,JJ,NNP,NN,NN,NNS,:,NN,...</td>\n",
       "      <td>[in,detention,could,be,life-threatening,'',.,r...</td>\n",
       "      <td>4568</td>\n",
       "      <td>Initial Section</td>\n",
       "      <td>6091</td>\n",
       "      <td>2</td>\n",
       "    </tr>\n",
       "    <tr>\n",
       "      <th>27</th>\n",
       "      <td>rest</td>\n",
       "      <td>{{Cite book|title=SKIN DEEP: Dying to be white...</td>\n",
       "      <td>cite book</td>\n",
       "      <td>344287</td>\n",
       "      <td>[DT,VBN,NN,.,NN,NN,'',NNP,NNP,:,VBG,TO,VB,JJ,'...</td>\n",
       "      <td>[the,recommended,dose,.,ref,name=,'',SKIN,DEEP...</td>\n",
       "      <td>11851</td>\n",
       "      <td>Initial Section</td>\n",
       "      <td>12547</td>\n",
       "      <td>2</td>\n",
       "    </tr>\n",
       "    <tr>\n",
       "      <th>28</th>\n",
       "      <td>rest</td>\n",
       "      <td>{{Cite book|title=[[The Discontinuity Guide]] ...</td>\n",
       "      <td>cite book</td>\n",
       "      <td>1801433</td>\n",
       "      <td>[VBP,NN,WP,NNP,NN,NNP,CD,NNP,NN,NN,NNP,WIKICOD...</td>\n",
       "      <td>[type=date, website=Doctor,Who,News, accessdat...</td>\n",
       "      <td>2970</td>\n",
       "      <td>Bibliography</td>\n",
       "      <td>3249</td>\n",
       "      <td>2</td>\n",
       "    </tr>\n",
       "    <tr>\n",
       "      <th>29</th>\n",
       "      <td>rest</td>\n",
       "      <td>{{Cite episode |title= Clare Balding |series= ...</td>\n",
       "      <td>cite episode</td>\n",
       "      <td>2618680</td>\n",
       "      <td>[NN,NN,'',NNP,'',NNP,NN,NNP,NNP,NNP,NNP,NNP,NN...</td>\n",
       "      <td>[ref,name=,'',BBC-b03jyf6p,'',Cite,episode, ti...</td>\n",
       "      <td>181</td>\n",
       "      <td>Initial Section</td>\n",
       "      <td>5006</td>\n",
       "      <td>2</td>\n",
       "    </tr>\n",
       "    <tr>\n",
       "      <th>...</th>\n",
       "      <td>...</td>\n",
       "      <td>...</td>\n",
       "      <td>...</td>\n",
       "      <td>...</td>\n",
       "      <td>...</td>\n",
       "      <td>...</td>\n",
       "      <td>...</td>\n",
       "      <td>...</td>\n",
       "      <td>...</td>\n",
       "      <td>...</td>\n",
       "    </tr>\n",
       "    <tr>\n",
       "      <th>1388878</th>\n",
       "      <td>rest</td>\n",
       "      <td>{{cite web|url=https://www.washingtonpost.com/...</td>\n",
       "      <td>cite web</td>\n",
       "      <td>16201960</td>\n",
       "      <td>[NNS,IN,PRP,VBP,JJ,JJ,NNS,CC,NNS,.,'',NN,NN,''...</td>\n",
       "      <td>[countries,because,they,are,unquestionably,ter...</td>\n",
       "      <td>3859</td>\n",
       "      <td>Initial Section</td>\n",
       "      <td>4682</td>\n",
       "      <td>2</td>\n",
       "    </tr>\n",
       "    <tr>\n",
       "      <th>1388879</th>\n",
       "      <td>rest</td>\n",
       "      <td>{{cite web|url=https://www.washingtonpost.com/...</td>\n",
       "      <td>cite web</td>\n",
       "      <td>20663510</td>\n",
       "      <td>[CD,IN,DT,JJ,NN,IN,CD,.,NNP,NNP,NN,IN,NNP,POS,...</td>\n",
       "      <td>[16.4,during,the,comparable,period,in,2017,.,K...</td>\n",
       "      <td>2700</td>\n",
       "      <td>Initial Section</td>\n",
       "      <td>6226</td>\n",
       "      <td>2</td>\n",
       "    </tr>\n",
       "    <tr>\n",
       "      <th>1388880</th>\n",
       "      <td>rest</td>\n",
       "      <td>{{cite web|url=https://www.washingtonpost.com/...</td>\n",
       "      <td>cite web</td>\n",
       "      <td>53418222</td>\n",
       "      <td>[NNP,NNP,NNP,NNP,NN,NN,JJ,WIKICODE,NN,NN,JJ,NN...</td>\n",
       "      <td>[Chicago,Law,School publisher=,/ref,ref,name,u...</td>\n",
       "      <td>150</td>\n",
       "      <td>Initial Section</td>\n",
       "      <td>485</td>\n",
       "      <td>2</td>\n",
       "    </tr>\n",
       "    <tr>\n",
       "      <th>1388881</th>\n",
       "      <td>rest</td>\n",
       "      <td>{{cite web|url=https://www.washingtonpost.com/...</td>\n",
       "      <td>cite web</td>\n",
       "      <td>3963024</td>\n",
       "      <td>[VB,DT,NNS,WDT,VBP,NNS,IN,NN,NN,IN,IN,CD,NN,IN...</td>\n",
       "      <td>[cap,the,expenses,that,household,spends,on,chi...</td>\n",
       "      <td>7524</td>\n",
       "      <td>Economic policy</td>\n",
       "      <td>62044</td>\n",
       "      <td>2</td>\n",
       "    </tr>\n",
       "    <tr>\n",
       "      <th>1388882</th>\n",
       "      <td>rest</td>\n",
       "      <td>{{cite web|url=https://www.washingtonpost.com/...</td>\n",
       "      <td>cite web</td>\n",
       "      <td>530784</td>\n",
       "      <td>[JJ,NN,NNP,VBZ,PRP,NNP,NN,NNP,NNP,NN,NNP,CD,CD...</td>\n",
       "      <td>[money.cnn.com/2017/07/14/media/charles-krauth...</td>\n",
       "      <td>7846</td>\n",
       "      <td>Initial Section</td>\n",
       "      <td>10784</td>\n",
       "      <td>2</td>\n",
       "    </tr>\n",
       "    <tr>\n",
       "      <th>1388883</th>\n",
       "      <td>rest</td>\n",
       "      <td>{{cite web|url=https://www.washingtonpost.com/...</td>\n",
       "      <td>cite web</td>\n",
       "      <td>46465432</td>\n",
       "      <td>[PRP,VBD,DT,JJ,NNP,IN,NNP,NNP,CC,NNP,NNP,IN,NN...</td>\n",
       "      <td>[he,was,an,All-State,Athlete,in,Football,Wrest...</td>\n",
       "      <td>118</td>\n",
       "      <td>Initial Section</td>\n",
       "      <td>767</td>\n",
       "      <td>2</td>\n",
       "    </tr>\n",
       "    <tr>\n",
       "      <th>1388884</th>\n",
       "      <td>rest</td>\n",
       "      <td>{{cite web|url=https://www.washingtonpost.com/...</td>\n",
       "      <td>cite web</td>\n",
       "      <td>899044</td>\n",
       "      <td>[NNS,VBD,IN,PRP,VBD,RB,VBG,RB,.,PRP,RB,VBP,IN,...</td>\n",
       "      <td>[peshmerga,stressed,that,they,were,not,receivi...</td>\n",
       "      <td>5121</td>\n",
       "      <td>Structure</td>\n",
       "      <td>6578</td>\n",
       "      <td>2</td>\n",
       "    </tr>\n",
       "    <tr>\n",
       "      <th>1388885</th>\n",
       "      <td>rest</td>\n",
       "      <td>{{cite web|url=https://www.washingtonpost.com/...</td>\n",
       "      <td>cite web</td>\n",
       "      <td>48980006</td>\n",
       "      <td>[DT,NNP,NNPS,VBD,CD,NN,NNS,IN,NNP,VBG,DT,VBN,C...</td>\n",
       "      <td>[the,United,States,conducted,580 000,bombing,r...</td>\n",
       "      <td>40887</td>\n",
       "      <td>Initial Section</td>\n",
       "      <td>62361</td>\n",
       "      <td>2</td>\n",
       "    </tr>\n",
       "    <tr>\n",
       "      <th>1388886</th>\n",
       "      <td>rest</td>\n",
       "      <td>{{cite web|url=https://www.washingtonpost.com/...</td>\n",
       "      <td>cite web</td>\n",
       "      <td>51024498</td>\n",
       "      <td>[NN,NN,CC,NNP,NNP,NNP,NN,WIKICODE,NN,NN,JJ,NN,...</td>\n",
       "      <td>[publisher,ref,and,Transpoll,Offline,UK,ref,{{...</td>\n",
       "      <td>424</td>\n",
       "      <td>Initial Section</td>\n",
       "      <td>744</td>\n",
       "      <td>2</td>\n",
       "    </tr>\n",
       "    <tr>\n",
       "      <th>1388887</th>\n",
       "      <td>rest</td>\n",
       "      <td>{{cite web|url=https://www.washingtonpost.com/...</td>\n",
       "      <td>cite web</td>\n",
       "      <td>13235245</td>\n",
       "      <td>[NNP,CD,NN,'',NNP,'',NNP,NN,NN,:,JJ,NN,:,NN,WI...</td>\n",
       "      <td>[October,2007,ref,'',Newsweek,'',Newsweek,ref,...</td>\n",
       "      <td>941</td>\n",
       "      <td>Initial Section</td>\n",
       "      <td>1556</td>\n",
       "      <td>2</td>\n",
       "    </tr>\n",
       "    <tr>\n",
       "      <th>1388888</th>\n",
       "      <td>rest</td>\n",
       "      <td>{{cite web|url=https://www.washingtonpost.com/...</td>\n",
       "      <td>cite web</td>\n",
       "      <td>11310467</td>\n",
       "      <td>[IN,DT,JJ,'',NN,IN,DT,NNS,VBP,VBG,PRP,RB,JJ,NN...</td>\n",
       "      <td>[as,an,ugly,'',performance,by,both,teams,offen...</td>\n",
       "      <td>7225</td>\n",
       "      <td>Initial Section</td>\n",
       "      <td>7644</td>\n",
       "      <td>2</td>\n",
       "    </tr>\n",
       "    <tr>\n",
       "      <th>1388889</th>\n",
       "      <td>rest</td>\n",
       "      <td>{{cite web|url=https://www.washingtonpost.com/...</td>\n",
       "      <td>cite web</td>\n",
       "      <td>57182751</td>\n",
       "      <td>[NNS,VBP,VBN,NNS,IN,JJ,JJ,NNS,.,'',JJ,NN,'',NN...</td>\n",
       "      <td>[films,have,been,documentaries,on,relevant,soc...</td>\n",
       "      <td>294</td>\n",
       "      <td>Initial Section</td>\n",
       "      <td>754</td>\n",
       "      <td>2</td>\n",
       "    </tr>\n",
       "    <tr>\n",
       "      <th>1388890</th>\n",
       "      <td>rest</td>\n",
       "      <td>{{cite web|url=https://www.washingtonpost.com/...</td>\n",
       "      <td>cite web</td>\n",
       "      <td>12151036</td>\n",
       "      <td>[NNS,PRP,VBD,RB,WRB,DT,NN,IN,NNP,VBD,VBG,RB,IN...</td>\n",
       "      <td>[hunters,he,showed,vividly,how,the,search,for,...</td>\n",
       "      <td>2031</td>\n",
       "      <td>Initial Section</td>\n",
       "      <td>6568</td>\n",
       "      <td>2</td>\n",
       "    </tr>\n",
       "    <tr>\n",
       "      <th>1388891</th>\n",
       "      <td>rest</td>\n",
       "      <td>{{cite web|url=https://www.washingtonpost.com/...</td>\n",
       "      <td>cite web</td>\n",
       "      <td>25617006</td>\n",
       "      <td>[NNP,NNP,NN,NNP,NNP,NNP,CD,NNP,NN,NN,'',NNP,NN...</td>\n",
       "      <td>[ u039c u03b9 u03c7 u03ac u03bb u03b7 u03c2, u...</td>\n",
       "      <td>10142</td>\n",
       "      <td>Initial Section</td>\n",
       "      <td>17792</td>\n",
       "      <td>2</td>\n",
       "    </tr>\n",
       "    <tr>\n",
       "      <th>1388892</th>\n",
       "      <td>rest</td>\n",
       "      <td>{{cite web|url=https://www.washingtonpost.com/...</td>\n",
       "      <td>cite web</td>\n",
       "      <td>780921</td>\n",
       "      <td>[IN,NNP,NNP,POS,NNP,NNP,'',DT,NNP,NNP,NNP,CD,N...</td>\n",
       "      <td>[On,Contra,Aid,''The,Philadelphia,Inquirer,'',...</td>\n",
       "      <td>593</td>\n",
       "      <td>Initial Section</td>\n",
       "      <td>1344</td>\n",
       "      <td>2</td>\n",
       "    </tr>\n",
       "    <tr>\n",
       "      <th>1388893</th>\n",
       "      <td>rest</td>\n",
       "      <td>{{cite web|website=The Guardian|title=The Inte...</td>\n",
       "      <td>cite web</td>\n",
       "      <td>44041035</td>\n",
       "      <td>[VBD,PRP$,NN,TO,VB,TO,DT,NNP,NN,.,DT,VBD,TO,VB...</td>\n",
       "      <td>[Tweeted,their,photo,to,complain,to,the,Pycon,...</td>\n",
       "      <td>5345</td>\n",
       "      <td>Incidents</td>\n",
       "      <td>7546</td>\n",
       "      <td>2</td>\n",
       "    </tr>\n",
       "    <tr>\n",
       "      <th>1388894</th>\n",
       "      <td>rest</td>\n",
       "      <td>{{cite web|work = New York Times |title = Lond...</td>\n",
       "      <td>cite web</td>\n",
       "      <td>50106560</td>\n",
       "      <td>[NNP,NNP,VBZ,DT,NNP,NNP,NNP,NNP,NNP,NNP,IN,NNP...</td>\n",
       "      <td>[Vivant,Journal,title,The,Hoxton,Hotel,Cool,Hi...</td>\n",
       "      <td>455</td>\n",
       "      <td>Initial Section</td>\n",
       "      <td>1079</td>\n",
       "      <td>2</td>\n",
       "    </tr>\n",
       "    <tr>\n",
       "      <th>1388895</th>\n",
       "      <td>rest</td>\n",
       "      <td>{{cite web|work=BBC|title=Williams comeback st...</td>\n",
       "      <td>cite web</td>\n",
       "      <td>39214449</td>\n",
       "      <td>[IN,DT,JJ,NN,NNP,RB,RB,VBD,IN,DT,NN,IN,DT,JJ,N...</td>\n",
       "      <td>[In,the,final,set,Sharapova,once,again,served,...</td>\n",
       "      <td>2760</td>\n",
       "      <td>Initial Section</td>\n",
       "      <td>9787</td>\n",
       "      <td>2</td>\n",
       "    </tr>\n",
       "    <tr>\n",
       "      <th>1388896</th>\n",
       "      <td>rest</td>\n",
       "      <td>{{cite web|work=The Guardian|location=London|u...</td>\n",
       "      <td>cite web</td>\n",
       "      <td>77738</td>\n",
       "      <td>[NNP,'',NN,NN,NNP,PRP,RB,VBD,IN,PRP,VBD,VBN,VB...</td>\n",
       "      <td>[Lizzy,'',ref,name,Lizzy,She,also,revealed,tha...</td>\n",
       "      <td>4437</td>\n",
       "      <td>Initial Section</td>\n",
       "      <td>10031</td>\n",
       "      <td>2</td>\n",
       "    </tr>\n",
       "    <tr>\n",
       "      <th>1388897</th>\n",
       "      <td>rest</td>\n",
       "      <td>{{cite web|work=The Guardian|title=BBCPO/Lai|a...</td>\n",
       "      <td>cite web</td>\n",
       "      <td>1943819</td>\n",
       "      <td>[NN,VBD,JJ,NN,IN,DT,NN,.,IN,CD,JJ,JJ,NN,IN,NNP...</td>\n",
       "      <td>[series,featured,modified,arrangement,of,this,...</td>\n",
       "      <td>3301</td>\n",
       "      <td>Initial Section</td>\n",
       "      <td>5157</td>\n",
       "      <td>2</td>\n",
       "    </tr>\n",
       "    <tr>\n",
       "      <th>1388898</th>\n",
       "      <td>rest</td>\n",
       "      <td>{{cite web|work=[[CNN]]|url=http://www.cnn.com...</td>\n",
       "      <td>cite web</td>\n",
       "      <td>468353</td>\n",
       "      <td>[NN,VBG,JJ,NN,CC,NNP,VBP,NN,NNP,NN,NN,JJ,NN,CC...</td>\n",
       "      <td>[use,including,inhalant,marijuana,and,Alcohol,...</td>\n",
       "      <td>430</td>\n",
       "      <td>Initial Section</td>\n",
       "      <td>6808</td>\n",
       "      <td>2</td>\n",
       "    </tr>\n",
       "    <tr>\n",
       "      <th>1388899</th>\n",
       "      <td>rest</td>\n",
       "      <td>{{cite web|work=[[The New York Times]]|date=Ja...</td>\n",
       "      <td>cite web</td>\n",
       "      <td>54464985</td>\n",
       "      <td>[NNP,NNP,NN,NNP,CD,CD,JJ,NN,:,JJ,NN,:,JJ,NN,NN...</td>\n",
       "      <td>[Economic,Review,date,May,31,1993,url,https,:,...</td>\n",
       "      <td>4249</td>\n",
       "      <td>Initial Section</td>\n",
       "      <td>5082</td>\n",
       "      <td>2</td>\n",
       "    </tr>\n",
       "    <tr>\n",
       "      <th>1388900</th>\n",
       "      <td>rest</td>\n",
       "      <td>{{cite web|work=[[The New York Times]]|title=A...</td>\n",
       "      <td>cite web</td>\n",
       "      <td>12326268</td>\n",
       "      <td>[PDT,DT,NNP,NNP,NNP,VBZ,CD,NNP,NN,VBN,IN,NNP,N...</td>\n",
       "      <td>[All,the,Fine,Young,Cannibals,is,1960,American...</td>\n",
       "      <td>228</td>\n",
       "      <td>Initial Section</td>\n",
       "      <td>854</td>\n",
       "      <td>2</td>\n",
       "    </tr>\n",
       "    <tr>\n",
       "      <th>1388901</th>\n",
       "      <td>rest</td>\n",
       "      <td>{{cite web|work=[[The New York Times]]|title=S...</td>\n",
       "      <td>cite web</td>\n",
       "      <td>34350197</td>\n",
       "      <td>[CC,NNP,NNP,.,NN,JJ,NN,VBD,DT,NNP,NNP,NNP,RB,N...</td>\n",
       "      <td>[and,Jimmy,Durante,.,ref,name=NYT,cite,web wor...</td>\n",
       "      <td>148</td>\n",
       "      <td>Initial Section</td>\n",
       "      <td>361</td>\n",
       "      <td>2</td>\n",
       "    </tr>\n",
       "    <tr>\n",
       "      <th>1388902</th>\n",
       "      <td>rest</td>\n",
       "      <td>{{cite web|work=[[The New York Times]]|url=htt...</td>\n",
       "      <td>cite web</td>\n",
       "      <td>44331450</td>\n",
       "      <td>[NNPS,NN,NNP,NN,NNP,NN,NN,NNP,NNP,VBZ,CD,NN,JJ...</td>\n",
       "      <td>[States,language,English,genre,Memoir,autobiog...</td>\n",
       "      <td>83</td>\n",
       "      <td>Initial Section</td>\n",
       "      <td>1945</td>\n",
       "      <td>2</td>\n",
       "    </tr>\n",
       "    <tr>\n",
       "      <th>1388903</th>\n",
       "      <td>rest</td>\n",
       "      <td>{{cite web|work=[[The New York Times]]|url=htt...</td>\n",
       "      <td>cite web</td>\n",
       "      <td>414384</td>\n",
       "      <td>[DT,NNP,NNP,NNP,NNP,:,NN,.,NN,VBD,PRP,CD,NNP,N...</td>\n",
       "      <td>[The,New,York,Times, url=https,:,www.nytimes.c...</td>\n",
       "      <td>229</td>\n",
       "      <td>Initial Section</td>\n",
       "      <td>871</td>\n",
       "      <td>2</td>\n",
       "    </tr>\n",
       "    <tr>\n",
       "      <th>1388904</th>\n",
       "      <td>rest</td>\n",
       "      <td>{{cite web|work=[[The New York Times]]|url=htt...</td>\n",
       "      <td>cite web</td>\n",
       "      <td>3683908</td>\n",
       "      <td>[DT,NNP,NNP,NNP,NNP,:,NN,.,NN,VBD,PRP,CD,NNP,N...</td>\n",
       "      <td>[The,New,York,Times, url=https,:,www.nytimes.c...</td>\n",
       "      <td>229</td>\n",
       "      <td>Initial Section</td>\n",
       "      <td>871</td>\n",
       "      <td>2</td>\n",
       "    </tr>\n",
       "    <tr>\n",
       "      <th>1388905</th>\n",
       "      <td>rest</td>\n",
       "      <td>{{cite web|work=[[The New York Times]]|url=htt...</td>\n",
       "      <td>cite web</td>\n",
       "      <td>414384</td>\n",
       "      <td>[DT,NNP,NNP,NNP,NNP,:,NN,.,NN,VBD,PRP,CD,NNP,N...</td>\n",
       "      <td>[The,New,York,Times, url=https,:,www.nytimes.c...</td>\n",
       "      <td>1253</td>\n",
       "      <td>Initial Section</td>\n",
       "      <td>6675</td>\n",
       "      <td>2</td>\n",
       "    </tr>\n",
       "    <tr>\n",
       "      <th>1388906</th>\n",
       "      <td>rest</td>\n",
       "      <td>{{cite web|work=[[The New York Times]]|url=htt...</td>\n",
       "      <td>cite web</td>\n",
       "      <td>3683908</td>\n",
       "      <td>[DT,NNP,NNP,NNP,NNP,:,NN,.,NN,VBD,PRP,CD,NNP,N...</td>\n",
       "      <td>[The,New,York,Times, url=https,:,www.nytimes.c...</td>\n",
       "      <td>1253</td>\n",
       "      <td>Initial Section</td>\n",
       "      <td>6675</td>\n",
       "      <td>2</td>\n",
       "    </tr>\n",
       "    <tr>\n",
       "      <th>1388907</th>\n",
       "      <td>rest</td>\n",
       "      <td>{{cite web|work=[[The New York Times]]|url=htt...</td>\n",
       "      <td>cite web</td>\n",
       "      <td>535353</td>\n",
       "      <td>[NN,NN,VBD,JJ,JJ,NN,NN,NN,NN,NN,VBD,CD,CD,JJ,N...</td>\n",
       "      <td>[lpg=PA226,dq=lois+hamilton+suicide,source=bl,...</td>\n",
       "      <td>148</td>\n",
       "      <td>Initial Section</td>\n",
       "      <td>2335</td>\n",
       "      <td>2</td>\n",
       "    </tr>\n",
       "  </tbody>\n",
       "</table>\n",
       "<p>1388908 rows × 10 columns</p>\n",
       "</div>"
      ],
      "text/plain": [
       "        actual_label                                           citation  \\\n",
       "0               rest  {{Citation | date = 10 December 2012 | url = h...   \n",
       "1               rest  {{Citation | last =  | first =  | author-link ...   \n",
       "2               rest  {{Citation | last = ''[[The New York Times]]''...   \n",
       "3               rest  {{Citation | last = Schwartz | first = John  |...   \n",
       "4               rest  {{Citation | title = Doctor Who recap series 3...   \n",
       "5               rest  {{Citation | title = Tom Dolan, Husband of Aar...   \n",
       "6               rest  {{Citation | url = https://www.washingtonpost....   \n",
       "7               rest  {{Citation | url=https://www.theguardian.com/b...   \n",
       "8               rest  {{Citation |contribution-url=http://www.bbc.co...   \n",
       "9               rest  {{Citation |first=Andrea |last=Levy |url=https...   \n",
       "10              rest  {{Citation |url=https://www.theguardian.com/Ar...   \n",
       "11              rest  {{Citation |year=December 7, 2017 |title=What\\...   \n",
       "12              rest  {{Citation| last = Hulse| first = Carl| title ...   \n",
       "13              rest  {{Citation| last = | first = | title = PFI Hos...   \n",
       "14              rest  {{Citation|date=October 27, 2008|title=The Fat...   \n",
       "15              rest  {{Citation|last= |first= |date=4 January 2007|...   \n",
       "16              rest  {{Citation|last=''[[The New York Times]]'' Sta...   \n",
       "17              rest  {{Citation|last=Gelb|first=Arthur|title=Theatr...   \n",
       "18              rest  {{Citation|last=Joffe|first=Lawrence|title=Obi...   \n",
       "19              rest  {{Citation|title = New group replaces al-Muhaj...   \n",
       "20              rest  {{Citation|title=Miss USA says 'American' is h...   \n",
       "21              rest  {{Citation|url = http://www.bbc.co.uk/manchest...   \n",
       "22              rest  {{Citation|url=https://timesmachine.nytimes.co...   \n",
       "23              rest  {{Citation|url=https://www.nytimes.com/2009/01...   \n",
       "24              rest  {{Citation|year=2013|title=The Committee Meeti...   \n",
       "25              rest  {{Cite AV media|publisher=BBC|work=Last words|...   \n",
       "26              rest  {{Cite book | title=Iran elections: mass arres...   \n",
       "27              rest  {{Cite book|title=SKIN DEEP: Dying to be white...   \n",
       "28              rest  {{Cite book|title=[[The Discontinuity Guide]] ...   \n",
       "29              rest  {{Cite episode |title= Clare Balding |series= ...   \n",
       "...              ...                                                ...   \n",
       "1388878         rest  {{cite web|url=https://www.washingtonpost.com/...   \n",
       "1388879         rest  {{cite web|url=https://www.washingtonpost.com/...   \n",
       "1388880         rest  {{cite web|url=https://www.washingtonpost.com/...   \n",
       "1388881         rest  {{cite web|url=https://www.washingtonpost.com/...   \n",
       "1388882         rest  {{cite web|url=https://www.washingtonpost.com/...   \n",
       "1388883         rest  {{cite web|url=https://www.washingtonpost.com/...   \n",
       "1388884         rest  {{cite web|url=https://www.washingtonpost.com/...   \n",
       "1388885         rest  {{cite web|url=https://www.washingtonpost.com/...   \n",
       "1388886         rest  {{cite web|url=https://www.washingtonpost.com/...   \n",
       "1388887         rest  {{cite web|url=https://www.washingtonpost.com/...   \n",
       "1388888         rest  {{cite web|url=https://www.washingtonpost.com/...   \n",
       "1388889         rest  {{cite web|url=https://www.washingtonpost.com/...   \n",
       "1388890         rest  {{cite web|url=https://www.washingtonpost.com/...   \n",
       "1388891         rest  {{cite web|url=https://www.washingtonpost.com/...   \n",
       "1388892         rest  {{cite web|url=https://www.washingtonpost.com/...   \n",
       "1388893         rest  {{cite web|website=The Guardian|title=The Inte...   \n",
       "1388894         rest  {{cite web|work = New York Times |title = Lond...   \n",
       "1388895         rest  {{cite web|work=BBC|title=Williams comeback st...   \n",
       "1388896         rest  {{cite web|work=The Guardian|location=London|u...   \n",
       "1388897         rest  {{cite web|work=The Guardian|title=BBCPO/Lai|a...   \n",
       "1388898         rest  {{cite web|work=[[CNN]]|url=http://www.cnn.com...   \n",
       "1388899         rest  {{cite web|work=[[The New York Times]]|date=Ja...   \n",
       "1388900         rest  {{cite web|work=[[The New York Times]]|title=A...   \n",
       "1388901         rest  {{cite web|work=[[The New York Times]]|title=S...   \n",
       "1388902         rest  {{cite web|work=[[The New York Times]]|url=htt...   \n",
       "1388903         rest  {{cite web|work=[[The New York Times]]|url=htt...   \n",
       "1388904         rest  {{cite web|work=[[The New York Times]]|url=htt...   \n",
       "1388905         rest  {{cite web|work=[[The New York Times]]|url=htt...   \n",
       "1388906         rest  {{cite web|work=[[The New York Times]]|url=htt...   \n",
       "1388907         rest  {{cite web|work=[[The New York Times]]|url=htt...   \n",
       "\n",
       "         citation_type        id  \\\n",
       "0             citation    469553   \n",
       "1             citation    566081   \n",
       "2             citation  28571997   \n",
       "3             citation  17608461   \n",
       "4             citation  43275595   \n",
       "5             citation   2850681   \n",
       "6             citation  44330919   \n",
       "7             citation  47896187   \n",
       "8             citation     37669   \n",
       "9             citation    711824   \n",
       "10            citation   1491294   \n",
       "11            citation  29528920   \n",
       "12            citation  25325879   \n",
       "13            citation    176737   \n",
       "14            citation     38828   \n",
       "15            citation  19023488   \n",
       "16            citation  28403106   \n",
       "17            citation   6020291   \n",
       "18            citation  18938099   \n",
       "19            citation    902667   \n",
       "20            citation  19892857   \n",
       "21            citation   6191137   \n",
       "22            citation   5807102   \n",
       "23            citation    545800   \n",
       "24            citation  35527583   \n",
       "25       cite av media    189930   \n",
       "26           cite book     45622   \n",
       "27           cite book    344287   \n",
       "28           cite book   1801433   \n",
       "29        cite episode   2618680   \n",
       "...                ...       ...   \n",
       "1388878       cite web  16201960   \n",
       "1388879       cite web  20663510   \n",
       "1388880       cite web  53418222   \n",
       "1388881       cite web   3963024   \n",
       "1388882       cite web    530784   \n",
       "1388883       cite web  46465432   \n",
       "1388884       cite web    899044   \n",
       "1388885       cite web  48980006   \n",
       "1388886       cite web  51024498   \n",
       "1388887       cite web  13235245   \n",
       "1388888       cite web  11310467   \n",
       "1388889       cite web  57182751   \n",
       "1388890       cite web  12151036   \n",
       "1388891       cite web  25617006   \n",
       "1388892       cite web    780921   \n",
       "1388893       cite web  44041035   \n",
       "1388894       cite web  50106560   \n",
       "1388895       cite web  39214449   \n",
       "1388896       cite web     77738   \n",
       "1388897       cite web   1943819   \n",
       "1388898       cite web    468353   \n",
       "1388899       cite web  54464985   \n",
       "1388900       cite web  12326268   \n",
       "1388901       cite web  34350197   \n",
       "1388902       cite web  44331450   \n",
       "1388903       cite web    414384   \n",
       "1388904       cite web   3683908   \n",
       "1388905       cite web    414384   \n",
       "1388906       cite web   3683908   \n",
       "1388907       cite web    535353   \n",
       "\n",
       "                                          neighboring_tags  \\\n",
       "0        [CD,NN,NN,CD,NN,NN,NN,'',NNP,NNP,'',NN,NN,CD,N...   \n",
       "1        [RB,VBD,VBN,.,NNP,VBD,PRP,MD,VB,IN,PRP,TO,NNP,...   \n",
       "2        ['',DT,NNP,NNP,NNP,'',NNP,RB,VBP,JJ,JJ,JJ,NN,M...   \n",
       "3        [FW,NNP,'',NN,JJ,NNP,RB,NNP,JJ,NN,:,NN,.,VBD,C...   \n",
       "4        [TO,VB,JJR,IN,PRP,MD,VB,VBN,.,'',PRP,VBD,RP,DT...   \n",
       "5        [IN,NNP,JJ,NN,NN,NNP,'',DT,NNP,NNP,'',DT,NNP,N...   \n",
       "6        [NN,NNP,CD,NN,NNP,RB,VBD,DT,FW,NNP,'',NNP,NNP,...   \n",
       "7        [VBN,RB,RB,IN,NN,IN,NN,TO,DT,NNS,NN,.,NN,NN,''...   \n",
       "8        [DT,JJ,TO,VB,VBN,IN,NNP,CC,VBD,NN,IN,JJ,JJ,NNS...   \n",
       "9        [WDT,PRP,VBP,JJ,JJ,CC,JJ,NNS,.,NN,NN,'',DT,VBZ...   \n",
       "10       [NN,IN,PRP,.,NNP,RB,VBD,IN,NNP,VBD,DT,JJS,NN,P...   \n",
       "11       [:,JJ,NN,:,JJ,NN,NNP,CD,CD,NN,'',NNP,NNP,NNP,'...   \n",
       "12       [NNP,NN,VBG,NNP,NNP,'',NN,WDT,VBZ,NN,NN,IN,CD,...   \n",
       "13       [NNP,NN,NNP,NN,CD,NNP,CD,JJ,NN,:,JJ,NNP,NN,NN,...   \n",
       "14       [NNP,NNP,NN,NNP,NNP,NNP,DT,NNP,NNP,NNP,NN,CD,J...   \n",
       "15       [NNP,JJ,NNP,RB,NNP,.,NNP,NN,NNP,CD,NN,NNP,NN,V...   \n",
       "16       [PRP$,NN,IN,PRP$,NN,TO,NNP,VBD,RB,JJ,'',.,VB,J...   \n",
       "17       [NNP,CD,CD,NN,NNP,NNP,VBD,NNP,NNP,CC,NNP,IN,NN...   \n",
       "18       [DT,NNP,NNP,NNP,NNP,NNP,NNP,NN,:,JJ,NNP,IN,CD,...   \n",
       "19       [NNP,NN,NNP,NNP,NN,NNP,DT,VBN,NN,NN,TO,NN,.,NN...   \n",
       "20       [JJ,CC,JJ,NN,VBD,DT,NN,IN,JJ,NN,.,IN,DT,NN,IN,...   \n",
       "21       [TO,JJ,NN,NN,.,PRP,VBD,VBN,CC,VBN,IN,NN,NN,.,N...   \n",
       "22       [NN,IN,NN,CC,NN,MD,VB,JJ,IN,NN,IN,NNS,IN,VBN,N...   \n",
       "23       [VBG,VBP,NN,CC,VBD,DT,JJS,NN,IN,DT,NN,.,'',NN,...   \n",
       "24       [NNP,NNP,POS,NNP,NNP,'',NN,IN,NN,NN,NNS,JJ,RB,...   \n",
       "25       [NNP,CD,NN,NNP,NNP,:,IN,NN,NN,TO,VB,IN,NNP,JJ,...   \n",
       "26       [IN,NN,MD,VB,JJ,'',.,VB,JJ,NNP,NN,NN,NNS,:,NN,...   \n",
       "27       [DT,VBN,NN,.,NN,NN,'',NNP,NNP,:,VBG,TO,VB,JJ,'...   \n",
       "28       [VBP,NN,WP,NNP,NN,NNP,CD,NNP,NN,NN,NNP,WIKICOD...   \n",
       "29       [NN,NN,'',NNP,'',NNP,NN,NNP,NNP,NNP,NNP,NNP,NN...   \n",
       "...                                                    ...   \n",
       "1388878  [NNS,IN,PRP,VBP,JJ,JJ,NNS,CC,NNS,.,'',NN,NN,''...   \n",
       "1388879  [CD,IN,DT,JJ,NN,IN,CD,.,NNP,NNP,NN,IN,NNP,POS,...   \n",
       "1388880  [NNP,NNP,NNP,NNP,NN,NN,JJ,WIKICODE,NN,NN,JJ,NN...   \n",
       "1388881  [VB,DT,NNS,WDT,VBP,NNS,IN,NN,NN,IN,IN,CD,NN,IN...   \n",
       "1388882  [JJ,NN,NNP,VBZ,PRP,NNP,NN,NNP,NNP,NN,NNP,CD,CD...   \n",
       "1388883  [PRP,VBD,DT,JJ,NNP,IN,NNP,NNP,CC,NNP,NNP,IN,NN...   \n",
       "1388884  [NNS,VBD,IN,PRP,VBD,RB,VBG,RB,.,PRP,RB,VBP,IN,...   \n",
       "1388885  [DT,NNP,NNPS,VBD,CD,NN,NNS,IN,NNP,VBG,DT,VBN,C...   \n",
       "1388886  [NN,NN,CC,NNP,NNP,NNP,NN,WIKICODE,NN,NN,JJ,NN,...   \n",
       "1388887  [NNP,CD,NN,'',NNP,'',NNP,NN,NN,:,JJ,NN,:,NN,WI...   \n",
       "1388888  [IN,DT,JJ,'',NN,IN,DT,NNS,VBP,VBG,PRP,RB,JJ,NN...   \n",
       "1388889  [NNS,VBP,VBN,NNS,IN,JJ,JJ,NNS,.,'',JJ,NN,'',NN...   \n",
       "1388890  [NNS,PRP,VBD,RB,WRB,DT,NN,IN,NNP,VBD,VBG,RB,IN...   \n",
       "1388891  [NNP,NNP,NN,NNP,NNP,NNP,CD,NNP,NN,NN,'',NNP,NN...   \n",
       "1388892  [IN,NNP,NNP,POS,NNP,NNP,'',DT,NNP,NNP,NNP,CD,N...   \n",
       "1388893  [VBD,PRP$,NN,TO,VB,TO,DT,NNP,NN,.,DT,VBD,TO,VB...   \n",
       "1388894  [NNP,NNP,VBZ,DT,NNP,NNP,NNP,NNP,NNP,NNP,IN,NNP...   \n",
       "1388895  [IN,DT,JJ,NN,NNP,RB,RB,VBD,IN,DT,NN,IN,DT,JJ,N...   \n",
       "1388896  [NNP,'',NN,NN,NNP,PRP,RB,VBD,IN,PRP,VBD,VBN,VB...   \n",
       "1388897  [NN,VBD,JJ,NN,IN,DT,NN,.,IN,CD,JJ,JJ,NN,IN,NNP...   \n",
       "1388898  [NN,VBG,JJ,NN,CC,NNP,VBP,NN,NNP,NN,NN,JJ,NN,CC...   \n",
       "1388899  [NNP,NNP,NN,NNP,CD,CD,JJ,NN,:,JJ,NN,:,JJ,NN,NN...   \n",
       "1388900  [PDT,DT,NNP,NNP,NNP,VBZ,CD,NNP,NN,VBN,IN,NNP,N...   \n",
       "1388901  [CC,NNP,NNP,.,NN,JJ,NN,VBD,DT,NNP,NNP,NNP,RB,N...   \n",
       "1388902  [NNPS,NN,NNP,NN,NNP,NN,NN,NNP,NNP,VBZ,CD,NN,JJ...   \n",
       "1388903  [DT,NNP,NNP,NNP,NNP,:,NN,.,NN,VBD,PRP,CD,NNP,N...   \n",
       "1388904  [DT,NNP,NNP,NNP,NNP,:,NN,.,NN,VBD,PRP,CD,NNP,N...   \n",
       "1388905  [DT,NNP,NNP,NNP,NNP,:,NN,.,NN,VBD,PRP,CD,NNP,N...   \n",
       "1388906  [DT,NNP,NNP,NNP,NNP,:,NN,.,NN,VBD,PRP,CD,NNP,N...   \n",
       "1388907  [NN,NN,VBD,JJ,JJ,NN,NN,NN,NN,NN,VBD,CD,CD,JJ,N...   \n",
       "\n",
       "                                         neighboring_words  ref_index  \\\n",
       "0        [99,issue,page,463,ref,ref,name=,'',Lovelace,G...       1427   \n",
       "1        [Keely,had,gone,.,Edey,said,he,would,speak,abo...       3926   \n",
       "2        ['',The,New,York,Times,'',Staff,first,author-l...        554   \n",
       "3        [name=,NYT,'',Citation,last,Schwartz,first,Joh...        679   \n",
       "4        [to,be,better,than,we,might,have,expected,.,''...       2664   \n",
       "5        [by,Brooklyn,graffiti,art,ist,BAMN,'',The,Huff...      14537   \n",
       "6        [accessdate,October,2015,ref,Carson,also,told,...      11001   \n",
       "7        [taken,so,far,by,government,in,reaction,to,the...      22638   \n",
       "8        [the,first,to,be,printed,in,English,and,became...        918   \n",
       "9        [which,they,negotiate,racial,cultural,and,nati...        191   \n",
       "10       [way,for,him,.,Pel xe9,always,said,that,Zizinh...        730   \n",
       "11       [:,www.theguardian.com/stage/2015/nov/06/elf-t...       4432   \n",
       "12       [Pay,tax,credit Making,Work,Pay,'',program,whi...      32616   \n",
       "13       [Care' ,newspaper,BBC ,date,12,June,2007 ,url,...       8548   \n",
       "14       [London,UK,publisher,John,Murray,Publishers,An...       2353   \n",
       "15       [Citation,last,Kalam,first,A.P.J,.,Abdul,date,...       9611   \n",
       "16       [its,story,of,his,marriage,to,Moffitt,was,abso...       2492   \n",
       "17       [March,31,1917,title,Wedekind,Play,Abused,Poor...       2659   \n",
       "18       [The,New,York,Times,Book,Review,Desk,http,:,ww...       5287   \n",
       "19       [Jamaah,organisation,Ahlus,Sunnah,wal,Jamaah,t...       3161   \n",
       "20       [religious,and,ethnic,identity,became,the,subj...       2274   \n",
       "21       [to,chemical,waste,tip,.,It,was,reclaimed,and,...       2185   \n",
       "22       [maintenance,of,law,and,order,will,permit,susc...       7847   \n",
       "23       [saying,am,director,and,had,the,greatest,actor...       1633   \n",
       "24       [BBC,Three,'s,Comedy,Feeds,'',series,of,comedy...       2106   \n",
       "25       [May,2014,title,Omar,Sharif,:,from,desert,prin...       1162   \n",
       "26       [in,detention,could,be,life-threatening,'',.,r...       4568   \n",
       "27       [the,recommended,dose,.,ref,name=,'',SKIN,DEEP...      11851   \n",
       "28       [type=date, website=Doctor,Who,News, accessdat...       2970   \n",
       "29       [ref,name=,'',BBC-b03jyf6p,'',Cite,episode, ti...        181   \n",
       "...                                                    ...        ...   \n",
       "1388878  [countries,because,they,are,unquestionably,ter...       3859   \n",
       "1388879  [16.4,during,the,comparable,period,in,2017,.,K...       2700   \n",
       "1388880  [Chicago,Law,School publisher=,/ref,ref,name,u...        150   \n",
       "1388881  [cap,the,expenses,that,household,spends,on,chi...       7524   \n",
       "1388882  [money.cnn.com/2017/07/14/media/charles-krauth...       7846   \n",
       "1388883  [he,was,an,All-State,Athlete,in,Football,Wrest...        118   \n",
       "1388884  [peshmerga,stressed,that,they,were,not,receivi...       5121   \n",
       "1388885  [the,United,States,conducted,580 000,bombing,r...      40887   \n",
       "1388886  [publisher,ref,and,Transpoll,Offline,UK,ref,{{...        424   \n",
       "1388887  [October,2007,ref,'',Newsweek,'',Newsweek,ref,...        941   \n",
       "1388888  [as,an,ugly,'',performance,by,both,teams,offen...       7225   \n",
       "1388889  [films,have,been,documentaries,on,relevant,soc...        294   \n",
       "1388890  [hunters,he,showed,vividly,how,the,search,for,...       2031   \n",
       "1388891  [ u039c u03b9 u03c7 u03ac u03bb u03b7 u03c2, u...      10142   \n",
       "1388892  [On,Contra,Aid,''The,Philadelphia,Inquirer,'',...        593   \n",
       "1388893  [Tweeted,their,photo,to,complain,to,the,Pycon,...       5345   \n",
       "1388894  [Vivant,Journal,title,The,Hoxton,Hotel,Cool,Hi...        455   \n",
       "1388895  [In,the,final,set,Sharapova,once,again,served,...       2760   \n",
       "1388896  [Lizzy,'',ref,name,Lizzy,She,also,revealed,tha...       4437   \n",
       "1388897  [series,featured,modified,arrangement,of,this,...       3301   \n",
       "1388898  [use,including,inhalant,marijuana,and,Alcohol,...        430   \n",
       "1388899  [Economic,Review,date,May,31,1993,url,https,:,...       4249   \n",
       "1388900  [All,the,Fine,Young,Cannibals,is,1960,American...        228   \n",
       "1388901  [and,Jimmy,Durante,.,ref,name=NYT,cite,web wor...        148   \n",
       "1388902  [States,language,English,genre,Memoir,autobiog...         83   \n",
       "1388903  [The,New,York,Times, url=https,:,www.nytimes.c...        229   \n",
       "1388904  [The,New,York,Times, url=https,:,www.nytimes.c...        229   \n",
       "1388905  [The,New,York,Times, url=https,:,www.nytimes.c...       1253   \n",
       "1388906  [The,New,York,Times, url=https,:,www.nytimes.c...       1253   \n",
       "1388907  [lpg=PA226,dq=lois+hamilton+suicide,source=bl,...        148   \n",
       "\n",
       "                                sections  total_words  label_category  \n",
       "0                        Initial Section         2322               2  \n",
       "1                        Initial Section         8729               2  \n",
       "2                        Initial Section         1680               2  \n",
       "3                          Controversies         2392               2  \n",
       "4                        Initial Section         3333               2  \n",
       "5                  Software developments        26326               2  \n",
       "6        Political and related positions        22209               2  \n",
       "7                           Consequences        37031               2  \n",
       "8                        Initial Section         9687               2  \n",
       "9                        Initial Section         2486               2  \n",
       "10                       Initial Section         1279               2  \n",
       "11                       Initial Section         5246               2  \n",
       "12                       Initial Section        40972               2  \n",
       "13                       Initial Section        23065               2  \n",
       "14                       Initial Section        25760               2  \n",
       "15                              See also        10457               2  \n",
       "16                       Initial Section         4041               2  \n",
       "17                       Initial Section         3227               2  \n",
       "18                       Initial Section        33504               2  \n",
       "19                       Initial Section        11252               2  \n",
       "20                       Initial Section         3768               2  \n",
       "21                 Culture and community         3806               2  \n",
       "22                       Initial Section        19080               2  \n",
       "23                       Initial Section        10568               2  \n",
       "24                       Initial Section         3048               2  \n",
       "25                       Initial Section        16540               2  \n",
       "26                       Initial Section         6091               2  \n",
       "27                       Initial Section        12547               2  \n",
       "28                          Bibliography         3249               2  \n",
       "29                       Initial Section         5006               2  \n",
       "...                                  ...          ...             ...  \n",
       "1388878                  Initial Section         4682               2  \n",
       "1388879                  Initial Section         6226               2  \n",
       "1388880                  Initial Section          485               2  \n",
       "1388881                  Economic policy        62044               2  \n",
       "1388882                  Initial Section        10784               2  \n",
       "1388883                  Initial Section          767               2  \n",
       "1388884                        Structure         6578               2  \n",
       "1388885                  Initial Section        62361               2  \n",
       "1388886                  Initial Section          744               2  \n",
       "1388887                  Initial Section         1556               2  \n",
       "1388888                  Initial Section         7644               2  \n",
       "1388889                  Initial Section          754               2  \n",
       "1388890                  Initial Section         6568               2  \n",
       "1388891                  Initial Section        17792               2  \n",
       "1388892                  Initial Section         1344               2  \n",
       "1388893                        Incidents         7546               2  \n",
       "1388894                  Initial Section         1079               2  \n",
       "1388895                  Initial Section         9787               2  \n",
       "1388896                  Initial Section        10031               2  \n",
       "1388897                  Initial Section         5157               2  \n",
       "1388898                  Initial Section         6808               2  \n",
       "1388899                  Initial Section         5082               2  \n",
       "1388900                  Initial Section          854               2  \n",
       "1388901                  Initial Section          361               2  \n",
       "1388902                  Initial Section         1945               2  \n",
       "1388903                  Initial Section          871               2  \n",
       "1388904                  Initial Section          871               2  \n",
       "1388905                  Initial Section         6675               2  \n",
       "1388906                  Initial Section         6675               2  \n",
       "1388907                  Initial Section         2335               2  \n",
       "\n",
       "[1388908 rows x 10 columns]"
      ]
     },
     "execution_count": 19,
     "metadata": {},
     "output_type": "execute_result"
    }
   ],
   "source": [
    "dataset_with_features[dataset_with_features['actual_label'] == 'rest']"
   ]
  },
  {
   "cell_type": "code",
   "execution_count": 20,
   "metadata": {},
   "outputs": [
    {
     "data": {
      "text/plain": [
       "35"
      ]
     },
     "execution_count": 20,
     "metadata": {},
     "output_type": "execute_result"
    }
   ],
   "source": [
    "## clearing up memory\n",
    "del citations_features\n",
    "del dataset\n",
    "del book_journal_features\n",
    "del newspaper_data\n",
    "\n",
    "import gc\n",
    "gc.collect()"
   ]
  },
  {
   "cell_type": "code",
   "execution_count": 23,
   "metadata": {},
   "outputs": [],
   "source": [
    "## Remove rows which have duplicate ID and citations since they are just the same examples\n",
    "dataset_with_features = dataset_with_features.drop_duplicates(subset=['id', 'citation']) ## keeps first row"
   ]
  },
  {
   "cell_type": "code",
   "execution_count": 88,
   "metadata": {},
   "outputs": [
    {
     "data": {
      "text/plain": [
       "(2453971, 10)"
      ]
     },
     "execution_count": 88,
     "metadata": {},
     "output_type": "execute_result"
    }
   ],
   "source": [
    "dataset_with_features.shape"
   ]
  },
  {
   "cell_type": "markdown",
   "metadata": {},
   "source": [
    "### Taking the unique `sections` and one hot encoding it to get a vector"
   ]
  },
  {
   "cell_type": "code",
   "execution_count": 26,
   "metadata": {},
   "outputs": [],
   "source": [
    "# Only processing auxiliary features which are going to be used in the neural network\n",
    "auxiliary_features = dataset_with_features[\n",
    "    ['sections', 'citation_type', 'citation', 'id', 'ref_index',\n",
    "     'total_words', 'neighboring_tags', 'label_category']]"
   ]
  },
  {
   "cell_type": "code",
   "execution_count": 27,
   "metadata": {},
   "outputs": [],
   "source": [
    "auxiliary_features['sections'] = auxiliary_features['sections'].astype(str)\n",
    "auxiliary_features['sections'] = auxiliary_features['sections'].apply(lambda x: x.split(', '))"
   ]
  },
  {
   "cell_type": "code",
   "execution_count": 28,
   "metadata": {},
   "outputs": [],
   "source": [
    "section_counts = pd.Series(Counter(chain.from_iterable(x for x in auxiliary_features.sections)))\n",
    "largest_sections = section_counts.nlargest(150)"
   ]
  },
  {
   "cell_type": "code",
   "execution_count": 29,
   "metadata": {},
   "outputs": [
    {
     "name": "stderr",
     "output_type": "stream",
     "text": [
      "100%|██████████| 2453971/2453971 [00:07<00:00, 320080.88it/s]\n"
     ]
    }
   ],
   "source": [
    "# Change section to `OTHERS` if occurence of the section is not in the 150 largest sections\n",
    "auxiliary_features['sections'] = auxiliary_features['sections'].progress_apply(\n",
    "    lambda x: list(set(['Others' if i not in largest_sections else i for i in x]))\n",
    ")"
   ]
  },
  {
   "cell_type": "code",
   "execution_count": 30,
   "metadata": {},
   "outputs": [],
   "source": [
    "section_dummies = pd.get_dummies(auxiliary_features.sections.apply(pd.Series).stack())"
   ]
  },
  {
   "cell_type": "code",
   "execution_count": 31,
   "metadata": {},
   "outputs": [],
   "source": [
    "auxiliary_features = auxiliary_features.join(section_dummies.sum(level=0))"
   ]
  },
  {
   "cell_type": "code",
   "execution_count": 32,
   "metadata": {},
   "outputs": [
    {
     "data": {
      "text/html": [
       "<div>\n",
       "<style scoped>\n",
       "    .dataframe tbody tr th:only-of-type {\n",
       "        vertical-align: middle;\n",
       "    }\n",
       "\n",
       "    .dataframe tbody tr th {\n",
       "        vertical-align: top;\n",
       "    }\n",
       "\n",
       "    .dataframe thead th {\n",
       "        text-align: right;\n",
       "    }\n",
       "</style>\n",
       "<table border=\"1\" class=\"dataframe\">\n",
       "  <thead>\n",
       "    <tr style=\"text-align: right;\">\n",
       "      <th></th>\n",
       "      <th>citation_type</th>\n",
       "      <th>citation</th>\n",
       "      <th>id</th>\n",
       "      <th>ref_index</th>\n",
       "      <th>total_words</th>\n",
       "      <th>neighboring_tags</th>\n",
       "      <th>label_category</th>\n",
       "      <th>20th century</th>\n",
       "      <th>21st century</th>\n",
       "      <th>Activities</th>\n",
       "      <th>...</th>\n",
       "      <th>Taxonomy</th>\n",
       "      <th>Terminology</th>\n",
       "      <th>Timeline</th>\n",
       "      <th>Transfers</th>\n",
       "      <th>Treatment</th>\n",
       "      <th>Types</th>\n",
       "      <th>Usage</th>\n",
       "      <th>Uses</th>\n",
       "      <th>Work</th>\n",
       "      <th>Works</th>\n",
       "    </tr>\n",
       "  </thead>\n",
       "  <tbody>\n",
       "    <tr>\n",
       "      <th>0</th>\n",
       "      <td>cite journal</td>\n",
       "      <td>{{cite journal | author= Kenneth Cornetta | au...</td>\n",
       "      <td>1831220</td>\n",
       "      <td>946</td>\n",
       "      <td>1649</td>\n",
       "      <td>[IN, DT, JJ, NN, TO, VB, IN, JJ, NN, :, NNS, I...</td>\n",
       "      <td>1</td>\n",
       "      <td>0</td>\n",
       "      <td>0</td>\n",
       "      <td>0</td>\n",
       "      <td>...</td>\n",
       "      <td>0</td>\n",
       "      <td>0</td>\n",
       "      <td>0</td>\n",
       "      <td>0</td>\n",
       "      <td>0</td>\n",
       "      <td>0</td>\n",
       "      <td>0</td>\n",
       "      <td>0</td>\n",
       "      <td>0</td>\n",
       "      <td>0</td>\n",
       "    </tr>\n",
       "    <tr>\n",
       "      <th>0</th>\n",
       "      <td>citation</td>\n",
       "      <td>{{Citation | date = 10 December 2012 | url = h...</td>\n",
       "      <td>469553</td>\n",
       "      <td>1427</td>\n",
       "      <td>2322</td>\n",
       "      <td>[CD,NN,NN,CD,NN,NN,NN,'',NNP,NNP,'',NN,NN,CD,N...</td>\n",
       "      <td>2</td>\n",
       "      <td>0</td>\n",
       "      <td>0</td>\n",
       "      <td>0</td>\n",
       "      <td>...</td>\n",
       "      <td>0</td>\n",
       "      <td>0</td>\n",
       "      <td>0</td>\n",
       "      <td>0</td>\n",
       "      <td>0</td>\n",
       "      <td>0</td>\n",
       "      <td>0</td>\n",
       "      <td>0</td>\n",
       "      <td>0</td>\n",
       "      <td>0</td>\n",
       "    </tr>\n",
       "    <tr>\n",
       "      <th>1</th>\n",
       "      <td>cite journal</td>\n",
       "      <td>{{cite journal|last=Sorgi|first=FL|author2=Bha...</td>\n",
       "      <td>1831220</td>\n",
       "      <td>1034</td>\n",
       "      <td>1649</td>\n",
       "      <td>[CD, JJ, NN, CD, NN, CC, JJ, NN, ., VBG, JJ, N...</td>\n",
       "      <td>1</td>\n",
       "      <td>0</td>\n",
       "      <td>0</td>\n",
       "      <td>0</td>\n",
       "      <td>...</td>\n",
       "      <td>0</td>\n",
       "      <td>0</td>\n",
       "      <td>0</td>\n",
       "      <td>0</td>\n",
       "      <td>0</td>\n",
       "      <td>0</td>\n",
       "      <td>0</td>\n",
       "      <td>0</td>\n",
       "      <td>0</td>\n",
       "      <td>0</td>\n",
       "    </tr>\n",
       "    <tr>\n",
       "      <th>1</th>\n",
       "      <td>citation</td>\n",
       "      <td>{{Citation | last =  | first =  | author-link ...</td>\n",
       "      <td>566081</td>\n",
       "      <td>3926</td>\n",
       "      <td>8729</td>\n",
       "      <td>[RB,VBD,VBN,.,NNP,VBD,PRP,MD,VB,IN,PRP,TO,NNP,...</td>\n",
       "      <td>2</td>\n",
       "      <td>0</td>\n",
       "      <td>0</td>\n",
       "      <td>0</td>\n",
       "      <td>...</td>\n",
       "      <td>0</td>\n",
       "      <td>0</td>\n",
       "      <td>0</td>\n",
       "      <td>0</td>\n",
       "      <td>0</td>\n",
       "      <td>0</td>\n",
       "      <td>0</td>\n",
       "      <td>0</td>\n",
       "      <td>0</td>\n",
       "      <td>0</td>\n",
       "    </tr>\n",
       "    <tr>\n",
       "      <th>2</th>\n",
       "      <td>cite journal</td>\n",
       "      <td>{{cite journal|last=Walker|first=WS|author2=Re...</td>\n",
       "      <td>1831220</td>\n",
       "      <td>1194</td>\n",
       "      <td>1649</td>\n",
       "      <td>[JJ, NNS, VBG, NN, CC, VBD, CC, JJ, NNS, ., NN...</td>\n",
       "      <td>1</td>\n",
       "      <td>0</td>\n",
       "      <td>0</td>\n",
       "      <td>0</td>\n",
       "      <td>...</td>\n",
       "      <td>0</td>\n",
       "      <td>0</td>\n",
       "      <td>0</td>\n",
       "      <td>0</td>\n",
       "      <td>0</td>\n",
       "      <td>0</td>\n",
       "      <td>0</td>\n",
       "      <td>0</td>\n",
       "      <td>0</td>\n",
       "      <td>0</td>\n",
       "    </tr>\n",
       "  </tbody>\n",
       "</table>\n",
       "<p>5 rows × 158 columns</p>\n",
       "</div>"
      ],
      "text/plain": [
       "  citation_type                                           citation       id  \\\n",
       "0  cite journal  {{cite journal | author= Kenneth Cornetta | au...  1831220   \n",
       "0      citation  {{Citation | date = 10 December 2012 | url = h...   469553   \n",
       "1  cite journal  {{cite journal|last=Sorgi|first=FL|author2=Bha...  1831220   \n",
       "1      citation  {{Citation | last =  | first =  | author-link ...   566081   \n",
       "2  cite journal  {{cite journal|last=Walker|first=WS|author2=Re...  1831220   \n",
       "\n",
       "   ref_index  total_words                                   neighboring_tags  \\\n",
       "0        946         1649  [IN, DT, JJ, NN, TO, VB, IN, JJ, NN, :, NNS, I...   \n",
       "0       1427         2322  [CD,NN,NN,CD,NN,NN,NN,'',NNP,NNP,'',NN,NN,CD,N...   \n",
       "1       1034         1649  [CD, JJ, NN, CD, NN, CC, JJ, NN, ., VBG, JJ, N...   \n",
       "1       3926         8729  [RB,VBD,VBN,.,NNP,VBD,PRP,MD,VB,IN,PRP,TO,NNP,...   \n",
       "2       1194         1649  [JJ, NNS, VBG, NN, CC, VBD, CC, JJ, NNS, ., NN...   \n",
       "\n",
       "   label_category  20th century  21st century  Activities  ...  Taxonomy  \\\n",
       "0               1             0             0           0  ...         0   \n",
       "0               2             0             0           0  ...         0   \n",
       "1               1             0             0           0  ...         0   \n",
       "1               2             0             0           0  ...         0   \n",
       "2               1             0             0           0  ...         0   \n",
       "\n",
       "   Terminology  Timeline  Transfers  Treatment  Types  Usage  Uses  Work  \\\n",
       "0            0         0          0          0      0      0     0     0   \n",
       "0            0         0          0          0      0      0     0     0   \n",
       "1            0         0          0          0      0      0     0     0   \n",
       "1            0         0          0          0      0      0     0     0   \n",
       "2            0         0          0          0      0      0     0     0   \n",
       "\n",
       "   Works  \n",
       "0      0  \n",
       "0      0  \n",
       "1      0  \n",
       "1      0  \n",
       "2      0  \n",
       "\n",
       "[5 rows x 158 columns]"
      ]
     },
     "execution_count": 32,
     "metadata": {},
     "output_type": "execute_result"
    }
   ],
   "source": [
    "auxiliary_features.drop('sections', axis=1, inplace=True)\n",
    "auxiliary_features.head()"
   ]
  },
  {
   "cell_type": "markdown",
   "metadata": {},
   "source": [
    "### Taking the `type of citations` and one hot encoding it to get a vector"
   ]
  },
  {
   "cell_type": "code",
   "execution_count": 33,
   "metadata": {},
   "outputs": [],
   "source": [
    "# Get one hot encoding of citation_type column\n",
    "citation_type_encoding = pd.get_dummies(auxiliary_features['citation_type'])"
   ]
  },
  {
   "cell_type": "code",
   "execution_count": 34,
   "metadata": {},
   "outputs": [],
   "source": [
    "# Drop column citation_type as it is now encoded and join it\n",
    "auxiliary_features = auxiliary_features.drop('citation_type', axis = 1)"
   ]
  },
  {
   "cell_type": "code",
   "execution_count": 35,
   "metadata": {},
   "outputs": [
    {
     "data": {
      "text/html": [
       "<div>\n",
       "<style scoped>\n",
       "    .dataframe tbody tr th:only-of-type {\n",
       "        vertical-align: middle;\n",
       "    }\n",
       "\n",
       "    .dataframe tbody tr th {\n",
       "        vertical-align: top;\n",
       "    }\n",
       "\n",
       "    .dataframe thead th {\n",
       "        text-align: right;\n",
       "    }\n",
       "</style>\n",
       "<table border=\"1\" class=\"dataframe\">\n",
       "  <thead>\n",
       "    <tr style=\"text-align: right;\">\n",
       "      <th></th>\n",
       "      <th>citation</th>\n",
       "      <th>id</th>\n",
       "      <th>ref_index</th>\n",
       "      <th>total_words</th>\n",
       "      <th>neighboring_tags</th>\n",
       "      <th>label_category</th>\n",
       "      <th>20th century</th>\n",
       "      <th>21st century</th>\n",
       "      <th>Activities</th>\n",
       "      <th>Adverse effects</th>\n",
       "      <th>...</th>\n",
       "      <th>cite podcast</th>\n",
       "      <th>cite press release</th>\n",
       "      <th>cite report</th>\n",
       "      <th>cite serial</th>\n",
       "      <th>cite speech</th>\n",
       "      <th>cite sports-reference</th>\n",
       "      <th>cite techreport</th>\n",
       "      <th>cite thesis</th>\n",
       "      <th>cite web</th>\n",
       "      <th>harvnb</th>\n",
       "    </tr>\n",
       "  </thead>\n",
       "  <tbody>\n",
       "    <tr>\n",
       "      <th>0</th>\n",
       "      <td>{{cite journal | author= Kenneth Cornetta | au...</td>\n",
       "      <td>1831220</td>\n",
       "      <td>946</td>\n",
       "      <td>1649</td>\n",
       "      <td>[IN, DT, JJ, NN, TO, VB, IN, JJ, NN, :, NNS, I...</td>\n",
       "      <td>1</td>\n",
       "      <td>0</td>\n",
       "      <td>0</td>\n",
       "      <td>0</td>\n",
       "      <td>0</td>\n",
       "      <td>...</td>\n",
       "      <td>0</td>\n",
       "      <td>0</td>\n",
       "      <td>0</td>\n",
       "      <td>0</td>\n",
       "      <td>0</td>\n",
       "      <td>0</td>\n",
       "      <td>0</td>\n",
       "      <td>0</td>\n",
       "      <td>0</td>\n",
       "      <td>0</td>\n",
       "    </tr>\n",
       "    <tr>\n",
       "      <th>0</th>\n",
       "      <td>{{Citation | date = 10 December 2012 | url = h...</td>\n",
       "      <td>469553</td>\n",
       "      <td>1427</td>\n",
       "      <td>2322</td>\n",
       "      <td>[CD,NN,NN,CD,NN,NN,NN,'',NNP,NNP,'',NN,NN,CD,N...</td>\n",
       "      <td>2</td>\n",
       "      <td>0</td>\n",
       "      <td>0</td>\n",
       "      <td>0</td>\n",
       "      <td>0</td>\n",
       "      <td>...</td>\n",
       "      <td>0</td>\n",
       "      <td>0</td>\n",
       "      <td>0</td>\n",
       "      <td>0</td>\n",
       "      <td>0</td>\n",
       "      <td>0</td>\n",
       "      <td>0</td>\n",
       "      <td>0</td>\n",
       "      <td>0</td>\n",
       "      <td>0</td>\n",
       "    </tr>\n",
       "    <tr>\n",
       "      <th>1</th>\n",
       "      <td>{{cite journal|last=Sorgi|first=FL|author2=Bha...</td>\n",
       "      <td>1831220</td>\n",
       "      <td>1034</td>\n",
       "      <td>1649</td>\n",
       "      <td>[CD, JJ, NN, CD, NN, CC, JJ, NN, ., VBG, JJ, N...</td>\n",
       "      <td>1</td>\n",
       "      <td>0</td>\n",
       "      <td>0</td>\n",
       "      <td>0</td>\n",
       "      <td>0</td>\n",
       "      <td>...</td>\n",
       "      <td>0</td>\n",
       "      <td>0</td>\n",
       "      <td>0</td>\n",
       "      <td>0</td>\n",
       "      <td>0</td>\n",
       "      <td>0</td>\n",
       "      <td>0</td>\n",
       "      <td>0</td>\n",
       "      <td>0</td>\n",
       "      <td>0</td>\n",
       "    </tr>\n",
       "    <tr>\n",
       "      <th>1</th>\n",
       "      <td>{{Citation | last =  | first =  | author-link ...</td>\n",
       "      <td>566081</td>\n",
       "      <td>3926</td>\n",
       "      <td>8729</td>\n",
       "      <td>[RB,VBD,VBN,.,NNP,VBD,PRP,MD,VB,IN,PRP,TO,NNP,...</td>\n",
       "      <td>2</td>\n",
       "      <td>0</td>\n",
       "      <td>0</td>\n",
       "      <td>0</td>\n",
       "      <td>0</td>\n",
       "      <td>...</td>\n",
       "      <td>0</td>\n",
       "      <td>0</td>\n",
       "      <td>0</td>\n",
       "      <td>0</td>\n",
       "      <td>0</td>\n",
       "      <td>0</td>\n",
       "      <td>0</td>\n",
       "      <td>0</td>\n",
       "      <td>0</td>\n",
       "      <td>0</td>\n",
       "    </tr>\n",
       "    <tr>\n",
       "      <th>2</th>\n",
       "      <td>{{cite journal|last=Walker|first=WS|author2=Re...</td>\n",
       "      <td>1831220</td>\n",
       "      <td>1194</td>\n",
       "      <td>1649</td>\n",
       "      <td>[JJ, NNS, VBG, NN, CC, VBD, CC, JJ, NNS, ., NN...</td>\n",
       "      <td>1</td>\n",
       "      <td>0</td>\n",
       "      <td>0</td>\n",
       "      <td>0</td>\n",
       "      <td>0</td>\n",
       "      <td>...</td>\n",
       "      <td>0</td>\n",
       "      <td>0</td>\n",
       "      <td>0</td>\n",
       "      <td>0</td>\n",
       "      <td>0</td>\n",
       "      <td>0</td>\n",
       "      <td>0</td>\n",
       "      <td>0</td>\n",
       "      <td>0</td>\n",
       "      <td>0</td>\n",
       "    </tr>\n",
       "  </tbody>\n",
       "</table>\n",
       "<p>5 rows × 181 columns</p>\n",
       "</div>"
      ],
      "text/plain": [
       "                                            citation       id  ref_index  \\\n",
       "0  {{cite journal | author= Kenneth Cornetta | au...  1831220        946   \n",
       "0  {{Citation | date = 10 December 2012 | url = h...   469553       1427   \n",
       "1  {{cite journal|last=Sorgi|first=FL|author2=Bha...  1831220       1034   \n",
       "1  {{Citation | last =  | first =  | author-link ...   566081       3926   \n",
       "2  {{cite journal|last=Walker|first=WS|author2=Re...  1831220       1194   \n",
       "\n",
       "   total_words                                   neighboring_tags  \\\n",
       "0         1649  [IN, DT, JJ, NN, TO, VB, IN, JJ, NN, :, NNS, I...   \n",
       "0         2322  [CD,NN,NN,CD,NN,NN,NN,'',NNP,NNP,'',NN,NN,CD,N...   \n",
       "1         1649  [CD, JJ, NN, CD, NN, CC, JJ, NN, ., VBG, JJ, N...   \n",
       "1         8729  [RB,VBD,VBN,.,NNP,VBD,PRP,MD,VB,IN,PRP,TO,NNP,...   \n",
       "2         1649  [JJ, NNS, VBG, NN, CC, VBD, CC, JJ, NNS, ., NN...   \n",
       "\n",
       "   label_category  20th century  21st century  Activities  Adverse effects  \\\n",
       "0               1             0             0           0                0   \n",
       "0               2             0             0           0                0   \n",
       "1               1             0             0           0                0   \n",
       "1               2             0             0           0                0   \n",
       "2               1             0             0           0                0   \n",
       "\n",
       "   ...  cite podcast  cite press release  cite report  cite serial  \\\n",
       "0  ...             0                   0            0            0   \n",
       "0  ...             0                   0            0            0   \n",
       "1  ...             0                   0            0            0   \n",
       "1  ...             0                   0            0            0   \n",
       "2  ...             0                   0            0            0   \n",
       "\n",
       "   cite speech  cite sports-reference  cite techreport  cite thesis  cite web  \\\n",
       "0            0                      0                0            0         0   \n",
       "0            0                      0                0            0         0   \n",
       "1            0                      0                0            0         0   \n",
       "1            0                      0                0            0         0   \n",
       "2            0                      0                0            0         0   \n",
       "\n",
       "   harvnb  \n",
       "0       0  \n",
       "0       0  \n",
       "1       0  \n",
       "1       0  \n",
       "2       0  \n",
       "\n",
       "[5 rows x 181 columns]"
      ]
     },
     "execution_count": 35,
     "metadata": {},
     "output_type": "execute_result"
    }
   ],
   "source": [
    "# Concat columns of the dummies along the axis with the matching index\n",
    "auxiliary_features = pd.concat([auxiliary_features, citation_type_encoding], axis=1)\n",
    "auxiliary_features.head()"
   ]
  },
  {
   "cell_type": "markdown",
   "metadata": {},
   "source": [
    "As we can see for the feature `total_number_of_words`, the mean and median **(since it is more robust in nature!)** are pretty high for articles which are `not` journal or books"
   ]
  },
  {
   "cell_type": "code",
   "execution_count": 36,
   "metadata": {},
   "outputs": [
    {
     "name": "stdout",
     "output_type": "stream",
     "text": [
      "Total mean length of journal articles: 6599.744173897159\n",
      "Total median length of journal articles: 3011.0\n"
     ]
    }
   ],
   "source": [
    "print('Total mean length of journal articles: {}'.format( ## Journal - length is less\n",
    "    auxiliary_features[auxiliary_features['label_category'] == 1]['total_words'].mean()))\n",
    "print('Total median length of journal articles: {}'.format(\n",
    "    auxiliary_features[auxiliary_features['label_category'] == 1]['total_words'].median()))"
   ]
  },
  {
   "cell_type": "code",
   "execution_count": 37,
   "metadata": {},
   "outputs": [
    {
     "name": "stdout",
     "output_type": "stream",
     "text": [
      "Total mean length of book articles: 11543.160542483785\n",
      "Total median length of book articles: 5151.0\n"
     ]
    }
   ],
   "source": [
    "print('Total mean length of book articles: {}'.format( ## Rest of the article have larger length\n",
    "    auxiliary_features[auxiliary_features['label_category'] == 2]['total_words'].mean()))\n",
    "print('Total median length of book articles: {}'.format(\n",
    "    auxiliary_features[auxiliary_features['label_category'] == 2]['total_words'].median()))"
   ]
  },
  {
   "cell_type": "code",
   "execution_count": 38,
   "metadata": {},
   "outputs": [
    {
     "name": "stdout",
     "output_type": "stream",
     "text": [
      "Total mean length of book articles: 6832.2215568965275\n",
      "Total median length of book articles: 2758.0\n"
     ]
    }
   ],
   "source": [
    "print('Total mean length of book articles: {}'.format( ## Books - length is less\n",
    "    auxiliary_features[auxiliary_features['label_category'] == 0]['total_words'].mean()))\n",
    "print('Total median length of book articles: {}'.format(\n",
    "    auxiliary_features[auxiliary_features['label_category'] == 0]['total_words'].median()))"
   ]
  },
  {
   "cell_type": "markdown",
   "metadata": {},
   "source": [
    "### Taking the `neighboring_tags` and making an encoder dictionary for it\n",
    "\n",
    "To have more info about how what tag mean what: https://www.ling.upenn.edu/courses/Fall_2003/ling001/penn_treebank_pos.html"
   ]
  },
  {
   "cell_type": "code",
   "execution_count": 39,
   "metadata": {},
   "outputs": [],
   "source": [
    "citation_tag_features = dataset_with_features[['id', 'citation', 'neighboring_tags']]"
   ]
  },
  {
   "cell_type": "code",
   "execution_count": 40,
   "metadata": {},
   "outputs": [
    {
     "data": {
      "text/plain": [
       "array(['IN', 'DT', 'JJ', 'NN', 'TO', 'VB', 'IN', 'JJ', 'NN', ':', 'NNS',\n",
       "       'IN', 'JJ', 'NN', 'JJ', 'JJ', 'NNP', 'IN', 'NNP', 'NNP', 'NN',\n",
       "       'CD', 'NN', 'CD', 'NN', 'NN', 'CD', 'NN', ':', 'JJ', 'JJ', 'CD',\n",
       "       'JJ', 'NN', 'CD', 'NN', 'NN', 'NN', 'NNP', 'CD'], dtype=object)"
      ]
     },
     "execution_count": 40,
     "metadata": {},
     "output_type": "execute_result"
    }
   ],
   "source": [
    "citation_tag_features['neighboring_tags'].iloc[0]"
   ]
  },
  {
   "cell_type": "code",
   "execution_count": 41,
   "metadata": {},
   "outputs": [],
   "source": [
    "# Get the count for each POS tag so that we have an estimation as to how many are there\n",
    "tag_counts = pd.Series(Counter(chain.from_iterable(x for x in citation_tag_features.neighboring_tags)))"
   ]
  },
  {
   "cell_type": "code",
   "execution_count": 42,
   "metadata": {},
   "outputs": [
    {
     "data": {
      "text/plain": [
       "L         2\n",
       "``      234\n",
       "UH      650\n",
       "`       678\n",
       "SYM    1426\n",
       "Y      1466\n",
       "U      1503\n",
       "H      1503\n",
       "WP$    2106\n",
       "PDT    3416\n",
       "dtype: int64"
      ]
     },
     "execution_count": 42,
     "metadata": {},
     "output_type": "execute_result"
    }
   ],
   "source": [
    "# Considering the 10 smallest tags and checking which one does not have resemblance\n",
    "tag_counts.nsmallest(10) "
   ]
  },
  {
   "cell_type": "markdown",
   "metadata": {},
   "source": [
    "We are going to replace `LS`, `the 2 backquotes` and the `the dollar symbol` since they do not have too much use case and do not give too much information about the context of the neighboring citation text."
   ]
  },
  {
   "cell_type": "code",
   "execution_count": 43,
   "metadata": {},
   "outputs": [
    {
     "name": "stderr",
     "output_type": "stream",
     "text": [
      "100%|██████████| 2453971/2453971 [00:46<00:00, 53093.96it/s] \n"
     ]
    }
   ],
   "source": [
    "OTHER_TAGS = ['LS', '``', '$']\n",
    "citation_tag_features['neighboring_tags'] = citation_tag_features['neighboring_tags'].progress_apply(\n",
    "    lambda x: [i if i not in OTHER_TAGS else 'Others' for i in x]\n",
    ")"
   ]
  },
  {
   "cell_type": "markdown",
   "metadata": {},
   "source": [
    "Now, we can use the `count vectorizer` to represent the `POS tags` as a vector where each element of the vector represents the count of that tag in that particular citation."
   ]
  },
  {
   "cell_type": "code",
   "execution_count": 44,
   "metadata": {},
   "outputs": [],
   "source": [
    "cv = CountVectorizer() # Instantiate the vectorizer"
   ]
  },
  {
   "cell_type": "code",
   "execution_count": 45,
   "metadata": {},
   "outputs": [
    {
     "name": "stderr",
     "output_type": "stream",
     "text": [
      "100%|██████████| 2453971/2453971 [00:04<00:00, 493203.69it/s]\n"
     ]
    }
   ],
   "source": [
    "citation_tag_features['neighboring_tags'] = citation_tag_features['neighboring_tags'].progress_apply(\n",
    "    lambda x: \" \".join(x))"
   ]
  },
  {
   "cell_type": "code",
   "execution_count": 46,
   "metadata": {},
   "outputs": [],
   "source": [
    "transformed_neighboring_tags = cv.fit_transform(citation_tag_features['neighboring_tags'])\n",
    "transformed_neighboring_tags = pd.DataFrame(transformed_neighboring_tags.toarray(), columns=cv.get_feature_names())"
   ]
  },
  {
   "cell_type": "code",
   "execution_count": 47,
   "metadata": {},
   "outputs": [],
   "source": [
    "citation_tag_features = pd.concat([citation_tag_features, transformed_neighboring_tags], join='inner', axis=1)"
   ]
  },
  {
   "cell_type": "code",
   "execution_count": 48,
   "metadata": {},
   "outputs": [
    {
     "data": {
      "text/html": [
       "<div>\n",
       "<style scoped>\n",
       "    .dataframe tbody tr th:only-of-type {\n",
       "        vertical-align: middle;\n",
       "    }\n",
       "\n",
       "    .dataframe tbody tr th {\n",
       "        vertical-align: top;\n",
       "    }\n",
       "\n",
       "    .dataframe thead th {\n",
       "        text-align: right;\n",
       "    }\n",
       "</style>\n",
       "<table border=\"1\" class=\"dataframe\">\n",
       "  <thead>\n",
       "    <tr style=\"text-align: right;\">\n",
       "      <th></th>\n",
       "      <th>id</th>\n",
       "      <th>citation</th>\n",
       "      <th>cc</th>\n",
       "      <th>cd</th>\n",
       "      <th>dt</th>\n",
       "      <th>ex</th>\n",
       "      <th>fw</th>\n",
       "      <th>in</th>\n",
       "      <th>jj</th>\n",
       "      <th>jjr</th>\n",
       "      <th>...</th>\n",
       "      <th>vb</th>\n",
       "      <th>vbd</th>\n",
       "      <th>vbg</th>\n",
       "      <th>vbn</th>\n",
       "      <th>vbp</th>\n",
       "      <th>vbz</th>\n",
       "      <th>wdt</th>\n",
       "      <th>wikicode</th>\n",
       "      <th>wp</th>\n",
       "      <th>wrb</th>\n",
       "    </tr>\n",
       "  </thead>\n",
       "  <tbody>\n",
       "    <tr>\n",
       "      <th>0</th>\n",
       "      <td>1831220</td>\n",
       "      <td>{{cite journal | author= Kenneth Cornetta | au...</td>\n",
       "      <td>0</td>\n",
       "      <td>6</td>\n",
       "      <td>1</td>\n",
       "      <td>0</td>\n",
       "      <td>0</td>\n",
       "      <td>4</td>\n",
       "      <td>8</td>\n",
       "      <td>0</td>\n",
       "      <td>...</td>\n",
       "      <td>1</td>\n",
       "      <td>0</td>\n",
       "      <td>0</td>\n",
       "      <td>0</td>\n",
       "      <td>0</td>\n",
       "      <td>0</td>\n",
       "      <td>0</td>\n",
       "      <td>0</td>\n",
       "      <td>0</td>\n",
       "      <td>0</td>\n",
       "    </tr>\n",
       "    <tr>\n",
       "      <th>1</th>\n",
       "      <td>1831220</td>\n",
       "      <td>{{cite journal|last=Sorgi|first=FL|author2=Bha...</td>\n",
       "      <td>1</td>\n",
       "      <td>5</td>\n",
       "      <td>0</td>\n",
       "      <td>0</td>\n",
       "      <td>0</td>\n",
       "      <td>0</td>\n",
       "      <td>6</td>\n",
       "      <td>0</td>\n",
       "      <td>...</td>\n",
       "      <td>0</td>\n",
       "      <td>1</td>\n",
       "      <td>1</td>\n",
       "      <td>0</td>\n",
       "      <td>1</td>\n",
       "      <td>0</td>\n",
       "      <td>0</td>\n",
       "      <td>0</td>\n",
       "      <td>0</td>\n",
       "      <td>0</td>\n",
       "    </tr>\n",
       "    <tr>\n",
       "      <th>2</th>\n",
       "      <td>1831220</td>\n",
       "      <td>{{cite journal|last=Walker|first=WS|author2=Re...</td>\n",
       "      <td>2</td>\n",
       "      <td>2</td>\n",
       "      <td>0</td>\n",
       "      <td>0</td>\n",
       "      <td>0</td>\n",
       "      <td>2</td>\n",
       "      <td>5</td>\n",
       "      <td>0</td>\n",
       "      <td>...</td>\n",
       "      <td>1</td>\n",
       "      <td>1</td>\n",
       "      <td>1</td>\n",
       "      <td>0</td>\n",
       "      <td>0</td>\n",
       "      <td>0</td>\n",
       "      <td>0</td>\n",
       "      <td>0</td>\n",
       "      <td>0</td>\n",
       "      <td>0</td>\n",
       "    </tr>\n",
       "    <tr>\n",
       "      <th>3</th>\n",
       "      <td>1831220</td>\n",
       "      <td>{{cite journal|last=Campbell|first=FW|author2=...</td>\n",
       "      <td>0</td>\n",
       "      <td>8</td>\n",
       "      <td>1</td>\n",
       "      <td>0</td>\n",
       "      <td>0</td>\n",
       "      <td>3</td>\n",
       "      <td>3</td>\n",
       "      <td>0</td>\n",
       "      <td>...</td>\n",
       "      <td>0</td>\n",
       "      <td>0</td>\n",
       "      <td>0</td>\n",
       "      <td>0</td>\n",
       "      <td>0</td>\n",
       "      <td>0</td>\n",
       "      <td>0</td>\n",
       "      <td>0</td>\n",
       "      <td>0</td>\n",
       "      <td>0</td>\n",
       "    </tr>\n",
       "    <tr>\n",
       "      <th>4</th>\n",
       "      <td>1831220</td>\n",
       "      <td>{{cite journal|last=Welsby|first=IJ|author2=Ne...</td>\n",
       "      <td>0</td>\n",
       "      <td>4</td>\n",
       "      <td>0</td>\n",
       "      <td>0</td>\n",
       "      <td>0</td>\n",
       "      <td>3</td>\n",
       "      <td>6</td>\n",
       "      <td>0</td>\n",
       "      <td>...</td>\n",
       "      <td>0</td>\n",
       "      <td>0</td>\n",
       "      <td>0</td>\n",
       "      <td>0</td>\n",
       "      <td>0</td>\n",
       "      <td>0</td>\n",
       "      <td>0</td>\n",
       "      <td>0</td>\n",
       "      <td>0</td>\n",
       "      <td>0</td>\n",
       "    </tr>\n",
       "  </tbody>\n",
       "</table>\n",
       "<p>5 rows × 37 columns</p>\n",
       "</div>"
      ],
      "text/plain": [
       "        id                                           citation  cc  cd  dt  ex  \\\n",
       "0  1831220  {{cite journal | author= Kenneth Cornetta | au...   0   6   1   0   \n",
       "1  1831220  {{cite journal|last=Sorgi|first=FL|author2=Bha...   1   5   0   0   \n",
       "2  1831220  {{cite journal|last=Walker|first=WS|author2=Re...   2   2   0   0   \n",
       "3  1831220  {{cite journal|last=Campbell|first=FW|author2=...   0   8   1   0   \n",
       "4  1831220  {{cite journal|last=Welsby|first=IJ|author2=Ne...   0   4   0   0   \n",
       "\n",
       "   fw  in  jj  jjr  ...  vb  vbd  vbg  vbn  vbp  vbz  wdt  wikicode  wp  wrb  \n",
       "0   0   4   8    0  ...   1    0    0    0    0    0    0         0   0    0  \n",
       "1   0   0   6    0  ...   0    1    1    0    1    0    0         0   0    0  \n",
       "2   0   2   5    0  ...   1    1    1    0    0    0    0         0   0    0  \n",
       "3   0   3   3    0  ...   0    0    0    0    0    0    0         0   0    0  \n",
       "4   0   3   6    0  ...   0    0    0    0    0    0    0         0   0    0  \n",
       "\n",
       "[5 rows x 37 columns]"
      ]
     },
     "execution_count": 48,
     "metadata": {},
     "output_type": "execute_result"
    }
   ],
   "source": [
    "citation_tag_features.drop('neighboring_tags', axis=1, inplace=True)\n",
    "citation_tag_features.head()"
   ]
  },
  {
   "cell_type": "markdown",
   "metadata": {},
   "source": [
    "## Features for the LSTM - more time sequence related"
   ]
  },
  {
   "cell_type": "markdown",
   "metadata": {},
   "source": [
    "### Citation's original text features"
   ]
  },
  {
   "cell_type": "code",
   "execution_count": 49,
   "metadata": {},
   "outputs": [],
   "source": [
    "# Create a separate dataframe for preprocessing citation text\n",
    "citation_text_features = dataset_with_features[['id', 'citation', 'label_category']]"
   ]
  },
  {
   "cell_type": "code",
   "execution_count": 50,
   "metadata": {},
   "outputs": [
    {
     "name": "stderr",
     "output_type": "stream",
     "text": [
      "100%|██████████| 2453971/2453971 [00:40<00:00, 61044.87it/s] \n"
     ]
    }
   ],
   "source": [
    "# Convert the citation into a list by breaking it down into characters\n",
    "citation_text_features['characters'] = citation_text_features['citation'].progress_apply(lambda x: list(x))"
   ]
  },
  {
   "cell_type": "code",
   "execution_count": 51,
   "metadata": {},
   "outputs": [
    {
     "data": {
      "text/plain": [
       "Index(['{', 'c', 'i', 't', 'e', ' ', 'j', 'o', 'u', 'r', 'n', 'a', 'l', '|',\n",
       "       'h', '=', 'K', 'C', '2', 'W', '.', 'F', 'A', 'd', 's', 'P', 'm', 'f',\n",
       "       'v', 'p', 'y', 'b', '-', 'g', ':', 'J', 'V', 'M', '1', '9', '8', '3',\n",
       "       '7', '\\', '0', '4', '/', 'w', '6', '(', ')', '}', 'S', 'L', 'B', ',',\n",
       "       'H', 'G', 'k', 'R', 'D', 'I', '5', 'E', 'N', 'z', 'T', 'x', 'O', '&',\n",
       "       'Z', '?', 'Y', 'q', 'U', 'Q', '_', 'X', ';', '[', ']', '+', '#', '%',\n",
       "       '!', ''', '\"', '~', '<', '>', '*', '`', '^', '@', '$'],\n",
       "      dtype='object')"
      ]
     },
     "execution_count": 51,
     "metadata": {},
     "output_type": "execute_result"
    }
   ],
   "source": [
    "# Get the character counts for each unique character\n",
    "char_counts = pd.Series(Counter(chain.from_iterable(x for x in citation_text_features.characters)))\n",
    "char_counts.index"
   ]
  },
  {
   "cell_type": "code",
   "execution_count": 52,
   "metadata": {},
   "outputs": [
    {
     "name": "stdout",
     "output_type": "stream",
     "text": [
      "The max length of the longest citation in terms of characters is: 34353\n",
      "The mean length of the longest citation in terms of characters is: 293.35183708364934\n",
      "The median length of the longest citation in terms of characters is: 271.0\n"
     ]
    }
   ],
   "source": [
    "print('The max length of the longest citation in terms of characters is: {}'.format(\n",
    "    max(citation_text_features.characters.apply(lambda x: len(x)))))\n",
    "\n",
    "print('The mean length of the longest citation in terms of characters is: {}'.format(\n",
    "    citation_text_features.characters.apply(lambda x: len(x)).mean()))\n",
    "\n",
    "print('The median length of the longest citation in terms of characters is: {}'.format(\n",
    "    citation_text_features.characters.apply(lambda x: len(x)).median()))"
   ]
  },
  {
   "cell_type": "code",
   "execution_count": 53,
   "metadata": {},
   "outputs": [],
   "source": [
    "# Make a dictionary for creating a mapping between the char and the corresponding index\n",
    "char2ind = {char: i for i, char in enumerate(char_counts.index)}\n",
    "ind2char = {i: char for i, char in enumerate(char_counts.index)}"
   ]
  },
  {
   "cell_type": "code",
   "execution_count": 54,
   "metadata": {},
   "outputs": [],
   "source": [
    "# Map each character into the citation to its corresponding index and store it in a list\n",
    "X_char = []\n",
    "for citation in citation_text_features.citation:\n",
    "    citation_chars = []\n",
    "    for character in citation:\n",
    "        citation_chars.append(char2ind[character])\n",
    "        \n",
    "    X_char.append(citation_chars)"
   ]
  },
  {
   "cell_type": "markdown",
   "metadata": {},
   "source": [
    "Since the median length of the citation is 282, we have padded the input till 400 to get extra information which would be fed into the character embedding neural network."
   ]
  },
  {
   "cell_type": "code",
   "execution_count": 55,
   "metadata": {},
   "outputs": [],
   "source": [
    "with tf.device('/gpu:0'):\n",
    "    X_char = pad_sequences(X_char, maxlen=400)"
   ]
  },
  {
   "cell_type": "code",
   "execution_count": 56,
   "metadata": {},
   "outputs": [
    {
     "name": "stderr",
     "output_type": "stream",
     "text": [
      "100%|██████████| 2453971/2453971 [08:04<00:00, 5069.97it/s]\n"
     ]
    }
   ],
   "source": [
    "# Append the citation character list with their corresponding lists for making a dataset\n",
    "# for getting the character embeddings\n",
    "data = []\n",
    "for i in tqdm(range(len(X_char))):\n",
    "    data.append((X_char[i], int(citation_text_features.iloc[i]['label_category'])))"
   ]
  },
  {
   "cell_type": "code",
   "execution_count": 57,
   "metadata": {},
   "outputs": [],
   "source": [
    "# Separate out the training data and labels for further verification use\n",
    "training_data = [i[0] for i in data]\n",
    "training_labels = [i[1] for i in data]"
   ]
  },
  {
   "cell_type": "markdown",
   "metadata": {},
   "source": [
    "We are going to feed in the 400 character input since our median length comes out to be approximately 282 and train it on a dummy task - if the citation is scientific or not and get the embedding layer which would contain the representation for each character."
   ]
  },
  {
   "cell_type": "code",
   "execution_count": 58,
   "metadata": {},
   "outputs": [],
   "source": [
    "from keras.utils import to_categorical\n",
    "\n",
    "categorical_labels = to_categorical(training_labels, num_classes=3)"
   ]
  },
  {
   "cell_type": "code",
   "execution_count": 59,
   "metadata": {},
   "outputs": [],
   "source": [
    "def citation_embedding_model():\n",
    "    \"\"\"\n",
    "    Citation embedding generator model where the dimension of the embedding is 50.\n",
    "    \"\"\"\n",
    "    main_input = Input(shape=(400, ), name='characters')\n",
    "    # input dim is basically the vocab size\n",
    "    emb = Embedding(input_dim=95, output_dim = 300, name='citation_embedding')(main_input)\n",
    "    rnn = Bidirectional(LSTM(20))\n",
    "    x = rnn(emb)\n",
    "    de = Dense(3, activation='softmax')(x)\n",
    "    model = Model(inputs = main_input, outputs = de)\n",
    "    model.compile(loss='categorical_crossentropy', optimizer='adam', metrics=['accuracy'])\n",
    "    return model"
   ]
  },
  {
   "cell_type": "code",
   "execution_count": 60,
   "metadata": {},
   "outputs": [
    {
     "name": "stdout",
     "output_type": "stream",
     "text": [
      "WARNING:tensorflow:From /opt/anaconda3/lib/python3.6/site-packages/tensorflow/python/framework/op_def_library.py:263: colocate_with (from tensorflow.python.framework.ops) is deprecated and will be removed in a future version.\n",
      "Instructions for updating:\n",
      "Colocations handled automatically by placer.\n",
      "_________________________________________________________________\n",
      "Layer (type)                 Output Shape              Param #   \n",
      "=================================================================\n",
      "characters (InputLayer)      (None, 400)               0         \n",
      "_________________________________________________________________\n",
      "citation_embedding (Embeddin (None, 400, 300)          28500     \n",
      "_________________________________________________________________\n",
      "bidirectional_1 (Bidirection (None, 40)                51360     \n",
      "_________________________________________________________________\n",
      "dense_1 (Dense)              (None, 3)                 123       \n",
      "=================================================================\n",
      "Total params: 79,983\n",
      "Trainable params: 79,983\n",
      "Non-trainable params: 0\n",
      "_________________________________________________________________\n"
     ]
    }
   ],
   "source": [
    "# Instantiate the model and generate the summary\n",
    "model = citation_embedding_model()\n",
    "model.summary()"
   ]
  },
  {
   "cell_type": "code",
   "execution_count": 61,
   "metadata": {},
   "outputs": [],
   "source": [
    "def generator(features, labels, batch_size):\n",
    "    \"\"\"\n",
    "    Generator to create batches of data so that processing is easy.\n",
    "    \n",
    "    :param: features: the features of the model.\n",
    "    :param: labels: the labels of the model.\n",
    "    :param: batch_size: the size of the batch\n",
    "    \"\"\"\n",
    "    # Create empty arrays to contain batch of features and labels\n",
    "    batch_features = np.zeros((batch_size, 400))\n",
    "    batch_labels = np.zeros((batch_size, 3))\n",
    "    while True:\n",
    "        for i in range(batch_size):\n",
    "            # choose random index in features\n",
    "            index = np.random.choice(len(features), 1)[0]\n",
    "            batch_features[i] = features[index]\n",
    "            batch_labels[i] = categorical_labels[index]\n",
    "        yield batch_features, batch_labels"
   ]
  },
  {
   "cell_type": "code",
   "execution_count": 62,
   "metadata": {},
   "outputs": [
    {
     "name": "stdout",
     "output_type": "stream",
     "text": [
      "WARNING:tensorflow:From /opt/anaconda3/lib/python3.6/site-packages/tensorflow/python/ops/math_ops.py:3066: to_int32 (from tensorflow.python.ops.math_ops) is deprecated and will be removed in a future version.\n",
      "Instructions for updating:\n",
      "Use tf.cast instead.\n",
      "Epoch 1/15\n",
      "30/30 [==============================] - 17s 555ms/step - loss: 1.0192 - acc: 0.4891\n",
      "Epoch 2/15\n",
      "30/30 [==============================] - 15s 502ms/step - loss: 0.6354 - acc: 0.7651\n",
      "Epoch 3/15\n",
      "30/30 [==============================] - 14s 479ms/step - loss: 0.3884 - acc: 0.8833\n",
      "Epoch 4/15\n",
      "30/30 [==============================] - 15s 496ms/step - loss: 0.2775 - acc: 0.9161\n",
      "Epoch 5/15\n",
      "30/30 [==============================] - 14s 477ms/step - loss: 0.2378 - acc: 0.9234\n",
      "Epoch 6/15\n",
      "30/30 [==============================] - 15s 487ms/step - loss: 0.1945 - acc: 0.9495\n",
      "Epoch 7/15\n",
      "30/30 [==============================] - 15s 510ms/step - loss: 0.2382 - acc: 0.9318\n",
      "Epoch 8/15\n",
      "30/30 [==============================] - 14s 483ms/step - loss: 0.2173 - acc: 0.9422\n",
      "Epoch 9/15\n",
      "30/30 [==============================] - 15s 502ms/step - loss: 0.1757 - acc: 0.9578\n",
      "Epoch 10/15\n",
      "30/30 [==============================] - 15s 492ms/step - loss: 0.2773 - acc: 0.9302\n",
      "Epoch 11/15\n",
      "30/30 [==============================] - 15s 503ms/step - loss: 0.1313 - acc: 0.9667\n",
      "Epoch 12/15\n",
      "30/30 [==============================] - 15s 498ms/step - loss: 0.1673 - acc: 0.9495\n",
      "Epoch 13/15\n",
      "30/30 [==============================] - 14s 479ms/step - loss: 0.1904 - acc: 0.9484\n",
      "Epoch 14/15\n",
      "30/30 [==============================] - 15s 487ms/step - loss: 0.1095 - acc: 0.9719\n",
      "Epoch 15/15\n",
      "30/30 [==============================] - 14s 472ms/step - loss: 0.0971 - acc: 0.9792\n"
     ]
    }
   ],
   "source": [
    "# Run the model with the data being generated by the generator with a batch size of 64\n",
    "# and number of epochs to be set to 15\n",
    "hist = model.fit_generator(generator(training_data, categorical_labels, 64), samples_per_epoch=30, nb_epoch=15)"
   ]
  },
  {
   "cell_type": "code",
   "execution_count": 63,
   "metadata": {},
   "outputs": [],
   "source": [
    "# Save the model so that we can retrieve it later\n",
    "# model.save('./embedding_model.h5')"
   ]
  },
  {
   "cell_type": "code",
   "execution_count": 64,
   "metadata": {},
   "outputs": [
    {
     "data": {
      "text/plain": [
       "(95, 300)"
      ]
     },
     "execution_count": 64,
     "metadata": {},
     "output_type": "execute_result"
    }
   ],
   "source": [
    "# Get the `citation_embedding` layer and get the weights for each character\n",
    "citation_layer = model.get_layer('citation_embedding')\n",
    "citation_weights = citation_layer.get_weights()[0]\n",
    "citation_weights.shape"
   ]
  },
  {
   "cell_type": "code",
   "execution_count": 65,
   "metadata": {},
   "outputs": [
    {
     "data": {
      "text/plain": [
       "array([ 0.01189123,  0.04370288,  0.00031026, -0.04214857, -0.00431195,\n",
       "        0.00619524, -0.0269199 ,  0.01572377, -0.02040187, -0.01892583,\n",
       "       -0.01155559, -0.01423857,  0.01058181,  0.05017758,  0.0124469 ,\n",
       "        0.05356099, -0.02875755, -0.00841217,  0.02235851,  0.03364012,\n",
       "        0.04286821,  0.0133015 ,  0.00080163, -0.04185148,  0.02404357,\n",
       "       -0.03019644, -0.01477948,  0.03001074,  0.03345497, -0.02667047,\n",
       "        0.04956942,  0.00269952,  0.01288244,  0.04655018, -0.00432052,\n",
       "        0.0125154 , -0.02914265, -0.00929398, -0.03683035, -0.03522526,\n",
       "       -0.01796045,  0.01024454, -0.01842368, -0.01174657,  0.0652336 ,\n",
       "        0.01618789,  0.04744877,  0.00754394, -0.04456269,  0.0070715 ,\n",
       "       -0.01405442, -0.0543743 ,  0.01465258,  0.04732801, -0.01740676,\n",
       "        0.03404899,  0.00033237, -0.02001428,  0.00364981, -0.00930269,\n",
       "       -0.02321461, -0.0186593 , -0.01450481, -0.02492204,  0.03149597,\n",
       "        0.02592646, -0.028067  ,  0.03134247,  0.02240428, -0.00468874,\n",
       "       -0.02177735,  0.04379042,  0.0287863 , -0.03635177, -0.01681191,\n",
       "       -0.00125688,  0.01751612,  0.0494036 ,  0.03838813, -0.0233405 ,\n",
       "        0.00270761, -0.01423803,  0.0606565 , -0.0071112 , -0.00993287,\n",
       "       -0.04337268, -0.01007578, -0.03864038,  0.03975051, -0.02605831,\n",
       "        0.02780043,  0.00881088, -0.00274665, -0.02799509, -0.01025301,\n",
       "       -0.00593825, -0.01978575, -0.05938953, -0.01978764, -0.01073701],\n",
       "      dtype=float32)"
      ]
     },
     "execution_count": 65,
     "metadata": {},
     "output_type": "execute_result"
    }
   ],
   "source": [
    "# An example of the first element of an embedding\n",
    "citation_weights[0][:100]"
   ]
  },
  {
   "cell_type": "code",
   "execution_count": 66,
   "metadata": {},
   "outputs": [
    {
     "name": "stderr",
     "output_type": "stream",
     "text": [
      "100%|██████████| 2453971/2453971 [12:38<00:00, 3234.61it/s]\n"
     ]
    }
   ],
   "source": [
    "# Map the embedding of each character to the character in each corresponding citation and aggregate (sum)\n",
    "citation_text_features['embedding'] = citation_text_features['characters'].progress_apply(\n",
    "    lambda x: sum([citation_weights[char2ind[c]] for c in x])\n",
    ")"
   ]
  },
  {
   "cell_type": "code",
   "execution_count": 67,
   "metadata": {},
   "outputs": [
    {
     "name": "stderr",
     "output_type": "stream",
     "text": [
      "100%|██████████| 2453971/2453971 [00:37<00:00, 65439.79it/s]\n"
     ]
    }
   ],
   "source": [
    "# Normalize the citation embeddings so that we can check for their similarity later\n",
    "citation_text_features['embedding'] = citation_text_features['embedding'].progress_apply(\n",
    "    lambda x: x/ np.linalg.norm(x, axis=0).reshape((-1, 1))\n",
    ")"
   ]
  },
  {
   "cell_type": "code",
   "execution_count": 68,
   "metadata": {},
   "outputs": [
    {
     "data": {
      "text/plain": [
       "1.0"
      ]
     },
     "execution_count": 68,
     "metadata": {},
     "output_type": "execute_result"
    }
   ],
   "source": [
    "# Make the sum of the embedding to be summed up to 1\n",
    "np.sum(np.square(citation_text_features['embedding'].iloc[0]))"
   ]
  },
  {
   "cell_type": "markdown",
   "metadata": {},
   "source": [
    "### Similarity Graph for citation text embeddings"
   ]
  },
  {
   "cell_type": "code",
   "execution_count": 69,
   "metadata": {},
   "outputs": [],
   "source": [
    "# Just considering 20 since otherwise it will be computationally extensive\n",
    "# citation_text_and_embeddings = citation_text_features[['citation', 'embedding']][:500]"
   ]
  },
  {
   "cell_type": "code",
   "execution_count": 70,
   "metadata": {},
   "outputs": [],
   "source": [
    "# citation_text_and_embeddings['embedding'] = citation_text_and_embeddings['embedding'].progress_apply(\n",
    "#     lambda x: x[0].tolist()\n",
    "# )"
   ]
  },
  {
   "cell_type": "code",
   "execution_count": 71,
   "metadata": {},
   "outputs": [],
   "source": [
    "# def tsne_embedding_plot():\n",
    "#     labels = []\n",
    "#     tokens = []\n",
    "\n",
    "#     index = 0\n",
    "#     for row in citation_text_and_embeddings:\n",
    "#         tokens.append(row['embedding'])\n",
    "#         labels.append(str(index))\n",
    "#         index += 1\n",
    "    \n",
    "#     # Perplexity takes into account the global and local features\n",
    "#     # We are using dimensionality reduciton for 2 features and taking 2500 iterations into account\n",
    "#     tsne_model = TSNE(perplexity=40, n_components=2, n_iter=2500, random_state=0)\n",
    "#     new_values = tsne_model.fit_transform(tokens)\n",
    "\n",
    "#     x = []\n",
    "#     y = []\n",
    "#     for value in new_values:\n",
    "#         x.append(value[0])\n",
    "#         y.append(value[1])\n",
    "        \n",
    "#     plt.figure(figsize=(10, 10)) \n",
    "#     for i in range(len(x)):\n",
    "#         plt.scatter(x[i],y[i])\n",
    "#         plt.annotate(labels[i], xy=(x[i], y[i]), xytext=(5, 2),\n",
    "#                      textcoords='offset points', ha='right', va='bottom')\n",
    "#     plt.show()"
   ]
  },
  {
   "cell_type": "code",
   "execution_count": 72,
   "metadata": {},
   "outputs": [],
   "source": [
    "# tsne_embedding_plot()"
   ]
  },
  {
   "cell_type": "code",
   "execution_count": 73,
   "metadata": {},
   "outputs": [],
   "source": [
    "# an example of citation embeddings which is close to each other\n",
    "# citation_text_and_embeddings[citation_text_and_embeddings.index.isin([14, 477])] # (51, 243), (0, 13)"
   ]
  },
  {
   "cell_type": "code",
   "execution_count": 74,
   "metadata": {},
   "outputs": [],
   "source": [
    "# # Similiarity of 2 citations which are very similar\n",
    "# result_similar = 1 - spatial.distance.cosine(\n",
    "#     citation_text_and_embeddings.iloc[14]['embedding'],\n",
    "#     citation_text_and_embeddings.iloc[477]['embedding']\n",
    "# )\n",
    "# result_similar"
   ]
  },
  {
   "cell_type": "code",
   "execution_count": 75,
   "metadata": {},
   "outputs": [],
   "source": [
    "# an example of citation embeddings which is NOT close to each other and are different\n",
    "# citation_text_and_embeddings[citation_text_and_embeddings.index.isin([42, 124])] # (6, 42)"
   ]
  },
  {
   "cell_type": "code",
   "execution_count": 76,
   "metadata": {},
   "outputs": [],
   "source": [
    "# Similiarity of 2 citations which are not similar\n",
    "# result_different = 1 - spatial.distance.cosine(\n",
    "#     citation_text_and_embeddings.iloc[42]['embedding'],\n",
    "#     citation_text_and_embeddings.iloc[124]['embedding']\n",
    "# )\n",
    "# result_different"
   ]
  },
  {
   "cell_type": "markdown",
   "metadata": {},
   "source": [
    "### FastText embeddings for neighboring words"
   ]
  },
  {
   "cell_type": "code",
   "execution_count": 77,
   "metadata": {},
   "outputs": [],
   "source": [
    "# Load the pretrained embedding model on wikipedia\n",
    "model = FastText.load_fasttext_format('/dlabdata1/harshdee/wiki.en.bin')"
   ]
  },
  {
   "cell_type": "code",
   "execution_count": 78,
   "metadata": {},
   "outputs": [],
   "source": [
    "# Create a separate dataframe for preprocessing citation words\n",
    "citation_word_features = dataset_with_features[['id', 'citation', 'neighboring_words', 'label_category']]"
   ]
  },
  {
   "cell_type": "code",
   "execution_count": 79,
   "metadata": {},
   "outputs": [
    {
     "name": "stderr",
     "output_type": "stream",
     "text": [
      "100%|██████████| 2453971/2453971 [01:34<00:00, 26005.98it/s]\n"
     ]
    }
   ],
   "source": [
    "# Lowercase all the neighboring words for each of the citations\n",
    "citation_word_features['neighboring_words'] = citation_word_features['neighboring_words'].progress_apply(\n",
    "    lambda x: [i.lower() for i in x]\n",
    ")"
   ]
  },
  {
   "cell_type": "markdown",
   "metadata": {},
   "source": [
    "Get the total unique words with their respective counts in the total dataset. This is done in order to remove words which are of low frequency and will potentially act as noise to the model."
   ]
  },
  {
   "cell_type": "code",
   "execution_count": 80,
   "metadata": {},
   "outputs": [],
   "source": [
    "word_counts = pd.Series(Counter(chain.from_iterable(x for x in citation_word_features.neighboring_words)))"
   ]
  },
  {
   "cell_type": "code",
   "execution_count": 81,
   "metadata": {},
   "outputs": [
    {
     "name": "stdout",
     "output_type": "stream",
     "text": [
      "Total words: 4213281\n",
      "Total number of words whose occurence is less than 4: 3858368\n",
      "Difference: 354913\n"
     ]
    }
   ],
   "source": [
    "threshold = 4\n",
    "\n",
    "x = len(word_counts)\n",
    "y = len(word_counts[word_counts <= threshold])\n",
    "print('Total words: {}\\nTotal number of words whose occurence is less than 4: {}\\nDifference: {}'.format(x, y, x-y))\n",
    "words_less_than_threshold = word_counts[word_counts <= threshold]"
   ]
  },
  {
   "cell_type": "code",
   "execution_count": 82,
   "metadata": {},
   "outputs": [
    {
     "name": "stderr",
     "output_type": "stream",
     "text": [
      "100%|██████████| 2453971/2453971 [08:19<00:00, 4913.03it/s]  \n"
     ]
    }
   ],
   "source": [
    "# Remove the words which have a count of less than 4 and replace them with the unique <UNK> symbol\n",
    "citation_word_features['neighboring_words'] = citation_word_features['neighboring_words'].progress_apply(\n",
    "    lambda x: [i if i not in words_less_than_threshold else '<UNK>' for i in x]\n",
    ")"
   ]
  },
  {
   "cell_type": "code",
   "execution_count": 83,
   "metadata": {},
   "outputs": [],
   "source": [
    "# creating a mapping between word and index or vice versa\n",
    "words = pd.Series(Counter(chain.from_iterable(x for x in citation_word_features.neighboring_words))).index\n",
    "word2ind = {w: i for i, w in enumerate(words)}\n",
    "ind2words = {i: w for i, w in enumerate(words)}"
   ]
  },
  {
   "cell_type": "code",
   "execution_count": 84,
   "metadata": {},
   "outputs": [
    {
     "name": "stderr",
     "output_type": "stream",
     "text": [
      "100%|██████████| 354914/354914 [00:23<00:00, 15190.71it/s]\n"
     ]
    }
   ],
   "source": [
    "word_embedding_matrix = np.zeros((len(word2ind), 300))\n",
    "for w in tqdm(word2ind):\n",
    "    index = word2ind[w]\n",
    "    word_embedding_matrix[index] = model.wv[w]"
   ]
  },
  {
   "cell_type": "markdown",
   "metadata": {},
   "source": [
    "Once we have the word embedding for each word in the neighboring words, we sum the embeddings for each word together in neighboring words to get an embedding which represents the past 40 words."
   ]
  },
  {
   "cell_type": "code",
   "execution_count": 85,
   "metadata": {},
   "outputs": [
    {
     "name": "stderr",
     "output_type": "stream",
     "text": [
      "100%|██████████| 2453971/2453971 [09:35<00:00, 4261.63it/s] \n"
     ]
    }
   ],
   "source": [
    "citation_word_features['words_embedding'] = citation_word_features['neighboring_words'].progress_apply(\n",
    "    lambda x: sum([word_embedding_matrix[word2ind[w]] for w in x])\n",
    ")"
   ]
  },
  {
   "cell_type": "markdown",
   "metadata": {},
   "source": [
    "Now we have the `citation_word_features` and `citation_tag_features`, so we can join them together to form `time_sequence_features` which would be fed later into the LSTM.."
   ]
  },
  {
   "cell_type": "code",
   "execution_count": 86,
   "metadata": {},
   "outputs": [],
   "source": [
    "# Join time sequence features with the citations dataset\n",
    "time_sequence_features = pd.concat([citation_tag_features, citation_word_features], keys=['id', 'citation'], axis=1)\n",
    "time_sequence_features = time_sequence_features.loc[:, ~time_sequence_features.columns.duplicated()]"
   ]
  },
  {
   "cell_type": "code",
   "execution_count": 87,
   "metadata": {},
   "outputs": [
    {
     "name": "stdout",
     "output_type": "stream",
     "text": [
      "Total number of samples in time features are: (2453971, 42)\n"
     ]
    }
   ],
   "source": [
    "print('Total number of samples in time features are: {}'.format(time_sequence_features.shape))"
   ]
  },
  {
   "cell_type": "code",
   "execution_count": 89,
   "metadata": {},
   "outputs": [],
   "source": [
    "# citation_text = auxiliary_features.iloc[:,0]\n",
    "# auxiliary_features['citation_text'] = citation_text\n",
    "# auxiliary_features.drop('citation', axis=1, inplace=True)\n",
    "# auxiliary_features.rename({'citation_text': 'citation'}, axis=1, inplace=True)"
   ]
  },
  {
   "cell_type": "code",
   "execution_count": 95,
   "metadata": {},
   "outputs": [
    {
     "data": {
      "text/plain": [
       "(2453971, 185)"
      ]
     },
     "execution_count": 95,
     "metadata": {},
     "output_type": "execute_result"
    }
   ],
   "source": [
    "# Join auxiliary features with the citations dataset\n",
    "citation_text_features.reset_index(drop=True, inplace=True)\n",
    "auxiliary_features.reset_index(drop=True, inplace=True)\n",
    "\n",
    "auxiliary_features = pd.concat([auxiliary_features, citation_text_features], keys=['id', 'citation'], axis=1)\n",
    "auxiliary_features = pd.concat([auxiliary_features['citation'], auxiliary_features['id']], axis=1)\n",
    "auxiliary_features = auxiliary_features.loc[:, ~auxiliary_features.columns.duplicated()]\n",
    "auxiliary_features.shape"
   ]
  },
  {
   "cell_type": "code",
   "execution_count": 105,
   "metadata": {},
   "outputs": [],
   "source": [
    "# Drop columns with are duplicates\n",
    "auxiliary_features.drop(['neighboring_tags', 'characters'], axis=1, inplace=True)"
   ]
  },
  {
   "cell_type": "code",
   "execution_count": 106,
   "metadata": {},
   "outputs": [
    {
     "data": {
      "text/plain": [
       "2090"
      ]
     },
     "execution_count": 106,
     "metadata": {},
     "output_type": "execute_result"
    }
   ],
   "source": [
    "del word_embedding_matrix\n",
    "del citation_word_features\n",
    "del citation_text_features\n",
    "\n",
    "gc.collect()"
   ]
  },
  {
   "cell_type": "markdown",
   "metadata": {},
   "source": [
    "## Making sets for `auxiliary` and `time sequence` features"
   ]
  },
  {
   "cell_type": "code",
   "execution_count": 111,
   "metadata": {},
   "outputs": [],
   "source": [
    "data = dataset_with_features[['id', 'citation', 'label_category']]"
   ]
  },
  {
   "cell_type": "code",
   "execution_count": 116,
   "metadata": {},
   "outputs": [],
   "source": [
    "# Join the time sequence features for the data\n",
    "time_sequence_features = pd.concat([time_sequence_features['id'], time_sequence_features['citation']], axis=1)\n",
    "time_sequence_features = pd.concat([time_sequence_features, data], keys=['id', 'citation'], axis=1)\n",
    "time_sequence_features.columns = time_sequence_features.columns.droplevel(0)\n",
    "time_sequence_features = time_sequence_features.loc[:, ~time_sequence_features.columns.duplicated()]"
   ]
  },
  {
   "cell_type": "code",
   "execution_count": 124,
   "metadata": {},
   "outputs": [],
   "source": [
    "time_sequence_features['words_embedding'] = time_sequence_features['words_embedding'].apply(lambda x: x.tolist())"
   ]
  },
  {
   "cell_type": "code",
   "execution_count": 125,
   "metadata": {},
   "outputs": [],
   "source": [
    "auxiliary_features['embedding'] = auxiliary_features['embedding'].apply(lambda x: x.tolist())"
   ]
  },
  {
   "cell_type": "code",
   "execution_count": 126,
   "metadata": {},
   "outputs": [
    {
     "data": {
      "text/plain": [
       "(2453971, 2453971)"
      ]
     },
     "execution_count": 126,
     "metadata": {},
     "output_type": "execute_result"
    }
   ],
   "source": [
    "len(time_sequence_features), len(auxiliary_features)"
   ]
  },
  {
   "cell_type": "markdown",
   "metadata": {},
   "source": [
    "## Splitting the dataset into training, testing and validation "
   ]
  },
  {
   "cell_type": "markdown",
   "metadata": {},
   "source": [
    "The split is done into 80-10-10 ratio so that we have more training data to train on and have validation dataset to make sure that the model is working as anticipated."
   ]
  },
  {
   "cell_type": "code",
   "execution_count": 150,
   "metadata": {},
   "outputs": [],
   "source": [
    "TOTAL_SAMPLES = time_sequence_features.shape[0]\n",
    "indices = np.arange(TOTAL_SAMPLES)\n",
    "np.random.shuffle(indices)"
   ]
  },
  {
   "cell_type": "code",
   "execution_count": 151,
   "metadata": {},
   "outputs": [],
   "source": [
    "# Split indices into training and other sets (validation, testing)\n",
    "training_end_index = int((TOTAL_SAMPLES * 80) / 100)\n",
    "training_indices = indices[:training_end_index]\n",
    "other_indices = indices[training_end_index:]"
   ]
  },
  {
   "cell_type": "code",
   "execution_count": 152,
   "metadata": {},
   "outputs": [
    {
     "data": {
      "text/plain": [
       "(1963176, 490795)"
      ]
     },
     "execution_count": 152,
     "metadata": {},
     "output_type": "execute_result"
    }
   ],
   "source": [
    "len(training_indices), len(other_indices)"
   ]
  },
  {
   "cell_type": "code",
   "execution_count": 153,
   "metadata": {},
   "outputs": [],
   "source": [
    "# Get validation and testing indices\n",
    "half_threshold = int(len(other_indices)/2)\n",
    "\n",
    "validation_indices = other_indices[:half_threshold]\n",
    "test_indices = other_indices[half_threshold:]"
   ]
  },
  {
   "cell_type": "code",
   "execution_count": 154,
   "metadata": {},
   "outputs": [
    {
     "data": {
      "text/plain": [
       "(245397, 245398)"
      ]
     },
     "execution_count": 154,
     "metadata": {},
     "output_type": "execute_result"
    }
   ],
   "source": [
    "len(validation_indices), len(test_indices)"
   ]
  },
  {
   "cell_type": "code",
   "execution_count": 155,
   "metadata": {},
   "outputs": [],
   "source": [
    "# Get the labels for training, validation and testing since they are going to be the same\n",
    "y_train = auxiliary_features.loc[training_indices, 'label_category'].astype(int).tolist()\n",
    "y_val = auxiliary_features.loc[validation_indices, 'label_category'].astype(int).tolist()\n",
    "y_test = auxiliary_features.loc[test_indices, 'label_category'].astype(int).tolist()"
   ]
  },
  {
   "cell_type": "code",
   "execution_count": 156,
   "metadata": {},
   "outputs": [],
   "source": [
    "# Make a mask for auxiliary dataset to get all features except the one below\n",
    "column_mask_aux = ~auxiliary_features.columns.isin(['id', 'citation', 'label_category'])"
   ]
  },
  {
   "cell_type": "code",
   "execution_count": 157,
   "metadata": {},
   "outputs": [],
   "source": [
    "# # Get the columns of those auxiliary features and covert them into a list\n",
    "training_auxiliary = auxiliary_features.loc[training_indices, column_mask_aux].values.tolist()\n",
    "validation_auxiliary = auxiliary_features.loc[validation_indices, column_mask_aux].values.tolist()\n",
    "testing_auxiliary = auxiliary_features.loc[test_indices, column_mask_aux].values.tolist()"
   ]
  },
  {
   "cell_type": "code",
   "execution_count": 181,
   "metadata": {},
   "outputs": [],
   "source": [
    "# # Convert them into numpy array (for Keras) and stack them (if needed) as suited for the model's format\n",
    "training_auxiliary = [np.hstack(training_auxiliary[i][0] + training_auxiliary[i][1:]) for i in range(len(training_auxiliary))]"
   ]
  },
  {
   "cell_type": "code",
   "execution_count": 182,
   "metadata": {},
   "outputs": [],
   "source": [
    "validation_auxiliary = [\n",
    "    np.hstack(validation_auxiliary[i][0] + validation_auxiliary[i][1:]) for i in range(len(validation_auxiliary))]\n",
    "testing_auxiliary = [\n",
    "    np.hstack(testing_auxiliary[i][0] + testing_auxiliary[i][1:]) for i in range(len(testing_auxiliary))]"
   ]
  },
  {
   "cell_type": "code",
   "execution_count": 196,
   "metadata": {},
   "outputs": [],
   "source": [
    "# # Make a mask for time sequences features dataset to get all features except the one below\n",
    "cols = [col for col in time_sequence_features.columns if col not in ['id', 'citation', 'label_category', 'neighboring_words']]\n",
    "stripped_tsf = time_sequence_features[cols]"
   ]
  },
  {
   "cell_type": "code",
   "execution_count": 202,
   "metadata": {},
   "outputs": [],
   "source": [
    "training_time = stripped_tsf.iloc[training_indices].values.tolist()\n",
    "validation_time = stripped_tsf.iloc[validation_indices].values.tolist()\n",
    "testing_time = stripped_tsf.iloc[test_indices].values.tolist()"
   ]
  },
  {
   "cell_type": "code",
   "execution_count": 203,
   "metadata": {},
   "outputs": [],
   "source": [
    "def make_structure_time_features(time_features):\n",
    "    \"\"\"\n",
    "    Concatenate features which are numbers and lists together by checking the type:\n",
    "    \n",
    "    param: time_features: the features which are considered time sequence.\n",
    "    \"\"\"\n",
    "    feature_one = np.array([i for i in time_features if isinstance(i, int)])\n",
    "    feature_two = np.array([i for i in time_features if isinstance(i, list)][0])\n",
    "    return np.array([feature_one, feature_two])"
   ]
  },
  {
   "cell_type": "code",
   "execution_count": 205,
   "metadata": {},
   "outputs": [],
   "source": [
    "training_time = [make_structure_time_features(i) for i in training_time]\n",
    "validation_time = [make_structure_time_features(i) for i in validation_time]\n",
    "testing_time = [make_structure_time_features(i) for i in testing_time]"
   ]
  },
  {
   "cell_type": "markdown",
   "metadata": {},
   "source": [
    "## LSTM/Neural Network Model"
   ]
  },
  {
   "cell_type": "code",
   "execution_count": 212,
   "metadata": {},
   "outputs": [],
   "source": [
    "# Instantiating PCA to 35 components since it should be equal to the size of the vector of the tags\n",
    "pca = PCA(n_components=35)"
   ]
  },
  {
   "cell_type": "code",
   "execution_count": 213,
   "metadata": {},
   "outputs": [],
   "source": [
    "def get_reduced_words_dimension(data):\n",
    "    \"\"\"\n",
    "    Get the aggregated dataset of words and tags which has the\n",
    "    same dimensionality using PCA.\n",
    "    \n",
    "    :param: data: data which needs to be aggregated.\n",
    "    \"\"\"\n",
    "    tags = [i for i, _ in data]\n",
    "    word_embeddings = [j for _,j in data]\n",
    "    pca.fit(word_embeddings)\n",
    "    \n",
    "    word_embeddings_pca = pca.transform(word_embeddings)\n",
    "    tags = np.array(tags)\n",
    "    return np.dstack((word_embeddings_pca, tags))"
   ]
  },
  {
   "cell_type": "code",
   "execution_count": 214,
   "metadata": {},
   "outputs": [],
   "source": [
    "test_pca = get_reduced_words_dimension(testing_time)"
   ]
  },
  {
   "cell_type": "code",
   "execution_count": 215,
   "metadata": {},
   "outputs": [],
   "source": [
    "# Apply PCA on all the sets of data to have the dimensions of the data to be the same\n",
    "trained_pca = get_reduced_words_dimension(training_time)\n",
    "val_pca = get_reduced_words_dimension(validation_time)\n"
   ]
  },
  {
   "cell_type": "code",
   "execution_count": 216,
   "metadata": {},
   "outputs": [],
   "source": [
    "y_train_oh = np.eye(3)[y_train]\n",
    "y_val_oh = np.eye(3)[y_val]\n",
    "y_test_oh = np.eye(3)[y_test]"
   ]
  },
  {
   "cell_type": "code",
   "execution_count": 228,
   "metadata": {},
   "outputs": [],
   "source": [
    "def classification_model():\n",
    "    \"\"\"\n",
    "    Model for classifying whether a citation is scientific or not.\n",
    "    \"\"\"\n",
    "    main_input = Input(shape=(35, 2), name='time_input')\n",
    "    lstm_out = LSTM(32)(main_input)\n",
    "\n",
    "    auxiliary_input = Input(shape=(476,), name='aux_input')\n",
    "    # Converging the auxiliary input with the LSTM output\n",
    "    x = keras.layers.concatenate([lstm_out, auxiliary_input])\n",
    "\n",
    "    # 4 fully connected layer\n",
    "    x = Dense(128, activation='relu')(x)\n",
    "    x = Dense(64, activation='relu')(x)\n",
    "    x = Dense(64, activation='relu')(x)\n",
    "    x = Dense(32, activation='relu')(x)\n",
    "\n",
    "    main_output = Dense(3, activation='softmax', name='main_output')(x)\n",
    "    model = Model(inputs=[main_input, auxiliary_input], outputs=[main_output])\n",
    "    \n",
    "    model.compile(\n",
    "        optimizer='adam', loss={'main_output': 'categorical_crossentropy'},\n",
    "        loss_weights={'main_output': 1.}, metrics=['acc']\n",
    "    )\n",
    "    return model"
   ]
  },
  {
   "cell_type": "code",
   "execution_count": 229,
   "metadata": {},
   "outputs": [
    {
     "name": "stdout",
     "output_type": "stream",
     "text": [
      "__________________________________________________________________________________________________\n",
      "Layer (type)                    Output Shape         Param #     Connected to                     \n",
      "==================================================================================================\n",
      "time_input (InputLayer)         (None, 35, 2)        0                                            \n",
      "__________________________________________________________________________________________________\n",
      "lstm_4 (LSTM)                   (None, 32)           4480        time_input[0][0]                 \n",
      "__________________________________________________________________________________________________\n",
      "aux_input (InputLayer)          (None, 476)          0                                            \n",
      "__________________________________________________________________________________________________\n",
      "concatenate_3 (Concatenate)     (None, 508)          0           lstm_4[0][0]                     \n",
      "                                                                 aux_input[0][0]                  \n",
      "__________________________________________________________________________________________________\n",
      "dense_10 (Dense)                (None, 128)          65152       concatenate_3[0][0]              \n",
      "__________________________________________________________________________________________________\n",
      "dense_11 (Dense)                (None, 64)           8256        dense_10[0][0]                   \n",
      "__________________________________________________________________________________________________\n",
      "dense_12 (Dense)                (None, 64)           4160        dense_11[0][0]                   \n",
      "__________________________________________________________________________________________________\n",
      "dense_13 (Dense)                (None, 32)           2080        dense_12[0][0]                   \n",
      "__________________________________________________________________________________________________\n",
      "main_output (Dense)             (None, 3)            99          dense_13[0][0]                   \n",
      "==================================================================================================\n",
      "Total params: 84,227\n",
      "Trainable params: 84,227\n",
      "Non-trainable params: 0\n",
      "__________________________________________________________________________________________________\n"
     ]
    }
   ],
   "source": [
    "# Instantiating the classification model\n",
    "model = classification_model()\n",
    "model.summary()"
   ]
  },
  {
   "cell_type": "markdown",
   "metadata": {},
   "source": [
    "We use `ReduceLRonPlateau` so that the model does not overshoot the optimal minimum point and hence by default we start with a learning rate of 0.01 but as soon as the accuracy stop increasing the learning rate does not change which helps us converge better."
   ]
  },
  {
   "cell_type": "code",
   "execution_count": 230,
   "metadata": {},
   "outputs": [],
   "source": [
    "reduce_lr = ReduceLROnPlateau(monitor='val_loss', factor=0.2, patience=2, min_lr=0.001)"
   ]
  },
  {
   "cell_type": "code",
   "execution_count": 231,
   "metadata": {},
   "outputs": [
    {
     "name": "stdout",
     "output_type": "stream",
     "text": [
      "Train on 1963176 samples, validate on 245397 samples\n",
      "Epoch 1/5\n",
      "1963176/1963176 [==============================] - 381s 194us/step - loss: 0.3806 - acc: 0.9124 - val_loss: 0.2217 - val_acc: 0.9146\n",
      "Epoch 2/5\n",
      "1963176/1963176 [==============================] - 377s 192us/step - loss: 0.0985 - acc: 0.9656 - val_loss: 0.1159 - val_acc: 0.9602\n",
      "Epoch 3/5\n",
      "1963176/1963176 [==============================] - 379s 193us/step - loss: 0.0787 - acc: 0.9721 - val_loss: 0.2706 - val_acc: 0.8890\n",
      "Epoch 4/5\n",
      "1963176/1963176 [==============================] - 380s 194us/step - loss: 0.0635 - acc: 0.9776 - val_loss: 0.1266 - val_acc: 0.9540\n",
      "Epoch 5/5\n",
      "1963176/1963176 [==============================] - 381s 194us/step - loss: 0.0543 - acc: 0.9808 - val_loss: 0.0757 - val_acc: 0.9728\n"
     ]
    },
    {
     "data": {
      "text/plain": [
       "<keras.callbacks.History at 0x7f53a54707b8>"
      ]
     },
     "execution_count": 231,
     "metadata": {},
     "output_type": "execute_result"
    }
   ],
   "source": [
    "# Running the model with the training, testing and validation set and for 10 epocsh and size 256\n",
    "model.fit({'time_input': trained_pca,\n",
    "           'aux_input': np.array(training_auxiliary)\n",
    "    }, {'main_output': y_train_oh }, \n",
    "          validation_data=([val_pca, np.array(validation_auxiliary)], [y_val_oh]),\n",
    "          epochs=5, batch_size=256, callbacks=[reduce_lr], shuffle=True\n",
    ")"
   ]
  },
  {
   "cell_type": "code",
   "execution_count": 260,
   "metadata": {},
   "outputs": [],
   "source": [
    "## Saving the model and its architecture, so that it can be loaded in later\n",
    "model.save('/dlabdata1/harshdee/citation_model.h5')\n",
    "json_string = model.to_json()\n",
    "with open(\"/dlabdata1/harshdee/model_num.json\", \"w\") as json_file:\n",
    "    json_file.write(json_string)"
   ]
  },
  {
   "cell_type": "code",
   "execution_count": 232,
   "metadata": {},
   "outputs": [],
   "source": [
    "prediction = model.predict([test_pca, np.array(testing_auxiliary)])"
   ]
  },
  {
   "cell_type": "code",
   "execution_count": 234,
   "metadata": {},
   "outputs": [
    {
     "data": {
      "text/plain": [
       "(245398, 3)"
      ]
     },
     "execution_count": 234,
     "metadata": {},
     "output_type": "execute_result"
    }
   ],
   "source": [
    "prediction.shape"
   ]
  },
  {
   "cell_type": "code",
   "execution_count": 235,
   "metadata": {},
   "outputs": [],
   "source": [
    "# np.amax(prediction, axis=1)\n",
    "y_pred = np.argmax(prediction, axis=1)"
   ]
  },
  {
   "cell_type": "code",
   "execution_count": 254,
   "metadata": {},
   "outputs": [
    {
     "name": "stdout",
     "output_type": "stream",
     "text": [
      "Accuracy of the Neural network model: 0.9696248543182912\n"
     ]
    },
    {
     "data": {
      "text/html": [
       "<div>\n",
       "<style scoped>\n",
       "    .dataframe tbody tr th:only-of-type {\n",
       "        vertical-align: middle;\n",
       "    }\n",
       "\n",
       "    .dataframe tbody tr th {\n",
       "        vertical-align: top;\n",
       "    }\n",
       "\n",
       "    .dataframe thead th {\n",
       "        text-align: right;\n",
       "    }\n",
       "</style>\n",
       "<table border=\"1\" class=\"dataframe\">\n",
       "  <thead>\n",
       "    <tr style=\"text-align: right;\">\n",
       "      <th></th>\n",
       "      <th>book</th>\n",
       "      <th>journal</th>\n",
       "      <th>newspapers/rest</th>\n",
       "    </tr>\n",
       "  </thead>\n",
       "  <tbody>\n",
       "    <tr>\n",
       "      <th>book</th>\n",
       "      <td>53891</td>\n",
       "      <td>2136</td>\n",
       "      <td>1728</td>\n",
       "    </tr>\n",
       "    <tr>\n",
       "      <th>journal</th>\n",
       "      <td>2747</td>\n",
       "      <td>78774</td>\n",
       "      <td>816</td>\n",
       "    </tr>\n",
       "    <tr>\n",
       "      <th>newspapers/rest</th>\n",
       "      <td>25</td>\n",
       "      <td>2</td>\n",
       "      <td>105279</td>\n",
       "    </tr>\n",
       "  </tbody>\n",
       "</table>\n",
       "</div>"
      ],
      "text/plain": [
       "                  book  journal  newspapers/rest\n",
       "book             53891     2136             1728\n",
       "journal           2747    78774              816\n",
       "newspapers/rest     25        2           105279"
      ]
     },
     "execution_count": 254,
     "metadata": {},
     "output_type": "execute_result"
    }
   ],
   "source": [
    "print(\"Accuracy of the Neural network model:\", accuracy_score(y_test, y_pred))\n",
    "# confusion matrix of the results/testing set\n",
    "res = pd.DataFrame(confusion_matrix(y_test, y_pred))\n",
    "res.index = ['book', 'journal', 'newspapers/rest']\n",
    "res.columns = ['book', 'journal', 'newspapers/rest']\n",
    "\n",
    "res"
   ]
  },
  {
   "cell_type": "code",
   "execution_count": 244,
   "metadata": {},
   "outputs": [
    {
     "data": {
      "text/html": [
       "<div>\n",
       "<style scoped>\n",
       "    .dataframe tbody tr th:only-of-type {\n",
       "        vertical-align: middle;\n",
       "    }\n",
       "\n",
       "    .dataframe tbody tr th {\n",
       "        vertical-align: top;\n",
       "    }\n",
       "\n",
       "    .dataframe thead th {\n",
       "        text-align: right;\n",
       "    }\n",
       "</style>\n",
       "<table border=\"1\" class=\"dataframe\">\n",
       "  <thead>\n",
       "    <tr style=\"text-align: right;\">\n",
       "      <th></th>\n",
       "      <th>predicted_label</th>\n",
       "      <th>actual_label</th>\n",
       "    </tr>\n",
       "    <tr>\n",
       "      <th>index_number</th>\n",
       "      <th></th>\n",
       "      <th></th>\n",
       "    </tr>\n",
       "  </thead>\n",
       "  <tbody>\n",
       "    <tr>\n",
       "      <th>1796644</th>\n",
       "      <td>2</td>\n",
       "      <td>2</td>\n",
       "    </tr>\n",
       "    <tr>\n",
       "      <th>2424867</th>\n",
       "      <td>2</td>\n",
       "      <td>2</td>\n",
       "    </tr>\n",
       "    <tr>\n",
       "      <th>941168</th>\n",
       "      <td>1</td>\n",
       "      <td>1</td>\n",
       "    </tr>\n",
       "    <tr>\n",
       "      <th>408993</th>\n",
       "      <td>1</td>\n",
       "      <td>1</td>\n",
       "    </tr>\n",
       "    <tr>\n",
       "      <th>1097016</th>\n",
       "      <td>1</td>\n",
       "      <td>1</td>\n",
       "    </tr>\n",
       "  </tbody>\n",
       "</table>\n",
       "</div>"
      ],
      "text/plain": [
       "              predicted_label  actual_label\n",
       "index_number                               \n",
       "1796644                     2             2\n",
       "2424867                     2             2\n",
       "941168                      1             1\n",
       "408993                      1             1\n",
       "1097016                     1             1"
      ]
     },
     "execution_count": 244,
     "metadata": {},
     "output_type": "execute_result"
    }
   ],
   "source": [
    "# Make a dataframe which contains the predicted and true labels for the testing set\n",
    "predict_val = pd.DataFrame(\n",
    "    list(zip(test_indices, y_pred.ravel().astype(int).tolist(), y_test)),\n",
    "    columns=['index_number', 'predicted_label', 'actual_label'])\n",
    "predict_val = predict_val.set_index(['index_number'])\n",
    "predict_val.head()"
   ]
  },
  {
   "cell_type": "code",
   "execution_count": 246,
   "metadata": {},
   "outputs": [],
   "source": [
    "# Get labels with the predicted label and actual label and merge it with the citation which we have trained it on\n",
    "labels_with_info = pd.merge(predict_val, ids_and_citations, left_index=True, right_index=True)"
   ]
  },
  {
   "cell_type": "code",
   "execution_count": 264,
   "metadata": {},
   "outputs": [
    {
     "data": {
      "text/html": [
       "<div>\n",
       "<style scoped>\n",
       "    .dataframe tbody tr th:only-of-type {\n",
       "        vertical-align: middle;\n",
       "    }\n",
       "\n",
       "    .dataframe tbody tr th {\n",
       "        vertical-align: top;\n",
       "    }\n",
       "\n",
       "    .dataframe thead th {\n",
       "        text-align: right;\n",
       "    }\n",
       "</style>\n",
       "<table border=\"1\" class=\"dataframe\">\n",
       "  <thead>\n",
       "    <tr style=\"text-align: right;\">\n",
       "      <th></th>\n",
       "      <th>predicted_label</th>\n",
       "      <th>actual_label</th>\n",
       "      <th>id</th>\n",
       "      <th>citation</th>\n",
       "    </tr>\n",
       "  </thead>\n",
       "  <tbody>\n",
       "    <tr>\n",
       "      <th>1690888</th>\n",
       "      <td>1</td>\n",
       "      <td>2</td>\n",
       "      <td>37288587</td>\n",
       "      <td>{{Cite book | title = Quattroruote: Tutte le A...</td>\n",
       "    </tr>\n",
       "  </tbody>\n",
       "</table>\n",
       "</div>"
      ],
      "text/plain": [
       "         predicted_label  actual_label        id  \\\n",
       "1690888                1             2  37288587   \n",
       "\n",
       "                                                  citation  \n",
       "1690888  {{Cite book | title = Quattroruote: Tutte le A...  "
      ]
     },
     "execution_count": 264,
     "metadata": {},
     "output_type": "execute_result"
    }
   ],
   "source": [
    "labels_with_info[((labels_with_info['predicted_label'] == 1) & (labels_with_info['actual_label'] == 2))]"
   ]
  },
  {
   "cell_type": "code",
   "execution_count": 263,
   "metadata": {},
   "outputs": [
    {
     "data": {
      "text/html": [
       "<div>\n",
       "<style scoped>\n",
       "    .dataframe tbody tr th:only-of-type {\n",
       "        vertical-align: middle;\n",
       "    }\n",
       "\n",
       "    .dataframe tbody tr th {\n",
       "        vertical-align: top;\n",
       "    }\n",
       "\n",
       "    .dataframe thead th {\n",
       "        text-align: right;\n",
       "    }\n",
       "</style>\n",
       "<table border=\"1\" class=\"dataframe\">\n",
       "  <thead>\n",
       "    <tr style=\"text-align: right;\">\n",
       "      <th></th>\n",
       "      <th>predicted_label</th>\n",
       "      <th>actual_label</th>\n",
       "      <th>id</th>\n",
       "      <th>citation</th>\n",
       "    </tr>\n",
       "  </thead>\n",
       "  <tbody>\n",
       "    <tr>\n",
       "      <th>1664001</th>\n",
       "      <td>0</td>\n",
       "      <td>2</td>\n",
       "      <td>12916885</td>\n",
       "      <td>{{Cite journal | author = Ashton, P. | title =...</td>\n",
       "    </tr>\n",
       "    <tr>\n",
       "      <th>1730809</th>\n",
       "      <td>0</td>\n",
       "      <td>2</td>\n",
       "      <td>22332593</td>\n",
       "      <td>{{cite book| title=East Fishkill| page=109| fi...</td>\n",
       "    </tr>\n",
       "    <tr>\n",
       "      <th>1762490</th>\n",
       "      <td>0</td>\n",
       "      <td>2</td>\n",
       "      <td>164968</td>\n",
       "      <td>{{Cite book|title=Steno on Muscles|author=Troe...</td>\n",
       "    </tr>\n",
       "    <tr>\n",
       "      <th>1791742</th>\n",
       "      <td>0</td>\n",
       "      <td>2</td>\n",
       "      <td>3162850</td>\n",
       "      <td>{{cite book |last=|first=|authorlink=|editor=S...</td>\n",
       "    </tr>\n",
       "    <tr>\n",
       "      <th>1842133</th>\n",
       "      <td>0</td>\n",
       "      <td>2</td>\n",
       "      <td>5689694</td>\n",
       "      <td>{{cite journal|author1=Salkin, Alf |author2=Ha...</td>\n",
       "    </tr>\n",
       "    <tr>\n",
       "      <th>1851799</th>\n",
       "      <td>0</td>\n",
       "      <td>2</td>\n",
       "      <td>33277</td>\n",
       "      <td>{{cite book |title=William Morris and Edward B...</td>\n",
       "    </tr>\n",
       "    <tr>\n",
       "      <th>1855144</th>\n",
       "      <td>0</td>\n",
       "      <td>2</td>\n",
       "      <td>10074626</td>\n",
       "      <td>{{cite book |last=Espelid |first=Harald |title...</td>\n",
       "    </tr>\n",
       "  </tbody>\n",
       "</table>\n",
       "</div>"
      ],
      "text/plain": [
       "         predicted_label  actual_label        id  \\\n",
       "1664001                0             2  12916885   \n",
       "1730809                0             2  22332593   \n",
       "1762490                0             2    164968   \n",
       "1791742                0             2   3162850   \n",
       "1842133                0             2   5689694   \n",
       "1851799                0             2     33277   \n",
       "1855144                0             2  10074626   \n",
       "\n",
       "                                                  citation  \n",
       "1664001  {{Cite journal | author = Ashton, P. | title =...  \n",
       "1730809  {{cite book| title=East Fishkill| page=109| fi...  \n",
       "1762490  {{Cite book|title=Steno on Muscles|author=Troe...  \n",
       "1791742  {{cite book |last=|first=|authorlink=|editor=S...  \n",
       "1842133  {{cite journal|author1=Salkin, Alf |author2=Ha...  \n",
       "1851799  {{cite book |title=William Morris and Edward B...  \n",
       "1855144  {{cite book |last=Espelid |first=Harald |title...  "
      ]
     },
     "execution_count": 263,
     "metadata": {},
     "output_type": "execute_result"
    }
   ],
   "source": [
    "labels_with_info[((labels_with_info['predicted_label'] == 0) & (labels_with_info['actual_label'] == 2))]"
   ]
  },
  {
   "cell_type": "code",
   "execution_count": 266,
   "metadata": {},
   "outputs": [
    {
     "data": {
      "text/html": [
       "<div>\n",
       "<style scoped>\n",
       "    .dataframe tbody tr th:only-of-type {\n",
       "        vertical-align: middle;\n",
       "    }\n",
       "\n",
       "    .dataframe tbody tr th {\n",
       "        vertical-align: top;\n",
       "    }\n",
       "\n",
       "    .dataframe thead th {\n",
       "        text-align: right;\n",
       "    }\n",
       "</style>\n",
       "<table border=\"1\" class=\"dataframe\">\n",
       "  <thead>\n",
       "    <tr style=\"text-align: right;\">\n",
       "      <th></th>\n",
       "      <th>predicted_label</th>\n",
       "      <th>actual_label</th>\n",
       "      <th>id</th>\n",
       "      <th>citation</th>\n",
       "    </tr>\n",
       "  </thead>\n",
       "  <tbody>\n",
       "    <tr>\n",
       "      <th>92</th>\n",
       "      <td>0</td>\n",
       "      <td>1</td>\n",
       "      <td>1833304</td>\n",
       "      <td>{{cite conference|authors=Potter, R., Weldon, ...</td>\n",
       "    </tr>\n",
       "    <tr>\n",
       "      <th>92</th>\n",
       "      <td>0</td>\n",
       "      <td>1</td>\n",
       "      <td>46923213</td>\n",
       "      <td>{{Cite news |url= https://www.washingtonpost.c...</td>\n",
       "    </tr>\n",
       "    <tr>\n",
       "      <th>371</th>\n",
       "      <td>0</td>\n",
       "      <td>1</td>\n",
       "      <td>1840387</td>\n",
       "      <td>{{Cite journal|last=Silk|first=Joan B.|last2=A...</td>\n",
       "    </tr>\n",
       "    <tr>\n",
       "      <th>371</th>\n",
       "      <td>0</td>\n",
       "      <td>1</td>\n",
       "      <td>49433544</td>\n",
       "      <td>{{Cite news|url=https://www.nytimes.com/2003/0...</td>\n",
       "    </tr>\n",
       "    <tr>\n",
       "      <th>385</th>\n",
       "      <td>0</td>\n",
       "      <td>1</td>\n",
       "      <td>1840387</td>\n",
       "      <td>{{Cite journal|last=Kemp|first=Andrew H.|last2...</td>\n",
       "    </tr>\n",
       "  </tbody>\n",
       "</table>\n",
       "</div>"
      ],
      "text/plain": [
       "     predicted_label  actual_label        id  \\\n",
       "92                 0             1   1833304   \n",
       "92                 0             1  46923213   \n",
       "371                0             1   1840387   \n",
       "371                0             1  49433544   \n",
       "385                0             1   1840387   \n",
       "\n",
       "                                              citation  \n",
       "92   {{cite conference|authors=Potter, R., Weldon, ...  \n",
       "92   {{Cite news |url= https://www.washingtonpost.c...  \n",
       "371  {{Cite journal|last=Silk|first=Joan B.|last2=A...  \n",
       "371  {{Cite news|url=https://www.nytimes.com/2003/0...  \n",
       "385  {{Cite journal|last=Kemp|first=Andrew H.|last2...  "
      ]
     },
     "execution_count": 266,
     "metadata": {},
     "output_type": "execute_result"
    }
   ],
   "source": [
    "labels_with_info[((labels_with_info['predicted_label'] == 0) & (labels_with_info['actual_label'] == 1))].head(5)"
   ]
  },
  {
   "cell_type": "code",
   "execution_count": 267,
   "metadata": {},
   "outputs": [
    {
     "data": {
      "text/html": [
       "<div>\n",
       "<style scoped>\n",
       "    .dataframe tbody tr th:only-of-type {\n",
       "        vertical-align: middle;\n",
       "    }\n",
       "\n",
       "    .dataframe tbody tr th {\n",
       "        vertical-align: top;\n",
       "    }\n",
       "\n",
       "    .dataframe thead th {\n",
       "        text-align: right;\n",
       "    }\n",
       "</style>\n",
       "<table border=\"1\" class=\"dataframe\">\n",
       "  <thead>\n",
       "    <tr style=\"text-align: right;\">\n",
       "      <th></th>\n",
       "      <th>predicted_label</th>\n",
       "      <th>actual_label</th>\n",
       "      <th>id</th>\n",
       "      <th>citation</th>\n",
       "    </tr>\n",
       "  </thead>\n",
       "  <tbody>\n",
       "    <tr>\n",
       "      <th>127</th>\n",
       "      <td>1</td>\n",
       "      <td>0</td>\n",
       "      <td>1834251</td>\n",
       "      <td>{{citation|title=Islam in World Cultures: Comp...</td>\n",
       "    </tr>\n",
       "    <tr>\n",
       "      <th>127</th>\n",
       "      <td>1</td>\n",
       "      <td>0</td>\n",
       "      <td>22754875</td>\n",
       "      <td>{{Cite news| issn = 0261-3077| last = Monbiot|...</td>\n",
       "    </tr>\n",
       "    <tr>\n",
       "      <th>1156</th>\n",
       "      <td>1</td>\n",
       "      <td>0</td>\n",
       "      <td>1855357</td>\n",
       "      <td>{{cite journal|last=Jones|author2=Lawton, and ...</td>\n",
       "    </tr>\n",
       "    <tr>\n",
       "      <th>1156</th>\n",
       "      <td>1</td>\n",
       "      <td>0</td>\n",
       "      <td>45391560</td>\n",
       "      <td>{{cite news |first=Clive |last=Lindsay |title=...</td>\n",
       "    </tr>\n",
       "    <tr>\n",
       "      <th>1215</th>\n",
       "      <td>1</td>\n",
       "      <td>0</td>\n",
       "      <td>1856816</td>\n",
       "      <td>{{cite journal |last1=Crepineau |first1=Floren...</td>\n",
       "    </tr>\n",
       "  </tbody>\n",
       "</table>\n",
       "</div>"
      ],
      "text/plain": [
       "      predicted_label  actual_label        id  \\\n",
       "127                 1             0   1834251   \n",
       "127                 1             0  22754875   \n",
       "1156                1             0   1855357   \n",
       "1156                1             0  45391560   \n",
       "1215                1             0   1856816   \n",
       "\n",
       "                                               citation  \n",
       "127   {{citation|title=Islam in World Cultures: Comp...  \n",
       "127   {{Cite news| issn = 0261-3077| last = Monbiot|...  \n",
       "1156  {{cite journal|last=Jones|author2=Lawton, and ...  \n",
       "1156  {{cite news |first=Clive |last=Lindsay |title=...  \n",
       "1215  {{cite journal |last1=Crepineau |first1=Floren...  "
      ]
     },
     "execution_count": 267,
     "metadata": {},
     "output_type": "execute_result"
    }
   ],
   "source": [
    "labels_with_info[((labels_with_info['predicted_label'] == 1) & (labels_with_info['actual_label'] == 0))].head(5)"
   ]
  },
  {
   "cell_type": "markdown",
   "metadata": {},
   "source": [
    "## Training/Testing split different - 80/20 ratio"
   ]
  },
  {
   "cell_type": "markdown",
   "metadata": {},
   "source": [
    "This is done for consistency in results and comparing it with the Random Forest model we generated in the other notebook."
   ]
  },
  {
   "cell_type": "code",
   "execution_count": null,
   "metadata": {},
   "outputs": [],
   "source": [
    "# Instantiating the model with a different split\n",
    "# model_split_different = classification_model()\n",
    "# model_split_different.summary()"
   ]
  },
  {
   "cell_type": "code",
   "execution_count": null,
   "metadata": {},
   "outputs": [],
   "source": [
    "# Appending validation and testing set together to make testing set of 20%\n",
    "# new_test_pca = np.concatenate((val_pca,test_pca))\n",
    "# new_testing_auxiliary = np.concatenate((validation_auxiliary, testing_auxiliary))\n",
    "# new_y_test = y_val + y_test"
   ]
  },
  {
   "cell_type": "code",
   "execution_count": null,
   "metadata": {},
   "outputs": [],
   "source": [
    "# Fitting the model for 10 epochs and a batch size of 256\n",
    "# hist = model_split_different.fit({'time_input': trained_pca,\n",
    "#            'aux_input': np.array(training_auxiliary)\n",
    "#     }, {'main_output': np.array(y_train) }, \n",
    "#           epochs=10, batch_size=256, callbacks=[reduce_lr], shuffle=True\n",
    "# )"
   ]
  },
  {
   "cell_type": "code",
   "execution_count": null,
   "metadata": {},
   "outputs": [],
   "source": [
    "# Do predictions on the testing set\n",
    "# prediction2 = model2.predict([new_test_pca, np.array(new_testing_auxiliary)])\n",
    "# y_pred2 = prediction2 > 0.5"
   ]
  },
  {
   "cell_type": "code",
   "execution_count": null,
   "metadata": {},
   "outputs": [],
   "source": [
    "# print(\"Accuracy of the Neural network model:\", metrics.accuracy_score(new_y_test, y_pred2))\n",
    "# # confusion matrix of the results/testing set\n",
    "# pd.DataFrame(confusion_matrix(new_y_test, y_pred2))"
   ]
  }
 ],
 "metadata": {
  "kernelspec": {
   "display_name": "Python 3",
   "language": "python",
   "name": "python3"
  },
  "language_info": {
   "codemirror_mode": {
    "name": "ipython",
    "version": 3
   },
   "file_extension": ".py",
   "mimetype": "text/x-python",
   "name": "python",
   "nbconvert_exporter": "python",
   "pygments_lexer": "ipython3",
   "version": "3.6.7"
  }
 },
 "nbformat": 4,
 "nbformat_minor": 2
}
