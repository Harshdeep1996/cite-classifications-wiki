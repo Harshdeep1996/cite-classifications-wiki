{
 "cells": [
  {
   "cell_type": "code",
   "execution_count": 384,
   "metadata": {},
   "outputs": [],
   "source": [
    "import keras\n",
    "import numpy as np\n",
    "import pandas as pd\n",
    "from tqdm import tqdm\n",
    "import tensorflow as tf\n",
    "from itertools import chain\n",
    "from keras.models import Model\n",
    "import matplotlib.pyplot as plt\n",
    "from collections import Counter\n",
    "from sklearn.manifold import TSNE\n",
    "from gensim.models import FastText\n",
    "from sklearn.decomposition import PCA\n",
    "from sklearn.metrics import confusion_matrix, classification_report\n",
    "from keras.callbacks import ReduceLROnPlateau\n",
    "from sklearn.model_selection import train_test_split \n",
    "from keras.preprocessing.sequence import pad_sequences\n",
    "from sklearn.metrics.pairwise import cosine_similarity\n",
    "from sklearn.feature_extraction.text import CountVectorizer\n",
    "from keras.layers import Input, Embedding, LSTM, Dense, Bidirectional\n",
    "\n",
    "import warnings\n",
    "warnings.filterwarnings(\"ignore\")\n",
    "\n",
    "# Initializing tqdm for pandas\n",
    "tqdm.pandas()"
   ]
  },
  {
   "cell_type": "code",
   "execution_count": 2,
   "metadata": {},
   "outputs": [],
   "source": [
    "np.random.seed(0)"
   ]
  },
  {
   "cell_type": "code",
   "execution_count": 3,
   "metadata": {},
   "outputs": [],
   "source": [
    "citations_features = pd.read_parquet('./citations_features.parquet/', engine='pyarrow')\n",
    "dataset = pd.read_csv('dataset.csv')"
   ]
  },
  {
   "cell_type": "code",
   "execution_count": 4,
   "metadata": {},
   "outputs": [],
   "source": [
    "# Merging the citation and their corresponding features which have been extracted\n",
    "dataset_with_features = pd.merge(\n",
    "    dataset, citations_features, how='inner', left_on=['id','citation'], right_on = ['id','citation']\n",
    ")\n",
    "dataset_with_features.drop('page_title_y', axis=1, inplace=True)\n",
    "dataset_with_features.drop('Unnamed: 0', axis=1, inplace=True)"
   ]
  },
  {
   "cell_type": "code",
   "execution_count": 5,
   "metadata": {},
   "outputs": [],
   "source": [
    "# Only consider unique citations so that the dataset is more varied\n",
    "dataset_with_features  = dataset_with_features.set_index(['id', 'citation'])\n",
    "dataset_with_features = dataset_with_features[~dataset_with_features.index.duplicated(keep='first')]\n",
    "dataset_with_features = dataset_with_features.reset_index()"
   ]
  },
  {
   "cell_type": "markdown",
   "metadata": {},
   "source": [
    "## Get auxiliary features \n",
    "\n",
    "1. `ref_index`\n",
    "2. `total_words`\n",
    "3. `sections`\n",
    "4. `tags`\n",
    "5. `type_of_citation`"
   ]
  },
  {
   "cell_type": "markdown",
   "metadata": {},
   "source": [
    "### Taking the unique `sections` and one hot encoding it to get a vector"
   ]
  },
  {
   "cell_type": "code",
   "execution_count": 6,
   "metadata": {},
   "outputs": [],
   "source": [
    "# Only processing auxiliary features which are going to be used in the neural network\n",
    "auxiliary_features = dataset_with_features[\n",
    "    ['sections', 'citation_type', 'citation', 'id', 'ref_index',\n",
    "     'total_words', 'neighboring_tags', 'scientific_or_not']]"
   ]
  },
  {
   "cell_type": "code",
   "execution_count": 7,
   "metadata": {},
   "outputs": [],
   "source": [
    "auxiliary_features['sections'] = auxiliary_features['sections'].astype(str)\n",
    "auxiliary_features['sections'] = auxiliary_features['sections'].apply(lambda x: x.split(', '))"
   ]
  },
  {
   "cell_type": "code",
   "execution_count": 8,
   "metadata": {},
   "outputs": [],
   "source": [
    "section_counts = pd.Series(Counter(chain.from_iterable(x for x in auxiliary_features.sections)))\n",
    "largest_sections = section_counts.nlargest(150)"
   ]
  },
  {
   "cell_type": "code",
   "execution_count": 9,
   "metadata": {},
   "outputs": [
    {
     "name": "stderr",
     "output_type": "stream",
     "text": [
      "100%|██████████| 1906419/1906419 [00:06<00:00, 293689.78it/s]\n"
     ]
    }
   ],
   "source": [
    "# Change section to `OTHERS` if occurence of the section is not in the 150 largest sections\n",
    "auxiliary_features['sections'] = auxiliary_features['sections'].progress_apply(\n",
    "    lambda x: list(set(['Others' if i not in largest_sections else i for i in x]))\n",
    ")"
   ]
  },
  {
   "cell_type": "code",
   "execution_count": 10,
   "metadata": {},
   "outputs": [],
   "source": [
    "section_dummies = pd.get_dummies(auxiliary_features.sections.apply(pd.Series).stack())"
   ]
  },
  {
   "cell_type": "code",
   "execution_count": 11,
   "metadata": {},
   "outputs": [],
   "source": [
    "auxiliary_features = auxiliary_features.join(section_dummies.sum(level=0))"
   ]
  },
  {
   "cell_type": "code",
   "execution_count": 12,
   "metadata": {},
   "outputs": [
    {
     "data": {
      "text/html": [
       "<div>\n",
       "<style scoped>\n",
       "    .dataframe tbody tr th:only-of-type {\n",
       "        vertical-align: middle;\n",
       "    }\n",
       "\n",
       "    .dataframe tbody tr th {\n",
       "        vertical-align: top;\n",
       "    }\n",
       "\n",
       "    .dataframe thead th {\n",
       "        text-align: right;\n",
       "    }\n",
       "</style>\n",
       "<table border=\"1\" class=\"dataframe\">\n",
       "  <thead>\n",
       "    <tr style=\"text-align: right;\">\n",
       "      <th></th>\n",
       "      <th>citation_type</th>\n",
       "      <th>citation</th>\n",
       "      <th>id</th>\n",
       "      <th>ref_index</th>\n",
       "      <th>total_words</th>\n",
       "      <th>neighboring_tags</th>\n",
       "      <th>scientific_or_not</th>\n",
       "      <th>20th century</th>\n",
       "      <th>Activity</th>\n",
       "      <th>Adverse effects</th>\n",
       "      <th>...</th>\n",
       "      <th>Treatment</th>\n",
       "      <th>Treatments</th>\n",
       "      <th>Types</th>\n",
       "      <th>Usage</th>\n",
       "      <th>Use</th>\n",
       "      <th>Uses</th>\n",
       "      <th>Work</th>\n",
       "      <th>Works</th>\n",
       "      <th>[[Actinobacteria]]</th>\n",
       "      <th>nan</th>\n",
       "    </tr>\n",
       "  </thead>\n",
       "  <tbody>\n",
       "    <tr>\n",
       "      <th>0</th>\n",
       "      <td>cite journal</td>\n",
       "      <td>{{cite journal | author= Kenneth Cornetta | au...</td>\n",
       "      <td>1831220</td>\n",
       "      <td>946</td>\n",
       "      <td>1649</td>\n",
       "      <td>[IN, DT, JJ, NN, TO, VB, IN, JJ, NN, :, NNS, I...</td>\n",
       "      <td>True</td>\n",
       "      <td>0</td>\n",
       "      <td>0</td>\n",
       "      <td>0</td>\n",
       "      <td>...</td>\n",
       "      <td>0</td>\n",
       "      <td>0</td>\n",
       "      <td>0</td>\n",
       "      <td>0</td>\n",
       "      <td>0</td>\n",
       "      <td>0</td>\n",
       "      <td>0</td>\n",
       "      <td>0</td>\n",
       "      <td>0</td>\n",
       "      <td>0</td>\n",
       "    </tr>\n",
       "    <tr>\n",
       "      <th>1</th>\n",
       "      <td>cite journal</td>\n",
       "      <td>{{cite journal|last=Sorgi|first=FL|author2=Bha...</td>\n",
       "      <td>1831220</td>\n",
       "      <td>1034</td>\n",
       "      <td>1649</td>\n",
       "      <td>[CD, JJ, NN, CD, NN, CC, JJ, NN, ., VBG, JJ, N...</td>\n",
       "      <td>True</td>\n",
       "      <td>0</td>\n",
       "      <td>0</td>\n",
       "      <td>0</td>\n",
       "      <td>...</td>\n",
       "      <td>0</td>\n",
       "      <td>0</td>\n",
       "      <td>0</td>\n",
       "      <td>0</td>\n",
       "      <td>0</td>\n",
       "      <td>0</td>\n",
       "      <td>0</td>\n",
       "      <td>0</td>\n",
       "      <td>0</td>\n",
       "      <td>0</td>\n",
       "    </tr>\n",
       "    <tr>\n",
       "      <th>2</th>\n",
       "      <td>cite journal</td>\n",
       "      <td>{{cite journal|last=Walker|first=WS|author2=Re...</td>\n",
       "      <td>1831220</td>\n",
       "      <td>1194</td>\n",
       "      <td>1649</td>\n",
       "      <td>[JJ, NNS, VBG, NN, CC, VBD, CC, JJ, NNS, ., NN...</td>\n",
       "      <td>True</td>\n",
       "      <td>0</td>\n",
       "      <td>0</td>\n",
       "      <td>0</td>\n",
       "      <td>...</td>\n",
       "      <td>0</td>\n",
       "      <td>0</td>\n",
       "      <td>0</td>\n",
       "      <td>0</td>\n",
       "      <td>0</td>\n",
       "      <td>0</td>\n",
       "      <td>0</td>\n",
       "      <td>0</td>\n",
       "      <td>0</td>\n",
       "      <td>0</td>\n",
       "    </tr>\n",
       "    <tr>\n",
       "      <th>3</th>\n",
       "      <td>cite journal</td>\n",
       "      <td>{{cite journal|last=Campbell|first=FW|author2=...</td>\n",
       "      <td>1831220</td>\n",
       "      <td>1268</td>\n",
       "      <td>1649</td>\n",
       "      <td>[NNP, NN, CD, NN, CD, NNS, CD, NN, CD, NN, CD,...</td>\n",
       "      <td>True</td>\n",
       "      <td>0</td>\n",
       "      <td>0</td>\n",
       "      <td>0</td>\n",
       "      <td>...</td>\n",
       "      <td>0</td>\n",
       "      <td>0</td>\n",
       "      <td>0</td>\n",
       "      <td>0</td>\n",
       "      <td>0</td>\n",
       "      <td>0</td>\n",
       "      <td>0</td>\n",
       "      <td>0</td>\n",
       "      <td>0</td>\n",
       "      <td>0</td>\n",
       "    </tr>\n",
       "    <tr>\n",
       "      <th>4</th>\n",
       "      <td>cite journal</td>\n",
       "      <td>{{cite journal|last=Welsby|first=IJ|author2=Ne...</td>\n",
       "      <td>1831220</td>\n",
       "      <td>1360</td>\n",
       "      <td>1649</td>\n",
       "      <td>[CD, '', NN, NN, NNP, CD, NN, NN, '', JJ, CD, ...</td>\n",
       "      <td>True</td>\n",
       "      <td>0</td>\n",
       "      <td>0</td>\n",
       "      <td>0</td>\n",
       "      <td>...</td>\n",
       "      <td>0</td>\n",
       "      <td>0</td>\n",
       "      <td>0</td>\n",
       "      <td>0</td>\n",
       "      <td>0</td>\n",
       "      <td>0</td>\n",
       "      <td>0</td>\n",
       "      <td>0</td>\n",
       "      <td>0</td>\n",
       "      <td>0</td>\n",
       "    </tr>\n",
       "  </tbody>\n",
       "</table>\n",
       "<p>5 rows × 158 columns</p>\n",
       "</div>"
      ],
      "text/plain": [
       "  citation_type                                           citation       id  \\\n",
       "0  cite journal  {{cite journal | author= Kenneth Cornetta | au...  1831220   \n",
       "1  cite journal  {{cite journal|last=Sorgi|first=FL|author2=Bha...  1831220   \n",
       "2  cite journal  {{cite journal|last=Walker|first=WS|author2=Re...  1831220   \n",
       "3  cite journal  {{cite journal|last=Campbell|first=FW|author2=...  1831220   \n",
       "4  cite journal  {{cite journal|last=Welsby|first=IJ|author2=Ne...  1831220   \n",
       "\n",
       "   ref_index  total_words                                   neighboring_tags  \\\n",
       "0        946         1649  [IN, DT, JJ, NN, TO, VB, IN, JJ, NN, :, NNS, I...   \n",
       "1       1034         1649  [CD, JJ, NN, CD, NN, CC, JJ, NN, ., VBG, JJ, N...   \n",
       "2       1194         1649  [JJ, NNS, VBG, NN, CC, VBD, CC, JJ, NNS, ., NN...   \n",
       "3       1268         1649  [NNP, NN, CD, NN, CD, NNS, CD, NN, CD, NN, CD,...   \n",
       "4       1360         1649  [CD, '', NN, NN, NNP, CD, NN, NN, '', JJ, CD, ...   \n",
       "\n",
       "   scientific_or_not  20th century  Activity  Adverse effects  ...  Treatment  \\\n",
       "0               True             0         0                0  ...          0   \n",
       "1               True             0         0                0  ...          0   \n",
       "2               True             0         0                0  ...          0   \n",
       "3               True             0         0                0  ...          0   \n",
       "4               True             0         0                0  ...          0   \n",
       "\n",
       "   Treatments  Types  Usage  Use  Uses  Work  Works  [[Actinobacteria]]  nan  \n",
       "0           0      0      0    0     0     0      0                   0    0  \n",
       "1           0      0      0    0     0     0      0                   0    0  \n",
       "2           0      0      0    0     0     0      0                   0    0  \n",
       "3           0      0      0    0     0     0      0                   0    0  \n",
       "4           0      0      0    0     0     0      0                   0    0  \n",
       "\n",
       "[5 rows x 158 columns]"
      ]
     },
     "execution_count": 12,
     "metadata": {},
     "output_type": "execute_result"
    }
   ],
   "source": [
    "auxiliary_features.drop('sections', axis=1, inplace=True)\n",
    "auxiliary_features.head()"
   ]
  },
  {
   "cell_type": "markdown",
   "metadata": {},
   "source": [
    "### Taking the `type of citations` and one hot encoding it to get a vector"
   ]
  },
  {
   "cell_type": "code",
   "execution_count": 13,
   "metadata": {},
   "outputs": [],
   "source": [
    "# Get one hot encoding of citation_type column\n",
    "citation_type_encoding = pd.get_dummies(auxiliary_features['citation_type'])"
   ]
  },
  {
   "cell_type": "code",
   "execution_count": 14,
   "metadata": {},
   "outputs": [],
   "source": [
    "# Drop column citation_type as it is now encoded and join it\n",
    "auxiliary_features = auxiliary_features.drop('citation_type', axis = 1)"
   ]
  },
  {
   "cell_type": "code",
   "execution_count": 15,
   "metadata": {},
   "outputs": [
    {
     "data": {
      "text/html": [
       "<div>\n",
       "<style scoped>\n",
       "    .dataframe tbody tr th:only-of-type {\n",
       "        vertical-align: middle;\n",
       "    }\n",
       "\n",
       "    .dataframe tbody tr th {\n",
       "        vertical-align: top;\n",
       "    }\n",
       "\n",
       "    .dataframe thead th {\n",
       "        text-align: right;\n",
       "    }\n",
       "</style>\n",
       "<table border=\"1\" class=\"dataframe\">\n",
       "  <thead>\n",
       "    <tr style=\"text-align: right;\">\n",
       "      <th></th>\n",
       "      <th>citation</th>\n",
       "      <th>id</th>\n",
       "      <th>ref_index</th>\n",
       "      <th>total_words</th>\n",
       "      <th>neighboring_tags</th>\n",
       "      <th>scientific_or_not</th>\n",
       "      <th>20th century</th>\n",
       "      <th>Activity</th>\n",
       "      <th>Adverse effects</th>\n",
       "      <th>Aftermath</th>\n",
       "      <th>...</th>\n",
       "      <th>cite journal</th>\n",
       "      <th>cite map</th>\n",
       "      <th>cite news</th>\n",
       "      <th>cite newsgroup</th>\n",
       "      <th>cite report</th>\n",
       "      <th>cite speech</th>\n",
       "      <th>cite techreport</th>\n",
       "      <th>cite thesis</th>\n",
       "      <th>cite web</th>\n",
       "      <th>harvnb</th>\n",
       "    </tr>\n",
       "  </thead>\n",
       "  <tbody>\n",
       "    <tr>\n",
       "      <th>0</th>\n",
       "      <td>{{cite journal | author= Kenneth Cornetta | au...</td>\n",
       "      <td>1831220</td>\n",
       "      <td>946</td>\n",
       "      <td>1649</td>\n",
       "      <td>[IN, DT, JJ, NN, TO, VB, IN, JJ, NN, :, NNS, I...</td>\n",
       "      <td>True</td>\n",
       "      <td>0</td>\n",
       "      <td>0</td>\n",
       "      <td>0</td>\n",
       "      <td>0</td>\n",
       "      <td>...</td>\n",
       "      <td>1</td>\n",
       "      <td>0</td>\n",
       "      <td>0</td>\n",
       "      <td>0</td>\n",
       "      <td>0</td>\n",
       "      <td>0</td>\n",
       "      <td>0</td>\n",
       "      <td>0</td>\n",
       "      <td>0</td>\n",
       "      <td>0</td>\n",
       "    </tr>\n",
       "    <tr>\n",
       "      <th>1</th>\n",
       "      <td>{{cite journal|last=Sorgi|first=FL|author2=Bha...</td>\n",
       "      <td>1831220</td>\n",
       "      <td>1034</td>\n",
       "      <td>1649</td>\n",
       "      <td>[CD, JJ, NN, CD, NN, CC, JJ, NN, ., VBG, JJ, N...</td>\n",
       "      <td>True</td>\n",
       "      <td>0</td>\n",
       "      <td>0</td>\n",
       "      <td>0</td>\n",
       "      <td>0</td>\n",
       "      <td>...</td>\n",
       "      <td>1</td>\n",
       "      <td>0</td>\n",
       "      <td>0</td>\n",
       "      <td>0</td>\n",
       "      <td>0</td>\n",
       "      <td>0</td>\n",
       "      <td>0</td>\n",
       "      <td>0</td>\n",
       "      <td>0</td>\n",
       "      <td>0</td>\n",
       "    </tr>\n",
       "    <tr>\n",
       "      <th>2</th>\n",
       "      <td>{{cite journal|last=Walker|first=WS|author2=Re...</td>\n",
       "      <td>1831220</td>\n",
       "      <td>1194</td>\n",
       "      <td>1649</td>\n",
       "      <td>[JJ, NNS, VBG, NN, CC, VBD, CC, JJ, NNS, ., NN...</td>\n",
       "      <td>True</td>\n",
       "      <td>0</td>\n",
       "      <td>0</td>\n",
       "      <td>0</td>\n",
       "      <td>0</td>\n",
       "      <td>...</td>\n",
       "      <td>1</td>\n",
       "      <td>0</td>\n",
       "      <td>0</td>\n",
       "      <td>0</td>\n",
       "      <td>0</td>\n",
       "      <td>0</td>\n",
       "      <td>0</td>\n",
       "      <td>0</td>\n",
       "      <td>0</td>\n",
       "      <td>0</td>\n",
       "    </tr>\n",
       "    <tr>\n",
       "      <th>3</th>\n",
       "      <td>{{cite journal|last=Campbell|first=FW|author2=...</td>\n",
       "      <td>1831220</td>\n",
       "      <td>1268</td>\n",
       "      <td>1649</td>\n",
       "      <td>[NNP, NN, CD, NN, CD, NNS, CD, NN, CD, NN, CD,...</td>\n",
       "      <td>True</td>\n",
       "      <td>0</td>\n",
       "      <td>0</td>\n",
       "      <td>0</td>\n",
       "      <td>0</td>\n",
       "      <td>...</td>\n",
       "      <td>1</td>\n",
       "      <td>0</td>\n",
       "      <td>0</td>\n",
       "      <td>0</td>\n",
       "      <td>0</td>\n",
       "      <td>0</td>\n",
       "      <td>0</td>\n",
       "      <td>0</td>\n",
       "      <td>0</td>\n",
       "      <td>0</td>\n",
       "    </tr>\n",
       "    <tr>\n",
       "      <th>4</th>\n",
       "      <td>{{cite journal|last=Welsby|first=IJ|author2=Ne...</td>\n",
       "      <td>1831220</td>\n",
       "      <td>1360</td>\n",
       "      <td>1649</td>\n",
       "      <td>[CD, '', NN, NN, NNP, CD, NN, NN, '', JJ, CD, ...</td>\n",
       "      <td>True</td>\n",
       "      <td>0</td>\n",
       "      <td>0</td>\n",
       "      <td>0</td>\n",
       "      <td>0</td>\n",
       "      <td>...</td>\n",
       "      <td>1</td>\n",
       "      <td>0</td>\n",
       "      <td>0</td>\n",
       "      <td>0</td>\n",
       "      <td>0</td>\n",
       "      <td>0</td>\n",
       "      <td>0</td>\n",
       "      <td>0</td>\n",
       "      <td>0</td>\n",
       "      <td>0</td>\n",
       "    </tr>\n",
       "  </tbody>\n",
       "</table>\n",
       "<p>5 rows × 177 columns</p>\n",
       "</div>"
      ],
      "text/plain": [
       "                                            citation       id  ref_index  \\\n",
       "0  {{cite journal | author= Kenneth Cornetta | au...  1831220        946   \n",
       "1  {{cite journal|last=Sorgi|first=FL|author2=Bha...  1831220       1034   \n",
       "2  {{cite journal|last=Walker|first=WS|author2=Re...  1831220       1194   \n",
       "3  {{cite journal|last=Campbell|first=FW|author2=...  1831220       1268   \n",
       "4  {{cite journal|last=Welsby|first=IJ|author2=Ne...  1831220       1360   \n",
       "\n",
       "   total_words                                   neighboring_tags  \\\n",
       "0         1649  [IN, DT, JJ, NN, TO, VB, IN, JJ, NN, :, NNS, I...   \n",
       "1         1649  [CD, JJ, NN, CD, NN, CC, JJ, NN, ., VBG, JJ, N...   \n",
       "2         1649  [JJ, NNS, VBG, NN, CC, VBD, CC, JJ, NNS, ., NN...   \n",
       "3         1649  [NNP, NN, CD, NN, CD, NNS, CD, NN, CD, NN, CD,...   \n",
       "4         1649  [CD, '', NN, NN, NNP, CD, NN, NN, '', JJ, CD, ...   \n",
       "\n",
       "   scientific_or_not  20th century  Activity  Adverse effects  Aftermath  ...  \\\n",
       "0               True             0         0                0          0  ...   \n",
       "1               True             0         0                0          0  ...   \n",
       "2               True             0         0                0          0  ...   \n",
       "3               True             0         0                0          0  ...   \n",
       "4               True             0         0                0          0  ...   \n",
       "\n",
       "   cite journal  cite map  cite news  cite newsgroup  cite report  \\\n",
       "0             1         0          0               0            0   \n",
       "1             1         0          0               0            0   \n",
       "2             1         0          0               0            0   \n",
       "3             1         0          0               0            0   \n",
       "4             1         0          0               0            0   \n",
       "\n",
       "   cite speech  cite techreport  cite thesis  cite web  harvnb  \n",
       "0            0                0            0         0       0  \n",
       "1            0                0            0         0       0  \n",
       "2            0                0            0         0       0  \n",
       "3            0                0            0         0       0  \n",
       "4            0                0            0         0       0  \n",
       "\n",
       "[5 rows x 177 columns]"
      ]
     },
     "execution_count": 15,
     "metadata": {},
     "output_type": "execute_result"
    }
   ],
   "source": [
    "# Concat columns of the dummies along the axis with the matching index\n",
    "auxiliary_features = pd.concat([auxiliary_features, citation_type_encoding], axis=1)\n",
    "auxiliary_features.head()"
   ]
  },
  {
   "cell_type": "markdown",
   "metadata": {},
   "source": [
    "As we can see for the feature `total_number_of_words`, the mean and median **(since it is more robust in nature!)** are pretty high for articles which are non scientific than the articles which are scientific in nature."
   ]
  },
  {
   "cell_type": "code",
   "execution_count": 16,
   "metadata": {},
   "outputs": [
    {
     "name": "stdout",
     "output_type": "stream",
     "text": [
      "Total mean length of scientific articles: 6880.838957288607\n",
      "Total median length of scientific articles: 3089.0\n"
     ]
    }
   ],
   "source": [
    "print('Total mean length of scientific articles: {}'.format(\n",
    "    auxiliary_features[auxiliary_features['scientific_or_not'] == True]['total_words'].mean()))\n",
    "print('Total median length of scientific articles: {}'.format(\n",
    "    auxiliary_features[auxiliary_features['scientific_or_not'] == True]['total_words'].median()))"
   ]
  },
  {
   "cell_type": "code",
   "execution_count": 17,
   "metadata": {},
   "outputs": [
    {
     "name": "stdout",
     "output_type": "stream",
     "text": [
      "Total mean length of NON-scientific articles: 11202.782249006195\n",
      "Total median length of NON-scientific articles: 4569.0\n"
     ]
    }
   ],
   "source": [
    "print('Total mean length of NON-scientific articles: {}'.format(\n",
    "    auxiliary_features[auxiliary_features['scientific_or_not'] == False]['total_words'].mean()))\n",
    "print('Total median length of NON-scientific articles: {}'.format(\n",
    "    auxiliary_features[auxiliary_features['scientific_or_not'] == False]['total_words'].median()))"
   ]
  },
  {
   "cell_type": "markdown",
   "metadata": {},
   "source": [
    "### Taking the `neighboring_tags` and making an encoder dictionary for it\n",
    "\n",
    "To have more info about how what tag mean what: https://www.ling.upenn.edu/courses/Fall_2003/ling001/penn_treebank_pos.html"
   ]
  },
  {
   "cell_type": "code",
   "execution_count": 18,
   "metadata": {},
   "outputs": [],
   "source": [
    "citation_tag_features = dataset_with_features[['id', 'citation', 'neighboring_tags']]"
   ]
  },
  {
   "cell_type": "code",
   "execution_count": 19,
   "metadata": {},
   "outputs": [
    {
     "data": {
      "text/plain": [
       "array(['IN', 'DT', 'JJ', 'NN', 'TO', 'VB', 'IN', 'JJ', 'NN', ':', 'NNS',\n",
       "       'IN', 'JJ', 'NN', 'JJ', 'JJ', 'NNP', 'IN', 'NNP', 'NNP', 'NN',\n",
       "       'CD', 'NN', 'CD', 'NN', 'NN', 'CD', 'NN', ':', 'JJ', 'JJ', 'CD',\n",
       "       'JJ', 'NN', 'CD', 'NN', 'NN', 'NN', 'NNP', 'CD'], dtype=object)"
      ]
     },
     "execution_count": 19,
     "metadata": {},
     "output_type": "execute_result"
    }
   ],
   "source": [
    "citation_tag_features['neighboring_tags'].iloc[0]"
   ]
  },
  {
   "cell_type": "code",
   "execution_count": 20,
   "metadata": {},
   "outputs": [],
   "source": [
    "# Get the count for each POS tag so that we have an estimation as to how many are there\n",
    "tag_counts = pd.Series(Counter(chain.from_iterable(x for x in citation_tag_features.neighboring_tags)))"
   ]
  },
  {
   "cell_type": "code",
   "execution_count": 21,
   "metadata": {},
   "outputs": [
    {
     "data": {
      "text/plain": [
       "LS         1\n",
       "``       398\n",
       "UH      2576\n",
       "WP$     2741\n",
       "SYM     3352\n",
       "PDT     4764\n",
       "$      11931\n",
       "RBS    15975\n",
       "EX     19417\n",
       "RBR    28835\n",
       "dtype: int64"
      ]
     },
     "execution_count": 21,
     "metadata": {},
     "output_type": "execute_result"
    }
   ],
   "source": [
    "# Considering the 10 smallest tags and checking which one does not have resemblance\n",
    "tag_counts.nsmallest(10) "
   ]
  },
  {
   "cell_type": "markdown",
   "metadata": {},
   "source": [
    "We are going to replace `LS`, `the 2 backquotes` and the `the dollar symbol` since they do not have too much use case and do not give too much information about the context of the neighboring citation text."
   ]
  },
  {
   "cell_type": "code",
   "execution_count": 22,
   "metadata": {},
   "outputs": [
    {
     "name": "stderr",
     "output_type": "stream",
     "text": [
      "100%|██████████| 1906419/1906419 [00:14<00:00, 131585.68it/s]\n"
     ]
    }
   ],
   "source": [
    "OTHER_TAGS = ['LS', '``', '$']\n",
    "citation_tag_features['neighboring_tags'] = citation_tag_features['neighboring_tags'].progress_apply(\n",
    "    lambda x: [i if i not in OTHER_TAGS else 'Others' for i in x]\n",
    ")"
   ]
  },
  {
   "cell_type": "markdown",
   "metadata": {},
   "source": [
    "Now, we can use the `count vectorizer` to represent the `POS tags` as a vector where each element of the vector represents the count of that tag in that particular citation."
   ]
  },
  {
   "cell_type": "code",
   "execution_count": 23,
   "metadata": {},
   "outputs": [],
   "source": [
    "cv = CountVectorizer() # Instantiate the vectorizer"
   ]
  },
  {
   "cell_type": "code",
   "execution_count": 24,
   "metadata": {},
   "outputs": [
    {
     "name": "stderr",
     "output_type": "stream",
     "text": [
      "100%|██████████| 1906419/1906419 [00:02<00:00, 642652.34it/s]\n"
     ]
    }
   ],
   "source": [
    "citation_tag_features['neighboring_tags'] = citation_tag_features['neighboring_tags'].progress_apply(\n",
    "    lambda x: \" \".join(x))"
   ]
  },
  {
   "cell_type": "code",
   "execution_count": 25,
   "metadata": {},
   "outputs": [],
   "source": [
    "transformed_neighboring_tags = cv.fit_transform(citation_tag_features['neighboring_tags'])\n",
    "transformed_neighboring_tags = pd.DataFrame(transformed_neighboring_tags.toarray(), columns=cv.get_feature_names())"
   ]
  },
  {
   "cell_type": "code",
   "execution_count": 26,
   "metadata": {},
   "outputs": [],
   "source": [
    "citation_tag_features = pd.concat([citation_tag_features, transformed_neighboring_tags], axis=1)"
   ]
  },
  {
   "cell_type": "code",
   "execution_count": 27,
   "metadata": {},
   "outputs": [
    {
     "data": {
      "text/html": [
       "<div>\n",
       "<style scoped>\n",
       "    .dataframe tbody tr th:only-of-type {\n",
       "        vertical-align: middle;\n",
       "    }\n",
       "\n",
       "    .dataframe tbody tr th {\n",
       "        vertical-align: top;\n",
       "    }\n",
       "\n",
       "    .dataframe thead th {\n",
       "        text-align: right;\n",
       "    }\n",
       "</style>\n",
       "<table border=\"1\" class=\"dataframe\">\n",
       "  <thead>\n",
       "    <tr style=\"text-align: right;\">\n",
       "      <th></th>\n",
       "      <th>id</th>\n",
       "      <th>citation</th>\n",
       "      <th>cc</th>\n",
       "      <th>cd</th>\n",
       "      <th>dt</th>\n",
       "      <th>ex</th>\n",
       "      <th>fw</th>\n",
       "      <th>in</th>\n",
       "      <th>jj</th>\n",
       "      <th>jjr</th>\n",
       "      <th>...</th>\n",
       "      <th>vb</th>\n",
       "      <th>vbd</th>\n",
       "      <th>vbg</th>\n",
       "      <th>vbn</th>\n",
       "      <th>vbp</th>\n",
       "      <th>vbz</th>\n",
       "      <th>wdt</th>\n",
       "      <th>wikicode</th>\n",
       "      <th>wp</th>\n",
       "      <th>wrb</th>\n",
       "    </tr>\n",
       "  </thead>\n",
       "  <tbody>\n",
       "    <tr>\n",
       "      <th>0</th>\n",
       "      <td>1831220</td>\n",
       "      <td>{{cite journal | author= Kenneth Cornetta | au...</td>\n",
       "      <td>0</td>\n",
       "      <td>6</td>\n",
       "      <td>1</td>\n",
       "      <td>0</td>\n",
       "      <td>0</td>\n",
       "      <td>4</td>\n",
       "      <td>8</td>\n",
       "      <td>0</td>\n",
       "      <td>...</td>\n",
       "      <td>1</td>\n",
       "      <td>0</td>\n",
       "      <td>0</td>\n",
       "      <td>0</td>\n",
       "      <td>0</td>\n",
       "      <td>0</td>\n",
       "      <td>0</td>\n",
       "      <td>0</td>\n",
       "      <td>0</td>\n",
       "      <td>0</td>\n",
       "    </tr>\n",
       "    <tr>\n",
       "      <th>1</th>\n",
       "      <td>1831220</td>\n",
       "      <td>{{cite journal|last=Sorgi|first=FL|author2=Bha...</td>\n",
       "      <td>1</td>\n",
       "      <td>5</td>\n",
       "      <td>0</td>\n",
       "      <td>0</td>\n",
       "      <td>0</td>\n",
       "      <td>0</td>\n",
       "      <td>6</td>\n",
       "      <td>0</td>\n",
       "      <td>...</td>\n",
       "      <td>0</td>\n",
       "      <td>1</td>\n",
       "      <td>1</td>\n",
       "      <td>0</td>\n",
       "      <td>1</td>\n",
       "      <td>0</td>\n",
       "      <td>0</td>\n",
       "      <td>0</td>\n",
       "      <td>0</td>\n",
       "      <td>0</td>\n",
       "    </tr>\n",
       "    <tr>\n",
       "      <th>2</th>\n",
       "      <td>1831220</td>\n",
       "      <td>{{cite journal|last=Walker|first=WS|author2=Re...</td>\n",
       "      <td>2</td>\n",
       "      <td>2</td>\n",
       "      <td>0</td>\n",
       "      <td>0</td>\n",
       "      <td>0</td>\n",
       "      <td>2</td>\n",
       "      <td>5</td>\n",
       "      <td>0</td>\n",
       "      <td>...</td>\n",
       "      <td>1</td>\n",
       "      <td>1</td>\n",
       "      <td>1</td>\n",
       "      <td>0</td>\n",
       "      <td>0</td>\n",
       "      <td>0</td>\n",
       "      <td>0</td>\n",
       "      <td>0</td>\n",
       "      <td>0</td>\n",
       "      <td>0</td>\n",
       "    </tr>\n",
       "    <tr>\n",
       "      <th>3</th>\n",
       "      <td>1831220</td>\n",
       "      <td>{{cite journal|last=Campbell|first=FW|author2=...</td>\n",
       "      <td>0</td>\n",
       "      <td>8</td>\n",
       "      <td>1</td>\n",
       "      <td>0</td>\n",
       "      <td>0</td>\n",
       "      <td>3</td>\n",
       "      <td>3</td>\n",
       "      <td>0</td>\n",
       "      <td>...</td>\n",
       "      <td>0</td>\n",
       "      <td>0</td>\n",
       "      <td>0</td>\n",
       "      <td>0</td>\n",
       "      <td>0</td>\n",
       "      <td>0</td>\n",
       "      <td>0</td>\n",
       "      <td>0</td>\n",
       "      <td>0</td>\n",
       "      <td>0</td>\n",
       "    </tr>\n",
       "    <tr>\n",
       "      <th>4</th>\n",
       "      <td>1831220</td>\n",
       "      <td>{{cite journal|last=Welsby|first=IJ|author2=Ne...</td>\n",
       "      <td>0</td>\n",
       "      <td>4</td>\n",
       "      <td>0</td>\n",
       "      <td>0</td>\n",
       "      <td>0</td>\n",
       "      <td>3</td>\n",
       "      <td>6</td>\n",
       "      <td>0</td>\n",
       "      <td>...</td>\n",
       "      <td>0</td>\n",
       "      <td>0</td>\n",
       "      <td>0</td>\n",
       "      <td>0</td>\n",
       "      <td>0</td>\n",
       "      <td>0</td>\n",
       "      <td>0</td>\n",
       "      <td>0</td>\n",
       "      <td>0</td>\n",
       "      <td>0</td>\n",
       "    </tr>\n",
       "  </tbody>\n",
       "</table>\n",
       "<p>5 rows × 37 columns</p>\n",
       "</div>"
      ],
      "text/plain": [
       "        id                                           citation  cc  cd  dt  ex  \\\n",
       "0  1831220  {{cite journal | author= Kenneth Cornetta | au...   0   6   1   0   \n",
       "1  1831220  {{cite journal|last=Sorgi|first=FL|author2=Bha...   1   5   0   0   \n",
       "2  1831220  {{cite journal|last=Walker|first=WS|author2=Re...   2   2   0   0   \n",
       "3  1831220  {{cite journal|last=Campbell|first=FW|author2=...   0   8   1   0   \n",
       "4  1831220  {{cite journal|last=Welsby|first=IJ|author2=Ne...   0   4   0   0   \n",
       "\n",
       "   fw  in  jj  jjr  ...  vb  vbd  vbg  vbn  vbp  vbz  wdt  wikicode  wp  wrb  \n",
       "0   0   4   8    0  ...   1    0    0    0    0    0    0         0   0    0  \n",
       "1   0   0   6    0  ...   0    1    1    0    1    0    0         0   0    0  \n",
       "2   0   2   5    0  ...   1    1    1    0    0    0    0         0   0    0  \n",
       "3   0   3   3    0  ...   0    0    0    0    0    0    0         0   0    0  \n",
       "4   0   3   6    0  ...   0    0    0    0    0    0    0         0   0    0  \n",
       "\n",
       "[5 rows x 37 columns]"
      ]
     },
     "execution_count": 27,
     "metadata": {},
     "output_type": "execute_result"
    }
   ],
   "source": [
    "citation_tag_features.drop('neighboring_tags', axis=1, inplace=True)\n",
    "citation_tag_features.head()"
   ]
  },
  {
   "cell_type": "markdown",
   "metadata": {},
   "source": [
    "## Features for the LSTM - more time sequence related"
   ]
  },
  {
   "cell_type": "markdown",
   "metadata": {},
   "source": [
    "### Citation's original text features"
   ]
  },
  {
   "cell_type": "code",
   "execution_count": 28,
   "metadata": {},
   "outputs": [],
   "source": [
    "# Create a separate dataframe for preprocessing citation text\n",
    "citation_text_features = dataset_with_features[['id', 'citation', 'scientific_or_not']]"
   ]
  },
  {
   "cell_type": "code",
   "execution_count": 29,
   "metadata": {},
   "outputs": [
    {
     "name": "stderr",
     "output_type": "stream",
     "text": [
      "100%|██████████| 1906419/1906419 [00:30<00:00, 62348.30it/s] \n"
     ]
    }
   ],
   "source": [
    "# Convert the citation into a list by breaking it down into characters\n",
    "citation_text_features['characters'] = citation_text_features['citation'].progress_apply(lambda x: list(x))"
   ]
  },
  {
   "cell_type": "code",
   "execution_count": 30,
   "metadata": {},
   "outputs": [
    {
     "data": {
      "text/plain": [
       "Index(['{', 'c', 'i', 't', 'e', ' ', 'j', 'o', 'u', 'r', 'n', 'a', 'l', '|',\n",
       "       'h', '=', 'K', 'C', '2', 'W', '.', 'F', 'A', 'd', 's', 'P', 'm', 'f',\n",
       "       'v', 'p', 'y', 'b', '-', 'g', ':', 'J', 'V', 'M', '1', '9', '8', '3',\n",
       "       '7', '\\', '0', '4', '/', 'w', '6', '(', ')', '}', 'S', 'L', 'B', ',',\n",
       "       'H', 'G', 'k', 'R', 'D', 'I', '5', 'E', 'N', 'z', 'T', 'x', 'O', '&',\n",
       "       'Z', '?', 'Y', 'q', 'U', 'Q', '_', 'X', ';', '[', ']', '+', '#', '%',\n",
       "       '!', ''', '\"', '~', '<', '>', '*', '`', '^', '@', '$'],\n",
       "      dtype='object')"
      ]
     },
     "execution_count": 30,
     "metadata": {},
     "output_type": "execute_result"
    }
   ],
   "source": [
    "# Get the character counts for each unique character\n",
    "char_counts = pd.Series(Counter(chain.from_iterable(x for x in citation_text_features.characters)))\n",
    "char_counts.index"
   ]
  },
  {
   "cell_type": "code",
   "execution_count": 31,
   "metadata": {},
   "outputs": [
    {
     "name": "stdout",
     "output_type": "stream",
     "text": [
      "The max length of the longest citation in terms of characters is: 34353\n",
      "The mean length of the longest citation in terms of characters is: 301.7196272173116\n",
      "The median length of the longest citation in terms of characters is: 282.0\n"
     ]
    }
   ],
   "source": [
    "print('The max length of the longest citation in terms of characters is: {}'.format(\n",
    "    max(citation_text_features.characters.apply(lambda x: len(x)))))\n",
    "\n",
    "print('The mean length of the longest citation in terms of characters is: {}'.format(\n",
    "    citation_text_features.characters.apply(lambda x: len(x)).mean()))\n",
    "\n",
    "print('The median length of the longest citation in terms of characters is: {}'.format(\n",
    "    citation_text_features.characters.apply(lambda x: len(x)).median()))"
   ]
  },
  {
   "cell_type": "code",
   "execution_count": 32,
   "metadata": {},
   "outputs": [],
   "source": [
    "# Make a dictionary for creating a mapping between the char and the corresponding index\n",
    "char2ind = {char: i for i, char in enumerate(char_counts.index)}\n",
    "ind2char = {i: char for i, char in enumerate(char_counts.index)}"
   ]
  },
  {
   "cell_type": "code",
   "execution_count": 33,
   "metadata": {},
   "outputs": [],
   "source": [
    "# Map each character into the citation to its corresponding index and store it in a list\n",
    "X_char = []\n",
    "for citation in citation_text_features.citation:\n",
    "    citation_chars = []\n",
    "    for character in citation:\n",
    "        citation_chars.append(char2ind[character])\n",
    "        \n",
    "    X_char.append(citation_chars)"
   ]
  },
  {
   "cell_type": "markdown",
   "metadata": {},
   "source": [
    "Since the median length of the citation is 282, we have padded the input till 400 to get extra information which would be fed into the character embedding neural network."
   ]
  },
  {
   "cell_type": "code",
   "execution_count": 34,
   "metadata": {},
   "outputs": [],
   "source": [
    "with tf.device('/gpu:0'):\n",
    "    X_char = pad_sequences(X_char, maxlen=400)"
   ]
  },
  {
   "cell_type": "code",
   "execution_count": 35,
   "metadata": {},
   "outputs": [
    {
     "name": "stderr",
     "output_type": "stream",
     "text": [
      "100%|██████████| 1906419/1906419 [06:54<00:00, 4603.57it/s]\n"
     ]
    }
   ],
   "source": [
    "# Append the citation character list with their corresponding lists for making a dataset\n",
    "# for getting the character embeddings\n",
    "data = []\n",
    "for i in tqdm(range(len(X_char))):\n",
    "    data.append((X_char[i], int(citation_text_features.iloc[i]['scientific_or_not'])))"
   ]
  },
  {
   "cell_type": "code",
   "execution_count": 36,
   "metadata": {},
   "outputs": [],
   "source": [
    "# Separate out the training data and labels for further verification use\n",
    "training_data = [i[0] for i in data]\n",
    "training_labels = [i[1] for i in data]"
   ]
  },
  {
   "cell_type": "markdown",
   "metadata": {},
   "source": [
    "We are going to feed in the 400 character input since our median length comes out to be approximately 282 and train it on a dummy task - if the citation is scientific or not and get the embedding layer which would contain the representation for each character."
   ]
  },
  {
   "cell_type": "code",
   "execution_count": 37,
   "metadata": {},
   "outputs": [],
   "source": [
    "def citation_embedding_model():\n",
    "    \"\"\"\n",
    "    Citation embedding generator model where the dimension of the embedding is 50.\n",
    "    \"\"\"\n",
    "    main_input = Input(shape=(400, ), name='characters')\n",
    "    # input dim is basically the vocab size\n",
    "    emb = Embedding(input_dim=95, output_dim = 300, name='citation_embedding')(main_input)\n",
    "    rnn = Bidirectional(LSTM(20))\n",
    "    x = rnn(emb)\n",
    "    de = Dense(1, activation='sigmoid')(x)\n",
    "    model = Model(inputs = main_input, outputs = de)\n",
    "    model.compile(loss='binary_crossentropy', optimizer='adam', metrics=['accuracy'])\n",
    "    return model"
   ]
  },
  {
   "cell_type": "code",
   "execution_count": 38,
   "metadata": {},
   "outputs": [
    {
     "name": "stdout",
     "output_type": "stream",
     "text": [
      "WARNING:tensorflow:From /opt/anaconda3/lib/python3.6/site-packages/tensorflow/python/framework/op_def_library.py:263: colocate_with (from tensorflow.python.framework.ops) is deprecated and will be removed in a future version.\n",
      "Instructions for updating:\n",
      "Colocations handled automatically by placer.\n",
      "_________________________________________________________________\n",
      "Layer (type)                 Output Shape              Param #   \n",
      "=================================================================\n",
      "characters (InputLayer)      (None, 400)               0         \n",
      "_________________________________________________________________\n",
      "citation_embedding (Embeddin (None, 400, 300)          28500     \n",
      "_________________________________________________________________\n",
      "bidirectional_1 (Bidirection (None, 40)                51360     \n",
      "_________________________________________________________________\n",
      "dense_1 (Dense)              (None, 1)                 41        \n",
      "=================================================================\n",
      "Total params: 79,901\n",
      "Trainable params: 79,901\n",
      "Non-trainable params: 0\n",
      "_________________________________________________________________\n"
     ]
    }
   ],
   "source": [
    "# Instantiate the model and generate the summary\n",
    "model = citation_embedding_model()\n",
    "model.summary()"
   ]
  },
  {
   "cell_type": "code",
   "execution_count": 39,
   "metadata": {},
   "outputs": [],
   "source": [
    "def generator(features, labels, batch_size):\n",
    "    \"\"\"\n",
    "    Generator to create batches of data so that processing is easy.\n",
    "    \n",
    "    :param: features: the features of the model.\n",
    "    :param: labels: the labels of the model.\n",
    "    :param: batch_size: the size of the batch\n",
    "    \"\"\"\n",
    "    # Create empty arrays to contain batch of features and labels\n",
    "    batch_features = np.zeros((batch_size, 400))\n",
    "    batch_labels = np.zeros((batch_size, 1))\n",
    "    while True:\n",
    "        for i in range(batch_size):\n",
    "            # choose random index in features\n",
    "            index = np.random.choice(len(features), 1)[0]\n",
    "            batch_features[i] = features[index]\n",
    "            batch_labels[i] = labels[index]\n",
    "        yield batch_features, batch_labels"
   ]
  },
  {
   "cell_type": "code",
   "execution_count": 40,
   "metadata": {},
   "outputs": [
    {
     "name": "stdout",
     "output_type": "stream",
     "text": [
      "WARNING:tensorflow:From /opt/anaconda3/lib/python3.6/site-packages/tensorflow/python/ops/math_ops.py:3066: to_int32 (from tensorflow.python.ops.math_ops) is deprecated and will be removed in a future version.\n",
      "Instructions for updating:\n",
      "Use tf.cast instead.\n",
      "Epoch 1/15\n",
      "30/30 [==============================] - 15s 516ms/step - loss: 0.6459 - acc: 0.6177\n",
      "Epoch 2/15\n",
      "30/30 [==============================] - 14s 466ms/step - loss: 0.5031 - acc: 0.7901\n",
      "Epoch 3/15\n",
      "30/30 [==============================] - 14s 467ms/step - loss: 0.4059 - acc: 0.8161\n",
      "Epoch 4/15\n",
      "30/30 [==============================] - 14s 460ms/step - loss: 0.4090 - acc: 0.8177\n",
      "Epoch 5/15\n",
      "30/30 [==============================] - 14s 468ms/step - loss: 0.4009 - acc: 0.8203\n",
      "Epoch 6/15\n",
      "30/30 [==============================] - 14s 456ms/step - loss: 0.3891 - acc: 0.8318\n",
      "Epoch 7/15\n",
      "30/30 [==============================] - 14s 475ms/step - loss: 0.3693 - acc: 0.8370\n",
      "Epoch 8/15\n",
      "30/30 [==============================] - 14s 461ms/step - loss: 0.3490 - acc: 0.8474\n",
      "Epoch 9/15\n",
      "30/30 [==============================] - 14s 475ms/step - loss: 0.3350 - acc: 0.8474\n",
      "Epoch 10/15\n",
      "30/30 [==============================] - 14s 456ms/step - loss: 0.3019 - acc: 0.8620\n",
      "Epoch 11/15\n",
      "30/30 [==============================] - 14s 470ms/step - loss: 0.3827 - acc: 0.8313\n",
      "Epoch 12/15\n",
      "30/30 [==============================] - 14s 465ms/step - loss: 0.3625 - acc: 0.8359\n",
      "Epoch 13/15\n",
      "30/30 [==============================] - 14s 467ms/step - loss: 0.3229 - acc: 0.8505\n",
      "Epoch 14/15\n",
      "30/30 [==============================] - 14s 470ms/step - loss: 0.3530 - acc: 0.8406\n",
      "Epoch 15/15\n",
      "30/30 [==============================] - 14s 456ms/step - loss: 0.3930 - acc: 0.8313\n"
     ]
    }
   ],
   "source": [
    "# Run the model with the data being generated by the generator with a batch size of 64\n",
    "# and number of epochs to be set to 15\n",
    "hist = model.fit_generator(generator(training_data, training_labels, 64), samples_per_epoch=30, nb_epoch=15)"
   ]
  },
  {
   "cell_type": "code",
   "execution_count": 41,
   "metadata": {},
   "outputs": [],
   "source": [
    "# Save the model so that we can retrieve it later\n",
    "model.save('./embedding_model.h5')"
   ]
  },
  {
   "cell_type": "code",
   "execution_count": 42,
   "metadata": {},
   "outputs": [
    {
     "data": {
      "text/plain": [
       "(95, 300)"
      ]
     },
     "execution_count": 42,
     "metadata": {},
     "output_type": "execute_result"
    }
   ],
   "source": [
    "# Get the `citation_embedding` layer and get the weights for each character\n",
    "citation_layer = model.get_layer('citation_embedding')\n",
    "citation_weights = citation_layer.get_weights()[0]\n",
    "citation_weights.shape"
   ]
  },
  {
   "cell_type": "code",
   "execution_count": 43,
   "metadata": {},
   "outputs": [
    {
     "data": {
      "text/plain": [
       "array([-2.84727220e-03,  3.33610587e-02, -3.15780006e-03, -5.07337563e-02,\n",
       "        1.44584533e-02, -9.39751230e-03, -2.81345507e-04,  2.87252176e-03,\n",
       "       -2.98749246e-02, -1.71153788e-02,  7.22671440e-03, -9.94444359e-03,\n",
       "        4.58758092e-03,  6.33232296e-02,  1.83253326e-02,  6.00498356e-02,\n",
       "        1.45667745e-02, -2.56420542e-02,  2.58745961e-02,  3.26462425e-02,\n",
       "        2.43279207e-02, -1.20067047e-02, -2.31037401e-02, -5.45615628e-02,\n",
       "        2.86023654e-02,  7.26621249e-04, -8.55346117e-03,  4.64758724e-02,\n",
       "        3.64563800e-02, -1.80851761e-02,  2.66167298e-02, -1.79941487e-02,\n",
       "        2.20189672e-02,  2.33063772e-02, -7.60253938e-03, -1.50349515e-05,\n",
       "       -4.74174917e-02, -3.52014750e-02, -4.95599844e-02, -1.88043732e-02,\n",
       "        3.12287337e-03,  1.33375637e-02,  1.33376643e-02, -1.73049532e-02,\n",
       "        2.85914652e-02,  1.16233551e-03,  5.64414486e-02,  7.38445437e-04,\n",
       "       -4.04441059e-02,  2.54274555e-03, -4.58883904e-02, -7.29537606e-02,\n",
       "        3.80322263e-02,  6.30959347e-02, -1.29131759e-02,  2.57255100e-02,\n",
       "       -3.34216980e-03,  5.84697491e-03, -4.67923004e-04,  8.29581544e-03,\n",
       "       -1.21765509e-02, -1.22888535e-02, -2.54498143e-02,  2.29971693e-03,\n",
       "        7.02062547e-02,  3.40280607e-02, -3.79862860e-02,  3.59316319e-02,\n",
       "        3.28226313e-02,  1.35311745e-02, -3.31067033e-02,  1.08082108e-02,\n",
       "        6.65664822e-02, -4.95983921e-02, -1.91139970e-02, -9.29376669e-03,\n",
       "       -3.11206989e-02,  3.00821941e-02,  4.03228477e-02, -3.64426449e-02,\n",
       "       -5.84769063e-03, -1.62649397e-02,  6.57787472e-02,  8.58190563e-03,\n",
       "       -2.62266081e-02, -6.80558905e-02,  1.96872987e-02, -2.68276744e-02,\n",
       "        3.16589996e-02, -6.76579122e-03,  4.62525338e-02, -7.56247295e-03,\n",
       "       -2.13085394e-02, -3.40379477e-02, -2.49295142e-02, -3.06028239e-02,\n",
       "       -2.44802739e-02, -2.96222270e-02, -7.66791345e-04,  6.34278078e-03],\n",
       "      dtype=float32)"
      ]
     },
     "execution_count": 43,
     "metadata": {},
     "output_type": "execute_result"
    }
   ],
   "source": [
    "# An example of the first element of an embedding\n",
    "citation_weights[0][:100]"
   ]
  },
  {
   "cell_type": "code",
   "execution_count": 44,
   "metadata": {},
   "outputs": [
    {
     "name": "stderr",
     "output_type": "stream",
     "text": [
      "100%|██████████| 1906419/1906419 [10:20<00:00, 3069.94it/s]\n"
     ]
    }
   ],
   "source": [
    "# Map the embedding of each character to the character in each corresponding citation and aggregate (sum)\n",
    "citation_text_features['embedding'] = citation_text_features['characters'].progress_apply(\n",
    "    lambda x: sum([citation_weights[char2ind[c]] for c in x])\n",
    ")"
   ]
  },
  {
   "cell_type": "code",
   "execution_count": 45,
   "metadata": {},
   "outputs": [
    {
     "name": "stderr",
     "output_type": "stream",
     "text": [
      "100%|██████████| 1906419/1906419 [00:30<00:00, 62677.95it/s]\n"
     ]
    }
   ],
   "source": [
    "# Normalize the citation embeddings so that we can check for their similarity later\n",
    "citation_text_features['embedding'] = citation_text_features['embedding'].progress_apply(\n",
    "    lambda x: x/ np.linalg.norm(x, axis=0).reshape((-1, 1))\n",
    ")"
   ]
  },
  {
   "cell_type": "code",
   "execution_count": 51,
   "metadata": {},
   "outputs": [
    {
     "data": {
      "text/plain": [
       "0.9999999"
      ]
     },
     "execution_count": 51,
     "metadata": {},
     "output_type": "execute_result"
    }
   ],
   "source": [
    "# Make the sum of the embedding to be summed up to 1\n",
    "np.sum(np.square(citation_text_features['embedding'].iloc[0]))"
   ]
  },
  {
   "cell_type": "markdown",
   "metadata": {},
   "source": [
    "### Similarity Graph for citation text embeddings"
   ]
  },
  {
   "cell_type": "code",
   "execution_count": 251,
   "metadata": {},
   "outputs": [],
   "source": [
    "# Just considering 20 since otherwise it will be computationally extensive\n",
    "citation_text_and_embeddings = citation_text_features[['citation', 'embedding']][:500]"
   ]
  },
  {
   "cell_type": "code",
   "execution_count": 252,
   "metadata": {},
   "outputs": [
    {
     "name": "stderr",
     "output_type": "stream",
     "text": [
      "100%|██████████| 500/500 [00:00<00:00, 29612.43it/s]\n"
     ]
    }
   ],
   "source": [
    "citation_text_and_embeddings['embedding'] = citation_text_and_embeddings['embedding'].progress_apply(\n",
    "    lambda x: x[0].tolist()\n",
    ")"
   ]
  },
  {
   "cell_type": "code",
   "execution_count": 300,
   "metadata": {},
   "outputs": [],
   "source": [
    "def tsne_embedding_plot():\n",
    "    labels = []\n",
    "    tokens = []\n",
    "\n",
    "    for index, row in citation_text_and_embeddings.iterrows():\n",
    "        tokens.append(row['embedding'])\n",
    "        labels.append(str(index))\n",
    "    \n",
    "    # Perplexity takes into account the global and local features\n",
    "    # We are using dimensionality reduciton for 2 features and taking 2500 iterations into account\n",
    "    tsne_model = TSNE(perplexity=40, n_components=2, n_iter=2500, random_state=0)\n",
    "    new_values = tsne_model.fit_transform(tokens)\n",
    "\n",
    "    x = []\n",
    "    y = []\n",
    "    for value in new_values:\n",
    "        x.append(value[0])\n",
    "        y.append(value[1])\n",
    "        \n",
    "    plt.figure(figsize=(10, 10)) \n",
    "    for i in range(len(x)):\n",
    "        plt.scatter(x[i],y[i])\n",
    "        plt.annotate(labels[i], xy=(x[i], y[i]), xytext=(5, 2),\n",
    "                     textcoords='offset points', ha='right', va='bottom')\n",
    "    plt.show()"
   ]
  },
  {
   "cell_type": "code",
   "execution_count": 301,
   "metadata": {},
   "outputs": [
    {
     "data": {
      "image/png": "[encoded data removed]",
      "text/plain": [
       "<Figure size 720x720 with 1 Axes>"
      ]
     },
     "metadata": {
      "needs_background": "light"
     },
     "output_type": "display_data"
    }
   ],
   "source": [
    "tsne_embedding_plot()"
   ]
  },
  {
   "cell_type": "code",
   "execution_count": 276,
   "metadata": {},
   "outputs": [
    {
     "data": {
      "text/html": [
       "<div>\n",
       "<style scoped>\n",
       "    .dataframe tbody tr th:only-of-type {\n",
       "        vertical-align: middle;\n",
       "    }\n",
       "\n",
       "    .dataframe tbody tr th {\n",
       "        vertical-align: top;\n",
       "    }\n",
       "\n",
       "    .dataframe thead th {\n",
       "        text-align: right;\n",
       "    }\n",
       "</style>\n",
       "<table border=\"1\" class=\"dataframe\">\n",
       "  <thead>\n",
       "    <tr style=\"text-align: right;\">\n",
       "      <th></th>\n",
       "      <th>citation</th>\n",
       "      <th>embedding</th>\n",
       "    </tr>\n",
       "  </thead>\n",
       "  <tbody>\n",
       "    <tr>\n",
       "      <th>14</th>\n",
       "      <td>{{cite journal | vauthors = Sorgi FL, Bhattacharya S, Huang L | title = Protamine sulfate enhances lipid-mediated gene transfer | journal = Gene Therapy | volume = 4 | issue = 9 | pages = 961\\u201...</td>\n",
       "      <td>[-0.019867928698658943, -0.012315832078456879, 0.013255342841148376, 0.009797554463148117, -0.005100628826767206, -0.025957971811294556, 0.029690545052289963, -0.013163143768906593, 0.036435443907...</td>\n",
       "    </tr>\n",
       "    <tr>\n",
       "      <th>477</th>\n",
       "      <td>{{cite journal | title = Nomenclature for organic chemical transformations | author = Jones, R.A.Y. Bunnett, J.F. | journal = [[Pure Appl. Chem.]] | year = 1989 | volume = 61 | pages = 725\\u201376...</td>\n",
       "      <td>[-0.007883568294346333, -0.014783266931772232, 0.016247959807515144, 0.006468991748988628, -0.030502483248710632, -0.007374242413789034, 0.027502497658133507, -0.01046613696962595, 0.0410450510680...</td>\n",
       "    </tr>\n",
       "  </tbody>\n",
       "</table>\n",
       "</div>"
      ],
      "text/plain": [
       "                                                                                                                                                                                                    citation  \\\n",
       "14   {{cite journal | vauthors = Sorgi FL, Bhattacharya S, Huang L | title = Protamine sulfate enhances lipid-mediated gene transfer | journal = Gene Therapy | volume = 4 | issue = 9 | pages = 961\\u201...   \n",
       "477  {{cite journal | title = Nomenclature for organic chemical transformations | author = Jones, R.A.Y. Bunnett, J.F. | journal = [[Pure Appl. Chem.]] | year = 1989 | volume = 61 | pages = 725\\u201376...   \n",
       "\n",
       "                                                                                                                                                                                                   embedding  \n",
       "14   [-0.019867928698658943, -0.012315832078456879, 0.013255342841148376, 0.009797554463148117, -0.005100628826767206, -0.025957971811294556, 0.029690545052289963, -0.013163143768906593, 0.036435443907...  \n",
       "477  [-0.007883568294346333, -0.014783266931772232, 0.016247959807515144, 0.006468991748988628, -0.030502483248710632, -0.007374242413789034, 0.027502497658133507, -0.01046613696962595, 0.0410450510680...  "
      ]
     },
     "execution_count": 276,
     "metadata": {},
     "output_type": "execute_result"
    }
   ],
   "source": [
    "# an example of citation embeddings which is close to each other\n",
    "citation_text_and_embeddings[citation_text_and_embeddings.index.isin([14, 477])] # (51, 243), (0, 13)"
   ]
  },
  {
   "cell_type": "code",
   "execution_count": 295,
   "metadata": {},
   "outputs": [
    {
     "data": {
      "text/plain": [
       "0.9878761255551101"
      ]
     },
     "execution_count": 295,
     "metadata": {},
     "output_type": "execute_result"
    }
   ],
   "source": [
    "# Similiarity of 2 citations which are very similar\n",
    "result_similar = 1 - spatial.distance.cosine(\n",
    "    citation_text_and_embeddings.iloc[14]['embedding'],\n",
    "    citation_text_and_embeddings.iloc[477]['embedding']\n",
    ")\n",
    "result_similar"
   ]
  },
  {
   "cell_type": "code",
   "execution_count": 302,
   "metadata": {},
   "outputs": [
    {
     "data": {
      "text/html": [
       "<div>\n",
       "<style scoped>\n",
       "    .dataframe tbody tr th:only-of-type {\n",
       "        vertical-align: middle;\n",
       "    }\n",
       "\n",
       "    .dataframe tbody tr th {\n",
       "        vertical-align: top;\n",
       "    }\n",
       "\n",
       "    .dataframe thead th {\n",
       "        text-align: right;\n",
       "    }\n",
       "</style>\n",
       "<table border=\"1\" class=\"dataframe\">\n",
       "  <thead>\n",
       "    <tr style=\"text-align: right;\">\n",
       "      <th></th>\n",
       "      <th>citation</th>\n",
       "      <th>embedding</th>\n",
       "    </tr>\n",
       "  </thead>\n",
       "  <tbody>\n",
       "    <tr>\n",
       "      <th>42</th>\n",
       "      <td>{{Cite book|url=https://www.worldcat.org/oclc/914289944|title=Fundamentals of abnormal psychology|last=J.,|first=Comer, Ronald|isbn=9781464176975|edition= Eighth|location=New York|oclc=914289944}}</td>\n",
       "      <td>[-0.0242441538721323, -0.02295846864581108, -0.010493500158190727, -0.016557859256863594, -0.022586967796087265, -0.023500913754105568, 0.005814675707370043, -0.002382652834057808, 0.0584821514785...</td>\n",
       "    </tr>\n",
       "    <tr>\n",
       "      <th>124</th>\n",
       "      <td>{{Cite book|title=\\u9e64\\u5c97\\u5e02\\u5fd7 History of Hegang |author=\\u300a\\u9e64\\u5c97\\u5e02\\u5730\\u65b9\\u5fd7\\u300b\\u7f16\\u7e82\\u59d4\\u5458\\u4f1a\\u529e\\u516c\\u5ba4 |year=1990 |publisher=\\u9ed1\\u...</td>\n",
       "      <td>[-0.01741640456020832, -0.05237920209765434, -0.05126625671982765, -0.08922778069972992, -0.033835846930742264, -0.004329919349402189, 0.006279471796005964, 0.0028078556060791016, -0.0151479402557...</td>\n",
       "    </tr>\n",
       "  </tbody>\n",
       "</table>\n",
       "</div>"
      ],
      "text/plain": [
       "                                                                                                                                                                                                    citation  \\\n",
       "42      {{Cite book|url=https://www.worldcat.org/oclc/914289944|title=Fundamentals of abnormal psychology|last=J.,|first=Comer, Ronald|isbn=9781464176975|edition= Eighth|location=New York|oclc=914289944}}   \n",
       "124  {{Cite book|title=\\u9e64\\u5c97\\u5e02\\u5fd7 History of Hegang |author=\\u300a\\u9e64\\u5c97\\u5e02\\u5730\\u65b9\\u5fd7\\u300b\\u7f16\\u7e82\\u59d4\\u5458\\u4f1a\\u529e\\u516c\\u5ba4 |year=1990 |publisher=\\u9ed1\\u...   \n",
       "\n",
       "                                                                                                                                                                                                   embedding  \n",
       "42   [-0.0242441538721323, -0.02295846864581108, -0.010493500158190727, -0.016557859256863594, -0.022586967796087265, -0.023500913754105568, 0.005814675707370043, -0.002382652834057808, 0.0584821514785...  \n",
       "124  [-0.01741640456020832, -0.05237920209765434, -0.05126625671982765, -0.08922778069972992, -0.033835846930742264, -0.004329919349402189, 0.006279471796005964, 0.0028078556060791016, -0.0151479402557...  "
      ]
     },
     "execution_count": 302,
     "metadata": {},
     "output_type": "execute_result"
    }
   ],
   "source": [
    "# an example of citation embeddings which is NOT close to each other and are different\n",
    "citation_text_and_embeddings[citation_text_and_embeddings.index.isin([42, 124])] # (6, 42)"
   ]
  },
  {
   "cell_type": "code",
   "execution_count": 304,
   "metadata": {},
   "outputs": [
    {
     "data": {
      "text/plain": [
       "0.34499497274503566"
      ]
     },
     "execution_count": 304,
     "metadata": {},
     "output_type": "execute_result"
    }
   ],
   "source": [
    "# Similiarity of 2 citations which are not similar\n",
    "result_different = 1 - spatial.distance.cosine(\n",
    "    citation_text_and_embeddings.iloc[42]['embedding'],\n",
    "    citation_text_and_embeddings.iloc[124]['embedding']\n",
    ")\n",
    "result_different"
   ]
  },
  {
   "cell_type": "markdown",
   "metadata": {},
   "source": [
    "### FastText embeddings for neighboring words"
   ]
  },
  {
   "cell_type": "code",
   "execution_count": 52,
   "metadata": {},
   "outputs": [],
   "source": [
    "# Load the pretrained embedding model on wikipedia\n",
    "model = FastText.load_fasttext_format('/dlabdata1/harshdee/wiki.en.bin')"
   ]
  },
  {
   "cell_type": "code",
   "execution_count": 53,
   "metadata": {},
   "outputs": [],
   "source": [
    "# Create a separate dataframe for preprocessing citation words\n",
    "citation_word_features = dataset_with_features[['id', 'citation', 'neighboring_words', 'scientific_or_not']]"
   ]
  },
  {
   "cell_type": "code",
   "execution_count": 54,
   "metadata": {},
   "outputs": [
    {
     "name": "stderr",
     "output_type": "stream",
     "text": [
      "100%|██████████| 1906419/1906419 [00:26<00:00, 71955.63it/s] \n"
     ]
    }
   ],
   "source": [
    "# Lowercase all the neighboring words for each of the citations\n",
    "citation_word_features['neighboring_words'] = citation_word_features['neighboring_words'].progress_apply(\n",
    "    lambda x: [i.lower() for i in x]\n",
    ")"
   ]
  },
  {
   "cell_type": "markdown",
   "metadata": {},
   "source": [
    "Get the total unique words with their respective counts in the total dataset. This is done in order to remove words which are of low frequency and will potentially act as noise to the model."
   ]
  },
  {
   "cell_type": "code",
   "execution_count": 55,
   "metadata": {},
   "outputs": [],
   "source": [
    "word_counts = pd.Series(Counter(chain.from_iterable(x for x in citation_word_features.neighboring_words)))"
   ]
  },
  {
   "cell_type": "code",
   "execution_count": 305,
   "metadata": {},
   "outputs": [
    {
     "name": "stdout",
     "output_type": "stream",
     "text": [
      "Total words: 5456540\n",
      "Total number of words whose occurence is less than 4: 5018572\n",
      "Difference: 437968\n"
     ]
    }
   ],
   "source": [
    "threshold = 4\n",
    "\n",
    "x = len(word_counts)\n",
    "y = len(word_counts[word_counts <= threshold])\n",
    "print('Total words: {}\\nTotal number of words whose occurence is less than 4: {}\\nDifference: {}'.format(x, y, x-y))\n",
    "words_less_than_threshold = word_counts[word_counts <= threshold]"
   ]
  },
  {
   "cell_type": "code",
   "execution_count": 57,
   "metadata": {},
   "outputs": [
    {
     "name": "stderr",
     "output_type": "stream",
     "text": [
      "100%|██████████| 1906419/1906419 [01:49<00:00, 17422.83it/s]\n"
     ]
    }
   ],
   "source": [
    "# Remove the words which have a count of less than 4 and replace them with the unique <UNK> symbol\n",
    "citation_word_features['neighboring_words'] = citation_word_features['neighboring_words'].progress_apply(\n",
    "    lambda x: [i if i not in words_less_than_threshold else '<UNK>' for i in x]\n",
    ")"
   ]
  },
  {
   "cell_type": "code",
   "execution_count": 59,
   "metadata": {},
   "outputs": [],
   "source": [
    "# creating a mapping between word and index or vice versa\n",
    "words = pd.Series(Counter(chain.from_iterable(x for x in citation_word_features.neighboring_words))).index\n",
    "word2ind = {w: i for i, w in enumerate(words)}\n",
    "ind2words = {i: w for i, w in enumerate(words)}"
   ]
  },
  {
   "cell_type": "code",
   "execution_count": 61,
   "metadata": {},
   "outputs": [
    {
     "name": "stderr",
     "output_type": "stream",
     "text": [
      "100%|██████████| 437969/437969 [00:31<00:00, 13972.50it/s]\n"
     ]
    }
   ],
   "source": [
    "word_embedding_matrix = np.zeros((len(word2ind), 300))\n",
    "for w in tqdm(word2ind):\n",
    "    index = word2ind[w]\n",
    "    word_embedding_matrix[index] = model.wv[w]"
   ]
  },
  {
   "cell_type": "markdown",
   "metadata": {},
   "source": [
    "Once we have the word embedding for each word in the neighboring words, we sum the embeddings for each word together in neighboring words to get an embedding which represents the past 40 words."
   ]
  },
  {
   "cell_type": "code",
   "execution_count": 62,
   "metadata": {},
   "outputs": [
    {
     "name": "stderr",
     "output_type": "stream",
     "text": [
      "100%|██████████| 1906419/1906419 [01:59<00:00, 16018.67it/s]\n"
     ]
    }
   ],
   "source": [
    "citation_word_features['words_embedding'] = citation_word_features['neighboring_words'].progress_apply(\n",
    "    lambda x: sum([word_embedding_matrix[word2ind[w]] for w in x])\n",
    ")"
   ]
  },
  {
   "cell_type": "markdown",
   "metadata": {},
   "source": [
    "Now we have the `citation_text_features` and `citation_tag_features`, so we can join them together to form `time_sequence_features` which would be fed later into the LSTM.."
   ]
  },
  {
   "cell_type": "code",
   "execution_count": 63,
   "metadata": {},
   "outputs": [],
   "source": [
    "# Join time sequence features with the citations dataset\n",
    "time_sequence_features = pd.merge(\n",
    "    citation_tag_features, citation_word_features,\n",
    "    left_on=['id', 'citation'], right_on=['id', 'citation'], how='inner')"
   ]
  },
  {
   "cell_type": "code",
   "execution_count": 64,
   "metadata": {},
   "outputs": [
    {
     "name": "stdout",
     "output_type": "stream",
     "text": [
      "Total number of samples in time features are: 1906419\n"
     ]
    }
   ],
   "source": [
    "print('Total number of samples in time features are: {}'.format(len(time_sequence_features)))"
   ]
  },
  {
   "cell_type": "code",
   "execution_count": 66,
   "metadata": {},
   "outputs": [],
   "source": [
    "# Drop columns which are not features and are redundant\n",
    "time_sequence_features.drop(['neighboring_words'], axis=1, inplace=True)"
   ]
  },
  {
   "cell_type": "code",
   "execution_count": 67,
   "metadata": {},
   "outputs": [
    {
     "data": {
      "text/html": [
       "<div>\n",
       "<style scoped>\n",
       "    .dataframe tbody tr th:only-of-type {\n",
       "        vertical-align: middle;\n",
       "    }\n",
       "\n",
       "    .dataframe tbody tr th {\n",
       "        vertical-align: top;\n",
       "    }\n",
       "\n",
       "    .dataframe thead th {\n",
       "        text-align: right;\n",
       "    }\n",
       "</style>\n",
       "<table border=\"1\" class=\"dataframe\">\n",
       "  <thead>\n",
       "    <tr style=\"text-align: right;\">\n",
       "      <th></th>\n",
       "      <th>id</th>\n",
       "      <th>citation</th>\n",
       "      <th>cc</th>\n",
       "      <th>cd</th>\n",
       "      <th>dt</th>\n",
       "      <th>ex</th>\n",
       "      <th>fw</th>\n",
       "      <th>in</th>\n",
       "      <th>jj</th>\n",
       "      <th>jjr</th>\n",
       "      <th>...</th>\n",
       "      <th>vbg</th>\n",
       "      <th>vbn</th>\n",
       "      <th>vbp</th>\n",
       "      <th>vbz</th>\n",
       "      <th>wdt</th>\n",
       "      <th>wikicode</th>\n",
       "      <th>wp</th>\n",
       "      <th>wrb</th>\n",
       "      <th>scientific_or_not</th>\n",
       "      <th>words_embedding</th>\n",
       "    </tr>\n",
       "  </thead>\n",
       "  <tbody>\n",
       "    <tr>\n",
       "      <th>0</th>\n",
       "      <td>1831220</td>\n",
       "      <td>{{cite journal | author= Kenneth Cornetta | au...</td>\n",
       "      <td>0</td>\n",
       "      <td>6</td>\n",
       "      <td>1</td>\n",
       "      <td>0</td>\n",
       "      <td>0</td>\n",
       "      <td>4</td>\n",
       "      <td>8</td>\n",
       "      <td>0</td>\n",
       "      <td>...</td>\n",
       "      <td>0</td>\n",
       "      <td>0</td>\n",
       "      <td>0</td>\n",
       "      <td>0</td>\n",
       "      <td>0</td>\n",
       "      <td>0</td>\n",
       "      <td>0</td>\n",
       "      <td>0</td>\n",
       "      <td>True</td>\n",
       "      <td>[2.2172083500772715, 1.8652248345315456, -4.12...</td>\n",
       "    </tr>\n",
       "    <tr>\n",
       "      <th>1</th>\n",
       "      <td>1831220</td>\n",
       "      <td>{{cite journal|last=Sorgi|first=FL|author2=Bha...</td>\n",
       "      <td>1</td>\n",
       "      <td>5</td>\n",
       "      <td>0</td>\n",
       "      <td>0</td>\n",
       "      <td>0</td>\n",
       "      <td>0</td>\n",
       "      <td>6</td>\n",
       "      <td>0</td>\n",
       "      <td>...</td>\n",
       "      <td>1</td>\n",
       "      <td>0</td>\n",
       "      <td>1</td>\n",
       "      <td>0</td>\n",
       "      <td>0</td>\n",
       "      <td>0</td>\n",
       "      <td>0</td>\n",
       "      <td>0</td>\n",
       "      <td>True</td>\n",
       "      <td>[1.8394884951412678, 3.045541481114924, -7.576...</td>\n",
       "    </tr>\n",
       "    <tr>\n",
       "      <th>2</th>\n",
       "      <td>1831220</td>\n",
       "      <td>{{cite journal|last=Walker|first=WS|author2=Re...</td>\n",
       "      <td>2</td>\n",
       "      <td>2</td>\n",
       "      <td>0</td>\n",
       "      <td>0</td>\n",
       "      <td>0</td>\n",
       "      <td>2</td>\n",
       "      <td>5</td>\n",
       "      <td>0</td>\n",
       "      <td>...</td>\n",
       "      <td>1</td>\n",
       "      <td>0</td>\n",
       "      <td>0</td>\n",
       "      <td>0</td>\n",
       "      <td>0</td>\n",
       "      <td>0</td>\n",
       "      <td>0</td>\n",
       "      <td>0</td>\n",
       "      <td>True</td>\n",
       "      <td>[1.2257937546819448, 3.9170858301222324, -4.93...</td>\n",
       "    </tr>\n",
       "    <tr>\n",
       "      <th>3</th>\n",
       "      <td>1831220</td>\n",
       "      <td>{{cite journal|last=Campbell|first=FW|author2=...</td>\n",
       "      <td>0</td>\n",
       "      <td>8</td>\n",
       "      <td>1</td>\n",
       "      <td>0</td>\n",
       "      <td>0</td>\n",
       "      <td>3</td>\n",
       "      <td>3</td>\n",
       "      <td>0</td>\n",
       "      <td>...</td>\n",
       "      <td>0</td>\n",
       "      <td>0</td>\n",
       "      <td>0</td>\n",
       "      <td>0</td>\n",
       "      <td>0</td>\n",
       "      <td>0</td>\n",
       "      <td>0</td>\n",
       "      <td>0</td>\n",
       "      <td>True</td>\n",
       "      <td>[1.7118084817193449, 2.515659366734326, -0.639...</td>\n",
       "    </tr>\n",
       "    <tr>\n",
       "      <th>4</th>\n",
       "      <td>1831220</td>\n",
       "      <td>{{cite journal|last=Welsby|first=IJ|author2=Ne...</td>\n",
       "      <td>0</td>\n",
       "      <td>4</td>\n",
       "      <td>0</td>\n",
       "      <td>0</td>\n",
       "      <td>0</td>\n",
       "      <td>3</td>\n",
       "      <td>6</td>\n",
       "      <td>0</td>\n",
       "      <td>...</td>\n",
       "      <td>0</td>\n",
       "      <td>0</td>\n",
       "      <td>0</td>\n",
       "      <td>0</td>\n",
       "      <td>0</td>\n",
       "      <td>0</td>\n",
       "      <td>0</td>\n",
       "      <td>0</td>\n",
       "      <td>True</td>\n",
       "      <td>[-0.34577748365700245, 3.1046539759263396, -2....</td>\n",
       "    </tr>\n",
       "  </tbody>\n",
       "</table>\n",
       "<p>5 rows × 39 columns</p>\n",
       "</div>"
      ],
      "text/plain": [
       "        id                                           citation  cc  cd  dt  ex  \\\n",
       "0  1831220  {{cite journal | author= Kenneth Cornetta | au...   0   6   1   0   \n",
       "1  1831220  {{cite journal|last=Sorgi|first=FL|author2=Bha...   1   5   0   0   \n",
       "2  1831220  {{cite journal|last=Walker|first=WS|author2=Re...   2   2   0   0   \n",
       "3  1831220  {{cite journal|last=Campbell|first=FW|author2=...   0   8   1   0   \n",
       "4  1831220  {{cite journal|last=Welsby|first=IJ|author2=Ne...   0   4   0   0   \n",
       "\n",
       "   fw  in  jj  jjr  ...  vbg  vbn  vbp  vbz  wdt  wikicode  wp  wrb  \\\n",
       "0   0   4   8    0  ...    0    0    0    0    0         0   0    0   \n",
       "1   0   0   6    0  ...    1    0    1    0    0         0   0    0   \n",
       "2   0   2   5    0  ...    1    0    0    0    0         0   0    0   \n",
       "3   0   3   3    0  ...    0    0    0    0    0         0   0    0   \n",
       "4   0   3   6    0  ...    0    0    0    0    0         0   0    0   \n",
       "\n",
       "   scientific_or_not                                    words_embedding  \n",
       "0               True  [2.2172083500772715, 1.8652248345315456, -4.12...  \n",
       "1               True  [1.8394884951412678, 3.045541481114924, -7.576...  \n",
       "2               True  [1.2257937546819448, 3.9170858301222324, -4.93...  \n",
       "3               True  [1.7118084817193449, 2.515659366734326, -0.639...  \n",
       "4               True  [-0.34577748365700245, 3.1046539759263396, -2....  \n",
       "\n",
       "[5 rows x 39 columns]"
      ]
     },
     "execution_count": 67,
     "metadata": {},
     "output_type": "execute_result"
    }
   ],
   "source": [
    "time_sequence_features.head()"
   ]
  },
  {
   "cell_type": "code",
   "execution_count": 71,
   "metadata": {},
   "outputs": [],
   "source": [
    "# Join auxiliary features with the citations dataset\n",
    "auxiliary_features = pd.merge(\n",
    "    auxiliary_features, citation_text_features,\n",
    "    left_on=['id', 'citation_text'], right_on=['id', 'citation'], how='inner')"
   ]
  },
  {
   "cell_type": "code",
   "execution_count": 72,
   "metadata": {},
   "outputs": [],
   "source": [
    "# Drop columns with are duplicates\n",
    "auxiliary_features.drop(['scientific_or_not_x', 'neighboring_tags', 'characters', 'citation_y'], axis=1, inplace=True)\n",
    "auxiliary_features.rename(columns={'scientific_or_not_y':'scientific_or_not'}, inplace=True)"
   ]
  },
  {
   "cell_type": "code",
   "execution_count": 73,
   "metadata": {},
   "outputs": [
    {
     "data": {
      "text/html": [
       "<div>\n",
       "<style scoped>\n",
       "    .dataframe tbody tr th:only-of-type {\n",
       "        vertical-align: middle;\n",
       "    }\n",
       "\n",
       "    .dataframe tbody tr th {\n",
       "        vertical-align: top;\n",
       "    }\n",
       "\n",
       "    .dataframe thead th {\n",
       "        text-align: right;\n",
       "    }\n",
       "</style>\n",
       "<table border=\"1\" class=\"dataframe\">\n",
       "  <thead>\n",
       "    <tr style=\"text-align: right;\">\n",
       "      <th></th>\n",
       "      <th>citation_text</th>\n",
       "      <th>id</th>\n",
       "      <th>ref_index</th>\n",
       "      <th>total_words</th>\n",
       "      <th>20th century</th>\n",
       "      <th>Activity</th>\n",
       "      <th>Adverse effects</th>\n",
       "      <th>Aftermath</th>\n",
       "      <th>Anatomy</th>\n",
       "      <th>Animal studies</th>\n",
       "      <th>...</th>\n",
       "      <th>cite news</th>\n",
       "      <th>cite newsgroup</th>\n",
       "      <th>cite report</th>\n",
       "      <th>cite speech</th>\n",
       "      <th>cite techreport</th>\n",
       "      <th>cite thesis</th>\n",
       "      <th>cite web</th>\n",
       "      <th>harvnb</th>\n",
       "      <th>scientific_or_not</th>\n",
       "      <th>embedding</th>\n",
       "    </tr>\n",
       "  </thead>\n",
       "  <tbody>\n",
       "    <tr>\n",
       "      <th>0</th>\n",
       "      <td>{{cite journal | author= Kenneth Cornetta | au...</td>\n",
       "      <td>1831220</td>\n",
       "      <td>946</td>\n",
       "      <td>1649</td>\n",
       "      <td>0</td>\n",
       "      <td>0</td>\n",
       "      <td>0</td>\n",
       "      <td>0</td>\n",
       "      <td>0</td>\n",
       "      <td>0</td>\n",
       "      <td>...</td>\n",
       "      <td>0</td>\n",
       "      <td>0</td>\n",
       "      <td>0</td>\n",
       "      <td>0</td>\n",
       "      <td>0</td>\n",
       "      <td>0</td>\n",
       "      <td>0</td>\n",
       "      <td>0</td>\n",
       "      <td>True</td>\n",
       "      <td>[[-0.03153876, -0.020312816, 0.0006398079, 0.0...</td>\n",
       "    </tr>\n",
       "    <tr>\n",
       "      <th>1</th>\n",
       "      <td>{{cite journal|last=Sorgi|first=FL|author2=Bha...</td>\n",
       "      <td>1831220</td>\n",
       "      <td>1034</td>\n",
       "      <td>1649</td>\n",
       "      <td>0</td>\n",
       "      <td>0</td>\n",
       "      <td>0</td>\n",
       "      <td>0</td>\n",
       "      <td>0</td>\n",
       "      <td>0</td>\n",
       "      <td>...</td>\n",
       "      <td>0</td>\n",
       "      <td>0</td>\n",
       "      <td>0</td>\n",
       "      <td>0</td>\n",
       "      <td>0</td>\n",
       "      <td>0</td>\n",
       "      <td>0</td>\n",
       "      <td>0</td>\n",
       "      <td>True</td>\n",
       "      <td>[[-0.0284051, -0.017420629, -0.030706506, -0.0...</td>\n",
       "    </tr>\n",
       "    <tr>\n",
       "      <th>2</th>\n",
       "      <td>{{cite journal|last=Walker|first=WS|author2=Re...</td>\n",
       "      <td>1831220</td>\n",
       "      <td>1194</td>\n",
       "      <td>1649</td>\n",
       "      <td>0</td>\n",
       "      <td>0</td>\n",
       "      <td>0</td>\n",
       "      <td>0</td>\n",
       "      <td>0</td>\n",
       "      <td>0</td>\n",
       "      <td>...</td>\n",
       "      <td>0</td>\n",
       "      <td>0</td>\n",
       "      <td>0</td>\n",
       "      <td>0</td>\n",
       "      <td>0</td>\n",
       "      <td>0</td>\n",
       "      <td>0</td>\n",
       "      <td>0</td>\n",
       "      <td>True</td>\n",
       "      <td>[[-0.007002882, -0.014930768, -0.01889373, -0....</td>\n",
       "    </tr>\n",
       "    <tr>\n",
       "      <th>3</th>\n",
       "      <td>{{cite journal|last=Campbell|first=FW|author2=...</td>\n",
       "      <td>1831220</td>\n",
       "      <td>1268</td>\n",
       "      <td>1649</td>\n",
       "      <td>0</td>\n",
       "      <td>0</td>\n",
       "      <td>0</td>\n",
       "      <td>0</td>\n",
       "      <td>0</td>\n",
       "      <td>0</td>\n",
       "      <td>...</td>\n",
       "      <td>0</td>\n",
       "      <td>0</td>\n",
       "      <td>0</td>\n",
       "      <td>0</td>\n",
       "      <td>0</td>\n",
       "      <td>0</td>\n",
       "      <td>0</td>\n",
       "      <td>0</td>\n",
       "      <td>True</td>\n",
       "      <td>[[-0.0052188467, -0.023395125, -0.0045939256, ...</td>\n",
       "    </tr>\n",
       "    <tr>\n",
       "      <th>4</th>\n",
       "      <td>{{cite journal|last=Welsby|first=IJ|author2=Ne...</td>\n",
       "      <td>1831220</td>\n",
       "      <td>1360</td>\n",
       "      <td>1649</td>\n",
       "      <td>0</td>\n",
       "      <td>0</td>\n",
       "      <td>0</td>\n",
       "      <td>0</td>\n",
       "      <td>0</td>\n",
       "      <td>0</td>\n",
       "      <td>...</td>\n",
       "      <td>0</td>\n",
       "      <td>0</td>\n",
       "      <td>0</td>\n",
       "      <td>0</td>\n",
       "      <td>0</td>\n",
       "      <td>0</td>\n",
       "      <td>0</td>\n",
       "      <td>0</td>\n",
       "      <td>True</td>\n",
       "      <td>[[-0.0116199795, -0.021494359, -0.008297364, -...</td>\n",
       "    </tr>\n",
       "  </tbody>\n",
       "</table>\n",
       "<p>5 rows × 177 columns</p>\n",
       "</div>"
      ],
      "text/plain": [
       "                                       citation_text       id  ref_index  \\\n",
       "0  {{cite journal | author= Kenneth Cornetta | au...  1831220        946   \n",
       "1  {{cite journal|last=Sorgi|first=FL|author2=Bha...  1831220       1034   \n",
       "2  {{cite journal|last=Walker|first=WS|author2=Re...  1831220       1194   \n",
       "3  {{cite journal|last=Campbell|first=FW|author2=...  1831220       1268   \n",
       "4  {{cite journal|last=Welsby|first=IJ|author2=Ne...  1831220       1360   \n",
       "\n",
       "   total_words  20th century  Activity  Adverse effects  Aftermath  Anatomy  \\\n",
       "0         1649             0         0                0          0        0   \n",
       "1         1649             0         0                0          0        0   \n",
       "2         1649             0         0                0          0        0   \n",
       "3         1649             0         0                0          0        0   \n",
       "4         1649             0         0                0          0        0   \n",
       "\n",
       "   Animal studies  ...  cite news  cite newsgroup  cite report  cite speech  \\\n",
       "0               0  ...          0               0            0            0   \n",
       "1               0  ...          0               0            0            0   \n",
       "2               0  ...          0               0            0            0   \n",
       "3               0  ...          0               0            0            0   \n",
       "4               0  ...          0               0            0            0   \n",
       "\n",
       "   cite techreport  cite thesis  cite web  harvnb  scientific_or_not  \\\n",
       "0                0            0         0       0               True   \n",
       "1                0            0         0       0               True   \n",
       "2                0            0         0       0               True   \n",
       "3                0            0         0       0               True   \n",
       "4                0            0         0       0               True   \n",
       "\n",
       "                                           embedding  \n",
       "0  [[-0.03153876, -0.020312816, 0.0006398079, 0.0...  \n",
       "1  [[-0.0284051, -0.017420629, -0.030706506, -0.0...  \n",
       "2  [[-0.007002882, -0.014930768, -0.01889373, -0....  \n",
       "3  [[-0.0052188467, -0.023395125, -0.0045939256, ...  \n",
       "4  [[-0.0116199795, -0.021494359, -0.008297364, -...  \n",
       "\n",
       "[5 rows x 177 columns]"
      ]
     },
     "execution_count": 73,
     "metadata": {},
     "output_type": "execute_result"
    }
   ],
   "source": [
    "auxiliary_features.head()"
   ]
  },
  {
   "cell_type": "markdown",
   "metadata": {},
   "source": [
    "## Making sampled sets for `auxiliary` and `time sequence` features"
   ]
  },
  {
   "cell_type": "code",
   "execution_count": 74,
   "metadata": {},
   "outputs": [],
   "source": [
    "data = dataset_with_features[['id', 'citation', 'scientific_or_not']]"
   ]
  },
  {
   "cell_type": "code",
   "execution_count": 75,
   "metadata": {},
   "outputs": [],
   "source": [
    "# Get scientific and non scientific dataset\n",
    "scientific_data = data[data['scientific_or_not'] == True]\n",
    "scientific_samples = scientific_data.sample(n=760000)\n",
    "\n",
    "non_scientific_data = data[data['scientific_or_not'] == False]\n",
    "non_scientific_samples = non_scientific_data.sample(n=760000)"
   ]
  },
  {
   "cell_type": "code",
   "execution_count": 76,
   "metadata": {},
   "outputs": [
    {
     "data": {
      "text/html": [
       "<div>\n",
       "<style scoped>\n",
       "    .dataframe tbody tr th:only-of-type {\n",
       "        vertical-align: middle;\n",
       "    }\n",
       "\n",
       "    .dataframe tbody tr th {\n",
       "        vertical-align: top;\n",
       "    }\n",
       "\n",
       "    .dataframe thead th {\n",
       "        text-align: right;\n",
       "    }\n",
       "</style>\n",
       "<table border=\"1\" class=\"dataframe\">\n",
       "  <thead>\n",
       "    <tr style=\"text-align: right;\">\n",
       "      <th></th>\n",
       "      <th>id</th>\n",
       "      <th>citation</th>\n",
       "      <th>scientific_or_not</th>\n",
       "    </tr>\n",
       "  </thead>\n",
       "  <tbody>\n",
       "    <tr>\n",
       "      <th>425501</th>\n",
       "      <td>20756869</td>\n",
       "      <td>{{Cite journal|last=Toth|first=A. L.|last2=Rob...</td>\n",
       "      <td>True</td>\n",
       "    </tr>\n",
       "    <tr>\n",
       "      <th>848413</th>\n",
       "      <td>51761578</td>\n",
       "      <td>{{Cite journal|last=Gleiser|first=Marcelo|last...</td>\n",
       "      <td>True</td>\n",
       "    </tr>\n",
       "    <tr>\n",
       "      <th>942088</th>\n",
       "      <td>10615296</td>\n",
       "      <td>{{cite journal  |vauthors=Yen HL, Lipatov AS, ...</td>\n",
       "      <td>True</td>\n",
       "    </tr>\n",
       "    <tr>\n",
       "      <th>65844</th>\n",
       "      <td>30744522</td>\n",
       "      <td>{{cite journal |author=Yergeau DA |author2=Cor...</td>\n",
       "      <td>True</td>\n",
       "    </tr>\n",
       "    <tr>\n",
       "      <th>1116390</th>\n",
       "      <td>23245919</td>\n",
       "      <td>{{cite book|last1=Adams|first1=Katherine H. |l...</td>\n",
       "      <td>True</td>\n",
       "    </tr>\n",
       "  </tbody>\n",
       "</table>\n",
       "</div>"
      ],
      "text/plain": [
       "               id                                           citation  \\\n",
       "425501   20756869  {{Cite journal|last=Toth|first=A. L.|last2=Rob...   \n",
       "848413   51761578  {{Cite journal|last=Gleiser|first=Marcelo|last...   \n",
       "942088   10615296  {{cite journal  |vauthors=Yen HL, Lipatov AS, ...   \n",
       "65844    30744522  {{cite journal |author=Yergeau DA |author2=Cor...   \n",
       "1116390  23245919  {{cite book|last1=Adams|first1=Katherine H. |l...   \n",
       "\n",
       "         scientific_or_not  \n",
       "425501                True  \n",
       "848413                True  \n",
       "942088                True  \n",
       "65844                 True  \n",
       "1116390               True  "
      ]
     },
     "execution_count": 76,
     "metadata": {},
     "output_type": "execute_result"
    }
   ],
   "source": [
    "sampled_data = pd.concat([scientific_samples, non_scientific_samples])\n",
    "sampled_data.head()"
   ]
  },
  {
   "cell_type": "code",
   "execution_count": 77,
   "metadata": {},
   "outputs": [],
   "source": [
    "# Get the time sequence features for the 1.52 million sampled data\n",
    "time_sequence_features = pd.merge(\n",
    "    time_sequence_features, sampled_data,\n",
    "    left_on=['id', 'citation'], right_on=['id', 'citation'], how='inner')\n",
    "time_sequence_features.drop('scientific_or_not_x', axis=1, inplace=True)\n",
    "time_sequence_features.rename(columns={'scientific_or_not_y':'scientific_or_not'}, inplace=True)"
   ]
  },
  {
   "cell_type": "code",
   "execution_count": 79,
   "metadata": {},
   "outputs": [],
   "source": [
    "# Get the auxiliary features for the 1.52 million sampled data\n",
    "auxiliary_features = pd.merge(\n",
    "    auxiliary_features, sampled_data,\n",
    "    left_on=['id', 'citation_text'], right_on=['id', 'citation'], how='inner')\n",
    "auxiliary_features.drop(['scientific_or_not_x', 'citation'], axis=1, inplace=True)\n",
    "auxiliary_features.rename(columns={'scientific_or_not_y':'scientific_or_not'}, inplace=True)"
   ]
  },
  {
   "cell_type": "code",
   "execution_count": 80,
   "metadata": {},
   "outputs": [
    {
     "data": {
      "text/plain": [
       "(1520000, 1520000)"
      ]
     },
     "execution_count": 80,
     "metadata": {},
     "output_type": "execute_result"
    }
   ],
   "source": [
    "len(time_sequence_features), len(auxiliary_features)"
   ]
  },
  {
   "cell_type": "code",
   "execution_count": 81,
   "metadata": {},
   "outputs": [],
   "source": [
    "# Change the features from a numpy array to a list\n",
    "auxiliary_features['embedding'] = auxiliary_features['embedding'].apply(lambda x: x[0].tolist())\n",
    "time_sequence_features['words_embedding'] = time_sequence_features['words_embedding'].apply(lambda x: x.tolist())"
   ]
  },
  {
   "cell_type": "markdown",
   "metadata": {},
   "source": [
    "## Splitting the dataset into training, testing and validation "
   ]
  },
  {
   "cell_type": "markdown",
   "metadata": {},
   "source": [
    "The split is done into 80-10-10 ratio so that we have more training data to train on and have validation dataset to make sure that the model is working as anticipated."
   ]
  },
  {
   "cell_type": "code",
   "execution_count": 86,
   "metadata": {},
   "outputs": [],
   "source": [
    "TOTAL_SAMPLES = time_sequence_features.shape[0]\n",
    "indices = np.arange(TOTAL_SAMPLES)\n",
    "np.random.shuffle(indices)"
   ]
  },
  {
   "cell_type": "code",
   "execution_count": 87,
   "metadata": {},
   "outputs": [],
   "source": [
    "# Split indices into training and other sets (validation, testing)\n",
    "training_end_index = int((TOTAL_SAMPLES * 80) / 100)\n",
    "training_indices = indices[:training_end_index]\n",
    "other_indices = indices[training_end_index:]"
   ]
  },
  {
   "cell_type": "code",
   "execution_count": 88,
   "metadata": {},
   "outputs": [
    {
     "data": {
      "text/plain": [
       "(1216000, 304000)"
      ]
     },
     "execution_count": 88,
     "metadata": {},
     "output_type": "execute_result"
    }
   ],
   "source": [
    "len(training_indices), len(other_indices)"
   ]
  },
  {
   "cell_type": "code",
   "execution_count": 89,
   "metadata": {},
   "outputs": [],
   "source": [
    "# Get validation and testing indices\n",
    "half_threshold = int(len(other_indices)/2)\n",
    "\n",
    "validation_indices = other_indices[:half_threshold]\n",
    "test_indices = other_indices[half_threshold:]"
   ]
  },
  {
   "cell_type": "code",
   "execution_count": 90,
   "metadata": {},
   "outputs": [
    {
     "data": {
      "text/plain": [
       "(152000, 152000)"
      ]
     },
     "execution_count": 90,
     "metadata": {},
     "output_type": "execute_result"
    }
   ],
   "source": [
    "len(validation_indices), len(test_indices)"
   ]
  },
  {
   "cell_type": "code",
   "execution_count": 114,
   "metadata": {},
   "outputs": [],
   "source": [
    "# Get the labels for training, validation and testing since they are going to be the same\n",
    "y_train = auxiliary_features.loc[training_indices, 'scientific_or_not'].astype(int).tolist()\n",
    "y_val = auxiliary_features.loc[validation_indices, 'scientific_or_not'].astype(int).tolist()\n",
    "y_test = auxiliary_features.loc[test_indices, 'scientific_or_not'].astype(int).tolist()"
   ]
  },
  {
   "cell_type": "code",
   "execution_count": 115,
   "metadata": {},
   "outputs": [],
   "source": [
    "# Make a mask for auxiliary dataset to get all features except the one below\n",
    "column_mask_aux = ~auxiliary_features.columns.isin(['id', 'citation_text', 'scientific_or_not'])"
   ]
  },
  {
   "cell_type": "code",
   "execution_count": 116,
   "metadata": {},
   "outputs": [],
   "source": [
    "# Get the columns of those auxiliary features and covert them into a list\n",
    "training_auxiliary = auxiliary_features.loc[training_indices, column_mask_aux].values.tolist()\n",
    "validation_auxiliary = auxiliary_features.loc[validation_indices, column_mask_aux].values.tolist()\n",
    "testing_auxiliary = auxiliary_features.loc[test_indices, column_mask_aux].values.tolist()"
   ]
  },
  {
   "cell_type": "code",
   "execution_count": 117,
   "metadata": {},
   "outputs": [],
   "source": [
    "# Convert them into numpy array (for Keras) and stack them as suited for the model's format\n",
    "training_auxiliary = [np.hstack(np.array(i)) for i in training_auxiliary]\n",
    "validation_auxiliary = [np.hstack(np.array(i)) for i in validation_auxiliary]\n",
    "testing_auxiliary = [np.hstack(np.array(i)) for i in testing_auxiliary]"
   ]
  },
  {
   "cell_type": "code",
   "execution_count": 118,
   "metadata": {},
   "outputs": [],
   "source": [
    "# Make a mask for time sequences features dataset to get all features except the one below\n",
    "column_mask_time = ~time_sequence_features.columns.isin(['id', 'citation', 'scientific_or_not'])"
   ]
  },
  {
   "cell_type": "code",
   "execution_count": 119,
   "metadata": {},
   "outputs": [],
   "source": [
    "training_time = time_sequence_features.loc[training_indices, column_mask_time].values.tolist()\n",
    "validation_time = time_sequence_features.loc[validation_indices, column_mask_time].values.tolist()\n",
    "testing_time = time_sequence_features.loc[test_indices, column_mask_time].values.tolist()"
   ]
  },
  {
   "cell_type": "code",
   "execution_count": 120,
   "metadata": {},
   "outputs": [],
   "source": [
    "def make_structure_time_features(time_features):\n",
    "    \"\"\"\n",
    "    Concatenate features which are numbers and lists together by checking the type:\n",
    "    \n",
    "    param: time_features: the features which are considered time sequence.\n",
    "    \"\"\"\n",
    "    feature_one = np.array([i for i in time_features if isinstance(i, int)])\n",
    "    feature_two = np.array([i for i in time_features if isinstance(i, list)][0])\n",
    "    return np.array([feature_one, feature_two])"
   ]
  },
  {
   "cell_type": "code",
   "execution_count": 121,
   "metadata": {},
   "outputs": [],
   "source": [
    "training_time = [make_structure_time_features(i) for i in training_time]\n",
    "validation_time = [make_structure_time_features(i) for i in validation_time]\n",
    "testing_time = [make_structure_time_features(i) for i in testing_time]"
   ]
  },
  {
   "cell_type": "markdown",
   "metadata": {},
   "source": [
    "## LSTM/Neural Network Model"
   ]
  },
  {
   "cell_type": "code",
   "execution_count": 122,
   "metadata": {},
   "outputs": [],
   "source": [
    "# Instantiating PCA to 35 components since it should be equal to the size of the vector of the tags\n",
    "pca = PCA(n_components=35)"
   ]
  },
  {
   "cell_type": "code",
   "execution_count": 123,
   "metadata": {},
   "outputs": [],
   "source": [
    "def get_reduced_words_dimension(data):\n",
    "    \"\"\"\n",
    "    Get the aggregated dataset of words and tags which has the\n",
    "    same dimensionality using PCA.\n",
    "    \n",
    "    :param: data: data which needs to be aggregated.\n",
    "    \"\"\"\n",
    "    tags = [i for i, _ in data]\n",
    "    word_embeddings = [j for _,j in data]\n",
    "    pca.fit(word_embeddings)\n",
    "    \n",
    "    word_embeddings_pca = pca.transform(word_embeddings)\n",
    "    tags = np.array(tags)\n",
    "    return np.dstack((word_embeddings_pca, tags))"
   ]
  },
  {
   "cell_type": "code",
   "execution_count": 124,
   "metadata": {},
   "outputs": [],
   "source": [
    "# Apply PCA on all the sets of data to have the dimensions of the data to be the same\n",
    "trained_pca = get_reduced_words_dimension(training_time)\n",
    "val_pca = get_reduced_words_dimension(validation_time)\n",
    "test_pca = get_reduced_words_dimension(testing_time)"
   ]
  },
  {
   "cell_type": "code",
   "execution_count": 125,
   "metadata": {},
   "outputs": [],
   "source": [
    "def classification_model():\n",
    "    \"\"\"\n",
    "    Model for classifying whether a citation is scientific or not.\n",
    "    \"\"\"\n",
    "    main_input = Input(shape=(35, 2), name='time_input')\n",
    "    lstm_out = LSTM(32)(main_input)\n",
    "\n",
    "    auxiliary_input = Input(shape=(473,), name='aux_input')\n",
    "    # Converging the auxiliary input with the LSTM output\n",
    "    x = keras.layers.concatenate([lstm_out, auxiliary_input])\n",
    "\n",
    "    # 4 fully connected layer\n",
    "    x = Dense(128, activation='relu')(x)\n",
    "    x = Dense(64, activation='relu')(x)\n",
    "    x = Dense(64, activation='relu')(x)\n",
    "    x = Dense(32, activation='relu')(x)\n",
    "\n",
    "    main_output = Dense(1, activation='sigmoid', name='main_output')(x)\n",
    "    model = Model(inputs=[main_input, auxiliary_input], outputs=[main_output])\n",
    "    \n",
    "    model.compile(\n",
    "        optimizer='adam', loss={'main_output': 'binary_crossentropy'},\n",
    "        loss_weights={'main_output': 1.}, metrics=['acc']\n",
    "    )\n",
    "    return model"
   ]
  },
  {
   "cell_type": "code",
   "execution_count": 126,
   "metadata": {},
   "outputs": [
    {
     "name": "stdout",
     "output_type": "stream",
     "text": [
      "__________________________________________________________________________________________________\n",
      "Layer (type)                    Output Shape         Param #     Connected to                     \n",
      "==================================================================================================\n",
      "time_input (InputLayer)         (None, 35, 2)        0                                            \n",
      "__________________________________________________________________________________________________\n",
      "lstm_2 (LSTM)                   (None, 32)           4480        time_input[0][0]                 \n",
      "__________________________________________________________________________________________________\n",
      "aux_input (InputLayer)          (None, 473)          0                                            \n",
      "__________________________________________________________________________________________________\n",
      "concatenate_1 (Concatenate)     (None, 505)          0           lstm_2[0][0]                     \n",
      "                                                                 aux_input[0][0]                  \n",
      "__________________________________________________________________________________________________\n",
      "dense_2 (Dense)                 (None, 128)          64768       concatenate_1[0][0]              \n",
      "__________________________________________________________________________________________________\n",
      "dense_3 (Dense)                 (None, 64)           8256        dense_2[0][0]                    \n",
      "__________________________________________________________________________________________________\n",
      "dense_4 (Dense)                 (None, 64)           4160        dense_3[0][0]                    \n",
      "__________________________________________________________________________________________________\n",
      "dense_5 (Dense)                 (None, 32)           2080        dense_4[0][0]                    \n",
      "__________________________________________________________________________________________________\n",
      "main_output (Dense)             (None, 1)            33          dense_5[0][0]                    \n",
      "==================================================================================================\n",
      "Total params: 83,777\n",
      "Trainable params: 83,777\n",
      "Non-trainable params: 0\n",
      "__________________________________________________________________________________________________\n"
     ]
    }
   ],
   "source": [
    "# Instantiating the classification model\n",
    "model = classification_model()\n",
    "model.summary()"
   ]
  },
  {
   "cell_type": "markdown",
   "metadata": {},
   "source": [
    "We use `ReduceLRonPlateau` so that the model does not overshoot the optimal minimum point and hence by default we start with a learning rate of 0.01 but as soon as the accuracy stop increasing the learning rate does not change which helps us converge better."
   ]
  },
  {
   "cell_type": "code",
   "execution_count": 127,
   "metadata": {},
   "outputs": [],
   "source": [
    "reduce_lr = ReduceLROnPlateau(monitor='val_loss', factor=0.2, patience=5, min_lr=0.001)"
   ]
  },
  {
   "cell_type": "code",
   "execution_count": 128,
   "metadata": {},
   "outputs": [
    {
     "name": "stdout",
     "output_type": "stream",
     "text": [
      "Train on 1216000 samples, validate on 152000 samples\n",
      "Epoch 1/10\n",
      "1216000/1216000 [==============================] - 152s 125us/step - loss: 0.6231 - acc: 0.7968 - val_loss: 0.4439 - val_acc: 0.8336\n",
      "Epoch 2/10\n",
      "1216000/1216000 [==============================] - 151s 124us/step - loss: 0.2606 - acc: 0.8897 - val_loss: 0.3313 - val_acc: 0.8658\n",
      "Epoch 3/10\n",
      "1216000/1216000 [==============================] - 153s 126us/step - loss: 0.2157 - acc: 0.9087 - val_loss: 0.2727 - val_acc: 0.8881\n",
      "Epoch 4/10\n",
      "1216000/1216000 [==============================] - 153s 126us/step - loss: 0.2013 - acc: 0.9155 - val_loss: 0.3011 - val_acc: 0.8813\n",
      "Epoch 5/10\n",
      "1216000/1216000 [==============================] - 149s 123us/step - loss: 0.1909 - acc: 0.9209 - val_loss: 0.3169 - val_acc: 0.8769\n",
      "Epoch 6/10\n",
      "1216000/1216000 [==============================] - 152s 125us/step - loss: 0.1835 - acc: 0.9236 - val_loss: 0.4160 - val_acc: 0.8462\n",
      "Epoch 7/10\n",
      "1216000/1216000 [==============================] - 152s 125us/step - loss: 0.1779 - acc: 0.9262 - val_loss: 0.3134 - val_acc: 0.8762\n",
      "Epoch 8/10\n",
      "1216000/1216000 [==============================] - 152s 125us/step - loss: 0.1740 - acc: 0.9273 - val_loss: 0.3199 - val_acc: 0.8786\n",
      "Epoch 9/10\n",
      "1216000/1216000 [==============================] - 152s 125us/step - loss: 0.1710 - acc: 0.9289 - val_loss: 0.3145 - val_acc: 0.8747\n",
      "Epoch 10/10\n",
      "1216000/1216000 [==============================] - 149s 123us/step - loss: 0.1692 - acc: 0.9299 - val_loss: 0.2691 - val_acc: 0.8914\n"
     ]
    },
    {
     "data": {
      "text/plain": [
       "<keras.callbacks.History at 0x7effcdced978>"
      ]
     },
     "execution_count": 128,
     "metadata": {},
     "output_type": "execute_result"
    }
   ],
   "source": [
    "# Running the model with the training, testing and validation set and for 10 epocsh and size 256\n",
    "model.fit({'time_input': trained_pca,\n",
    "           'aux_input': np.array(training_auxiliary)\n",
    "    }, {'main_output': np.array(y_train) }, \n",
    "          validation_data=([val_pca, np.array(validation_auxiliary)], [np.array(y_val)]),\n",
    "          epochs=10, batch_size=256, callbacks=[reduce_lr], shuffle=True\n",
    ")"
   ]
  },
  {
   "cell_type": "code",
   "execution_count": 129,
   "metadata": {},
   "outputs": [],
   "source": [
    "prediction = model.predict([test_pca, np.array(testing_auxiliary)])\n",
    "y_pred = prediction > 0.5"
   ]
  },
  {
   "cell_type": "code",
   "execution_count": 180,
   "metadata": {},
   "outputs": [
    {
     "name": "stdout",
     "output_type": "stream",
     "text": [
      "Accuracy of the Neural network model: 0.888875\n"
     ]
    },
    {
     "data": {
      "text/html": [
       "<div>\n",
       "<style scoped>\n",
       "    .dataframe tbody tr th:only-of-type {\n",
       "        vertical-align: middle;\n",
       "    }\n",
       "\n",
       "    .dataframe tbody tr th {\n",
       "        vertical-align: top;\n",
       "    }\n",
       "\n",
       "    .dataframe thead th {\n",
       "        text-align: right;\n",
       "    }\n",
       "</style>\n",
       "<table border=\"1\" class=\"dataframe\">\n",
       "  <thead>\n",
       "    <tr style=\"text-align: right;\">\n",
       "      <th></th>\n",
       "      <th>0</th>\n",
       "      <th>1</th>\n",
       "    </tr>\n",
       "  </thead>\n",
       "  <tbody>\n",
       "    <tr>\n",
       "      <th>0</th>\n",
       "      <td>64536</td>\n",
       "      <td>11249</td>\n",
       "    </tr>\n",
       "    <tr>\n",
       "      <th>1</th>\n",
       "      <td>5642</td>\n",
       "      <td>70573</td>\n",
       "    </tr>\n",
       "  </tbody>\n",
       "</table>\n",
       "</div>"
      ],
      "text/plain": [
       "       0      1\n",
       "0  64536  11249\n",
       "1   5642  70573"
      ]
     },
     "execution_count": 180,
     "metadata": {},
     "output_type": "execute_result"
    }
   ],
   "source": [
    "print(\"Accuracy of the Neural network model:\", metrics.accuracy_score(y_test, y_pred))\n",
    "# confusion matrix of the results/testing set\n",
    "pd.DataFrame(confusion_matrix(y_test, y_pred))"
   ]
  },
  {
   "cell_type": "code",
   "execution_count": 187,
   "metadata": {},
   "outputs": [
    {
     "data": {
      "text/html": [
       "<div>\n",
       "<style scoped>\n",
       "    .dataframe tbody tr th:only-of-type {\n",
       "        vertical-align: middle;\n",
       "    }\n",
       "\n",
       "    .dataframe tbody tr th {\n",
       "        vertical-align: top;\n",
       "    }\n",
       "\n",
       "    .dataframe thead th {\n",
       "        text-align: right;\n",
       "    }\n",
       "</style>\n",
       "<table border=\"1\" class=\"dataframe\">\n",
       "  <thead>\n",
       "    <tr style=\"text-align: right;\">\n",
       "      <th></th>\n",
       "      <th>predicted_label</th>\n",
       "      <th>actual_label</th>\n",
       "    </tr>\n",
       "    <tr>\n",
       "      <th>index_number</th>\n",
       "      <th></th>\n",
       "      <th></th>\n",
       "    </tr>\n",
       "  </thead>\n",
       "  <tbody>\n",
       "    <tr>\n",
       "      <th>92466</th>\n",
       "      <td>1</td>\n",
       "      <td>1</td>\n",
       "    </tr>\n",
       "    <tr>\n",
       "      <th>1201885</th>\n",
       "      <td>0</td>\n",
       "      <td>0</td>\n",
       "    </tr>\n",
       "    <tr>\n",
       "      <th>484992</th>\n",
       "      <td>1</td>\n",
       "      <td>1</td>\n",
       "    </tr>\n",
       "    <tr>\n",
       "      <th>696171</th>\n",
       "      <td>1</td>\n",
       "      <td>1</td>\n",
       "    </tr>\n",
       "    <tr>\n",
       "      <th>973057</th>\n",
       "      <td>0</td>\n",
       "      <td>0</td>\n",
       "    </tr>\n",
       "  </tbody>\n",
       "</table>\n",
       "</div>"
      ],
      "text/plain": [
       "              predicted_label  actual_label\n",
       "index_number                               \n",
       "92466                       1             1\n",
       "1201885                     0             0\n",
       "484992                      1             1\n",
       "696171                      1             1\n",
       "973057                      0             0"
      ]
     },
     "execution_count": 187,
     "metadata": {},
     "output_type": "execute_result"
    }
   ],
   "source": [
    "# Make a dataframe which contains the predicted and true labels for the testing set\n",
    "predict_val = pd.DataFrame(\n",
    "    list(zip(test_indices, y_pred.ravel().astype(int).tolist(), y_test)),\n",
    "    columns=['index_number', 'predicted_label', 'actual_label'])\n",
    "predict_val = predict_val.set_index(['index_number'])\n",
    "predict_val.head()"
   ]
  },
  {
   "cell_type": "code",
   "execution_count": 196,
   "metadata": {},
   "outputs": [
    {
     "data": {
      "text/html": [
       "<div>\n",
       "<style scoped>\n",
       "    .dataframe tbody tr th:only-of-type {\n",
       "        vertical-align: middle;\n",
       "    }\n",
       "\n",
       "    .dataframe tbody tr th {\n",
       "        vertical-align: top;\n",
       "    }\n",
       "\n",
       "    .dataframe thead th {\n",
       "        text-align: right;\n",
       "    }\n",
       "</style>\n",
       "<table border=\"1\" class=\"dataframe\">\n",
       "  <thead>\n",
       "    <tr style=\"text-align: right;\">\n",
       "      <th></th>\n",
       "      <th>id</th>\n",
       "      <th>citation</th>\n",
       "    </tr>\n",
       "  </thead>\n",
       "  <tbody>\n",
       "    <tr>\n",
       "      <th>0</th>\n",
       "      <td>1831220</td>\n",
       "      <td>{{cite journal | author= Kenneth Cornetta | au...</td>\n",
       "    </tr>\n",
       "    <tr>\n",
       "      <th>1</th>\n",
       "      <td>1831220</td>\n",
       "      <td>{{cite journal|last=Sorgi|first=FL|author2=Bha...</td>\n",
       "    </tr>\n",
       "    <tr>\n",
       "      <th>2</th>\n",
       "      <td>1831220</td>\n",
       "      <td>{{cite journal|last=Walker|first=WS|author2=Re...</td>\n",
       "    </tr>\n",
       "    <tr>\n",
       "      <th>3</th>\n",
       "      <td>1831220</td>\n",
       "      <td>{{cite journal|last=Campbell|first=FW|author2=...</td>\n",
       "    </tr>\n",
       "    <tr>\n",
       "      <th>4</th>\n",
       "      <td>1831239</td>\n",
       "      <td>{{cite journal | vauthors = L\\xfcke L, Campbel...</td>\n",
       "    </tr>\n",
       "  </tbody>\n",
       "</table>\n",
       "</div>"
      ],
      "text/plain": [
       "        id                                           citation\n",
       "0  1831220  {{cite journal | author= Kenneth Cornetta | au...\n",
       "1  1831220  {{cite journal|last=Sorgi|first=FL|author2=Bha...\n",
       "2  1831220  {{cite journal|last=Walker|first=WS|author2=Re...\n",
       "3  1831220  {{cite journal|last=Campbell|first=FW|author2=...\n",
       "4  1831239  {{cite journal | vauthors = L\\xfcke L, Campbel..."
      ]
     },
     "execution_count": 196,
     "metadata": {},
     "output_type": "execute_result"
    }
   ],
   "source": [
    "ids_and_citations = time_sequence_features[['id', 'citation']]\n",
    "ids_and_citations.head()"
   ]
  },
  {
   "cell_type": "code",
   "execution_count": 209,
   "metadata": {},
   "outputs": [],
   "source": [
    "# Get labels with the predicted label and actual label and merge it with the citation which we have trained it on\n",
    "labels_with_info = pd.merge(predict_val, ids_and_citations, left_index=True, right_index=True)"
   ]
  },
  {
   "cell_type": "code",
   "execution_count": 221,
   "metadata": {},
   "outputs": [
    {
     "data": {
      "text/html": [
       "<div>\n",
       "<style scoped>\n",
       "    .dataframe tbody tr th:only-of-type {\n",
       "        vertical-align: middle;\n",
       "    }\n",
       "\n",
       "    .dataframe tbody tr th {\n",
       "        vertical-align: top;\n",
       "    }\n",
       "\n",
       "    .dataframe thead th {\n",
       "        text-align: right;\n",
       "    }\n",
       "</style>\n",
       "<table border=\"1\" class=\"dataframe\">\n",
       "  <thead>\n",
       "    <tr style=\"text-align: right;\">\n",
       "      <th></th>\n",
       "      <th>predicted_label</th>\n",
       "      <th>actual_label</th>\n",
       "      <th>id</th>\n",
       "      <th>citation</th>\n",
       "    </tr>\n",
       "  </thead>\n",
       "  <tbody>\n",
       "    <tr>\n",
       "      <th>1201885</th>\n",
       "      <td>0</td>\n",
       "      <td>0</td>\n",
       "      <td>45041542</td>\n",
       "      <td>{{cite news |url=http://www.britishnewspaperarchive.co.uk/viewer/bl/0000290/19110410/096/0004 |title=Football |newspaper=Evening News |location=Portsmouth |date=10 April 1911 |page=5 |subscription=yes |via=British Newspaper Archive}}</td>\n",
       "    </tr>\n",
       "  </tbody>\n",
       "</table>\n",
       "</div>"
      ],
      "text/plain": [
       "         predicted_label  actual_label        id  \\\n",
       "1201885  0                0             45041542   \n",
       "\n",
       "                                                                                                                                                                                                                                          citation  \n",
       "1201885  {{cite news |url=http://www.britishnewspaperarchive.co.uk/viewer/bl/0000290/19110410/096/0004 |title=Football |newspaper=Evening News |location=Portsmouth |date=10 April 1911 |page=5 |subscription=yes |via=British Newspaper Archive}}  "
      ]
     },
     "execution_count": 221,
     "metadata": {},
     "output_type": "execute_result"
    }
   ],
   "source": [
    "labels_with_info[((labels_with_info['predicted_label'] == 0) & (labels_with_info['actual_label'] == 0))].head(1)"
   ]
  },
  {
   "cell_type": "code",
   "execution_count": 220,
   "metadata": {},
   "outputs": [
    {
     "data": {
      "text/html": [
       "<div>\n",
       "<style scoped>\n",
       "    .dataframe tbody tr th:only-of-type {\n",
       "        vertical-align: middle;\n",
       "    }\n",
       "\n",
       "    .dataframe tbody tr th {\n",
       "        vertical-align: top;\n",
       "    }\n",
       "\n",
       "    .dataframe thead th {\n",
       "        text-align: right;\n",
       "    }\n",
       "</style>\n",
       "<table border=\"1\" class=\"dataframe\">\n",
       "  <thead>\n",
       "    <tr style=\"text-align: right;\">\n",
       "      <th></th>\n",
       "      <th>predicted_label</th>\n",
       "      <th>actual_label</th>\n",
       "      <th>id</th>\n",
       "      <th>citation</th>\n",
       "    </tr>\n",
       "  </thead>\n",
       "  <tbody>\n",
       "    <tr>\n",
       "      <th>92466</th>\n",
       "      <td>1</td>\n",
       "      <td>1</td>\n",
       "      <td>863750</td>\n",
       "      <td>{{Cite book|title = The Architecture of Concurrent Programs|last = Brinch Hansen|first = Per|publisher = Prentice Hall|year = 1977|isbn = 0-13-044628-9|location = |pages = }}</td>\n",
       "    </tr>\n",
       "  </tbody>\n",
       "</table>\n",
       "</div>"
      ],
      "text/plain": [
       "       predicted_label  actual_label      id  \\\n",
       "92466  1                1             863750   \n",
       "\n",
       "                                                                                                                                                                             citation  \n",
       "92466  {{Cite book|title = The Architecture of Concurrent Programs|last = Brinch Hansen|first = Per|publisher = Prentice Hall|year = 1977|isbn = 0-13-044628-9|location = |pages = }}  "
      ]
     },
     "execution_count": 220,
     "metadata": {},
     "output_type": "execute_result"
    }
   ],
   "source": [
    "labels_with_info[((labels_with_info['predicted_label'] == 1) & (labels_with_info['actual_label'] == 1))].head(1)"
   ]
  },
  {
   "cell_type": "code",
   "execution_count": 218,
   "metadata": {},
   "outputs": [
    {
     "data": {
      "text/html": [
       "<div>\n",
       "<style scoped>\n",
       "    .dataframe tbody tr th:only-of-type {\n",
       "        vertical-align: middle;\n",
       "    }\n",
       "\n",
       "    .dataframe tbody tr th {\n",
       "        vertical-align: top;\n",
       "    }\n",
       "\n",
       "    .dataframe thead th {\n",
       "        text-align: right;\n",
       "    }\n",
       "</style>\n",
       "<table border=\"1\" class=\"dataframe\">\n",
       "  <thead>\n",
       "    <tr style=\"text-align: right;\">\n",
       "      <th></th>\n",
       "      <th>predicted_label</th>\n",
       "      <th>actual_label</th>\n",
       "      <th>id</th>\n",
       "      <th>citation</th>\n",
       "    </tr>\n",
       "  </thead>\n",
       "  <tbody>\n",
       "    <tr>\n",
       "      <th>254402</th>\n",
       "      <td>0</td>\n",
       "      <td>1</td>\n",
       "      <td>81580</td>\n",
       "      <td>{{cite journal |author=Vollrath, F.|author2=Knight, D. P.|last-author-amp=yes |date=2001 |title=Liquid crystalline spinning of spider silk |journal= Nature |volume= 410 |pages= 541\\u2013548 |doi=10.1038/35069000 |issue=6828 |pmid=11279484 |bibcode=2001Natur.410..541V}}</td>\n",
       "    </tr>\n",
       "  </tbody>\n",
       "</table>\n",
       "</div>"
      ],
      "text/plain": [
       "        predicted_label  actual_label     id  \\\n",
       "254402  0                1             81580   \n",
       "\n",
       "                                                                                                                                                                                                                                                                             citation  \n",
       "254402  {{cite journal |author=Vollrath, F.|author2=Knight, D. P.|last-author-amp=yes |date=2001 |title=Liquid crystalline spinning of spider silk |journal= Nature |volume= 410 |pages= 541\\u2013548 |doi=10.1038/35069000 |issue=6828 |pmid=11279484 |bibcode=2001Natur.410..541V}}  "
      ]
     },
     "execution_count": 218,
     "metadata": {},
     "output_type": "execute_result"
    }
   ],
   "source": [
    "labels_with_info[((labels_with_info['predicted_label'] == 0) & (labels_with_info['actual_label'] == 1))].head(1)"
   ]
  },
  {
   "cell_type": "code",
   "execution_count": 219,
   "metadata": {},
   "outputs": [
    {
     "data": {
      "text/html": [
       "<div>\n",
       "<style scoped>\n",
       "    .dataframe tbody tr th:only-of-type {\n",
       "        vertical-align: middle;\n",
       "    }\n",
       "\n",
       "    .dataframe tbody tr th {\n",
       "        vertical-align: top;\n",
       "    }\n",
       "\n",
       "    .dataframe thead th {\n",
       "        text-align: right;\n",
       "    }\n",
       "</style>\n",
       "<table border=\"1\" class=\"dataframe\">\n",
       "  <thead>\n",
       "    <tr style=\"text-align: right;\">\n",
       "      <th></th>\n",
       "      <th>predicted_label</th>\n",
       "      <th>actual_label</th>\n",
       "      <th>id</th>\n",
       "      <th>citation</th>\n",
       "    </tr>\n",
       "  </thead>\n",
       "  <tbody>\n",
       "    <tr>\n",
       "      <th>1467241</th>\n",
       "      <td>1</td>\n",
       "      <td>0</td>\n",
       "      <td>44608</td>\n",
       "      <td>{{cite book |last=Silverthorne |first=Elizabeth |title=Sarah Bernhardt |series=Women in the Arts series |year=2003 |publisher=Chelsea House |location=Philadelphia |isbn=0-7910-7458-7 |pages=77\\u201378}}</td>\n",
       "    </tr>\n",
       "  </tbody>\n",
       "</table>\n",
       "</div>"
      ],
      "text/plain": [
       "         predicted_label  actual_label     id  \\\n",
       "1467241  1                0             44608   \n",
       "\n",
       "                                                                                                                                                                                                           citation  \n",
       "1467241  {{cite book |last=Silverthorne |first=Elizabeth |title=Sarah Bernhardt |series=Women in the Arts series |year=2003 |publisher=Chelsea House |location=Philadelphia |isbn=0-7910-7458-7 |pages=77\\u201378}}  "
      ]
     },
     "execution_count": 219,
     "metadata": {},
     "output_type": "execute_result"
    }
   ],
   "source": [
    "labels_with_info[((labels_with_info['predicted_label'] == 1) & (labels_with_info['actual_label'] == 0))].head(1)"
   ]
  },
  {
   "cell_type": "markdown",
   "metadata": {},
   "source": [
    "## Training/Testing split different - 80/20 ratio"
   ]
  },
  {
   "cell_type": "markdown",
   "metadata": {},
   "source": [
    "This is done for consistency in results and comparing it with the Random Forest model we generated in the other notebook."
   ]
  },
  {
   "cell_type": "code",
   "execution_count": 325,
   "metadata": {},
   "outputs": [
    {
     "name": "stdout",
     "output_type": "stream",
     "text": [
      "__________________________________________________________________________________________________\n",
      "Layer (type)                    Output Shape         Param #     Connected to                     \n",
      "==================================================================================================\n",
      "time_input (InputLayer)         (None, 35, 2)        0                                            \n",
      "__________________________________________________________________________________________________\n",
      "lstm_8 (LSTM)                   (None, 32)           4480        time_input[0][0]                 \n",
      "__________________________________________________________________________________________________\n",
      "aux_input (InputLayer)          (None, 473)          0                                            \n",
      "__________________________________________________________________________________________________\n",
      "concatenate_7 (Concatenate)     (None, 505)          0           lstm_8[0][0]                     \n",
      "                                                                 aux_input[0][0]                  \n",
      "__________________________________________________________________________________________________\n",
      "dense_26 (Dense)                (None, 128)          64768       concatenate_7[0][0]              \n",
      "__________________________________________________________________________________________________\n",
      "dense_27 (Dense)                (None, 64)           8256        dense_26[0][0]                   \n",
      "__________________________________________________________________________________________________\n",
      "dense_28 (Dense)                (None, 64)           4160        dense_27[0][0]                   \n",
      "__________________________________________________________________________________________________\n",
      "dense_29 (Dense)                (None, 32)           2080        dense_28[0][0]                   \n",
      "__________________________________________________________________________________________________\n",
      "main_output (Dense)             (None, 1)            33          dense_29[0][0]                   \n",
      "==================================================================================================\n",
      "Total params: 83,777\n",
      "Trainable params: 83,777\n",
      "Non-trainable params: 0\n",
      "__________________________________________________________________________________________________\n"
     ]
    }
   ],
   "source": [
    "# Instantiating the model with a different split\n",
    "model_split_different = classification_model()\n",
    "model_split_different.summary()"
   ]
  },
  {
   "cell_type": "code",
   "execution_count": 403,
   "metadata": {},
   "outputs": [],
   "source": [
    "# Appending validation and testing set together to make testing set of 20%\n",
    "new_test_pca = np.concatenate((val_pca,test_pca))\n",
    "new_testing_auxiliary = np.concatenate((validation_auxiliary, testing_auxiliary))\n",
    "new_y_test = y_val + y_test"
   ]
  },
  {
   "cell_type": "code",
   "execution_count": 327,
   "metadata": {},
   "outputs": [
    {
     "name": "stdout",
     "output_type": "stream",
     "text": [
      "Train on 1216000 samples, validate on 152000 samples\n",
      "Epoch 1/10\n",
      "1216000/1216000 [==============================] - 152s 125us/step - loss: 0.6351 - acc: 0.8088 - val_loss: 0.4717 - val_acc: 0.7848\n",
      "Epoch 2/10\n",
      "1216000/1216000 [==============================] - 145s 120us/step - loss: 0.2493 - acc: 0.8934 - val_loss: 0.3718 - val_acc: 0.8375\n",
      "Epoch 3/10\n",
      "1216000/1216000 [==============================] - 145s 119us/step - loss: 0.2234 - acc: 0.9044 - val_loss: 0.2954 - val_acc: 0.8697\n",
      "Epoch 4/10\n",
      "1216000/1216000 [==============================] - 147s 121us/step - loss: 0.2052 - acc: 0.9124 - val_loss: 0.4567 - val_acc: 0.8162\n",
      "Epoch 5/10\n",
      "1216000/1216000 [==============================] - 144s 118us/step - loss: 0.1946 - acc: 0.9180 - val_loss: 0.2608 - val_acc: 0.8899\n",
      "Epoch 6/10\n",
      "1216000/1216000 [==============================] - 145s 119us/step - loss: 0.1861 - acc: 0.9222 - val_loss: 0.2574 - val_acc: 0.8911\n",
      "Epoch 7/10\n",
      "1216000/1216000 [==============================] - 144s 119us/step - loss: 0.1789 - acc: 0.9253 - val_loss: 0.2373 - val_acc: 0.9008\n",
      "Epoch 8/10\n",
      "1216000/1216000 [==============================] - 144s 119us/step - loss: 0.1740 - acc: 0.9274 - val_loss: 0.2562 - val_acc: 0.8924\n",
      "Epoch 9/10\n",
      "1216000/1216000 [==============================] - 145s 119us/step - loss: 0.1747 - acc: 0.9276 - val_loss: 0.2590 - val_acc: 0.8925\n",
      "Epoch 10/10\n",
      "1216000/1216000 [==============================] - 143s 118us/step - loss: 0.1685 - acc: 0.9299 - val_loss: 0.2525 - val_acc: 0.8931\n"
     ]
    }
   ],
   "source": [
    "# Fitting the model for 10 epochs and a batch size of 256\n",
    "hist = model_split_different.fit({'time_input': trained_pca,\n",
    "           'aux_input': np.array(training_auxiliary)\n",
    "    }, {'main_output': np.array(y_train) }, \n",
    "          epochs=10, batch_size=256, callbacks=[reduce_lr], shuffle=True\n",
    ")"
   ]
  },
  {
   "cell_type": "code",
   "execution_count": 411,
   "metadata": {},
   "outputs": [],
   "source": [
    "# Do predictions on the testing set\n",
    "prediction2 = model2.predict([new_test_pca, np.array(new_testing_auxiliary)])\n",
    "y_pred2 = prediction2 > 0.5"
   ]
  },
  {
   "cell_type": "code",
   "execution_count": 415,
   "metadata": {},
   "outputs": [
    {
     "name": "stdout",
     "output_type": "stream",
     "text": [
      "Accuracy of the Neural network model: 0.8887894736842106\n"
     ]
    },
    {
     "data": {
      "text/html": [
       "<div>\n",
       "<style scoped>\n",
       "    .dataframe tbody tr th:only-of-type {\n",
       "        vertical-align: middle;\n",
       "    }\n",
       "\n",
       "    .dataframe tbody tr th {\n",
       "        vertical-align: top;\n",
       "    }\n",
       "\n",
       "    .dataframe thead th {\n",
       "        text-align: right;\n",
       "    }\n",
       "</style>\n",
       "<table border=\"1\" class=\"dataframe\">\n",
       "  <thead>\n",
       "    <tr style=\"text-align: right;\">\n",
       "      <th></th>\n",
       "      <th>0</th>\n",
       "      <th>1</th>\n",
       "    </tr>\n",
       "  </thead>\n",
       "  <tbody>\n",
       "    <tr>\n",
       "      <th>0</th>\n",
       "      <td>135218</td>\n",
       "      <td>16631</td>\n",
       "    </tr>\n",
       "    <tr>\n",
       "      <th>1</th>\n",
       "      <td>17177</td>\n",
       "      <td>134974</td>\n",
       "    </tr>\n",
       "  </tbody>\n",
       "</table>\n",
       "</div>"
      ],
      "text/plain": [
       "        0       1\n",
       "0  135218   16631\n",
       "1   17177  134974"
      ]
     },
     "execution_count": 415,
     "metadata": {},
     "output_type": "execute_result"
    }
   ],
   "source": [
    "print(\"Accuracy of the Neural network model:\", metrics.accuracy_score(new_y_test, y_pred2))\n",
    "# confusion matrix of the results/testing set\n",
    "pd.DataFrame(confusion_matrix(new_y_test, y_pred2))"
   ]
  }
 ],
 "metadata": {
  "kernelspec": {
   "display_name": "Python 3",
   "language": "python",
   "name": "python3"
  },
  "language_info": {
   "codemirror_mode": {
    "name": "ipython",
    "version": 3
   },
   "file_extension": ".py",
   "mimetype": "text/x-python",
   "name": "python",
   "nbconvert_exporter": "python",
   "pygments_lexer": "ipython3",
   "version": "3.6.7"
  }
 },
 "nbformat": 4,
 "nbformat_minor": 2
}
