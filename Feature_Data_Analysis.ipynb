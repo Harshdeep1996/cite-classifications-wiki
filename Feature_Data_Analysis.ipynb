{
 "cells": [
  {
   "cell_type": "code",
   "execution_count": null,
   "metadata": {},
   "outputs": [],
   "source": [
    "# All imports\n",
    "import spacy\n",
    "import numpy as np\n",
    "import pandas as pd\n",
    "from tqdm import tqdm\n",
    "import mwparserfromhell\n",
    "import matplotlib.pyplot as plt\n",
    "from matplotlib.pyplot import figure\n",
    "from scripts.const import CITATION_TEMPLATES\n",
    "\n",
    "import findspark\n",
    "findspark.init('/Users/harshdeep/Downloads/spark-2.4.3-bin-hadoop2.7/')\n",
    "from pyspark import SparkContext, SQLContext\n",
    "\n",
    "import warnings\n",
    "warnings.filterwarnings(\"ignore\")"
   ]
  },
  {
   "cell_type": "markdown",
   "metadata": {},
   "source": [
    "## Setting up various datasets"
   ]
  },
  {
   "cell_type": "code",
   "execution_count": 2,
   "metadata": {},
   "outputs": [],
   "source": [
    "sc = SparkContext()\n",
    "sqlContext = SQLContext(sc)"
   ]
  },
  {
   "cell_type": "code",
   "execution_count": 3,
   "metadata": {},
   "outputs": [],
   "source": [
    "# Read dataset which contains content for each page - from which features can be extracted\n",
    "page_content = sqlContext.read.parquet('data/citations_content.parquet/')"
   ]
  },
  {
   "cell_type": "code",
   "execution_count": 4,
   "metadata": {},
   "outputs": [
    {
     "data": {
      "text/html": [
       "<div>\n",
       "<style scoped>\n",
       "    .dataframe tbody tr th:only-of-type {\n",
       "        vertical-align: middle;\n",
       "    }\n",
       "\n",
       "    .dataframe tbody tr th {\n",
       "        vertical-align: top;\n",
       "    }\n",
       "\n",
       "    .dataframe thead th {\n",
       "        text-align: right;\n",
       "    }\n",
       "</style>\n",
       "<table border=\"1\" class=\"dataframe\">\n",
       "  <thead>\n",
       "    <tr style=\"text-align: right;\">\n",
       "      <th></th>\n",
       "      <th>Unnamed: 0</th>\n",
       "      <th>id</th>\n",
       "      <th>page_title</th>\n",
       "      <th>citation</th>\n",
       "      <th>id_list</th>\n",
       "      <th>authors</th>\n",
       "      <th>citation_title</th>\n",
       "      <th>citation_type</th>\n",
       "      <th>publisher_name</th>\n",
       "      <th>sections</th>\n",
       "      <th>...</th>\n",
       "      <th>Vol.59</th>\n",
       "      <th>PMID</th>\n",
       "      <th>+lin</th>\n",
       "      <th>No.3(Summer</th>\n",
       "      <th>+david+w.</th>\n",
       "      <th>NewMexico</th>\n",
       "      <th>ISMN</th>\n",
       "      <th>9780896082755</th>\n",
       "      <th>ZBL</th>\n",
       "      <th>DOI</th>\n",
       "    </tr>\n",
       "  </thead>\n",
       "  <tbody>\n",
       "    <tr>\n",
       "      <th>0</th>\n",
       "      <td>0</td>\n",
       "      <td>1831197</td>\n",
       "      <td>Ray Sharkey</td>\n",
       "      <td>u'{{cite journal|last=Gliatto|first=Tom|date=J...</td>\n",
       "      <td>[['ISSN', '0093-7673']]</td>\n",
       "      <td>[{last=Gliatto, first=Tom}]</td>\n",
       "      <td>Fatal Deceit</td>\n",
       "      <td>cite journal</td>\n",
       "      <td>NaN</td>\n",
       "      <td>Initial Section</td>\n",
       "      <td>...</td>\n",
       "      <td>NaN</td>\n",
       "      <td>NaN</td>\n",
       "      <td>NaN</td>\n",
       "      <td>NaN</td>\n",
       "      <td>NaN</td>\n",
       "      <td>NaN</td>\n",
       "      <td>NaN</td>\n",
       "      <td>NaN</td>\n",
       "      <td>NaN</td>\n",
       "      <td>NaN</td>\n",
       "    </tr>\n",
       "    <tr>\n",
       "      <th>1</th>\n",
       "      <td>1</td>\n",
       "      <td>1831220</td>\n",
       "      <td>Protamine sulfate</td>\n",
       "      <td>u'{{cite book|title=WHO Model Formulary 2008|d...</td>\n",
       "      <td>[['ISBN', '9789241547659']]</td>\n",
       "      <td>NaN</td>\n",
       "      <td>WHO Model Formulary 2008</td>\n",
       "      <td>cite book</td>\n",
       "      <td>World Health Organization</td>\n",
       "      <td>Initial Section</td>\n",
       "      <td>...</td>\n",
       "      <td>NaN</td>\n",
       "      <td>NaN</td>\n",
       "      <td>NaN</td>\n",
       "      <td>NaN</td>\n",
       "      <td>NaN</td>\n",
       "      <td>NaN</td>\n",
       "      <td>NaN</td>\n",
       "      <td>NaN</td>\n",
       "      <td>NaN</td>\n",
       "      <td>NaN</td>\n",
       "    </tr>\n",
       "    <tr>\n",
       "      <th>2</th>\n",
       "      <td>2</td>\n",
       "      <td>1831220</td>\n",
       "      <td>Protamine sulfate</td>\n",
       "      <td>u'{{cite journal | author= Kenneth Cornetta | ...</td>\n",
       "      <td>[['PMID', '2786000'], ['DOI', '10.1016/0166-09...</td>\n",
       "      <td>[{last=Kenneth Cornetta}, {last=W.French Ander...</td>\n",
       "      <td>Protamine sulfate as an effective alternative ...</td>\n",
       "      <td>cite journal</td>\n",
       "      <td>NaN</td>\n",
       "      <td>Initial Section</td>\n",
       "      <td>...</td>\n",
       "      <td>NaN</td>\n",
       "      <td>2786000</td>\n",
       "      <td>NaN</td>\n",
       "      <td>NaN</td>\n",
       "      <td>NaN</td>\n",
       "      <td>NaN</td>\n",
       "      <td>NaN</td>\n",
       "      <td>NaN</td>\n",
       "      <td>NaN</td>\n",
       "      <td>10.1016/0166-0934(89)90132-8</td>\n",
       "    </tr>\n",
       "    <tr>\n",
       "      <th>3</th>\n",
       "      <td>3</td>\n",
       "      <td>1831220</td>\n",
       "      <td>Protamine sulfate</td>\n",
       "      <td>u'{{cite journal|last=Sorgi|first=FL|author2=B...</td>\n",
       "      <td>[['PMID', '9349433'], ['DOI', '10.1038/sj.gt.3...</td>\n",
       "      <td>[{last=Sorgi, first=FL}, {last=Bhattacharya, S...</td>\n",
       "      <td>Protamine sulfate enhances lipid-mediated gene...</td>\n",
       "      <td>cite journal</td>\n",
       "      <td>NaN</td>\n",
       "      <td>Initial Section</td>\n",
       "      <td>...</td>\n",
       "      <td>NaN</td>\n",
       "      <td>9349433</td>\n",
       "      <td>NaN</td>\n",
       "      <td>NaN</td>\n",
       "      <td>NaN</td>\n",
       "      <td>NaN</td>\n",
       "      <td>NaN</td>\n",
       "      <td>NaN</td>\n",
       "      <td>NaN</td>\n",
       "      <td>10.1038/sj.gt.3300484</td>\n",
       "    </tr>\n",
       "    <tr>\n",
       "      <th>4</th>\n",
       "      <td>4</td>\n",
       "      <td>1831220</td>\n",
       "      <td>Protamine sulfate</td>\n",
       "      <td>u'{{cite journal|last=Walker|first=WS|author2=...</td>\n",
       "      <td>[['PMID', '6743419'], ['PMC', '481594'], ['DOI...</td>\n",
       "      <td>[{last=Walker, first=WS}, {last=Reid, KG}, {la...</td>\n",
       "      <td>Successful cardiopulmonary bypass in diabetics...</td>\n",
       "      <td>cite journal</td>\n",
       "      <td>NaN</td>\n",
       "      <td>Initial Section</td>\n",
       "      <td>...</td>\n",
       "      <td>NaN</td>\n",
       "      <td>6743419</td>\n",
       "      <td>NaN</td>\n",
       "      <td>NaN</td>\n",
       "      <td>NaN</td>\n",
       "      <td>NaN</td>\n",
       "      <td>NaN</td>\n",
       "      <td>NaN</td>\n",
       "      <td>NaN</td>\n",
       "      <td>10.1136/hrt.52.1.112</td>\n",
       "    </tr>\n",
       "  </tbody>\n",
       "</table>\n",
       "<p>5 rows × 61 columns</p>\n",
       "</div>"
      ],
      "text/plain": [
       "   Unnamed: 0       id         page_title  \\\n",
       "0           0  1831197        Ray Sharkey   \n",
       "1           1  1831220  Protamine sulfate   \n",
       "2           2  1831220  Protamine sulfate   \n",
       "3           3  1831220  Protamine sulfate   \n",
       "4           4  1831220  Protamine sulfate   \n",
       "\n",
       "                                            citation  \\\n",
       "0  u'{{cite journal|last=Gliatto|first=Tom|date=J...   \n",
       "1  u'{{cite book|title=WHO Model Formulary 2008|d...   \n",
       "2  u'{{cite journal | author= Kenneth Cornetta | ...   \n",
       "3  u'{{cite journal|last=Sorgi|first=FL|author2=B...   \n",
       "4  u'{{cite journal|last=Walker|first=WS|author2=...   \n",
       "\n",
       "                                             id_list  \\\n",
       "0                            [['ISSN', '0093-7673']]   \n",
       "1                        [['ISBN', '9789241547659']]   \n",
       "2  [['PMID', '2786000'], ['DOI', '10.1016/0166-09...   \n",
       "3  [['PMID', '9349433'], ['DOI', '10.1038/sj.gt.3...   \n",
       "4  [['PMID', '6743419'], ['PMC', '481594'], ['DOI...   \n",
       "\n",
       "                                             authors  \\\n",
       "0                        [{last=Gliatto, first=Tom}]   \n",
       "1                                                NaN   \n",
       "2  [{last=Kenneth Cornetta}, {last=W.French Ander...   \n",
       "3  [{last=Sorgi, first=FL}, {last=Bhattacharya, S...   \n",
       "4  [{last=Walker, first=WS}, {last=Reid, KG}, {la...   \n",
       "\n",
       "                                      citation_title citation_type  \\\n",
       "0                                       Fatal Deceit  cite journal   \n",
       "1                           WHO Model Formulary 2008     cite book   \n",
       "2  Protamine sulfate as an effective alternative ...  cite journal   \n",
       "3  Protamine sulfate enhances lipid-mediated gene...  cite journal   \n",
       "4  Successful cardiopulmonary bypass in diabetics...  cite journal   \n",
       "\n",
       "              publisher_name         sections  ... Vol.59     PMID +lin  \\\n",
       "0                        NaN  Initial Section  ...    NaN      NaN  NaN   \n",
       "1  World Health Organization  Initial Section  ...    NaN      NaN  NaN   \n",
       "2                        NaN  Initial Section  ...    NaN  2786000  NaN   \n",
       "3                        NaN  Initial Section  ...    NaN  9349433  NaN   \n",
       "4                        NaN  Initial Section  ...    NaN  6743419  NaN   \n",
       "\n",
       "   No.3(Summer +david+w. NewMexico  ISMN  9780896082755  ZBL  \\\n",
       "0          NaN       NaN       NaN   NaN            NaN  NaN   \n",
       "1          NaN       NaN       NaN   NaN            NaN  NaN   \n",
       "2          NaN       NaN       NaN   NaN            NaN  NaN   \n",
       "3          NaN       NaN       NaN   NaN            NaN  NaN   \n",
       "4          NaN       NaN       NaN   NaN            NaN  NaN   \n",
       "\n",
       "                            DOI  \n",
       "0                           NaN  \n",
       "1                           NaN  \n",
       "2  10.1016/0166-0934(89)90132-8  \n",
       "3         10.1038/sj.gt.3300484  \n",
       "4          10.1136/hrt.52.1.112  \n",
       "\n",
       "[5 rows x 61 columns]"
      ]
     },
     "execution_count": 4,
     "metadata": {},
     "output_type": "execute_result"
    }
   ],
   "source": [
    "# Read dataset which has IDs such as DOI, ISBN\n",
    "citation_with_ids = pd.read_csv('data/citations_with_ids.csv')\n",
    "citation_with_ids.head()"
   ]
  },
  {
   "cell_type": "code",
   "execution_count": 5,
   "metadata": {},
   "outputs": [],
   "source": [
    "# Loading the NLP spacy model for similarity detection etc.\n",
    "nlp = spacy.load('en_core_web_lg')"
   ]
  },
  {
   "cell_type": "code",
   "execution_count": 6,
   "metadata": {},
   "outputs": [],
   "source": [
    "# Making an additional column for labeling purposes of our dataset\n",
    "citation_with_ids['scientific_or_not'] = None"
   ]
  },
  {
   "cell_type": "markdown",
   "metadata": {},
   "source": [
    "## Making a dataset which is `scientific` in nature"
   ]
  },
  {
   "cell_type": "markdown",
   "metadata": {},
   "source": [
    "Make a dataset in which there are IDs - **1 million**.\n",
    "\n",
    "1. It would be safe to say that all citations with PMCs and PMIDs are scientific in nature since they have been published within the biomedical and life sciences journal literature."
   ]
  },
  {
   "cell_type": "code",
   "execution_count": 7,
   "metadata": {},
   "outputs": [
    {
     "name": "stdout",
     "output_type": "stream",
     "text": [
      "The total number of citations with PMC and PMID: 640538\n"
     ]
    }
   ],
   "source": [
    "pmc_pmid_mask = citation_with_ids['PMID'].notnull() | citation_with_ids['PMC'].notnull()\n",
    "\n",
    "citation_with_pmc_pmid = citation_with_ids[pmc_pmid_mask]\n",
    "print('The total number of citations with PMC and PMID: {}'.format(len(citation_with_pmc_pmid)))"
   ]
  },
  {
   "cell_type": "markdown",
   "metadata": {},
   "source": [
    "As we can see that the citations with a defined PMC or PMID have the type of `cite journal`, but also we can see that the citation types which are considered to be in gray areas - `cite web` or `cite book` also have defined PMC/PMID."
   ]
  },
  {
   "cell_type": "code",
   "execution_count": 8,
   "metadata": {},
   "outputs": [
    {
     "data": {
      "text/plain": [
       "citation_type\n",
       "citation               4549\n",
       "cite book               839\n",
       "cite conference          11\n",
       "cite encyclopedia         1\n",
       "cite interview            1\n",
       "cite journal         634700\n",
       "cite news                99\n",
       "cite report               5\n",
       "cite web                333\n",
       "Name: id, dtype: int64"
      ]
     },
     "execution_count": 8,
     "metadata": {},
     "output_type": "execute_result"
    }
   ],
   "source": [
    "citation_with_pmc_pmid.groupby('citation_type').count()['id']"
   ]
  },
  {
   "cell_type": "markdown",
   "metadata": {},
   "source": [
    "Also, 80% of the citations with PMC/PMID have a defined DOI, and some of them have a defined ISBN as well."
   ]
  },
  {
   "cell_type": "code",
   "execution_count": 9,
   "metadata": {},
   "outputs": [
    {
     "name": "stdout",
     "output_type": "stream",
     "text": [
      "Total number of citations with PMC/PMID with a non null DOI: 576486\n",
      "Total number of citations with PMC/PMID with a non null ISBN: 1587\n"
     ]
    }
   ],
   "source": [
    "print('Total number of citations with PMC/PMID with a non null DOI: {}'.format(citation_with_pmc_pmid['DOI'].count()))\n",
    "print('Total number of citations with PMC/PMID with a non null ISBN: {}'.format(citation_with_pmc_pmid['ISBN'].count()))"
   ]
  },
  {
   "cell_type": "code",
   "execution_count": 10,
   "metadata": {},
   "outputs": [],
   "source": [
    "## Set the label for being scientific_or_not as True\n",
    "citation_with_ids.loc[citation_with_pmc_pmid.index, 'scientific_or_not'] = True"
   ]
  },
  {
   "cell_type": "markdown",
   "metadata": {},
   "source": [
    "2. Also there is a small set of `citations` with the type `cite conference` - which means they have been published in a conference. Conferences mainly happen for scientific events. We are only considering the citations which have a `defined DOI` so that they are more scientifcally inclined."
   ]
  },
  {
   "cell_type": "code",
   "execution_count": 11,
   "metadata": {},
   "outputs": [],
   "source": [
    "mask = citation_with_ids['citation_type'].isin(['cite conference']) & citation_with_ids['DOI'].notnull()\n",
    "\n",
    "citation_in_conference = citation_with_ids[mask]"
   ]
  },
  {
   "cell_type": "code",
   "execution_count": 12,
   "metadata": {},
   "outputs": [],
   "source": [
    "citation_with_ids.loc[citation_in_conference.index, 'scientific_or_not'] = True"
   ]
  },
  {
   "cell_type": "markdown",
   "metadata": {},
   "source": [
    "3. Now we will look for other citations and try to compare the similarity of the title of the citation with the word `scientific` and check if they have a very high similarity, we can label them as scientific - since title of citation would be more robust than title of the page."
   ]
  },
  {
   "cell_type": "code",
   "execution_count": 13,
   "metadata": {},
   "outputs": [],
   "source": [
    "def get_similarity_p_name(c_title):\n",
    "    try:\n",
    "        c_title = str(c_title)\n",
    "    except UnicodeDecodeError:\n",
    "        return 0.0\n",
    "    search_doc = nlp(c_title)\n",
    "    main_doc = nlp(u'scientific')\n",
    "    return main_doc.similarity(search_doc)"
   ]
  },
  {
   "cell_type": "code",
   "execution_count": 14,
   "metadata": {},
   "outputs": [],
   "source": [
    "citation_with_ids['similarity'] = None"
   ]
  },
  {
   "cell_type": "code",
   "execution_count": 15,
   "metadata": {},
   "outputs": [],
   "source": [
    "# Get all citation titles which have not been labeled yet but have defined DOIs\n",
    "mask = citation_with_ids['scientific_or_not'].isnull() & citation_with_ids['DOI'].notnull()\n",
    "citation_titles = citation_with_ids[mask]['citation_title'].unique().tolist()"
   ]
  },
  {
   "cell_type": "code",
   "execution_count": 16,
   "metadata": {},
   "outputs": [],
   "source": [
    "# Get similarity from the method as defined above\n",
    "results = []\n",
    "for i in tqdm(citation_titles):\n",
    "    results.append((i, get_similarity_p_name(i)))"
   ]
  },
  {
   "cell_type": "code",
   "execution_count": 17,
   "metadata": {},
   "outputs": [],
   "source": [
    "# citation_title_similarity = pd.read_csv('data/citation_title_similarity.csv')\n",
    "citation_title_similarity = pd.DataFrame(results, columns=['citation_title', 'similarity'])"
   ]
  },
  {
   "cell_type": "markdown",
   "metadata": {},
   "source": [
    "This was just for DOIs where we take titles which have more than 0.45 similarity with the word scientific and label it `True` as far as scientific_or_not is concerned"
   ]
  },
  {
   "cell_type": "code",
   "execution_count": 18,
   "metadata": {},
   "outputs": [],
   "source": [
    "# Titles which have similarity of more than 0.45 or more being scientific in nature\n",
    "titles_which_are_scientific = citation_title_similarity[\n",
    "    citation_title_similarity['similarity'] > 0.45]['citation_title']"
   ]
  },
  {
   "cell_type": "code",
   "execution_count": 19,
   "metadata": {},
   "outputs": [],
   "source": [
    "citation_with_ids.loc[\n",
    "    citation_with_ids['citation_title'].isin(titles_which_are_scientific), 'scientific_or_not'] = True"
   ]
  },
  {
   "cell_type": "markdown",
   "metadata": {},
   "source": [
    "4. Now lets take a lot at some ISBNs since we are a bit short than 1 million data points to be scientific or not..\n",
    "\n",
    "We apply the same methodology as above as we did for the citation titles with valid DOIs."
   ]
  },
  {
   "cell_type": "code",
   "execution_count": 20,
   "metadata": {},
   "outputs": [],
   "source": [
    "mask = citation_with_ids['scientific_or_not'].isnull() & citation_with_ids['ISBN'].notnull()\n",
    "citation_titles_with_isbn = citation_with_ids[mask]['citation_title'].unique().tolist()"
   ]
  },
  {
   "cell_type": "code",
   "execution_count": 21,
   "metadata": {},
   "outputs": [],
   "source": [
    "results = []\n",
    "for i in tqdm(citation_titles_with_isbn):\n",
    "    results.append((i, get_similarity_p_name(i)))"
   ]
  },
  {
   "cell_type": "code",
   "execution_count": 22,
   "metadata": {},
   "outputs": [],
   "source": [
    "citation_title_isbn_similarity = pd.DataFrame(results, columns=['citation_title', 'similarity'])"
   ]
  },
  {
   "cell_type": "code",
   "execution_count": 23,
   "metadata": {},
   "outputs": [],
   "source": [
    "# Titles which have similarity of more than 0.44 or more being scientific in nature\n",
    "titles_which_are_isbn_scientific = citation_title_isbn_similarity[\n",
    "    citation_title_isbn_similarity['similarity'] > 0.45]['citation_title']"
   ]
  },
  {
   "cell_type": "code",
   "execution_count": 24,
   "metadata": {},
   "outputs": [],
   "source": [
    "citation_with_ids.loc[\n",
    "    citation_with_ids['citation_title'].isin(titles_which_are_isbn_scientific), 'scientific_or_not'] = True"
   ]
  },
  {
   "cell_type": "code",
   "execution_count": 25,
   "metadata": {},
   "outputs": [
    {
     "name": "stdout",
     "output_type": "stream",
     "text": [
      "The dataset which has been labeled as scientific: 1154252\n",
      "Total number of unique pages associated with the scientific titles: 294490\n"
     ]
    }
   ],
   "source": [
    "print('The dataset which has been labeled as scientific: {}'.format(\n",
    "    len(citation_with_ids[citation_with_ids['scientific_or_not'] == True])))\n",
    "print('Total number of unique pages associated with the scientific titles: {}'.format(\n",
    "    citation_with_ids[citation_with_ids['scientific_or_not'] == True]['page_title'].nunique()\n",
    "))"
   ]
  },
  {
   "cell_type": "code",
   "execution_count": 26,
   "metadata": {},
   "outputs": [],
   "source": [
    "scientific_dataset = citation_with_ids[citation_with_ids['scientific_or_not'] == True]"
   ]
  },
  {
   "cell_type": "code",
   "execution_count": 27,
   "metadata": {},
   "outputs": [],
   "source": [
    "# citation_title_isbn_similarity.to_csv('data/citation_title_isbn_similarity.csv')\n",
    "# citation_title_similarity.to_csv('data/citation_title_similarity.csv')\n",
    "# scientific_dataset.to_csv('data/scientific_dataset.csv')"
   ]
  },
  {
   "cell_type": "code",
   "execution_count": 28,
   "metadata": {},
   "outputs": [
    {
     "data": {
      "text/html": [
       "<div>\n",
       "<style scoped>\n",
       "    .dataframe tbody tr th:only-of-type {\n",
       "        vertical-align: middle;\n",
       "    }\n",
       "\n",
       "    .dataframe tbody tr th {\n",
       "        vertical-align: top;\n",
       "    }\n",
       "\n",
       "    .dataframe thead th {\n",
       "        text-align: right;\n",
       "    }\n",
       "</style>\n",
       "<table border=\"1\" class=\"dataframe\">\n",
       "  <thead>\n",
       "    <tr style=\"text-align: right;\">\n",
       "      <th></th>\n",
       "      <th>Unnamed: 0</th>\n",
       "      <th>id</th>\n",
       "      <th>page_title</th>\n",
       "      <th>citation</th>\n",
       "      <th>id_list</th>\n",
       "      <th>authors</th>\n",
       "      <th>citation_title</th>\n",
       "      <th>citation_type</th>\n",
       "      <th>publisher_name</th>\n",
       "      <th>sections</th>\n",
       "      <th>...</th>\n",
       "      <th>+lin</th>\n",
       "      <th>No.3(Summer</th>\n",
       "      <th>+david+w.</th>\n",
       "      <th>NewMexico</th>\n",
       "      <th>ISMN</th>\n",
       "      <th>9780896082755</th>\n",
       "      <th>ZBL</th>\n",
       "      <th>DOI</th>\n",
       "      <th>scientific_or_not</th>\n",
       "      <th>similarity</th>\n",
       "    </tr>\n",
       "  </thead>\n",
       "  <tbody>\n",
       "    <tr>\n",
       "      <th>2</th>\n",
       "      <td>2</td>\n",
       "      <td>1831220</td>\n",
       "      <td>Protamine sulfate</td>\n",
       "      <td>u'{{cite journal | author= Kenneth Cornetta | ...</td>\n",
       "      <td>[['PMID', '2786000'], ['DOI', '10.1016/0166-09...</td>\n",
       "      <td>[{last=Kenneth Cornetta}, {last=W.French Ander...</td>\n",
       "      <td>Protamine sulfate as an effective alternative ...</td>\n",
       "      <td>cite journal</td>\n",
       "      <td>NaN</td>\n",
       "      <td>Initial Section</td>\n",
       "      <td>...</td>\n",
       "      <td>NaN</td>\n",
       "      <td>NaN</td>\n",
       "      <td>NaN</td>\n",
       "      <td>NaN</td>\n",
       "      <td>NaN</td>\n",
       "      <td>NaN</td>\n",
       "      <td>NaN</td>\n",
       "      <td>10.1016/0166-0934(89)90132-8</td>\n",
       "      <td>True</td>\n",
       "      <td>None</td>\n",
       "    </tr>\n",
       "    <tr>\n",
       "      <th>3</th>\n",
       "      <td>3</td>\n",
       "      <td>1831220</td>\n",
       "      <td>Protamine sulfate</td>\n",
       "      <td>u'{{cite journal|last=Sorgi|first=FL|author2=B...</td>\n",
       "      <td>[['PMID', '9349433'], ['DOI', '10.1038/sj.gt.3...</td>\n",
       "      <td>[{last=Sorgi, first=FL}, {last=Bhattacharya, S...</td>\n",
       "      <td>Protamine sulfate enhances lipid-mediated gene...</td>\n",
       "      <td>cite journal</td>\n",
       "      <td>NaN</td>\n",
       "      <td>Initial Section</td>\n",
       "      <td>...</td>\n",
       "      <td>NaN</td>\n",
       "      <td>NaN</td>\n",
       "      <td>NaN</td>\n",
       "      <td>NaN</td>\n",
       "      <td>NaN</td>\n",
       "      <td>NaN</td>\n",
       "      <td>NaN</td>\n",
       "      <td>10.1038/sj.gt.3300484</td>\n",
       "      <td>True</td>\n",
       "      <td>None</td>\n",
       "    </tr>\n",
       "    <tr>\n",
       "      <th>4</th>\n",
       "      <td>4</td>\n",
       "      <td>1831220</td>\n",
       "      <td>Protamine sulfate</td>\n",
       "      <td>u'{{cite journal|last=Walker|first=WS|author2=...</td>\n",
       "      <td>[['PMID', '6743419'], ['PMC', '481594'], ['DOI...</td>\n",
       "      <td>[{last=Walker, first=WS}, {last=Reid, KG}, {la...</td>\n",
       "      <td>Successful cardiopulmonary bypass in diabetics...</td>\n",
       "      <td>cite journal</td>\n",
       "      <td>NaN</td>\n",
       "      <td>Initial Section</td>\n",
       "      <td>...</td>\n",
       "      <td>NaN</td>\n",
       "      <td>NaN</td>\n",
       "      <td>NaN</td>\n",
       "      <td>NaN</td>\n",
       "      <td>NaN</td>\n",
       "      <td>NaN</td>\n",
       "      <td>NaN</td>\n",
       "      <td>10.1136/hrt.52.1.112</td>\n",
       "      <td>True</td>\n",
       "      <td>None</td>\n",
       "    </tr>\n",
       "    <tr>\n",
       "      <th>5</th>\n",
       "      <td>5</td>\n",
       "      <td>1831220</td>\n",
       "      <td>Protamine sulfate</td>\n",
       "      <td>u'{{cite journal|last=Campbell|first=FW|author...</td>\n",
       "      <td>[['PMID', '6334459'], ['DOI', '10.1097/0000054...</td>\n",
       "      <td>[{last=Campbell, first=FW}, {last=Goldstein, M...</td>\n",
       "      <td>Management of the patient with protamine hyper...</td>\n",
       "      <td>cite journal</td>\n",
       "      <td>NaN</td>\n",
       "      <td>Initial Section</td>\n",
       "      <td>...</td>\n",
       "      <td>NaN</td>\n",
       "      <td>NaN</td>\n",
       "      <td>NaN</td>\n",
       "      <td>NaN</td>\n",
       "      <td>NaN</td>\n",
       "      <td>NaN</td>\n",
       "      <td>NaN</td>\n",
       "      <td>10.1097/00000542-198412000-00021</td>\n",
       "      <td>True</td>\n",
       "      <td>None</td>\n",
       "    </tr>\n",
       "    <tr>\n",
       "      <th>6</th>\n",
       "      <td>6</td>\n",
       "      <td>1831220</td>\n",
       "      <td>Protamine sulfate</td>\n",
       "      <td>u'{{cite journal|last=Welsby|first=IJ|author2=...</td>\n",
       "      <td>[['PMID', '15681944'], ['DOI', '10.1097/000005...</td>\n",
       "      <td>[{last=Welsby, first=IJ}, {last=Newman, MF}, {...</td>\n",
       "      <td>Hemodynamic changes after protamine administra...</td>\n",
       "      <td>cite journal</td>\n",
       "      <td>NaN</td>\n",
       "      <td>Initial Section</td>\n",
       "      <td>...</td>\n",
       "      <td>NaN</td>\n",
       "      <td>NaN</td>\n",
       "      <td>NaN</td>\n",
       "      <td>NaN</td>\n",
       "      <td>NaN</td>\n",
       "      <td>NaN</td>\n",
       "      <td>NaN</td>\n",
       "      <td>10.1097/00000542-200502000-00011</td>\n",
       "      <td>True</td>\n",
       "      <td>None</td>\n",
       "    </tr>\n",
       "  </tbody>\n",
       "</table>\n",
       "<p>5 rows × 63 columns</p>\n",
       "</div>"
      ],
      "text/plain": [
       "   Unnamed: 0       id         page_title  \\\n",
       "2           2  1831220  Protamine sulfate   \n",
       "3           3  1831220  Protamine sulfate   \n",
       "4           4  1831220  Protamine sulfate   \n",
       "5           5  1831220  Protamine sulfate   \n",
       "6           6  1831220  Protamine sulfate   \n",
       "\n",
       "                                            citation  \\\n",
       "2  u'{{cite journal | author= Kenneth Cornetta | ...   \n",
       "3  u'{{cite journal|last=Sorgi|first=FL|author2=B...   \n",
       "4  u'{{cite journal|last=Walker|first=WS|author2=...   \n",
       "5  u'{{cite journal|last=Campbell|first=FW|author...   \n",
       "6  u'{{cite journal|last=Welsby|first=IJ|author2=...   \n",
       "\n",
       "                                             id_list  \\\n",
       "2  [['PMID', '2786000'], ['DOI', '10.1016/0166-09...   \n",
       "3  [['PMID', '9349433'], ['DOI', '10.1038/sj.gt.3...   \n",
       "4  [['PMID', '6743419'], ['PMC', '481594'], ['DOI...   \n",
       "5  [['PMID', '6334459'], ['DOI', '10.1097/0000054...   \n",
       "6  [['PMID', '15681944'], ['DOI', '10.1097/000005...   \n",
       "\n",
       "                                             authors  \\\n",
       "2  [{last=Kenneth Cornetta}, {last=W.French Ander...   \n",
       "3  [{last=Sorgi, first=FL}, {last=Bhattacharya, S...   \n",
       "4  [{last=Walker, first=WS}, {last=Reid, KG}, {la...   \n",
       "5  [{last=Campbell, first=FW}, {last=Goldstein, M...   \n",
       "6  [{last=Welsby, first=IJ}, {last=Newman, MF}, {...   \n",
       "\n",
       "                                      citation_title citation_type  \\\n",
       "2  Protamine sulfate as an effective alternative ...  cite journal   \n",
       "3  Protamine sulfate enhances lipid-mediated gene...  cite journal   \n",
       "4  Successful cardiopulmonary bypass in diabetics...  cite journal   \n",
       "5  Management of the patient with protamine hyper...  cite journal   \n",
       "6  Hemodynamic changes after protamine administra...  cite journal   \n",
       "\n",
       "  publisher_name         sections  ... +lin  No.3(Summer +david+w.  NewMexico  \\\n",
       "2            NaN  Initial Section  ...  NaN          NaN       NaN        NaN   \n",
       "3            NaN  Initial Section  ...  NaN          NaN       NaN        NaN   \n",
       "4            NaN  Initial Section  ...  NaN          NaN       NaN        NaN   \n",
       "5            NaN  Initial Section  ...  NaN          NaN       NaN        NaN   \n",
       "6            NaN  Initial Section  ...  NaN          NaN       NaN        NaN   \n",
       "\n",
       "  ISMN 9780896082755  ZBL                               DOI scientific_or_not  \\\n",
       "2  NaN           NaN  NaN      10.1016/0166-0934(89)90132-8              True   \n",
       "3  NaN           NaN  NaN             10.1038/sj.gt.3300484              True   \n",
       "4  NaN           NaN  NaN              10.1136/hrt.52.1.112              True   \n",
       "5  NaN           NaN  NaN  10.1097/00000542-198412000-00021              True   \n",
       "6  NaN           NaN  NaN  10.1097/00000542-200502000-00011              True   \n",
       "\n",
       "   similarity  \n",
       "2        None  \n",
       "3        None  \n",
       "4        None  \n",
       "5        None  \n",
       "6        None  \n",
       "\n",
       "[5 rows x 63 columns]"
      ]
     },
     "execution_count": 28,
     "metadata": {},
     "output_type": "execute_result"
    }
   ],
   "source": [
    "scientific_dataset.head()"
   ]
  },
  {
   "cell_type": "markdown",
   "metadata": {},
   "source": [
    "## Making a dataset which is `non-scientific` in nature"
   ]
  },
  {
   "cell_type": "code",
   "execution_count": 29,
   "metadata": {},
   "outputs": [],
   "source": [
    "from pyspark.sql.functions import col"
   ]
  },
  {
   "cell_type": "code",
   "execution_count": 30,
   "metadata": {},
   "outputs": [],
   "source": [
    "# Read dataset which contains each column of the citation separated from STEP 3 of data extraction\n",
    "citations_separated = sqlContext.read.parquet('data/citations_separated.parquet/')"
   ]
  },
  {
   "cell_type": "markdown",
   "metadata": {},
   "source": [
    "1. For the non scientific case, we are first taking citations which have a URL only but there are no IDs present in the ID_list. Too make it more specific, we will using the type of citation as the ones which have citation type as `cite web` since it will boil it down to only citations which are associated with less scientific publication and more newspapers etc."
   ]
  },
  {
   "cell_type": "code",
   "execution_count": 31,
   "metadata": {},
   "outputs": [],
   "source": [
    "citations_with_url_no_id = citations_separated.filter(\n",
    "    col('URL').isNotNull() & col('ID_list').isNull() & (col('type_of_citation') == 'cite web') & col('Authors').isNull()\n",
    ")"
   ]
  },
  {
   "cell_type": "code",
   "execution_count": 32,
   "metadata": {},
   "outputs": [],
   "source": [
    "# Sampling the data rows and getting only the necessary columns and converting it to Pandas\n",
    "sampled_rows_url_no_id = citations_with_url_no_id.sample(False, 0.065, 0)\n",
    "sampled_rows_url_no_id = sampled_rows_url_no_id.select(\n",
    "    'id', 'page_title', 'citations', 'Title', 'type_of_citation', 'sections').toPandas()"
   ]
  },
  {
   "cell_type": "code",
   "execution_count": 33,
   "metadata": {},
   "outputs": [
    {
     "data": {
      "text/html": [
       "<div>\n",
       "<style scoped>\n",
       "    .dataframe tbody tr th:only-of-type {\n",
       "        vertical-align: middle;\n",
       "    }\n",
       "\n",
       "    .dataframe tbody tr th {\n",
       "        vertical-align: top;\n",
       "    }\n",
       "\n",
       "    .dataframe thead th {\n",
       "        text-align: right;\n",
       "    }\n",
       "</style>\n",
       "<table border=\"1\" class=\"dataframe\">\n",
       "  <thead>\n",
       "    <tr style=\"text-align: right;\">\n",
       "      <th></th>\n",
       "      <th>id</th>\n",
       "      <th>page_title</th>\n",
       "      <th>citations</th>\n",
       "      <th>Title</th>\n",
       "    </tr>\n",
       "    <tr>\n",
       "      <th>type_of_citation</th>\n",
       "      <th></th>\n",
       "      <th></th>\n",
       "      <th></th>\n",
       "      <th></th>\n",
       "    </tr>\n",
       "  </thead>\n",
       "  <tbody>\n",
       "    <tr>\n",
       "      <th>cite web</th>\n",
       "      <td>690728</td>\n",
       "      <td>690728</td>\n",
       "      <td>690728</td>\n",
       "      <td>688524</td>\n",
       "    </tr>\n",
       "  </tbody>\n",
       "</table>\n",
       "</div>"
      ],
      "text/plain": [
       "                      id  page_title  citations   Title\n",
       "type_of_citation                                       \n",
       "cite web          690728      690728     690728  688524"
      ]
     },
     "execution_count": 33,
     "metadata": {},
     "output_type": "execute_result"
    }
   ],
   "source": [
    "sampled_rows_url_no_id.groupby('type_of_citation').count()"
   ]
  },
  {
   "cell_type": "markdown",
   "metadata": {},
   "source": [
    "2. We will not also consider cases where ID_list is present, such as the case for ISBN and use the similarity ratio which we figured out in the previous section and use it to get `non-scientific` citations."
   ]
  },
  {
   "cell_type": "code",
   "execution_count": 34,
   "metadata": {},
   "outputs": [],
   "source": [
    "titles_which_are_isbn_non_scientific = citation_title_isbn_similarity[\n",
    "    citation_title_isbn_similarity['similarity'] < 0.2]['citation_title']"
   ]
  },
  {
   "cell_type": "code",
   "execution_count": 35,
   "metadata": {},
   "outputs": [],
   "source": [
    "citation_with_ids.loc[\n",
    "    citation_with_ids['citation_title'].isin(titles_which_are_isbn_non_scientific), 'scientific_or_not'] = False"
   ]
  },
  {
   "cell_type": "code",
   "execution_count": 36,
   "metadata": {},
   "outputs": [
    {
     "name": "stdout",
     "output_type": "stream",
     "text": [
      "Total number of citations which have ISBN but non scientific: 242148\n"
     ]
    }
   ],
   "source": [
    "print('Total number of citations which have ISBN but non scientific: {}'.format(\n",
    "    len(citation_with_ids[citation_with_ids['scientific_or_not'] == False]['citation_title'])))"
   ]
  },
  {
   "cell_type": "code",
   "execution_count": 37,
   "metadata": {},
   "outputs": [
    {
     "data": {
      "text/plain": [
       "citation_type\n",
       "citation                14046\n",
       "cite arxiv                  1\n",
       "cite av media              64\n",
       "cite av media notes        12\n",
       "cite book              215678\n",
       "cite conference            65\n",
       "cite dvd notes              2\n",
       "cite encyclopedia        6618\n",
       "cite episode                3\n",
       "cite interview              8\n",
       "cite journal             3136\n",
       "cite map                 1181\n",
       "cite news                 182\n",
       "cite newsgroup              1\n",
       "cite report                25\n",
       "cite thesis                32\n",
       "cite web                 1089\n",
       "harvnb                      5\n",
       "Name: id, dtype: int64"
      ]
     },
     "execution_count": 37,
     "metadata": {},
     "output_type": "execute_result"
    }
   ],
   "source": [
    "citation_with_ids[citation_with_ids['scientific_or_not']==False].groupby('citation_type').count()['id']"
   ]
  },
  {
   "cell_type": "markdown",
   "metadata": {},
   "source": [
    "3. We will not also consider cases where ID_list is present, such as the case for DOI and use the similarity ratio which we figured out in the previous section and use it to get `non-scientific` citations."
   ]
  },
  {
   "cell_type": "code",
   "execution_count": 38,
   "metadata": {},
   "outputs": [],
   "source": [
    "titles_which_are_non_scientific = citation_title_similarity[\n",
    "    (citation_title_similarity['similarity'] > 0.08) & (citation_title_similarity['similarity'] < 0.23)]['citation_title']"
   ]
  },
  {
   "cell_type": "code",
   "execution_count": 39,
   "metadata": {},
   "outputs": [],
   "source": [
    "citation_with_ids.loc[\n",
    "    citation_with_ids['citation_title'].isin(titles_which_are_non_scientific), 'scientific_or_not'] = False"
   ]
  },
  {
   "cell_type": "code",
   "execution_count": 40,
   "metadata": {},
   "outputs": [
    {
     "name": "stdout",
     "output_type": "stream",
     "text": [
      "Total number of citations which have DOI but non-scientific: 267562\n"
     ]
    }
   ],
   "source": [
    "print('Total number of citations which have DOI but non-scientific: {}'.format(\n",
    "    len(citation_with_ids[citation_with_ids['scientific_or_not'] == False]['citation_title'])))"
   ]
  },
  {
   "cell_type": "markdown",
   "metadata": {},
   "source": [
    "4. We will now consider other `citation types` to make the dataset more balanced..\n",
    "\n",
    "We are considering `cite news` since it is not present in other sections for which we have `non-scientific` data"
   ]
  },
  {
   "cell_type": "code",
   "execution_count": 41,
   "metadata": {},
   "outputs": [],
   "source": [
    "citations_news_no_id= citations_separated.filter(\n",
    "    col('URL').isNotNull() & col('ID_list').isNull() & \n",
    "    (col('type_of_citation') == 'cite news') & col('Authors').isNull()\n",
    ")"
   ]
  },
  {
   "cell_type": "code",
   "execution_count": 42,
   "metadata": {},
   "outputs": [],
   "source": [
    "# Sampling the data rows and getting only the necessary columns and converting it to Pandas\n",
    "sampled_rows_news_url_no_id = citations_news_no_id.sample(False, 0.065, 0)\n",
    "sampled_rows_news_url_no_id = sampled_rows_news_url_no_id.select(\n",
    "    'id', 'page_title', 'citations', 'Title', 'type_of_citation', 'sections').toPandas()"
   ]
  },
  {
   "cell_type": "code",
   "execution_count": 43,
   "metadata": {},
   "outputs": [
    {
     "data": {
      "text/html": [
       "<div>\n",
       "<style scoped>\n",
       "    .dataframe tbody tr th:only-of-type {\n",
       "        vertical-align: middle;\n",
       "    }\n",
       "\n",
       "    .dataframe tbody tr th {\n",
       "        vertical-align: top;\n",
       "    }\n",
       "\n",
       "    .dataframe thead th {\n",
       "        text-align: right;\n",
       "    }\n",
       "</style>\n",
       "<table border=\"1\" class=\"dataframe\">\n",
       "  <thead>\n",
       "    <tr style=\"text-align: right;\">\n",
       "      <th></th>\n",
       "      <th>id</th>\n",
       "      <th>page_title</th>\n",
       "      <th>citations</th>\n",
       "      <th>Title</th>\n",
       "    </tr>\n",
       "    <tr>\n",
       "      <th>type_of_citation</th>\n",
       "      <th></th>\n",
       "      <th></th>\n",
       "      <th></th>\n",
       "      <th></th>\n",
       "    </tr>\n",
       "  </thead>\n",
       "  <tbody>\n",
       "    <tr>\n",
       "      <th>cite news</th>\n",
       "      <td>131972</td>\n",
       "      <td>131972</td>\n",
       "      <td>131972</td>\n",
       "      <td>131706</td>\n",
       "    </tr>\n",
       "  </tbody>\n",
       "</table>\n",
       "</div>"
      ],
      "text/plain": [
       "                      id  page_title  citations   Title\n",
       "type_of_citation                                       \n",
       "cite news         131972      131972     131972  131706"
      ]
     },
     "execution_count": 43,
     "metadata": {},
     "output_type": "execute_result"
    }
   ],
   "source": [
    "sampled_rows_news_url_no_id.groupby('type_of_citation').count()"
   ]
  },
  {
   "cell_type": "markdown",
   "metadata": {},
   "source": [
    "### Making an aggregated dataset which is non scientific"
   ]
  },
  {
   "cell_type": "code",
   "execution_count": 44,
   "metadata": {},
   "outputs": [],
   "source": [
    "non_scientific_part_one = pd.concat([sampled_rows_url_no_id, sampled_rows_news_url_no_id])"
   ]
  },
  {
   "cell_type": "code",
   "execution_count": 45,
   "metadata": {},
   "outputs": [],
   "source": [
    "non_scientific_part_two = citation_with_ids[\n",
    "    citation_with_ids['scientific_or_not'] == False][\n",
    "    ['id', 'page_title', 'citation', 'citation_title', 'citation_type', 'sections', 'DOI', 'ISBN', 'PMC', 'PMID']]\n",
    "non_scientific_part_one.columns = ['id', 'page_title', 'citation', 'citation_title', 'citation_type']"
   ]
  },
  {
   "cell_type": "code",
   "execution_count": 46,
   "metadata": {},
   "outputs": [],
   "source": [
    "non_scientific_dataset = pd.concat([non_scientific_part_one, non_scientific_part_two], axis=0, ignore_index=True)"
   ]
  },
  {
   "cell_type": "markdown",
   "metadata": {},
   "source": [
    "## Aggregating the scientific and non scientific dataset"
   ]
  },
  {
   "cell_type": "code",
   "execution_count": 47,
   "metadata": {},
   "outputs": [],
   "source": [
    "scientific_dataset = citation_with_ids[\n",
    "    citation_with_ids['scientific_or_not'] == True][\n",
    "    ['id', 'page_title', 'citation', 'citation_title', 'citation_type', 'sections', 'DOI', 'ISBN', 'PMC', 'PMID']]"
   ]
  },
  {
   "cell_type": "code",
   "execution_count": 48,
   "metadata": {},
   "outputs": [],
   "source": [
    "scientific_dataset['scientific_or_not'] = True\n",
    "non_scientific_dataset['scientific_or_not'] = False"
   ]
  },
  {
   "cell_type": "code",
   "execution_count": 49,
   "metadata": {},
   "outputs": [],
   "source": [
    "# Aggregating the scientific and non scientific dataset by stacking rows\n",
    "dataset = pd.concat([scientific_dataset, non_scientific_dataset], axis=0)"
   ]
  },
  {
   "cell_type": "code",
   "execution_count": 50,
   "metadata": {},
   "outputs": [
    {
     "name": "stdout",
     "output_type": "stream",
     "text": [
      "The total number of citations in the dataset are: 2243762\n",
      "The total number of unique pages in the dataset are: 883610\n"
     ]
    }
   ],
   "source": [
    "print('The total number of citations in the dataset are: {}'.format(len(dataset)))\n",
    "print('The total number of unique pages in the dataset are: {}'.format(dataset['page_title'].nunique()))"
   ]
  },
  {
   "cell_type": "code",
   "execution_count": 51,
   "metadata": {},
   "outputs": [],
   "source": [
    "# Remove the unicode quotes\n",
    "dataset['citation'] = dataset['citation'].apply(lambda x: x[2:len(x) - 1])"
   ]
  },
  {
   "cell_type": "code",
   "execution_count": 52,
   "metadata": {},
   "outputs": [],
   "source": [
    "# Saving the dataset for further use\n",
    "# dataset.to_csv('data/dataset.csv')"
   ]
  },
  {
   "cell_type": "markdown",
   "metadata": {},
   "source": [
    "## Verification of the dataset"
   ]
  },
  {
   "cell_type": "markdown",
   "metadata": {},
   "source": [
    "So, we have 2,243,960 million data points out of which 2,028,821 million data citations are unique. The others are not. Since, we labeled them using similarity techniques, we can check if there any labels which contradict each other and hence this would act as a verification step."
   ]
  },
  {
   "cell_type": "code",
   "execution_count": 53,
   "metadata": {},
   "outputs": [
    {
     "name": "stdout",
     "output_type": "stream",
     "text": [
      "Number of unique elements in the dataset are: 2028821\n"
     ]
    }
   ],
   "source": [
    "print('Number of unique elements in the dataset are: {}'.format(dataset['citation'].nunique()))"
   ]
  },
  {
   "cell_type": "code",
   "execution_count": 54,
   "metadata": {},
   "outputs": [],
   "source": [
    "# Aggrgeating the boolean labels for citations which are not unique and getting their length\n",
    "any_conflicting_labels = dataset[['citation', 'scientific_or_not']].groupby('citation').agg(\n",
    "    {'scientific_or_not': lambda x: tuple(set(x))}\n",
    ")\n",
    "any_conflicting_labels['len'] = any_conflicting_labels['scientific_or_not'].apply(lambda x: len(x))"
   ]
  },
  {
   "cell_type": "markdown",
   "metadata": {},
   "source": [
    "No labels are found to have conflicting labels i.e. no citation is scientific and non scientific at the same time."
   ]
  },
  {
   "cell_type": "code",
   "execution_count": 55,
   "metadata": {},
   "outputs": [
    {
     "data": {
      "text/html": [
       "<div>\n",
       "<style scoped>\n",
       "    .dataframe tbody tr th:only-of-type {\n",
       "        vertical-align: middle;\n",
       "    }\n",
       "\n",
       "    .dataframe tbody tr th {\n",
       "        vertical-align: top;\n",
       "    }\n",
       "\n",
       "    .dataframe thead th {\n",
       "        text-align: right;\n",
       "    }\n",
       "</style>\n",
       "<table border=\"1\" class=\"dataframe\">\n",
       "  <thead>\n",
       "    <tr style=\"text-align: right;\">\n",
       "      <th></th>\n",
       "      <th>scientific_or_not</th>\n",
       "      <th>len</th>\n",
       "    </tr>\n",
       "    <tr>\n",
       "      <th>citation</th>\n",
       "      <th></th>\n",
       "      <th></th>\n",
       "    </tr>\n",
       "  </thead>\n",
       "  <tbody>\n",
       "  </tbody>\n",
       "</table>\n",
       "</div>"
      ],
      "text/plain": [
       "Empty DataFrame\n",
       "Columns: [scientific_or_not, len]\n",
       "Index: []"
      ]
     },
     "execution_count": 55,
     "metadata": {},
     "output_type": "execute_result"
    }
   ],
   "source": [
    "any_conflicting_labels[any_conflicting_labels['len'] != 1]"
   ]
  },
  {
   "cell_type": "markdown",
   "metadata": {},
   "source": [
    "## Getting features from the dataset"
   ]
  },
  {
   "cell_type": "markdown",
   "metadata": {},
   "source": [
    "Now for each of the unique pages, we get the content and get all the features."
   ]
  },
  {
   "cell_type": "code",
   "execution_count": 56,
   "metadata": {},
   "outputs": [],
   "source": [
    "scientific_or_not_titles = dataset['page_title'].unique().tolist()\n",
    "titles_df = pd.DataFrame(scientific_or_not_titles, columns=['titles'])\n",
    "# titles_df.to_csv('titles_df.csv')"
   ]
  },
  {
   "cell_type": "markdown",
   "metadata": {},
   "source": [
    "The features were extracted on the DLAB - EPFL Cluster using the scripts in the features folder.\n",
    "\n",
    "Now we will need to have a dataframe for **citations +  titles** - so that we get the features only for the citations we need.\n",
    "\n",
    "Note: Incase one faces a TypeError while converting a Pandas Dataframe into a Spark Dataframe:\n",
    "\n",
    "```\n",
    "TypeError: field page_title: Can not merge type <class 'pyspark.sql.types.StringType'> and <class 'pyspark.sql.types.DoubleType'>\n",
    "```\n",
    "\n",
    "Convert the columns of the Pandas Dataframe into what is their defined type - for example where citation can be converted into a string\n",
    "\n",
    "```\n",
    "df['citation'] = df['citation'].astype(str)\n",
    "```"
   ]
  },
  {
   "cell_type": "code",
   "execution_count": 68,
   "metadata": {},
   "outputs": [],
   "source": [
    "# page_content = page_content.filter(page_content['page_title'].isin(scientific_or_not_titles))\n",
    "titles_df_spark = sqlContext.createDataFrame(titles_df, StringType())\n",
    "titles_df_spark.write.mode('overwrite').parquet('./titles_df.parquet')"
   ]
  },
  {
   "cell_type": "code",
   "execution_count": 74,
   "metadata": {},
   "outputs": [],
   "source": [
    "# ids_and_citations = dataset[['id', 'citation']]\n",
    "# ids_and_citations['page_title'] = ids_and_citations['page_title'].astype(str)\n",
    "# ids_and_citations['citation'] = ids_and_citations['citation'].astype(str)"
   ]
  },
  {
   "cell_type": "code",
   "execution_count": 79,
   "metadata": {},
   "outputs": [],
   "source": [
    "# ids_and_citations_spark = sqlContext.createDataFrame(ids_and_citations)\n",
    "# ids_and_citations_spark.write.mode('overwrite').parquet('./ids_and_citations.parquet')"
   ]
  },
  {
   "cell_type": "markdown",
   "metadata": {},
   "source": [
    "Now let's load the csv file directory which we got from the cluster and combine it into one so that we can merge it with the `dataset` variable above to get the labels associated with them."
   ]
  },
  {
   "cell_type": "code",
   "execution_count": 57,
   "metadata": {},
   "outputs": [],
   "source": [
    "# Read the csv file which contains the citations and the features\n",
    "citations_features = pd.read_parquet('./citations_features.parquet/', engine='pyarrow') # pip install pyarrow"
   ]
  },
  {
   "cell_type": "code",
   "execution_count": 58,
   "metadata": {},
   "outputs": [
    {
     "data": {
      "text/html": [
       "<div>\n",
       "<style scoped>\n",
       "    .dataframe tbody tr th:only-of-type {\n",
       "        vertical-align: middle;\n",
       "    }\n",
       "\n",
       "    .dataframe tbody tr th {\n",
       "        vertical-align: top;\n",
       "    }\n",
       "\n",
       "    .dataframe thead th {\n",
       "        text-align: right;\n",
       "    }\n",
       "</style>\n",
       "<table border=\"1\" class=\"dataframe\">\n",
       "  <thead>\n",
       "    <tr style=\"text-align: right;\">\n",
       "      <th></th>\n",
       "      <th>id</th>\n",
       "      <th>citation</th>\n",
       "      <th>page_title</th>\n",
       "      <th>page_id</th>\n",
       "      <th>ref_index</th>\n",
       "      <th>total_words</th>\n",
       "      <th>neighboring_words</th>\n",
       "      <th>neighboring_tags</th>\n",
       "    </tr>\n",
       "  </thead>\n",
       "  <tbody>\n",
       "    <tr>\n",
       "      <th>0</th>\n",
       "      <td>25</td>\n",
       "      <td>{{cite journal | vauthors = Myers SM, Johnson ...</td>\n",
       "      <td>Autism</td>\n",
       "      <td>25</td>\n",
       "      <td>1229</td>\n",
       "      <td>25544</td>\n",
       "      <td>[disorders, journal, Pediatrics, volume, 120, ...</td>\n",
       "      <td>[NNS, JJ, NNPS, NN, CD, NN, NNS, CD, NN, CD, N...</td>\n",
       "    </tr>\n",
       "    <tr>\n",
       "      <th>1</th>\n",
       "      <td>308</td>\n",
       "      <td>{{cite book |last1=Garver |first1=Eugene |titl...</td>\n",
       "      <td>Aristotle</td>\n",
       "      <td>308</td>\n",
       "      <td>16337</td>\n",
       "      <td>33810</td>\n",
       "      <td>[of, Chicago, Press, isbn978-0-226-28425-5, pa...</td>\n",
       "      <td>[IN, NNP, NNP, JJ, NN, JJ, NN, NN, NN, JJ, NN,...</td>\n",
       "    </tr>\n",
       "    <tr>\n",
       "      <th>2</th>\n",
       "      <td>573</td>\n",
       "      <td>{{Cite book|title=The Jewish Alchemists: A His...</td>\n",
       "      <td>Alchemy</td>\n",
       "      <td>573</td>\n",
       "      <td>10659</td>\n",
       "      <td>14747</td>\n",
       "      <td>[in, France, as, the, bain-marie, ,, is, said,...</td>\n",
       "      <td>[IN, NNP, IN, DT, NN, ,, VBZ, VBD, TO, VB, VBN...</td>\n",
       "    </tr>\n",
       "    <tr>\n",
       "      <th>3</th>\n",
       "      <td>597</td>\n",
       "      <td>{{Citation |last1=Chaubey|first1=G.|last2=Mets...</td>\n",
       "      <td>Austroasiatic languages</td>\n",
       "      <td>597</td>\n",
       "      <td>5952</td>\n",
       "      <td>6935</td>\n",
       "      <td>[,, Byomkes, ., 1994, ., ''A, Comparative, Stu...</td>\n",
       "      <td>[,, NNP, ., CD, ., CC, NNP, NNP, IN, NNP, CC, ...</td>\n",
       "    </tr>\n",
       "    <tr>\n",
       "      <th>4</th>\n",
       "      <td>627</td>\n",
       "      <td>{{cite journal |last1=Denham |first1=T. P. |ti...</td>\n",
       "      <td>Agriculture</td>\n",
       "      <td>627</td>\n",
       "      <td>842</td>\n",
       "      <td>26410</td>\n",
       "      <td>[origin, ,, and, Papua, New, Guinea, area, ,, ...</td>\n",
       "      <td>[NN, ,, CC, NNP, NNP, NNP, NN, ,, NN, VBD, VBN...</td>\n",
       "    </tr>\n",
       "  </tbody>\n",
       "</table>\n",
       "</div>"
      ],
      "text/plain": [
       "    id                                           citation  \\\n",
       "0   25  {{cite journal | vauthors = Myers SM, Johnson ...   \n",
       "1  308  {{cite book |last1=Garver |first1=Eugene |titl...   \n",
       "2  573  {{Cite book|title=The Jewish Alchemists: A His...   \n",
       "3  597  {{Citation |last1=Chaubey|first1=G.|last2=Mets...   \n",
       "4  627  {{cite journal |last1=Denham |first1=T. P. |ti...   \n",
       "\n",
       "                page_title  page_id  ref_index  total_words  \\\n",
       "0                   Autism       25       1229        25544   \n",
       "1                Aristotle      308      16337        33810   \n",
       "2                  Alchemy      573      10659        14747   \n",
       "3  Austroasiatic languages      597       5952         6935   \n",
       "4              Agriculture      627        842        26410   \n",
       "\n",
       "                                   neighboring_words  \\\n",
       "0  [disorders, journal, Pediatrics, volume, 120, ...   \n",
       "1  [of, Chicago, Press, isbn978-0-226-28425-5, pa...   \n",
       "2  [in, France, as, the, bain-marie, ,, is, said,...   \n",
       "3  [,, Byomkes, ., 1994, ., ''A, Comparative, Stu...   \n",
       "4  [origin, ,, and, Papua, New, Guinea, area, ,, ...   \n",
       "\n",
       "                                    neighboring_tags  \n",
       "0  [NNS, JJ, NNPS, NN, CD, NN, NNS, CD, NN, CD, N...  \n",
       "1  [IN, NNP, NNP, JJ, NN, JJ, NN, NN, NN, JJ, NN,...  \n",
       "2  [IN, NNP, IN, DT, NN, ,, VBZ, VBD, TO, VB, VBN...  \n",
       "3  [,, NNP, ., CD, ., CC, NNP, NNP, IN, NNP, CC, ...  \n",
       "4  [NN, ,, CC, NNP, NNP, NNP, NN, ,, NN, VBD, VBN...  "
      ]
     },
     "execution_count": 58,
     "metadata": {},
     "output_type": "execute_result"
    }
   ],
   "source": [
    "# citations_features.drop('Unnamed: 0', axis=1, inplace=True)\n",
    "citations_features.head()"
   ]
  },
  {
   "cell_type": "markdown",
   "metadata": {},
   "source": [
    "Now lets merge the 2 variables `dataset` and `citations_features`..."
   ]
  },
  {
   "cell_type": "code",
   "execution_count": 59,
   "metadata": {},
   "outputs": [],
   "source": [
    "dataset_with_features = pd.merge(\n",
    "    dataset, citations_features, how='inner', left_on=['id','citation'], right_on = ['id','citation']\n",
    ")\n",
    "dataset_with_features.drop('page_title_y', axis=1, inplace=True)"
   ]
  },
  {
   "cell_type": "code",
   "execution_count": 60,
   "metadata": {},
   "outputs": [
    {
     "data": {
      "text/html": [
       "<div>\n",
       "<style scoped>\n",
       "    .dataframe tbody tr th:only-of-type {\n",
       "        vertical-align: middle;\n",
       "    }\n",
       "\n",
       "    .dataframe tbody tr th {\n",
       "        vertical-align: top;\n",
       "    }\n",
       "\n",
       "    .dataframe thead th {\n",
       "        text-align: right;\n",
       "    }\n",
       "</style>\n",
       "<table border=\"1\" class=\"dataframe\">\n",
       "  <thead>\n",
       "    <tr style=\"text-align: right;\">\n",
       "      <th></th>\n",
       "      <th>DOI</th>\n",
       "      <th>ISBN</th>\n",
       "      <th>PMC</th>\n",
       "      <th>PMID</th>\n",
       "      <th>citation</th>\n",
       "      <th>citation_title</th>\n",
       "      <th>citation_type</th>\n",
       "      <th>id</th>\n",
       "      <th>page_title_x</th>\n",
       "      <th>scientific_or_not</th>\n",
       "      <th>sections</th>\n",
       "      <th>page_id</th>\n",
       "      <th>ref_index</th>\n",
       "      <th>total_words</th>\n",
       "      <th>neighboring_words</th>\n",
       "      <th>neighboring_tags</th>\n",
       "    </tr>\n",
       "  </thead>\n",
       "  <tbody>\n",
       "    <tr>\n",
       "      <th>0</th>\n",
       "      <td>10.1016/0166-0934(89)90132-8</td>\n",
       "      <td>NaN</td>\n",
       "      <td>NaN</td>\n",
       "      <td>2786000</td>\n",
       "      <td>{{cite journal | author= Kenneth Cornetta | au...</td>\n",
       "      <td>Protamine sulfate as an effective alternative ...</td>\n",
       "      <td>cite journal</td>\n",
       "      <td>1831220</td>\n",
       "      <td>Protamine sulfate</td>\n",
       "      <td>True</td>\n",
       "      <td>Initial Section</td>\n",
       "      <td>1831220</td>\n",
       "      <td>941</td>\n",
       "      <td>1661</td>\n",
       "      <td>[Methods, year, 1989, volume, 23, issue, pages...</td>\n",
       "      <td>[NNP, NN, CD, NN, CD, NN, NNS, CD, JJ, VBD, JJ...</td>\n",
       "    </tr>\n",
       "    <tr>\n",
       "      <th>1</th>\n",
       "      <td>10.1038/sj.gt.3300484</td>\n",
       "      <td>NaN</td>\n",
       "      <td>NaN</td>\n",
       "      <td>9349433</td>\n",
       "      <td>{{cite journal|last=Sorgi|first=FL|author2=Bha...</td>\n",
       "      <td>Protamine sulfate enhances lipid-mediated gene...</td>\n",
       "      <td>cite journal</td>\n",
       "      <td>1831220</td>\n",
       "      <td>Protamine sulfate</td>\n",
       "      <td>True</td>\n",
       "      <td>Initial Section</td>\n",
       "      <td>1831220</td>\n",
       "      <td>1025</td>\n",
       "      <td>1661</td>\n",
       "      <td>[journallastSorgifirstFLauthor2Bhattacharya, ,...</td>\n",
       "      <td>[NN, ,, NNP, ,, NNP, NN, NNS, JJ, NN, NN, VBD,...</td>\n",
       "    </tr>\n",
       "    <tr>\n",
       "      <th>2</th>\n",
       "      <td>10.1136/hrt.52.1.112</td>\n",
       "      <td>NaN</td>\n",
       "      <td>481594</td>\n",
       "      <td>6743419</td>\n",
       "      <td>{{cite journal|last=Walker|first=WS|author2=Re...</td>\n",
       "      <td>Successful cardiopulmonary bypass in diabetics...</td>\n",
       "      <td>cite journal</td>\n",
       "      <td>1831220</td>\n",
       "      <td>Protamine sulfate</td>\n",
       "      <td>True</td>\n",
       "      <td>Initial Section</td>\n",
       "      <td>1831220</td>\n",
       "      <td>1187</td>\n",
       "      <td>1661</td>\n",
       "      <td>[,, FE, ., titleSuccessful, cardiopulmonary, b...</td>\n",
       "      <td>[,, NNP, ., JJ, JJ, NN, IN, NNS, IN, JJ, NNS, ...</td>\n",
       "    </tr>\n",
       "    <tr>\n",
       "      <th>3</th>\n",
       "      <td>10.1097/00000542-198412000-00021</td>\n",
       "      <td>NaN</td>\n",
       "      <td>NaN</td>\n",
       "      <td>6334459</td>\n",
       "      <td>{{cite journal|last=Campbell|first=FW|author2=...</td>\n",
       "      <td>Management of the patient with protamine hyper...</td>\n",
       "      <td>cite journal</td>\n",
       "      <td>1831220</td>\n",
       "      <td>Protamine sulfate</td>\n",
       "      <td>True</td>\n",
       "      <td>Initial Section</td>\n",
       "      <td>1831220</td>\n",
       "      <td>1267</td>\n",
       "      <td>1661</td>\n",
       "      <td>[,, MFauthor3Atkins, ,, PC, ., titleManagement...</td>\n",
       "      <td>[,, NNP, ,, NN, ., NN, IN, DT, NN, IN, JJ, NN,...</td>\n",
       "    </tr>\n",
       "    <tr>\n",
       "      <th>4</th>\n",
       "      <td>10.1097/00000542-200502000-00011</td>\n",
       "      <td>NaN</td>\n",
       "      <td>NaN</td>\n",
       "      <td>15681944</td>\n",
       "      <td>{{cite journal|last=Welsby|first=IJ|author2=Ne...</td>\n",
       "      <td>Hemodynamic changes after protamine administra...</td>\n",
       "      <td>cite journal</td>\n",
       "      <td>1831220</td>\n",
       "      <td>Protamine sulfate</td>\n",
       "      <td>True</td>\n",
       "      <td>Initial Section</td>\n",
       "      <td>1831220</td>\n",
       "      <td>1364</td>\n",
       "      <td>1661</td>\n",
       "      <td>[titleHemodynamic, changes, after, protamine, ...</td>\n",
       "      <td>[JJ, NNS, IN, JJ, NN, NN, IN, NN, IN, JJ, NN, ...</td>\n",
       "    </tr>\n",
       "  </tbody>\n",
       "</table>\n",
       "</div>"
      ],
      "text/plain": [
       "                                DOI ISBN     PMC      PMID  \\\n",
       "0      10.1016/0166-0934(89)90132-8  NaN     NaN   2786000   \n",
       "1             10.1038/sj.gt.3300484  NaN     NaN   9349433   \n",
       "2              10.1136/hrt.52.1.112  NaN  481594   6743419   \n",
       "3  10.1097/00000542-198412000-00021  NaN     NaN   6334459   \n",
       "4  10.1097/00000542-200502000-00011  NaN     NaN  15681944   \n",
       "\n",
       "                                            citation  \\\n",
       "0  {{cite journal | author= Kenneth Cornetta | au...   \n",
       "1  {{cite journal|last=Sorgi|first=FL|author2=Bha...   \n",
       "2  {{cite journal|last=Walker|first=WS|author2=Re...   \n",
       "3  {{cite journal|last=Campbell|first=FW|author2=...   \n",
       "4  {{cite journal|last=Welsby|first=IJ|author2=Ne...   \n",
       "\n",
       "                                      citation_title citation_type       id  \\\n",
       "0  Protamine sulfate as an effective alternative ...  cite journal  1831220   \n",
       "1  Protamine sulfate enhances lipid-mediated gene...  cite journal  1831220   \n",
       "2  Successful cardiopulmonary bypass in diabetics...  cite journal  1831220   \n",
       "3  Management of the patient with protamine hyper...  cite journal  1831220   \n",
       "4  Hemodynamic changes after protamine administra...  cite journal  1831220   \n",
       "\n",
       "        page_title_x  scientific_or_not         sections  page_id  ref_index  \\\n",
       "0  Protamine sulfate               True  Initial Section  1831220        941   \n",
       "1  Protamine sulfate               True  Initial Section  1831220       1025   \n",
       "2  Protamine sulfate               True  Initial Section  1831220       1187   \n",
       "3  Protamine sulfate               True  Initial Section  1831220       1267   \n",
       "4  Protamine sulfate               True  Initial Section  1831220       1364   \n",
       "\n",
       "   total_words                                  neighboring_words  \\\n",
       "0         1661  [Methods, year, 1989, volume, 23, issue, pages...   \n",
       "1         1661  [journallastSorgifirstFLauthor2Bhattacharya, ,...   \n",
       "2         1661  [,, FE, ., titleSuccessful, cardiopulmonary, b...   \n",
       "3         1661  [,, MFauthor3Atkins, ,, PC, ., titleManagement...   \n",
       "4         1661  [titleHemodynamic, changes, after, protamine, ...   \n",
       "\n",
       "                                    neighboring_tags  \n",
       "0  [NNP, NN, CD, NN, CD, NN, NNS, CD, JJ, VBD, JJ...  \n",
       "1  [NN, ,, NNP, ,, NNP, NN, NNS, JJ, NN, NN, VBD,...  \n",
       "2  [,, NNP, ., JJ, JJ, NN, IN, NNS, IN, JJ, NNS, ...  \n",
       "3  [,, NNP, ,, NN, ., NN, IN, DT, NN, IN, JJ, NN,...  \n",
       "4  [JJ, NNS, IN, JJ, NN, NN, IN, NN, IN, JJ, NN, ...  "
      ]
     },
     "execution_count": 60,
     "metadata": {},
     "output_type": "execute_result"
    }
   ],
   "source": [
    "dataset_with_features.head()"
   ]
  },
  {
   "cell_type": "code",
   "execution_count": 69,
   "metadata": {},
   "outputs": [],
   "source": [
    "# dataset_with_features.to_csv('data/dataset_with_features.csv')"
   ]
  },
  {
   "cell_type": "code",
   "execution_count": null,
   "metadata": {},
   "outputs": [],
   "source": []
  }
 ],
 "metadata": {
  "kernelspec": {
   "display_name": "Python 3",
   "language": "python",
   "name": "python3"
  },
  "language_info": {
   "codemirror_mode": {
    "name": "ipython",
    "version": 3
   },
   "file_extension": ".py",
   "mimetype": "text/x-python",
   "name": "python",
   "nbconvert_exporter": "python",
   "pygments_lexer": "ipython3",
   "version": "3.7.3"
  }
 },
 "nbformat": 4,
 "nbformat_minor": 2
}
