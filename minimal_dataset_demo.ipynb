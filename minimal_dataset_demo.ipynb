{
 "cells": [
  {
   "cell_type": "code",
   "execution_count": 19,
   "metadata": {},
   "outputs": [],
   "source": [
    "## All imports\n",
    "import nltk\n",
    "import numpy as np\n",
    "import pandas as pd\n",
    "import networkx as nx\n",
    "import seaborn as sns\n",
    "from tqdm import tqdm\n",
    "from collections import Counter\n",
    "import matplotlib.pyplot as plt"
   ]
  },
  {
   "cell_type": "code",
   "execution_count": 2,
   "metadata": {},
   "outputs": [],
   "source": [
    "tqdm.pandas()\n",
    "sns.set(style=\"darkgrid\")"
   ]
  },
  {
   "cell_type": "code",
   "execution_count": 3,
   "metadata": {},
   "outputs": [],
   "source": [
    "INPUT_DATA = '/scratch/harshdee/minimal_dataset.parquet'"
   ]
  },
  {
   "cell_type": "markdown",
   "metadata": {},
   "source": [
    "### Loading the dataset and reading the rows, and no. for values existing for some columns"
   ]
  },
  {
   "cell_type": "code",
   "execution_count": 4,
   "metadata": {},
   "outputs": [
    {
     "name": "stdout",
     "output_type": "stream",
     "text": [
      "Total number of rows in the minimal dataset: type_of_citation      29276667\n",
      "page_title            29276667\n",
      "Title                 28753918\n",
      "ID_list                3928392\n",
      "metadata_file           262909\n",
      "updated_identifier      262909\n",
      "dtype: int64\n"
     ]
    }
   ],
   "source": [
    "## Reading the dataset\n",
    "citations = pd.read_parquet(INPUT_DATA)\n",
    "print('Total number of rows in the minimal dataset: {}'.format(citations.count()))"
   ]
  },
  {
   "cell_type": "code",
   "execution_count": 5,
   "metadata": {},
   "outputs": [
    {
     "data": {
      "text/html": [
       "<div>\n",
       "<style scoped>\n",
       "    .dataframe tbody tr th:only-of-type {\n",
       "        vertical-align: middle;\n",
       "    }\n",
       "\n",
       "    .dataframe tbody tr th {\n",
       "        vertical-align: top;\n",
       "    }\n",
       "\n",
       "    .dataframe thead th {\n",
       "        text-align: right;\n",
       "    }\n",
       "</style>\n",
       "<table border=\"1\" class=\"dataframe\">\n",
       "  <thead>\n",
       "    <tr style=\"text-align: right;\">\n",
       "      <th></th>\n",
       "      <th>type_of_citation</th>\n",
       "      <th>page_title</th>\n",
       "      <th>Title</th>\n",
       "      <th>ID_list</th>\n",
       "      <th>metadata_file</th>\n",
       "      <th>updated_identifier</th>\n",
       "    </tr>\n",
       "  </thead>\n",
       "  <tbody>\n",
       "    <tr>\n",
       "      <th>0</th>\n",
       "      <td>citation</td>\n",
       "      <td>Television and film in New Jersey</td>\n",
       "      <td>Downtown Paterson</td>\n",
       "      <td>{ISBN=9780738563237}</td>\n",
       "      <td>None</td>\n",
       "      <td>None</td>\n",
       "    </tr>\n",
       "    <tr>\n",
       "      <th>1</th>\n",
       "      <td>citation</td>\n",
       "      <td>The Pride of the Clan</td>\n",
       "      <td>Fort Lee Birthplace of the Motion Picture Indu...</td>\n",
       "      <td>{ISBN=0-7385-4501-5}</td>\n",
       "      <td>None</td>\n",
       "      <td>None</td>\n",
       "    </tr>\n",
       "    <tr>\n",
       "      <th>2</th>\n",
       "      <td>citation</td>\n",
       "      <td>Gregory Avenue Bridge</td>\n",
       "      <td>History of Passaic and Its Environs. 1922. Rep...</td>\n",
       "      <td>None</td>\n",
       "      <td>None</td>\n",
       "      <td>None</td>\n",
       "    </tr>\n",
       "    <tr>\n",
       "      <th>3</th>\n",
       "      <td>citation</td>\n",
       "      <td>Dharma Durai</td>\n",
       "      <td>Dharma Dorai</td>\n",
       "      <td>None</td>\n",
       "      <td>None</td>\n",
       "      <td>None</td>\n",
       "    </tr>\n",
       "    <tr>\n",
       "      <th>4</th>\n",
       "      <td>citation</td>\n",
       "      <td>Dingee, Victoria</td>\n",
       "      <td>Calival</td>\n",
       "      <td>None</td>\n",
       "      <td>None</td>\n",
       "      <td>None</td>\n",
       "    </tr>\n",
       "  </tbody>\n",
       "</table>\n",
       "</div>"
      ],
      "text/plain": [
       "  type_of_citation                         page_title  \\\n",
       "0         citation  Television and film in New Jersey   \n",
       "1         citation              The Pride of the Clan   \n",
       "2         citation              Gregory Avenue Bridge   \n",
       "3         citation                       Dharma Durai   \n",
       "4         citation                   Dingee, Victoria   \n",
       "\n",
       "                                               Title               ID_list  \\\n",
       "0                                  Downtown Paterson  {ISBN=9780738563237}   \n",
       "1  Fort Lee Birthplace of the Motion Picture Indu...  {ISBN=0-7385-4501-5}   \n",
       "2  History of Passaic and Its Environs. 1922. Rep...                  None   \n",
       "3                                       Dharma Dorai                  None   \n",
       "4                                            Calival                  None   \n",
       "\n",
       "  metadata_file updated_identifier  \n",
       "0          None               None  \n",
       "1          None               None  \n",
       "2          None               None  \n",
       "3          None               None  \n",
       "4          None               None  "
      ]
     },
     "execution_count": 5,
     "metadata": {},
     "output_type": "execute_result"
    }
   ],
   "source": [
    "citations.head()"
   ]
  },
  {
   "cell_type": "markdown",
   "metadata": {},
   "source": [
    "### A few columns only exist as part of the minimal dataset:\n",
    "\n",
    "1. `type_of_citation`: the type of the citation this identifier has.\n",
    "2. `page title`: The title of the page the citation is associated with.\n",
    "3. `Title`: The title of the citation\n",
    "4. `ID_list`: The ID's which are associated with each citation\n",
    "\n",
    "Then there are some other columns which are specifically related to the lookup and the new identifiers:\n",
    "\n",
    "5. `metadata_file`: the metadata file which was queried from the CrossRef API.\n",
    "6. `updated_identifier`: The identifier (DOI) which was extracted from crossref based on the title (and the author)."
   ]
  },
  {
   "cell_type": "code",
   "execution_count": 6,
   "metadata": {},
   "outputs": [
    {
     "data": {
      "text/plain": [
       "Index([u'type_of_citation', u'page_title', u'Title', u'ID_list',\n",
       "       u'metadata_file', u'updated_identifier'],\n",
       "      dtype='object')"
      ]
     },
     "execution_count": 6,
     "metadata": {},
     "output_type": "execute_result"
    }
   ],
   "source": [
    "citations.columns"
   ]
  },
  {
   "cell_type": "markdown",
   "metadata": {},
   "source": [
    "Below we show the countplot of the top 10 citations which are present in this minimal dataset, and as we can see that `cite web` makes up for a large chunk of the citations present followed by `cite news`, `cite book`, `cite journal`."
   ]
  },
  {
   "cell_type": "code",
   "execution_count": 17,
   "metadata": {},
   "outputs": [
    {
     "data": {
      "image/png": "[encoded data removed]",
      "text/plain": [
       "<Figure size 432x288 with 1 Axes>"
      ]
     },
     "metadata": {},
     "output_type": "display_data"
    }
   ],
   "source": [
    "ax = sns.countplot(\n",
    "    y=\"type_of_citation\", data=citations,\n",
    "    order=citations['type_of_citation'].value_counts().iloc[:10].index)"
   ]
  },
  {
   "cell_type": "markdown",
   "metadata": {},
   "source": [
    "In the 2 cells below, we look at if there is an `ISBN` or `DOI` present in the ID_list and if it is then we group them by the `type_of_citation` to get which kind of citations have more ISBNs \n",
    "\n",
    "1. and as expected, ISBNs are associated more with `cite book` or `cite encyclopaedia`\n",
    "2. and as expected, DOIs are associated more with `cite journal`"
   ]
  },
  {
   "cell_type": "code",
   "execution_count": 10,
   "metadata": {},
   "outputs": [
    {
     "name": "stderr",
     "output_type": "stream",
     "text": [
      "100%|██████████| 29276667/29276667 [00:35<00:00, 817661.16it/s]\n"
     ]
    },
    {
     "data": {
      "text/html": [
       "<div>\n",
       "<style scoped>\n",
       "    .dataframe tbody tr th:only-of-type {\n",
       "        vertical-align: middle;\n",
       "    }\n",
       "\n",
       "    .dataframe tbody tr th {\n",
       "        vertical-align: top;\n",
       "    }\n",
       "\n",
       "    .dataframe thead th {\n",
       "        text-align: right;\n",
       "    }\n",
       "</style>\n",
       "<table border=\"1\" class=\"dataframe\">\n",
       "  <thead>\n",
       "    <tr style=\"text-align: right;\">\n",
       "      <th></th>\n",
       "      <th>page_title</th>\n",
       "      <th>Title</th>\n",
       "      <th>ID_list</th>\n",
       "      <th>metadata_file</th>\n",
       "      <th>updated_identifier</th>\n",
       "      <th>contains_isbn</th>\n",
       "    </tr>\n",
       "    <tr>\n",
       "      <th>type_of_citation</th>\n",
       "      <th></th>\n",
       "      <th></th>\n",
       "      <th></th>\n",
       "      <th></th>\n",
       "      <th></th>\n",
       "      <th></th>\n",
       "    </tr>\n",
       "  </thead>\n",
       "  <tbody>\n",
       "    <tr>\n",
       "      <th>cite book</th>\n",
       "      <td>2014465</td>\n",
       "      <td>2013791</td>\n",
       "      <td>2014465</td>\n",
       "      <td>0</td>\n",
       "      <td>0</td>\n",
       "      <td>2014465</td>\n",
       "    </tr>\n",
       "    <tr>\n",
       "      <th>citation</th>\n",
       "      <td>114502</td>\n",
       "      <td>114142</td>\n",
       "      <td>114502</td>\n",
       "      <td>0</td>\n",
       "      <td>0</td>\n",
       "      <td>114502</td>\n",
       "    </tr>\n",
       "    <tr>\n",
       "      <th>cite encyclopedia</th>\n",
       "      <td>11622</td>\n",
       "      <td>10527</td>\n",
       "      <td>11622</td>\n",
       "      <td>0</td>\n",
       "      <td>0</td>\n",
       "      <td>11622</td>\n",
       "    </tr>\n",
       "    <tr>\n",
       "      <th>cite journal</th>\n",
       "      <td>9383</td>\n",
       "      <td>9357</td>\n",
       "      <td>9383</td>\n",
       "      <td>0</td>\n",
       "      <td>0</td>\n",
       "      <td>9383</td>\n",
       "    </tr>\n",
       "    <tr>\n",
       "      <th>cite web</th>\n",
       "      <td>4080</td>\n",
       "      <td>4078</td>\n",
       "      <td>4080</td>\n",
       "      <td>0</td>\n",
       "      <td>0</td>\n",
       "      <td>4080</td>\n",
       "    </tr>\n",
       "  </tbody>\n",
       "</table>\n",
       "</div>"
      ],
      "text/plain": [
       "                   page_title    Title  ID_list  metadata_file  \\\n",
       "type_of_citation                                                 \n",
       "cite book             2014465  2013791  2014465              0   \n",
       "citation               114502   114142   114502              0   \n",
       "cite encyclopedia       11622    10527    11622              0   \n",
       "cite journal             9383     9357     9383              0   \n",
       "cite web                 4080     4078     4080              0   \n",
       "\n",
       "                   updated_identifier  contains_isbn  \n",
       "type_of_citation                                      \n",
       "cite book                           0        2014465  \n",
       "citation                            0         114502  \n",
       "cite encyclopedia                   0          11622  \n",
       "cite journal                        0           9383  \n",
       "cite web                            0           4080  "
      ]
     },
     "execution_count": 10,
     "metadata": {},
     "output_type": "execute_result"
    }
   ],
   "source": [
    "citations['contains_isbn'] = citations['ID_list'].progress_apply(\n",
    "    lambda x: 'ISBN' in x if x is not None else False)\n",
    "contains_isbn_mask = citations['contains_isbn'] == True\n",
    "citations[contains_isbn_mask].groupby('type_of_citation').count().sort_values(\n",
    "    ['contains_isbn'], ascending=False).head()"
   ]
  },
  {
   "cell_type": "code",
   "execution_count": 12,
   "metadata": {},
   "outputs": [
    {
     "name": "stderr",
     "output_type": "stream",
     "text": [
      "100%|██████████| 29276667/29276667 [00:36<00:00, 805364.16it/s]\n"
     ]
    },
    {
     "data": {
      "text/html": [
       "<div>\n",
       "<style scoped>\n",
       "    .dataframe tbody tr th:only-of-type {\n",
       "        vertical-align: middle;\n",
       "    }\n",
       "\n",
       "    .dataframe tbody tr th {\n",
       "        vertical-align: top;\n",
       "    }\n",
       "\n",
       "    .dataframe thead th {\n",
       "        text-align: right;\n",
       "    }\n",
       "</style>\n",
       "<table border=\"1\" class=\"dataframe\">\n",
       "  <thead>\n",
       "    <tr style=\"text-align: right;\">\n",
       "      <th></th>\n",
       "      <th>page_title</th>\n",
       "      <th>Title</th>\n",
       "      <th>ID_list</th>\n",
       "      <th>metadata_file</th>\n",
       "      <th>updated_identifier</th>\n",
       "      <th>contains_isbn</th>\n",
       "      <th>contains_doi</th>\n",
       "    </tr>\n",
       "    <tr>\n",
       "      <th>type_of_citation</th>\n",
       "      <th></th>\n",
       "      <th></th>\n",
       "      <th></th>\n",
       "      <th></th>\n",
       "      <th></th>\n",
       "      <th></th>\n",
       "      <th></th>\n",
       "    </tr>\n",
       "  </thead>\n",
       "  <tbody>\n",
       "    <tr>\n",
       "      <th>cite journal</th>\n",
       "      <td>1355483</td>\n",
       "      <td>1354869</td>\n",
       "      <td>1355483</td>\n",
       "      <td>0</td>\n",
       "      <td>0</td>\n",
       "      <td>1355483</td>\n",
       "      <td>1355483</td>\n",
       "    </tr>\n",
       "    <tr>\n",
       "      <th>citation</th>\n",
       "      <td>41881</td>\n",
       "      <td>40756</td>\n",
       "      <td>41881</td>\n",
       "      <td>0</td>\n",
       "      <td>0</td>\n",
       "      <td>41881</td>\n",
       "      <td>41881</td>\n",
       "    </tr>\n",
       "    <tr>\n",
       "      <th>cite book</th>\n",
       "      <td>31834</td>\n",
       "      <td>31794</td>\n",
       "      <td>31834</td>\n",
       "      <td>0</td>\n",
       "      <td>0</td>\n",
       "      <td>31834</td>\n",
       "      <td>31834</td>\n",
       "    </tr>\n",
       "    <tr>\n",
       "      <th>cite web</th>\n",
       "      <td>6744</td>\n",
       "      <td>6743</td>\n",
       "      <td>6744</td>\n",
       "      <td>0</td>\n",
       "      <td>0</td>\n",
       "      <td>6744</td>\n",
       "      <td>6744</td>\n",
       "    </tr>\n",
       "    <tr>\n",
       "      <th>cite encyclopedia</th>\n",
       "      <td>2512</td>\n",
       "      <td>2126</td>\n",
       "      <td>2512</td>\n",
       "      <td>0</td>\n",
       "      <td>0</td>\n",
       "      <td>2512</td>\n",
       "      <td>2512</td>\n",
       "    </tr>\n",
       "  </tbody>\n",
       "</table>\n",
       "</div>"
      ],
      "text/plain": [
       "                   page_title    Title  ID_list  metadata_file  \\\n",
       "type_of_citation                                                 \n",
       "cite journal          1355483  1354869  1355483              0   \n",
       "citation                41881    40756    41881              0   \n",
       "cite book               31834    31794    31834              0   \n",
       "cite web                 6744     6743     6744              0   \n",
       "cite encyclopedia        2512     2126     2512              0   \n",
       "\n",
       "                   updated_identifier  contains_isbn  contains_doi  \n",
       "type_of_citation                                                    \n",
       "cite journal                        0        1355483       1355483  \n",
       "citation                            0          41881         41881  \n",
       "cite book                           0          31834         31834  \n",
       "cite web                            0           6744          6744  \n",
       "cite encyclopedia                   0           2512          2512  "
      ]
     },
     "execution_count": 12,
     "metadata": {},
     "output_type": "execute_result"
    }
   ],
   "source": [
    "citations['contains_doi'] = citations['ID_list'].progress_apply(\n",
    "    lambda x: 'DOI' in x if x is not None else False)\n",
    "contains_doi_mask = citations['contains_doi'] == True\n",
    "citations[contains_doi_mask].groupby('type_of_citation').count().sort_values(\n",
    "    ['contains_doi'], ascending=False).head()"
   ]
  },
  {
   "cell_type": "markdown",
   "metadata": {},
   "source": [
    "Something cool now..\n",
    "\n",
    "We take all the words which make up the `Page titles`, tokenize them, remove the stop words and calculate the frequency for each of the words which were present in making those titles.\n",
    "\n",
    "and we see that 5 most used words in titles are: `list`, `season`, `football`, `united`, `film` (which goes with the above histogram of the tpye of citations where we found out that web material is more present as citations on Wikipedia)"
   ]
  },
  {
   "cell_type": "code",
   "execution_count": 44,
   "metadata": {},
   "outputs": [],
   "source": [
    "## Make all words uniform by doing them into lowercase and removing the stopwords.\n",
    "all_words = citations['page_title'].str.lower().str.replace(r'\\|', ' ').str.cat(sep=' ')"
   ]
  },
  {
   "cell_type": "code",
   "execution_count": 45,
   "metadata": {},
   "outputs": [],
   "source": [
    "words = nltk.tokenize.word_tokenize(all_words)\n",
    "words = [word for word in words if word.isalnum()]\n",
    "word_dist = nltk.FreqDist(words)"
   ]
  },
  {
   "cell_type": "code",
   "execution_count": 46,
   "metadata": {},
   "outputs": [],
   "source": [
    "## Get rid of all the stopwords\n",
    "stopwords = nltk.corpus.stopwords.words('english')\n",
    "words_except_stop_dist = nltk.FreqDist(w for w in words if w not in stopwords) "
   ]
  },
  {
   "cell_type": "code",
   "execution_count": 47,
   "metadata": {},
   "outputs": [
    {
     "data": {
      "image/png": "[encoded data removed]",
      "text/plain": [
       "<Figure size 864x576 with 1 Axes>"
      ]
     },
     "metadata": {},
     "output_type": "display_data"
    }
   ],
   "source": [
    "## Graph them based on the frequency\n",
    "resultant_freq_words = pd.DataFrame(words_except_stop_dist.most_common(14),\n",
    "                    columns=['Word', 'Frequency'])\n",
    "sns.set(rc={'figure.figsize':(12, 8)})\n",
    "ax = sns.barplot(x=\"Word\", y=\"Frequency\", data=resultant_freq_words)"
   ]
  },
  {
   "cell_type": "markdown",
   "metadata": {},
   "source": [
    "Now, we try to make a Graph, out of the page titles which have an associated new identifier with them from CrossRef, this can be done using `networkx` library.\n",
    "\n",
    "This is basically a graph of nodes where nodes can either be the `page_title` or a specific DOI, and now we are checking for the a page_title with the most identifier and we query one of them -- `List of dolichopodid genera` which is page related to the biological domain.\n",
    "\n",
    "We see that most of the articles are either related to the biological domain or related to the biobliography of the countries.\n",
    "\n",
    "We also look that most of the page title have either 1, 2 or 3 new identifiers associated with them from CrossRef."
   ]
  },
  {
   "cell_type": "code",
   "execution_count": 30,
   "metadata": {},
   "outputs": [],
   "source": [
    "citations_with_updated_identifier = citations[citations['updated_identifier'].notnull()]"
   ]
  },
  {
   "cell_type": "code",
   "execution_count": 52,
   "metadata": {},
   "outputs": [],
   "source": [
    "page_titles_with_identfier = citations_with_updated_identifier.groupby(['page_title'])['updated_identifier'].apply(list)\n",
    "page_titles_with_identfier = page_titles_with_identfier.reset_index()"
   ]
  },
  {
   "cell_type": "code",
   "execution_count": 65,
   "metadata": {},
   "outputs": [],
   "source": [
    "page_titles_with_identfier['updated_identifier'] = page_titles_with_identfier['updated_identifier'].progress_apply(\n",
    "    lambda x: np.concatenate(np.array(x)).ravel().tolist())"
   ]
  },
  {
   "cell_type": "code",
   "execution_count": 66,
   "metadata": {},
   "outputs": [],
   "source": [
    "## Convert it into a dictionary so that we can feed it into the networkx graph\n",
    "zipped_titles_with_ids = dict(zip(\n",
    "    page_titles_with_identfier['page_title'],\n",
    "    page_titles_with_identfier['updated_identifier']))"
   ]
  },
  {
   "cell_type": "code",
   "execution_count": 67,
   "metadata": {},
   "outputs": [],
   "source": [
    "g = nx.Graph(zipped_titles_with_ids)"
   ]
  },
  {
   "cell_type": "code",
   "execution_count": 73,
   "metadata": {},
   "outputs": [
    {
     "data": {
      "text/plain": [
       "[(u'Bibliography of the Russian Revolution and Civil War', 156),\n",
       " (u'Bibliography of the Post Stalinist Soviet Union', 155),\n",
       " (u'List of dolichopodid genera', 144),\n",
       " (u'2014 in arthropod paleontology', 134),\n",
       " (u'List of gastropods described in 2016', 133),\n",
       " (u'2012 in arthropod paleontology', 126),\n",
       " (u'List of Eumolpinae genera', 116),\n",
       " (u'List of gastropods described in 2017', 108),\n",
       " (u'Red-tailed hawk', 101),\n",
       " (u'List of gastropods described in the 2000s', 100)]"
      ]
     },
     "execution_count": 73,
     "metadata": {},
     "output_type": "execute_result"
    }
   ],
   "source": [
    "## Get the top to titles by the degree they are associated with basically the DOIs for each of their citations\n",
    "all_titles_with_degrees = [(i,j) for i, j in sorted(g.degree, key=lambda x: x[1]) if not i.startswith('10.')]\n",
    "sorted(all_titles_with_degrees, key=lambda x: x[1], reverse=True)[:10]"
   ]
  },
  {
   "cell_type": "code",
   "execution_count": 70,
   "metadata": {},
   "outputs": [
    {
     "data": {
      "text/html": [
       "<div>\n",
       "<style scoped>\n",
       "    .dataframe tbody tr th:only-of-type {\n",
       "        vertical-align: middle;\n",
       "    }\n",
       "\n",
       "    .dataframe tbody tr th {\n",
       "        vertical-align: top;\n",
       "    }\n",
       "\n",
       "    .dataframe thead th {\n",
       "        text-align: right;\n",
       "    }\n",
       "</style>\n",
       "<table border=\"1\" class=\"dataframe\">\n",
       "  <thead>\n",
       "    <tr style=\"text-align: right;\">\n",
       "      <th></th>\n",
       "      <th>type_of_citation</th>\n",
       "      <th>page_title</th>\n",
       "      <th>Title</th>\n",
       "      <th>ID_list</th>\n",
       "      <th>metadata_file</th>\n",
       "      <th>updated_identifier</th>\n",
       "    </tr>\n",
       "  </thead>\n",
       "  <tbody>\n",
       "    <tr>\n",
       "      <th>27286803</th>\n",
       "      <td>cite journal</td>\n",
       "      <td>List of dolichopodid genera</td>\n",
       "      <td>Generic name changes in Diptera</td>\n",
       "      <td>None</td>\n",
       "      <td>_760423.json</td>\n",
       "      <td>[10.1111/j.1365-3113.1945.tb00021.x]</td>\n",
       "    </tr>\n",
       "    <tr>\n",
       "      <th>27433966</th>\n",
       "      <td>cite journal</td>\n",
       "      <td>List of dolichopodid genera</td>\n",
       "      <td>Two new genera of parathalassiine-Iike flies f...</td>\n",
       "      <td>None</td>\n",
       "      <td>_250016.json</td>\n",
       "      <td>[10.5733/afin.054.0103]</td>\n",
       "    </tr>\n",
       "    <tr>\n",
       "      <th>27869636</th>\n",
       "      <td>cite journal</td>\n",
       "      <td>List of dolichopodid genera</td>\n",
       "      <td>Ethiromyia, a new genus of Holarctic Dolichopo...</td>\n",
       "      <td>None</td>\n",
       "      <td>_206517.json</td>\n",
       "      <td>[10.11646/zootaxa.857.1.1, 10.11646/zootaxa.36...</td>\n",
       "    </tr>\n",
       "    <tr>\n",
       "      <th>28161385</th>\n",
       "      <td>cite journal</td>\n",
       "      <td>List of dolichopodid genera</td>\n",
       "      <td>\\xc4gyptische dipteren</td>\n",
       "      <td>None</td>\n",
       "      <td>_760422.json</td>\n",
       "      <td>[10.5962/bhl.title.9277]</td>\n",
       "    </tr>\n",
       "    <tr>\n",
       "      <th>28307663</th>\n",
       "      <td>cite journal</td>\n",
       "      <td>List of dolichopodid genera</td>\n",
       "      <td>Etudes sur les Dolichopodides</td>\n",
       "      <td>None</td>\n",
       "      <td>_732235.json</td>\n",
       "      <td>[10.1080/00222933408654790]</td>\n",
       "    </tr>\n",
       "  </tbody>\n",
       "</table>\n",
       "</div>"
      ],
      "text/plain": [
       "         type_of_citation                   page_title  \\\n",
       "27286803     cite journal  List of dolichopodid genera   \n",
       "27433966     cite journal  List of dolichopodid genera   \n",
       "27869636     cite journal  List of dolichopodid genera   \n",
       "28161385     cite journal  List of dolichopodid genera   \n",
       "28307663     cite journal  List of dolichopodid genera   \n",
       "\n",
       "                                                      Title ID_list  \\\n",
       "27286803                    Generic name changes in Diptera    None   \n",
       "27433966  Two new genera of parathalassiine-Iike flies f...    None   \n",
       "27869636  Ethiromyia, a new genus of Holarctic Dolichopo...    None   \n",
       "28161385                             \\xc4gyptische dipteren    None   \n",
       "28307663                      Etudes sur les Dolichopodides    None   \n",
       "\n",
       "         metadata_file                                 updated_identifier  \n",
       "27286803  _760423.json               [10.1111/j.1365-3113.1945.tb00021.x]  \n",
       "27433966  _250016.json                            [10.5733/afin.054.0103]  \n",
       "27869636  _206517.json  [10.11646/zootaxa.857.1.1, 10.11646/zootaxa.36...  \n",
       "28161385  _760422.json                           [10.5962/bhl.title.9277]  \n",
       "28307663  _732235.json                        [10.1080/00222933408654790]  "
      ]
     },
     "execution_count": 70,
     "metadata": {},
     "output_type": "execute_result"
    }
   ],
   "source": [
    "## As we can some of these citations did not have anything in the ID_list but we populate them with identifiers\n",
    "citations_with_updated_identifier[\n",
    "    citations_with_updated_identifier['page_title'] == 'List of dolichopodid genera'].tail()"
   ]
  },
  {
   "cell_type": "code",
   "execution_count": 72,
   "metadata": {},
   "outputs": [
    {
     "data": {
      "text/plain": [
       "[(3, 64042),\n",
       " (1, 46339),\n",
       " (2, 21372),\n",
       " (4, 8299),\n",
       " (6, 7875),\n",
       " (5, 5100),\n",
       " (7, 2465),\n",
       " (9, 1958),\n",
       " (8, 1694),\n",
       " (10, 1055)]"
      ]
     },
     "execution_count": 72,
     "metadata": {},
     "output_type": "execute_result"
    }
   ],
   "source": [
    "## Most of the page titles have either 1, 2 or 3 new identifiers\n",
    "Counter([j for _, j in sorted(all_titles_with_degrees, key=lambda x: x[1], reverse=True)]).most_common(10)"
   ]
  },
  {
   "cell_type": "code",
   "execution_count": null,
   "metadata": {},
   "outputs": [],
   "source": []
  }
 ],
 "metadata": {
  "kernelspec": {
   "display_name": "Python 2",
   "language": "python",
   "name": "python2"
  },
  "language_info": {
   "codemirror_mode": {
    "name": "ipython",
    "version": 2
   },
   "file_extension": ".py",
   "mimetype": "text/x-python",
   "name": "python",
   "nbconvert_exporter": "python",
   "pygments_lexer": "ipython2",
   "version": "2.7.18"
  }
 },
 "nbformat": 4,
 "nbformat_minor": 2
}
